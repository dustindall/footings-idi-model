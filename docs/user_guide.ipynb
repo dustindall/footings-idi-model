{
 "cells": [
  {
   "cell_type": "markdown",
   "metadata": {},
   "source": [
    "# User Guide"
   ]
  },
  {
   "cell_type": "markdown",
   "metadata": {},
   "source": [
    "The IDI model utilizes the model per policy design pattern where we build models to model one policy a time. We expand this pattern to model population of policies by applying the policy model to each policy in a population (i.e., think a for loop for each policy)."
   ]
  },
  {
   "cell_type": "markdown",
   "metadata": {},
   "source": [
    "## Policy Models"
   ]
  },
  {
   "cell_type": "markdown",
   "metadata": {},
   "source": [
    "The following policy models were built where the links direct you to the detailed documentation for each model.\n",
    "\n",
    "- [dlr_deterministic_model](models.rst#footings_idi_model.policy_models.dlr_deterministic_model)\n",
    "- [dlr_stochastic_model](models.rst#footings_idi_model.policy_models.dlr_stochastic_model)\n",
    "- [alr_deterministic_model](models.rst#footings_idi_model.policy_models.alr_deterministic_model)\n",
    "\n",
    "In addition, development is planned to make an active lives stochastic model."
   ]
  },
  {
   "cell_type": "markdown",
   "metadata": {},
   "source": [
    "### DLR Deterministic"
   ]
  },
  {
   "cell_type": "markdown",
   "metadata": {},
   "source": [
    "Below is an example of using the `dlr_determinstic_model` where we import the model and instantiate it with the required policy information."
   ]
  },
  {
   "cell_type": "code",
   "execution_count": 1,
   "metadata": {},
   "outputs": [],
   "source": [
    "import pandas as pd\n",
    "from footings_idi_model.policy_models import dlr_deterministic_model\n",
    "\n",
    "dlr_policy_init_model = dlr_deterministic_model(\n",
    "    policy_id=\"policy-1\",\n",
    "    claim_id=\"claim-1\",\n",
    "    gender=\"M\",\n",
    "    birth_dt=pd.Timestamp(\"1970-03-26\"),\n",
    "    incurred_dt=pd.Timestamp(\"2015-06-02\"),\n",
    "    termination_dt=pd.Timestamp(\"2035-03-26\"),\n",
    "    elimination_period=90,\n",
    "    idi_contract=\"AS\",\n",
    "    idi_benefit_period=\"TO65\",\n",
    "    idi_diagnosis_grp=\"LOW\",\n",
    "    idi_occupation_class=\"M\",\n",
    "    cola_percent=0.0,\n",
    "    benefit_amount=200.0,\n",
    "    valuation_dt=pd.Timestamp(\"2020-03-31\"), \n",
    "    assumption_set=\"stat\",\n",
    ")"
   ]
  },
  {
   "cell_type": "markdown",
   "metadata": {},
   "source": [
    "To run the model we have to call the `run()` method attached to the instantiated object."
   ]
  },
  {
   "cell_type": "code",
   "execution_count": 2,
   "metadata": {},
   "outputs": [],
   "source": [
    "dlr_policy_output = dlr_policy_init_model.run()"
   ]
  },
  {
   "cell_type": "markdown",
   "metadata": {},
   "source": [
    "Once the model is ran, a pandas DataFrame is returned with the following information."
   ]
  },
  {
   "cell_type": "code",
   "execution_count": 3,
   "metadata": {
    "tags": []
   },
   "outputs": [
    {
     "output_type": "stream",
     "name": "stdout",
     "text": "<class 'pandas.core.frame.DataFrame'>\nInt64Index: 181 entries, 0 to 180\nData columns (total 20 columns):\n #   Column          Non-Null Count  Dtype         \n---  ------          --------------  -----         \n 0   MODEL_VERSION   181 non-null    category      \n 1   LAST_COMMIT     181 non-null    category      \n 2   RUN_DATE_TIME   181 non-null    datetime64[ns]\n 3   POLICY_ID       181 non-null    category      \n 4   DATE_BD         181 non-null    datetime64[ns]\n 5   DATE_ED         181 non-null    datetime64[ns]\n 6   DURATION_YEAR   181 non-null    Int64         \n 7   DURATION_MONTH  181 non-null    Int64         \n 8   BENEFIT_AMOUNT  181 non-null    float64       \n 9   CTR             181 non-null    float64       \n 10  LIVES_BD        181 non-null    float64       \n 11  LIVES_MD        181 non-null    float64       \n 12  LIVES_ED        181 non-null    float64       \n 13  DISCOUNT_BD     181 non-null    float64       \n 14  DISCOUNT_MD     181 non-null    float64       \n 15  DISCOUNT_ED     181 non-null    float64       \n 16  PVFB_BD         181 non-null    float64       \n 17  PVFB_ED         181 non-null    float64       \n 18  DATE_DLR        181 non-null    datetime64[ns]\n 19  DLR             181 non-null    float64       \ndtypes: Int64(2), category(3), datetime64[ns](4), float64(11)\nmemory usage: 26.6 KB\n"
    }
   ],
   "source": [
    "dlr_policy_output.info()"
   ]
  },
  {
   "cell_type": "markdown",
   "metadata": {},
   "source": [
    "Below is the output."
   ]
  },
  {
   "cell_type": "code",
   "execution_count": 4,
   "metadata": {},
   "outputs": [
    {
     "output_type": "execute_result",
     "data": {
      "text/plain": "        MODEL_VERSION                               LAST_COMMIT  \\\n0    0.4.0+5.gef115d6  ef115d608c21f1c771622b53d702c29778040b0c   \n1    0.4.0+5.gef115d6  ef115d608c21f1c771622b53d702c29778040b0c   \n2    0.4.0+5.gef115d6  ef115d608c21f1c771622b53d702c29778040b0c   \n3    0.4.0+5.gef115d6  ef115d608c21f1c771622b53d702c29778040b0c   \n4    0.4.0+5.gef115d6  ef115d608c21f1c771622b53d702c29778040b0c   \n..                ...                                       ...   \n176  0.4.0+5.gef115d6  ef115d608c21f1c771622b53d702c29778040b0c   \n177  0.4.0+5.gef115d6  ef115d608c21f1c771622b53d702c29778040b0c   \n178  0.4.0+5.gef115d6  ef115d608c21f1c771622b53d702c29778040b0c   \n179  0.4.0+5.gef115d6  ef115d608c21f1c771622b53d702c29778040b0c   \n180  0.4.0+5.gef115d6  ef115d608c21f1c771622b53d702c29778040b0c   \n\n                 RUN_DATE_TIME POLICY_ID    DATE_BD    DATE_ED  DURATION_YEAR  \\\n0   2020-08-21 10:56:23.449289  policy-1 2020-03-02 2020-04-02              5   \n1   2020-08-21 10:56:23.449289  policy-1 2020-04-02 2020-05-02              5   \n2   2020-08-21 10:56:23.449289  policy-1 2020-05-02 2020-06-02              5   \n3   2020-08-21 10:56:23.449289  policy-1 2020-06-02 2020-07-02              6   \n4   2020-08-21 10:56:23.449289  policy-1 2020-07-02 2020-08-02              6   \n..                         ...       ...        ...        ...            ...   \n176 2020-08-21 10:56:23.449289  policy-1 2034-11-02 2034-12-02             20   \n177 2020-08-21 10:56:23.449289  policy-1 2034-12-02 2035-01-02             20   \n178 2020-08-21 10:56:23.449289  policy-1 2035-01-02 2035-02-02             20   \n179 2020-08-21 10:56:23.449289  policy-1 2035-02-02 2035-03-02             20   \n180 2020-08-21 10:56:23.449289  policy-1 2035-03-02 2035-04-02             20   \n\n     DURATION_MONTH  BENEFIT_AMOUNT       CTR  LIVES_BD  LIVES_MD  LIVES_ED  \\\n0                58          200.00  0.002619  1.000000  0.998690  0.997381   \n1                59          200.00  0.002576  0.997381  0.996096  0.994812   \n2                60          200.00  0.002532  0.994812  0.993552  0.992293   \n3                61          200.00  0.002696  0.992293  0.990955  0.989617   \n4                62          200.00  0.002696  0.989617  0.988283  0.986949   \n..              ...             ...       ...       ...       ...       ...   \n176             234          200.00  0.001494  0.755779  0.755215  0.754650   \n177             235          200.00  0.001494  0.754650  0.754087  0.753523   \n178             236          200.00  0.001494  0.753523  0.752960  0.752397   \n179             237          200.00  0.001494  0.752397  0.751836  0.751274   \n180             238          154.84  0.001494  0.751274  0.750713  0.750151   \n\n     DISCOUNT_BD  DISCOUNT_MD  DISCOUNT_ED   PVFB_BD   PVFB_ED   DATE_DLR  \\\n0       1.000000     0.998769     0.997540  25156.01  24956.52 2020-03-31   \n1       0.997540     0.996312     0.995086  24956.52  24758.03 2020-04-30   \n2       0.995086     0.993861     0.992638  24758.03  24560.54 2020-05-31   \n3       0.992638     0.991416     0.990195  24560.54  24364.05 2020-06-30   \n4       0.990195     0.988977     0.987759  24364.05  24168.57 2020-07-31   \n..           ...          ...          ...       ...       ...        ...   \n176     0.648217     0.647420     0.646623    463.36    365.57 2034-11-30   \n177     0.646623     0.645827     0.645032    365.57    268.17 2034-12-31   \n178     0.645032     0.644238     0.643445    268.17    171.15 2035-01-31   \n179     0.643445     0.642653     0.641862    171.15     74.52 2035-02-28   \n180     0.641862     0.641072     0.640283     74.52      0.00 2035-03-31   \n\n          DLR  \n0    25088.47  \n1    25014.85  \n2    24939.77  \n3    24868.08  \n4    24796.29  \n..        ...  \n176    761.89  \n177    564.52  \n178    366.36  \n179    167.42  \n180     10.01  \n\n[181 rows x 20 columns]",
      "text/html": "<div>\n<style scoped>\n    .dataframe tbody tr th:only-of-type {\n        vertical-align: middle;\n    }\n\n    .dataframe tbody tr th {\n        vertical-align: top;\n    }\n\n    .dataframe thead th {\n        text-align: right;\n    }\n</style>\n<table border=\"1\" class=\"dataframe\">\n  <thead>\n    <tr style=\"text-align: right;\">\n      <th></th>\n      <th>MODEL_VERSION</th>\n      <th>LAST_COMMIT</th>\n      <th>RUN_DATE_TIME</th>\n      <th>POLICY_ID</th>\n      <th>DATE_BD</th>\n      <th>DATE_ED</th>\n      <th>DURATION_YEAR</th>\n      <th>DURATION_MONTH</th>\n      <th>BENEFIT_AMOUNT</th>\n      <th>CTR</th>\n      <th>LIVES_BD</th>\n      <th>LIVES_MD</th>\n      <th>LIVES_ED</th>\n      <th>DISCOUNT_BD</th>\n      <th>DISCOUNT_MD</th>\n      <th>DISCOUNT_ED</th>\n      <th>PVFB_BD</th>\n      <th>PVFB_ED</th>\n      <th>DATE_DLR</th>\n      <th>DLR</th>\n    </tr>\n  </thead>\n  <tbody>\n    <tr>\n      <th>0</th>\n      <td>0.4.0+5.gef115d6</td>\n      <td>ef115d608c21f1c771622b53d702c29778040b0c</td>\n      <td>2020-08-21 10:56:23.449289</td>\n      <td>policy-1</td>\n      <td>2020-03-02</td>\n      <td>2020-04-02</td>\n      <td>5</td>\n      <td>58</td>\n      <td>200.00</td>\n      <td>0.002619</td>\n      <td>1.000000</td>\n      <td>0.998690</td>\n      <td>0.997381</td>\n      <td>1.000000</td>\n      <td>0.998769</td>\n      <td>0.997540</td>\n      <td>25156.01</td>\n      <td>24956.52</td>\n      <td>2020-03-31</td>\n      <td>25088.47</td>\n    </tr>\n    <tr>\n      <th>1</th>\n      <td>0.4.0+5.gef115d6</td>\n      <td>ef115d608c21f1c771622b53d702c29778040b0c</td>\n      <td>2020-08-21 10:56:23.449289</td>\n      <td>policy-1</td>\n      <td>2020-04-02</td>\n      <td>2020-05-02</td>\n      <td>5</td>\n      <td>59</td>\n      <td>200.00</td>\n      <td>0.002576</td>\n      <td>0.997381</td>\n      <td>0.996096</td>\n      <td>0.994812</td>\n      <td>0.997540</td>\n      <td>0.996312</td>\n      <td>0.995086</td>\n      <td>24956.52</td>\n      <td>24758.03</td>\n      <td>2020-04-30</td>\n      <td>25014.85</td>\n    </tr>\n    <tr>\n      <th>2</th>\n      <td>0.4.0+5.gef115d6</td>\n      <td>ef115d608c21f1c771622b53d702c29778040b0c</td>\n      <td>2020-08-21 10:56:23.449289</td>\n      <td>policy-1</td>\n      <td>2020-05-02</td>\n      <td>2020-06-02</td>\n      <td>5</td>\n      <td>60</td>\n      <td>200.00</td>\n      <td>0.002532</td>\n      <td>0.994812</td>\n      <td>0.993552</td>\n      <td>0.992293</td>\n      <td>0.995086</td>\n      <td>0.993861</td>\n      <td>0.992638</td>\n      <td>24758.03</td>\n      <td>24560.54</td>\n      <td>2020-05-31</td>\n      <td>24939.77</td>\n    </tr>\n    <tr>\n      <th>3</th>\n      <td>0.4.0+5.gef115d6</td>\n      <td>ef115d608c21f1c771622b53d702c29778040b0c</td>\n      <td>2020-08-21 10:56:23.449289</td>\n      <td>policy-1</td>\n      <td>2020-06-02</td>\n      <td>2020-07-02</td>\n      <td>6</td>\n      <td>61</td>\n      <td>200.00</td>\n      <td>0.002696</td>\n      <td>0.992293</td>\n      <td>0.990955</td>\n      <td>0.989617</td>\n      <td>0.992638</td>\n      <td>0.991416</td>\n      <td>0.990195</td>\n      <td>24560.54</td>\n      <td>24364.05</td>\n      <td>2020-06-30</td>\n      <td>24868.08</td>\n    </tr>\n    <tr>\n      <th>4</th>\n      <td>0.4.0+5.gef115d6</td>\n      <td>ef115d608c21f1c771622b53d702c29778040b0c</td>\n      <td>2020-08-21 10:56:23.449289</td>\n      <td>policy-1</td>\n      <td>2020-07-02</td>\n      <td>2020-08-02</td>\n      <td>6</td>\n      <td>62</td>\n      <td>200.00</td>\n      <td>0.002696</td>\n      <td>0.989617</td>\n      <td>0.988283</td>\n      <td>0.986949</td>\n      <td>0.990195</td>\n      <td>0.988977</td>\n      <td>0.987759</td>\n      <td>24364.05</td>\n      <td>24168.57</td>\n      <td>2020-07-31</td>\n      <td>24796.29</td>\n    </tr>\n    <tr>\n      <th>...</th>\n      <td>...</td>\n      <td>...</td>\n      <td>...</td>\n      <td>...</td>\n      <td>...</td>\n      <td>...</td>\n      <td>...</td>\n      <td>...</td>\n      <td>...</td>\n      <td>...</td>\n      <td>...</td>\n      <td>...</td>\n      <td>...</td>\n      <td>...</td>\n      <td>...</td>\n      <td>...</td>\n      <td>...</td>\n      <td>...</td>\n      <td>...</td>\n      <td>...</td>\n    </tr>\n    <tr>\n      <th>176</th>\n      <td>0.4.0+5.gef115d6</td>\n      <td>ef115d608c21f1c771622b53d702c29778040b0c</td>\n      <td>2020-08-21 10:56:23.449289</td>\n      <td>policy-1</td>\n      <td>2034-11-02</td>\n      <td>2034-12-02</td>\n      <td>20</td>\n      <td>234</td>\n      <td>200.00</td>\n      <td>0.001494</td>\n      <td>0.755779</td>\n      <td>0.755215</td>\n      <td>0.754650</td>\n      <td>0.648217</td>\n      <td>0.647420</td>\n      <td>0.646623</td>\n      <td>463.36</td>\n      <td>365.57</td>\n      <td>2034-11-30</td>\n      <td>761.89</td>\n    </tr>\n    <tr>\n      <th>177</th>\n      <td>0.4.0+5.gef115d6</td>\n      <td>ef115d608c21f1c771622b53d702c29778040b0c</td>\n      <td>2020-08-21 10:56:23.449289</td>\n      <td>policy-1</td>\n      <td>2034-12-02</td>\n      <td>2035-01-02</td>\n      <td>20</td>\n      <td>235</td>\n      <td>200.00</td>\n      <td>0.001494</td>\n      <td>0.754650</td>\n      <td>0.754087</td>\n      <td>0.753523</td>\n      <td>0.646623</td>\n      <td>0.645827</td>\n      <td>0.645032</td>\n      <td>365.57</td>\n      <td>268.17</td>\n      <td>2034-12-31</td>\n      <td>564.52</td>\n    </tr>\n    <tr>\n      <th>178</th>\n      <td>0.4.0+5.gef115d6</td>\n      <td>ef115d608c21f1c771622b53d702c29778040b0c</td>\n      <td>2020-08-21 10:56:23.449289</td>\n      <td>policy-1</td>\n      <td>2035-01-02</td>\n      <td>2035-02-02</td>\n      <td>20</td>\n      <td>236</td>\n      <td>200.00</td>\n      <td>0.001494</td>\n      <td>0.753523</td>\n      <td>0.752960</td>\n      <td>0.752397</td>\n      <td>0.645032</td>\n      <td>0.644238</td>\n      <td>0.643445</td>\n      <td>268.17</td>\n      <td>171.15</td>\n      <td>2035-01-31</td>\n      <td>366.36</td>\n    </tr>\n    <tr>\n      <th>179</th>\n      <td>0.4.0+5.gef115d6</td>\n      <td>ef115d608c21f1c771622b53d702c29778040b0c</td>\n      <td>2020-08-21 10:56:23.449289</td>\n      <td>policy-1</td>\n      <td>2035-02-02</td>\n      <td>2035-03-02</td>\n      <td>20</td>\n      <td>237</td>\n      <td>200.00</td>\n      <td>0.001494</td>\n      <td>0.752397</td>\n      <td>0.751836</td>\n      <td>0.751274</td>\n      <td>0.643445</td>\n      <td>0.642653</td>\n      <td>0.641862</td>\n      <td>171.15</td>\n      <td>74.52</td>\n      <td>2035-02-28</td>\n      <td>167.42</td>\n    </tr>\n    <tr>\n      <th>180</th>\n      <td>0.4.0+5.gef115d6</td>\n      <td>ef115d608c21f1c771622b53d702c29778040b0c</td>\n      <td>2020-08-21 10:56:23.449289</td>\n      <td>policy-1</td>\n      <td>2035-03-02</td>\n      <td>2035-04-02</td>\n      <td>20</td>\n      <td>238</td>\n      <td>154.84</td>\n      <td>0.001494</td>\n      <td>0.751274</td>\n      <td>0.750713</td>\n      <td>0.750151</td>\n      <td>0.641862</td>\n      <td>0.641072</td>\n      <td>0.640283</td>\n      <td>74.52</td>\n      <td>0.00</td>\n      <td>2035-03-31</td>\n      <td>10.01</td>\n    </tr>\n  </tbody>\n</table>\n<p>181 rows × 20 columns</p>\n</div>"
     },
     "metadata": {},
     "execution_count": 4
    }
   ],
   "source": [
    "dlr_policy_output"
   ]
  },
  {
   "cell_type": "markdown",
   "metadata": {},
   "source": [
    "### DLR Stochastic"
   ]
  },
  {
   "cell_type": "markdown",
   "metadata": {},
   "source": [
    "Similar to the the DLR deterministic model, we load the `dlr_stochastic_model` with the same parameters and two additional parameters - `n_simulations` and `seed`. Note ouput is returned as we call run right after we instantiate the model."
   ]
  },
  {
   "cell_type": "code",
   "execution_count": 5,
   "metadata": {},
   "outputs": [],
   "source": [
    "from footings_idi_model.policy_models import dlr_stochastic_model\n",
    "\n",
    "dlr_stochastic_output = dlr_stochastic_model(\n",
    "    policy_id=\"policy-1\",\n",
    "    claim_id=\"claim-1\",\n",
    "    gender=\"M\",\n",
    "    birth_dt=pd.Timestamp(\"1970-03-26\"),\n",
    "    incurred_dt=pd.Timestamp(\"2015-06-02\"),\n",
    "    termination_dt=pd.Timestamp(\"2035-03-26\"),\n",
    "    elimination_period=90,\n",
    "    idi_contract=\"AS\",\n",
    "    idi_benefit_period=\"TO65\",\n",
    "    idi_diagnosis_grp=\"LOW\",\n",
    "    idi_occupation_class=\"M\",\n",
    "    cola_percent=0.0,\n",
    "    benefit_amount=200.0,\n",
    "    valuation_dt=pd.Timestamp(\"2020-03-31\"), \n",
    "    assumption_set=\"stat\",\n",
    "    n_simulations=10,\n",
    "    seed=1,\n",
    ").run()"
   ]
  },
  {
   "cell_type": "markdown",
   "metadata": {},
   "source": [
    "The output for the stochastic model is similar to the deterministic model and is shown below. The big addition is a `RUN` column which identifies the different runs and ranges from 1 to `n_simulations`."
   ]
  },
  {
   "cell_type": "code",
   "execution_count": 6,
   "metadata": {
    "tags": []
   },
   "outputs": [
    {
     "output_type": "stream",
     "name": "stdout",
     "text": "<class 'pandas.core.frame.DataFrame'>\nInt64Index: 1810 entries, 0 to 180\nData columns (total 19 columns):\n #   Column           Non-Null Count  Dtype         \n---  ------           --------------  -----         \n 0   MODEL_VERSION    1810 non-null   category      \n 1   LAST_COMMIT      1810 non-null   category      \n 2   RUN_DATE_TIME    1810 non-null   datetime64[ns]\n 3   POLICY_ID        1810 non-null   category      \n 4   RUN              1810 non-null   int64         \n 5   DATE_BD          1810 non-null   datetime64[ns]\n 6   DATE_ED          1810 non-null   datetime64[ns]\n 7   DURATION_YEAR    1810 non-null   Int64         \n 8   DURATION_MONTH   1810 non-null   Int64         \n 9   BENEFIT_AMOUNT   1810 non-null   float64       \n 10  CTR              1810 non-null   float64       \n 11  DISCOUNT_BD      1810 non-null   float64       \n 12  DISCOUNT_MD      1810 non-null   float64       \n 13  DISCOUNT_ED      1810 non-null   float64       \n 14  BENEFITS_PAID    1810 non-null   float64       \n 15  PVFB_VD          1810 non-null   float64       \n 16  DISCOUNT_VD_ADJ  1810 non-null   float64       \n 17  DATE_DLR         1810 non-null   datetime64[ns]\n 18  DLR              1810 non-null   float64       \ndtypes: Int64(2), category(3), datetime64[ns](4), float64(9), int64(1)\nmemory usage: 249.5 KB\n"
    }
   ],
   "source": [
    "dlr_stochastic_output.info()"
   ]
  },
  {
   "cell_type": "markdown",
   "metadata": {},
   "source": [
    "A view of the output is below."
   ]
  },
  {
   "cell_type": "code",
   "execution_count": 7,
   "metadata": {},
   "outputs": [
    {
     "output_type": "execute_result",
     "data": {
      "text/plain": "        MODEL_VERSION                               LAST_COMMIT  \\\n0    0.4.0+5.gef115d6  ef115d608c21f1c771622b53d702c29778040b0c   \n1    0.4.0+5.gef115d6  ef115d608c21f1c771622b53d702c29778040b0c   \n2    0.4.0+5.gef115d6  ef115d608c21f1c771622b53d702c29778040b0c   \n3    0.4.0+5.gef115d6  ef115d608c21f1c771622b53d702c29778040b0c   \n4    0.4.0+5.gef115d6  ef115d608c21f1c771622b53d702c29778040b0c   \n..                ...                                       ...   \n176  0.4.0+5.gef115d6  ef115d608c21f1c771622b53d702c29778040b0c   \n177  0.4.0+5.gef115d6  ef115d608c21f1c771622b53d702c29778040b0c   \n178  0.4.0+5.gef115d6  ef115d608c21f1c771622b53d702c29778040b0c   \n179  0.4.0+5.gef115d6  ef115d608c21f1c771622b53d702c29778040b0c   \n180  0.4.0+5.gef115d6  ef115d608c21f1c771622b53d702c29778040b0c   \n\n                 RUN_DATE_TIME POLICY_ID  RUN    DATE_BD    DATE_ED  \\\n0   2020-08-21 10:56:23.893352  policy-1    1 2020-03-02 2020-04-02   \n1   2020-08-21 10:56:23.893352  policy-1    1 2020-04-02 2020-05-02   \n2   2020-08-21 10:56:23.893352  policy-1    1 2020-05-02 2020-06-02   \n3   2020-08-21 10:56:23.893352  policy-1    1 2020-06-02 2020-07-02   \n4   2020-08-21 10:56:23.893352  policy-1    1 2020-07-02 2020-08-02   \n..                         ...       ...  ...        ...        ...   \n176 2020-08-21 10:56:23.893352  policy-1   10 2034-11-02 2034-12-02   \n177 2020-08-21 10:56:23.893352  policy-1   10 2034-12-02 2035-01-02   \n178 2020-08-21 10:56:23.893352  policy-1   10 2035-01-02 2035-02-02   \n179 2020-08-21 10:56:23.893352  policy-1   10 2035-02-02 2035-03-02   \n180 2020-08-21 10:56:23.893352  policy-1   10 2035-03-02 2035-04-02   \n\n     DURATION_YEAR  DURATION_MONTH  BENEFIT_AMOUNT       CTR  DISCOUNT_BD  \\\n0                5              58          200.00  0.002619     1.000000   \n1                5              59          200.00  0.002576     0.997540   \n2                5              60          200.00  0.002532     0.995086   \n3                6              61          200.00  0.002696     0.992638   \n4                6              62          200.00  0.002696     0.990195   \n..             ...             ...             ...       ...          ...   \n176             20             234          200.00  0.001494     0.648217   \n177             20             235          200.00  0.001494     0.646623   \n178             20             236          200.00  0.001494     0.645032   \n179             20             237          200.00  0.001494     0.643445   \n180             20             238          154.84  0.001494     0.641862   \n\n     DISCOUNT_MD  DISCOUNT_ED  BENEFITS_PAID     PVFB_VD  DISCOUNT_VD_ADJ  \\\n0       0.998769     0.997540         200.00  311.537097         1.002307   \n1       0.996312     0.995086         200.00  112.245484         1.004779   \n2       0.993861     0.992638         100.00    6.412258         1.007257   \n3       0.991416     0.990195           0.00    0.000000         1.009741   \n4       0.988977     0.987759           0.00    0.000000         1.012231   \n..           ...          ...            ...         ...              ...   \n176     0.647420     0.646623         200.00  494.163548         1.546251   \n177     0.645827     0.645032         200.00  364.973548         1.550064   \n178     0.644238     0.643445         200.00  236.102903         1.553887   \n179     0.642653     0.641862         200.00  107.552258         1.557720   \n180     0.641072     0.640283         154.84    6.403871         1.561561   \n\n      DATE_DLR     DLR  \n0   2020-03-31  312.26  \n1   2020-04-30  112.78  \n2   2020-05-31    6.46  \n3   2020-06-30    0.00  \n4   2020-07-31    0.00  \n..         ...     ...  \n176 2034-11-30  764.10  \n177 2034-12-31  565.73  \n178 2035-01-31  366.88  \n179 2035-02-28  167.54  \n180 2035-03-31   10.00  \n\n[1810 rows x 19 columns]",
      "text/html": "<div>\n<style scoped>\n    .dataframe tbody tr th:only-of-type {\n        vertical-align: middle;\n    }\n\n    .dataframe tbody tr th {\n        vertical-align: top;\n    }\n\n    .dataframe thead th {\n        text-align: right;\n    }\n</style>\n<table border=\"1\" class=\"dataframe\">\n  <thead>\n    <tr style=\"text-align: right;\">\n      <th></th>\n      <th>MODEL_VERSION</th>\n      <th>LAST_COMMIT</th>\n      <th>RUN_DATE_TIME</th>\n      <th>POLICY_ID</th>\n      <th>RUN</th>\n      <th>DATE_BD</th>\n      <th>DATE_ED</th>\n      <th>DURATION_YEAR</th>\n      <th>DURATION_MONTH</th>\n      <th>BENEFIT_AMOUNT</th>\n      <th>CTR</th>\n      <th>DISCOUNT_BD</th>\n      <th>DISCOUNT_MD</th>\n      <th>DISCOUNT_ED</th>\n      <th>BENEFITS_PAID</th>\n      <th>PVFB_VD</th>\n      <th>DISCOUNT_VD_ADJ</th>\n      <th>DATE_DLR</th>\n      <th>DLR</th>\n    </tr>\n  </thead>\n  <tbody>\n    <tr>\n      <th>0</th>\n      <td>0.4.0+5.gef115d6</td>\n      <td>ef115d608c21f1c771622b53d702c29778040b0c</td>\n      <td>2020-08-21 10:56:23.893352</td>\n      <td>policy-1</td>\n      <td>1</td>\n      <td>2020-03-02</td>\n      <td>2020-04-02</td>\n      <td>5</td>\n      <td>58</td>\n      <td>200.00</td>\n      <td>0.002619</td>\n      <td>1.000000</td>\n      <td>0.998769</td>\n      <td>0.997540</td>\n      <td>200.00</td>\n      <td>311.537097</td>\n      <td>1.002307</td>\n      <td>2020-03-31</td>\n      <td>312.26</td>\n    </tr>\n    <tr>\n      <th>1</th>\n      <td>0.4.0+5.gef115d6</td>\n      <td>ef115d608c21f1c771622b53d702c29778040b0c</td>\n      <td>2020-08-21 10:56:23.893352</td>\n      <td>policy-1</td>\n      <td>1</td>\n      <td>2020-04-02</td>\n      <td>2020-05-02</td>\n      <td>5</td>\n      <td>59</td>\n      <td>200.00</td>\n      <td>0.002576</td>\n      <td>0.997540</td>\n      <td>0.996312</td>\n      <td>0.995086</td>\n      <td>200.00</td>\n      <td>112.245484</td>\n      <td>1.004779</td>\n      <td>2020-04-30</td>\n      <td>112.78</td>\n    </tr>\n    <tr>\n      <th>2</th>\n      <td>0.4.0+5.gef115d6</td>\n      <td>ef115d608c21f1c771622b53d702c29778040b0c</td>\n      <td>2020-08-21 10:56:23.893352</td>\n      <td>policy-1</td>\n      <td>1</td>\n      <td>2020-05-02</td>\n      <td>2020-06-02</td>\n      <td>5</td>\n      <td>60</td>\n      <td>200.00</td>\n      <td>0.002532</td>\n      <td>0.995086</td>\n      <td>0.993861</td>\n      <td>0.992638</td>\n      <td>100.00</td>\n      <td>6.412258</td>\n      <td>1.007257</td>\n      <td>2020-05-31</td>\n      <td>6.46</td>\n    </tr>\n    <tr>\n      <th>3</th>\n      <td>0.4.0+5.gef115d6</td>\n      <td>ef115d608c21f1c771622b53d702c29778040b0c</td>\n      <td>2020-08-21 10:56:23.893352</td>\n      <td>policy-1</td>\n      <td>1</td>\n      <td>2020-06-02</td>\n      <td>2020-07-02</td>\n      <td>6</td>\n      <td>61</td>\n      <td>200.00</td>\n      <td>0.002696</td>\n      <td>0.992638</td>\n      <td>0.991416</td>\n      <td>0.990195</td>\n      <td>0.00</td>\n      <td>0.000000</td>\n      <td>1.009741</td>\n      <td>2020-06-30</td>\n      <td>0.00</td>\n    </tr>\n    <tr>\n      <th>4</th>\n      <td>0.4.0+5.gef115d6</td>\n      <td>ef115d608c21f1c771622b53d702c29778040b0c</td>\n      <td>2020-08-21 10:56:23.893352</td>\n      <td>policy-1</td>\n      <td>1</td>\n      <td>2020-07-02</td>\n      <td>2020-08-02</td>\n      <td>6</td>\n      <td>62</td>\n      <td>200.00</td>\n      <td>0.002696</td>\n      <td>0.990195</td>\n      <td>0.988977</td>\n      <td>0.987759</td>\n      <td>0.00</td>\n      <td>0.000000</td>\n      <td>1.012231</td>\n      <td>2020-07-31</td>\n      <td>0.00</td>\n    </tr>\n    <tr>\n      <th>...</th>\n      <td>...</td>\n      <td>...</td>\n      <td>...</td>\n      <td>...</td>\n      <td>...</td>\n      <td>...</td>\n      <td>...</td>\n      <td>...</td>\n      <td>...</td>\n      <td>...</td>\n      <td>...</td>\n      <td>...</td>\n      <td>...</td>\n      <td>...</td>\n      <td>...</td>\n      <td>...</td>\n      <td>...</td>\n      <td>...</td>\n      <td>...</td>\n    </tr>\n    <tr>\n      <th>176</th>\n      <td>0.4.0+5.gef115d6</td>\n      <td>ef115d608c21f1c771622b53d702c29778040b0c</td>\n      <td>2020-08-21 10:56:23.893352</td>\n      <td>policy-1</td>\n      <td>10</td>\n      <td>2034-11-02</td>\n      <td>2034-12-02</td>\n      <td>20</td>\n      <td>234</td>\n      <td>200.00</td>\n      <td>0.001494</td>\n      <td>0.648217</td>\n      <td>0.647420</td>\n      <td>0.646623</td>\n      <td>200.00</td>\n      <td>494.163548</td>\n      <td>1.546251</td>\n      <td>2034-11-30</td>\n      <td>764.10</td>\n    </tr>\n    <tr>\n      <th>177</th>\n      <td>0.4.0+5.gef115d6</td>\n      <td>ef115d608c21f1c771622b53d702c29778040b0c</td>\n      <td>2020-08-21 10:56:23.893352</td>\n      <td>policy-1</td>\n      <td>10</td>\n      <td>2034-12-02</td>\n      <td>2035-01-02</td>\n      <td>20</td>\n      <td>235</td>\n      <td>200.00</td>\n      <td>0.001494</td>\n      <td>0.646623</td>\n      <td>0.645827</td>\n      <td>0.645032</td>\n      <td>200.00</td>\n      <td>364.973548</td>\n      <td>1.550064</td>\n      <td>2034-12-31</td>\n      <td>565.73</td>\n    </tr>\n    <tr>\n      <th>178</th>\n      <td>0.4.0+5.gef115d6</td>\n      <td>ef115d608c21f1c771622b53d702c29778040b0c</td>\n      <td>2020-08-21 10:56:23.893352</td>\n      <td>policy-1</td>\n      <td>10</td>\n      <td>2035-01-02</td>\n      <td>2035-02-02</td>\n      <td>20</td>\n      <td>236</td>\n      <td>200.00</td>\n      <td>0.001494</td>\n      <td>0.645032</td>\n      <td>0.644238</td>\n      <td>0.643445</td>\n      <td>200.00</td>\n      <td>236.102903</td>\n      <td>1.553887</td>\n      <td>2035-01-31</td>\n      <td>366.88</td>\n    </tr>\n    <tr>\n      <th>179</th>\n      <td>0.4.0+5.gef115d6</td>\n      <td>ef115d608c21f1c771622b53d702c29778040b0c</td>\n      <td>2020-08-21 10:56:23.893352</td>\n      <td>policy-1</td>\n      <td>10</td>\n      <td>2035-02-02</td>\n      <td>2035-03-02</td>\n      <td>20</td>\n      <td>237</td>\n      <td>200.00</td>\n      <td>0.001494</td>\n      <td>0.643445</td>\n      <td>0.642653</td>\n      <td>0.641862</td>\n      <td>200.00</td>\n      <td>107.552258</td>\n      <td>1.557720</td>\n      <td>2035-02-28</td>\n      <td>167.54</td>\n    </tr>\n    <tr>\n      <th>180</th>\n      <td>0.4.0+5.gef115d6</td>\n      <td>ef115d608c21f1c771622b53d702c29778040b0c</td>\n      <td>2020-08-21 10:56:23.893352</td>\n      <td>policy-1</td>\n      <td>10</td>\n      <td>2035-03-02</td>\n      <td>2035-04-02</td>\n      <td>20</td>\n      <td>238</td>\n      <td>154.84</td>\n      <td>0.001494</td>\n      <td>0.641862</td>\n      <td>0.641072</td>\n      <td>0.640283</td>\n      <td>154.84</td>\n      <td>6.403871</td>\n      <td>1.561561</td>\n      <td>2035-03-31</td>\n      <td>10.00</td>\n    </tr>\n  </tbody>\n</table>\n<p>1810 rows × 19 columns</p>\n</div>"
     },
     "metadata": {},
     "execution_count": 7
    }
   ],
   "source": [
    "dlr_stochastic_output"
   ]
  },
  {
   "cell_type": "markdown",
   "metadata": {},
   "source": [
    "### ALR Deterministic"
   ]
  },
  {
   "cell_type": "markdown",
   "metadata": {},
   "source": [
    "The flow is the same for using the `alr_deterministic_model`."
   ]
  },
  {
   "cell_type": "code",
   "execution_count": 8,
   "metadata": {
    "tags": []
   },
   "outputs": [],
   "source": [
    "from footings_idi_model.policy_models import alr_deterministic_model\n",
    "\n",
    "alr_policy_output =  alr_deterministic_model(\n",
    "    policy_id=\"policy-1\",\n",
    "    coverage_id=\"base\",\n",
    "    gender=\"M\",\n",
    "    tobacco_usage=\"N\",\n",
    "    birth_dt=pd.Timestamp(\"1970-03-26\"),\n",
    "    policy_start_dt=pd.Timestamp(\"2015-06-02\"),\n",
    "    policy_end_dt=pd.Timestamp(\"2035-03-26\"),\n",
    "    elimination_period=90,\n",
    "    idi_market=\"INDV\",\n",
    "    idi_contract=\"AS\",\n",
    "    idi_benefit_period=\"TO65\",\n",
    "    idi_occupation_class=\"M\",\n",
    "    cola_percent=0.0,\n",
    "    benefit_end_id=\"\",\n",
    "    gross_premium=150.0,\n",
    "    benefit_amount=100.0,\n",
    "    valuation_dt=pd.Timestamp(\"2020-03-31\"), \n",
    "    assumption_set=\"stat\", \n",
    "    net_benefit_method=\"NLP\",\n",
    ").run()"
   ]
  },
  {
   "cell_type": "markdown",
   "metadata": {},
   "source": [
    "For the `alr_deterministic_model` the respective output information is show below."
   ]
  },
  {
   "cell_type": "code",
   "execution_count": 9,
   "metadata": {
    "tags": []
   },
   "outputs": [
    {
     "output_type": "stream",
     "name": "stdout",
     "text": "<class 'pandas.core.frame.DataFrame'>\nInt64Index: 16 entries, 4 to 19\nData columns (total 23 columns):\n #   Column          Non-Null Count  Dtype         \n---  ------          --------------  -----         \n 0   MODEL_VERSION   16 non-null     object        \n 1   LAST_COMMIT     16 non-null     object        \n 2   RUN_DATE_TIME   16 non-null     datetime64[ns]\n 3   POLICY_ID       16 non-null     object        \n 4   COVERAGE_ID     16 non-null     object        \n 5   DATE_BD         16 non-null     datetime64[ns]\n 6   DATE_ED         16 non-null     datetime64[ns]\n 7   DURATION_YEAR   16 non-null     Int64         \n 8   LIVES_BD        16 non-null     float64       \n 9   LIVES_MD        16 non-null     float64       \n 10  LIVES_ED        16 non-null     float64       \n 11  DISCOUNT_BD     16 non-null     float64       \n 12  DISCOUNT_MD     16 non-null     float64       \n 13  DISCOUNT_ED     16 non-null     float64       \n 14  BENEFIT_AMOUNT  16 non-null     float64       \n 15  INCIDENCE_RATE  16 non-null     float64       \n 16  BENEFIT_COST    16 non-null     float64       \n 17  PVFB            16 non-null     float64       \n 18  PVFNB           16 non-null     float64       \n 19  ALR_BD          16 non-null     float64       \n 20  ALR_ED          16 non-null     float64       \n 21  DATE_ALR        16 non-null     datetime64[ns]\n 22  ALR             16 non-null     float64       \ndtypes: Int64(1), datetime64[ns](4), float64(14), object(4)\nmemory usage: 3.0+ KB\n"
    }
   ],
   "source": [
    "alr_policy_output.info()"
   ]
  },
  {
   "cell_type": "markdown",
   "metadata": {},
   "source": [
    "With the output shown below."
   ]
  },
  {
   "cell_type": "code",
   "execution_count": 10,
   "metadata": {},
   "outputs": [
    {
     "output_type": "execute_result",
     "data": {
      "text/plain": "       MODEL_VERSION                               LAST_COMMIT  \\\n4   0.4.0+5.gef115d6  ef115d608c21f1c771622b53d702c29778040b0c   \n5   0.4.0+5.gef115d6  ef115d608c21f1c771622b53d702c29778040b0c   \n6   0.4.0+5.gef115d6  ef115d608c21f1c771622b53d702c29778040b0c   \n7   0.4.0+5.gef115d6  ef115d608c21f1c771622b53d702c29778040b0c   \n8   0.4.0+5.gef115d6  ef115d608c21f1c771622b53d702c29778040b0c   \n9   0.4.0+5.gef115d6  ef115d608c21f1c771622b53d702c29778040b0c   \n10  0.4.0+5.gef115d6  ef115d608c21f1c771622b53d702c29778040b0c   \n11  0.4.0+5.gef115d6  ef115d608c21f1c771622b53d702c29778040b0c   \n12  0.4.0+5.gef115d6  ef115d608c21f1c771622b53d702c29778040b0c   \n13  0.4.0+5.gef115d6  ef115d608c21f1c771622b53d702c29778040b0c   \n14  0.4.0+5.gef115d6  ef115d608c21f1c771622b53d702c29778040b0c   \n15  0.4.0+5.gef115d6  ef115d608c21f1c771622b53d702c29778040b0c   \n16  0.4.0+5.gef115d6  ef115d608c21f1c771622b53d702c29778040b0c   \n17  0.4.0+5.gef115d6  ef115d608c21f1c771622b53d702c29778040b0c   \n18  0.4.0+5.gef115d6  ef115d608c21f1c771622b53d702c29778040b0c   \n19  0.4.0+5.gef115d6  ef115d608c21f1c771622b53d702c29778040b0c   \n\n                RUN_DATE_TIME POLICY_ID COVERAGE_ID    DATE_BD    DATE_ED  \\\n4  2020-08-21 10:56:24.311695  policy-1        base 2019-06-02 2020-06-02   \n5  2020-08-21 10:56:24.311695  policy-1        base 2020-06-02 2021-06-02   \n6  2020-08-21 10:56:24.311695  policy-1        base 2021-06-02 2022-06-02   \n7  2020-08-21 10:56:24.311695  policy-1        base 2022-06-02 2023-06-02   \n8  2020-08-21 10:56:24.311695  policy-1        base 2023-06-02 2024-06-02   \n9  2020-08-21 10:56:24.311695  policy-1        base 2024-06-02 2025-06-02   \n10 2020-08-21 10:56:24.311695  policy-1        base 2025-06-02 2026-06-02   \n11 2020-08-21 10:56:24.311695  policy-1        base 2026-06-02 2027-06-02   \n12 2020-08-21 10:56:24.311695  policy-1        base 2027-06-02 2028-06-02   \n13 2020-08-21 10:56:24.311695  policy-1        base 2028-06-02 2029-06-02   \n14 2020-08-21 10:56:24.311695  policy-1        base 2029-06-02 2030-06-02   \n15 2020-08-21 10:56:24.311695  policy-1        base 2030-06-02 2031-06-02   \n16 2020-08-21 10:56:24.311695  policy-1        base 2031-06-02 2032-06-02   \n17 2020-08-21 10:56:24.311695  policy-1        base 2032-06-02 2033-06-02   \n18 2020-08-21 10:56:24.311695  policy-1        base 2033-06-02 2034-06-02   \n19 2020-08-21 10:56:24.311695  policy-1        base 2034-06-02 2035-06-02   \n\n    DURATION_YEAR  LIVES_BD  LIVES_MD  ...  DISCOUNT_ED  BENEFIT_AMOUNT  \\\n4               5  0.987588  0.985791  ...     0.862609           100.0   \n5               6  0.983993  0.982070  ...     0.837484           100.0   \n6               7  0.980146  0.978058  ...     0.813092           100.0   \n7               8  0.975970  0.973677  ...     0.789409           100.0   \n8               9  0.971383  0.968853  ...     0.766417           100.0   \n9              10  0.966322  0.963506  ...     0.744094           100.0   \n10             11  0.960689  0.957557  ...     0.722421           100.0   \n11             12  0.954425  0.950961  ...     0.701380           100.0   \n12             13  0.947496  0.943730  ...     0.680951           100.0   \n13             14  0.939963  0.935907  ...     0.661118           100.0   \n14             15  0.931851  0.927462  ...     0.641862           100.0   \n15             16  0.923073  0.918273  ...     0.623167           100.0   \n16             17  0.913473  0.908180  ...     0.605016           100.0   \n17             18  0.902886  0.897027  ...     0.587395           100.0   \n18             19  0.891167  0.884719  ...     0.570286           100.0   \n19             20  0.878272  0.871228  ...     0.553676           100.0   \n\n    INCIDENCE_RATE  BENEFIT_COST    PVFB   PVFNB  ALR_BD  ALR_ED   DATE_ALR  \\\n4         0.007862         62.44  710.96  674.61   40.91   42.60 2020-03-31   \n5         0.008527         66.07  657.08  620.33   42.60   40.73 2021-03-31   \n6         0.009255         69.63  601.93  567.82   40.73   35.29 2022-03-31   \n7         0.010026         72.84  545.73  517.04   35.29   26.54 2023-03-31   \n8         0.010849         75.61  488.91  467.96   26.54   14.89 2024-03-31   \n9         0.011736         77.88  431.93  420.52   14.89    0.74 2025-03-31   \n10        0.012664         79.33  375.26  374.71    0.74    0.00 2026-03-31   \n11        0.013656         79.86  319.57  330.49    0.00    0.00 2027-03-31   \n12        0.014712         79.25  265.51  287.83    0.00    0.00 2028-03-31   \n13        0.015809         77.10  213.82  246.72    0.00    0.00 2029-03-31   \n14        0.016960         73.18  165.41  207.13    0.00    0.00 2030-03-31   \n15        0.018173         67.23  121.20  169.02    0.00    0.00 2031-03-31   \n16        0.019450         58.91   82.15  132.37    0.00    0.00 2032-03-31   \n17        0.020769         47.72   49.30   97.16    0.00    0.00 2033-03-31   \n18        0.022110         33.05   23.78   63.36    0.00    0.00 2034-03-31   \n19        0.023439         14.01    6.86   30.98    0.00    0.00 2035-03-31   \n\n      ALR  \n4   42.31  \n5   41.05  \n6   36.23  \n7   28.05  \n8   16.90  \n9    3.18  \n10   0.13  \n11   0.00  \n12   0.00  \n13   0.00  \n14   0.00  \n15   0.00  \n16   0.00  \n17   0.00  \n18   0.00  \n19   0.00  \n\n[16 rows x 23 columns]",
      "text/html": "<div>\n<style scoped>\n    .dataframe tbody tr th:only-of-type {\n        vertical-align: middle;\n    }\n\n    .dataframe tbody tr th {\n        vertical-align: top;\n    }\n\n    .dataframe thead th {\n        text-align: right;\n    }\n</style>\n<table border=\"1\" class=\"dataframe\">\n  <thead>\n    <tr style=\"text-align: right;\">\n      <th></th>\n      <th>MODEL_VERSION</th>\n      <th>LAST_COMMIT</th>\n      <th>RUN_DATE_TIME</th>\n      <th>POLICY_ID</th>\n      <th>COVERAGE_ID</th>\n      <th>DATE_BD</th>\n      <th>DATE_ED</th>\n      <th>DURATION_YEAR</th>\n      <th>LIVES_BD</th>\n      <th>LIVES_MD</th>\n      <th>...</th>\n      <th>DISCOUNT_ED</th>\n      <th>BENEFIT_AMOUNT</th>\n      <th>INCIDENCE_RATE</th>\n      <th>BENEFIT_COST</th>\n      <th>PVFB</th>\n      <th>PVFNB</th>\n      <th>ALR_BD</th>\n      <th>ALR_ED</th>\n      <th>DATE_ALR</th>\n      <th>ALR</th>\n    </tr>\n  </thead>\n  <tbody>\n    <tr>\n      <th>4</th>\n      <td>0.4.0+5.gef115d6</td>\n      <td>ef115d608c21f1c771622b53d702c29778040b0c</td>\n      <td>2020-08-21 10:56:24.311695</td>\n      <td>policy-1</td>\n      <td>base</td>\n      <td>2019-06-02</td>\n      <td>2020-06-02</td>\n      <td>5</td>\n      <td>0.987588</td>\n      <td>0.985791</td>\n      <td>...</td>\n      <td>0.862609</td>\n      <td>100.0</td>\n      <td>0.007862</td>\n      <td>62.44</td>\n      <td>710.96</td>\n      <td>674.61</td>\n      <td>40.91</td>\n      <td>42.60</td>\n      <td>2020-03-31</td>\n      <td>42.31</td>\n    </tr>\n    <tr>\n      <th>5</th>\n      <td>0.4.0+5.gef115d6</td>\n      <td>ef115d608c21f1c771622b53d702c29778040b0c</td>\n      <td>2020-08-21 10:56:24.311695</td>\n      <td>policy-1</td>\n      <td>base</td>\n      <td>2020-06-02</td>\n      <td>2021-06-02</td>\n      <td>6</td>\n      <td>0.983993</td>\n      <td>0.982070</td>\n      <td>...</td>\n      <td>0.837484</td>\n      <td>100.0</td>\n      <td>0.008527</td>\n      <td>66.07</td>\n      <td>657.08</td>\n      <td>620.33</td>\n      <td>42.60</td>\n      <td>40.73</td>\n      <td>2021-03-31</td>\n      <td>41.05</td>\n    </tr>\n    <tr>\n      <th>6</th>\n      <td>0.4.0+5.gef115d6</td>\n      <td>ef115d608c21f1c771622b53d702c29778040b0c</td>\n      <td>2020-08-21 10:56:24.311695</td>\n      <td>policy-1</td>\n      <td>base</td>\n      <td>2021-06-02</td>\n      <td>2022-06-02</td>\n      <td>7</td>\n      <td>0.980146</td>\n      <td>0.978058</td>\n      <td>...</td>\n      <td>0.813092</td>\n      <td>100.0</td>\n      <td>0.009255</td>\n      <td>69.63</td>\n      <td>601.93</td>\n      <td>567.82</td>\n      <td>40.73</td>\n      <td>35.29</td>\n      <td>2022-03-31</td>\n      <td>36.23</td>\n    </tr>\n    <tr>\n      <th>7</th>\n      <td>0.4.0+5.gef115d6</td>\n      <td>ef115d608c21f1c771622b53d702c29778040b0c</td>\n      <td>2020-08-21 10:56:24.311695</td>\n      <td>policy-1</td>\n      <td>base</td>\n      <td>2022-06-02</td>\n      <td>2023-06-02</td>\n      <td>8</td>\n      <td>0.975970</td>\n      <td>0.973677</td>\n      <td>...</td>\n      <td>0.789409</td>\n      <td>100.0</td>\n      <td>0.010026</td>\n      <td>72.84</td>\n      <td>545.73</td>\n      <td>517.04</td>\n      <td>35.29</td>\n      <td>26.54</td>\n      <td>2023-03-31</td>\n      <td>28.05</td>\n    </tr>\n    <tr>\n      <th>8</th>\n      <td>0.4.0+5.gef115d6</td>\n      <td>ef115d608c21f1c771622b53d702c29778040b0c</td>\n      <td>2020-08-21 10:56:24.311695</td>\n      <td>policy-1</td>\n      <td>base</td>\n      <td>2023-06-02</td>\n      <td>2024-06-02</td>\n      <td>9</td>\n      <td>0.971383</td>\n      <td>0.968853</td>\n      <td>...</td>\n      <td>0.766417</td>\n      <td>100.0</td>\n      <td>0.010849</td>\n      <td>75.61</td>\n      <td>488.91</td>\n      <td>467.96</td>\n      <td>26.54</td>\n      <td>14.89</td>\n      <td>2024-03-31</td>\n      <td>16.90</td>\n    </tr>\n    <tr>\n      <th>9</th>\n      <td>0.4.0+5.gef115d6</td>\n      <td>ef115d608c21f1c771622b53d702c29778040b0c</td>\n      <td>2020-08-21 10:56:24.311695</td>\n      <td>policy-1</td>\n      <td>base</td>\n      <td>2024-06-02</td>\n      <td>2025-06-02</td>\n      <td>10</td>\n      <td>0.966322</td>\n      <td>0.963506</td>\n      <td>...</td>\n      <td>0.744094</td>\n      <td>100.0</td>\n      <td>0.011736</td>\n      <td>77.88</td>\n      <td>431.93</td>\n      <td>420.52</td>\n      <td>14.89</td>\n      <td>0.74</td>\n      <td>2025-03-31</td>\n      <td>3.18</td>\n    </tr>\n    <tr>\n      <th>10</th>\n      <td>0.4.0+5.gef115d6</td>\n      <td>ef115d608c21f1c771622b53d702c29778040b0c</td>\n      <td>2020-08-21 10:56:24.311695</td>\n      <td>policy-1</td>\n      <td>base</td>\n      <td>2025-06-02</td>\n      <td>2026-06-02</td>\n      <td>11</td>\n      <td>0.960689</td>\n      <td>0.957557</td>\n      <td>...</td>\n      <td>0.722421</td>\n      <td>100.0</td>\n      <td>0.012664</td>\n      <td>79.33</td>\n      <td>375.26</td>\n      <td>374.71</td>\n      <td>0.74</td>\n      <td>0.00</td>\n      <td>2026-03-31</td>\n      <td>0.13</td>\n    </tr>\n    <tr>\n      <th>11</th>\n      <td>0.4.0+5.gef115d6</td>\n      <td>ef115d608c21f1c771622b53d702c29778040b0c</td>\n      <td>2020-08-21 10:56:24.311695</td>\n      <td>policy-1</td>\n      <td>base</td>\n      <td>2026-06-02</td>\n      <td>2027-06-02</td>\n      <td>12</td>\n      <td>0.954425</td>\n      <td>0.950961</td>\n      <td>...</td>\n      <td>0.701380</td>\n      <td>100.0</td>\n      <td>0.013656</td>\n      <td>79.86</td>\n      <td>319.57</td>\n      <td>330.49</td>\n      <td>0.00</td>\n      <td>0.00</td>\n      <td>2027-03-31</td>\n      <td>0.00</td>\n    </tr>\n    <tr>\n      <th>12</th>\n      <td>0.4.0+5.gef115d6</td>\n      <td>ef115d608c21f1c771622b53d702c29778040b0c</td>\n      <td>2020-08-21 10:56:24.311695</td>\n      <td>policy-1</td>\n      <td>base</td>\n      <td>2027-06-02</td>\n      <td>2028-06-02</td>\n      <td>13</td>\n      <td>0.947496</td>\n      <td>0.943730</td>\n      <td>...</td>\n      <td>0.680951</td>\n      <td>100.0</td>\n      <td>0.014712</td>\n      <td>79.25</td>\n      <td>265.51</td>\n      <td>287.83</td>\n      <td>0.00</td>\n      <td>0.00</td>\n      <td>2028-03-31</td>\n      <td>0.00</td>\n    </tr>\n    <tr>\n      <th>13</th>\n      <td>0.4.0+5.gef115d6</td>\n      <td>ef115d608c21f1c771622b53d702c29778040b0c</td>\n      <td>2020-08-21 10:56:24.311695</td>\n      <td>policy-1</td>\n      <td>base</td>\n      <td>2028-06-02</td>\n      <td>2029-06-02</td>\n      <td>14</td>\n      <td>0.939963</td>\n      <td>0.935907</td>\n      <td>...</td>\n      <td>0.661118</td>\n      <td>100.0</td>\n      <td>0.015809</td>\n      <td>77.10</td>\n      <td>213.82</td>\n      <td>246.72</td>\n      <td>0.00</td>\n      <td>0.00</td>\n      <td>2029-03-31</td>\n      <td>0.00</td>\n    </tr>\n    <tr>\n      <th>14</th>\n      <td>0.4.0+5.gef115d6</td>\n      <td>ef115d608c21f1c771622b53d702c29778040b0c</td>\n      <td>2020-08-21 10:56:24.311695</td>\n      <td>policy-1</td>\n      <td>base</td>\n      <td>2029-06-02</td>\n      <td>2030-06-02</td>\n      <td>15</td>\n      <td>0.931851</td>\n      <td>0.927462</td>\n      <td>...</td>\n      <td>0.641862</td>\n      <td>100.0</td>\n      <td>0.016960</td>\n      <td>73.18</td>\n      <td>165.41</td>\n      <td>207.13</td>\n      <td>0.00</td>\n      <td>0.00</td>\n      <td>2030-03-31</td>\n      <td>0.00</td>\n    </tr>\n    <tr>\n      <th>15</th>\n      <td>0.4.0+5.gef115d6</td>\n      <td>ef115d608c21f1c771622b53d702c29778040b0c</td>\n      <td>2020-08-21 10:56:24.311695</td>\n      <td>policy-1</td>\n      <td>base</td>\n      <td>2030-06-02</td>\n      <td>2031-06-02</td>\n      <td>16</td>\n      <td>0.923073</td>\n      <td>0.918273</td>\n      <td>...</td>\n      <td>0.623167</td>\n      <td>100.0</td>\n      <td>0.018173</td>\n      <td>67.23</td>\n      <td>121.20</td>\n      <td>169.02</td>\n      <td>0.00</td>\n      <td>0.00</td>\n      <td>2031-03-31</td>\n      <td>0.00</td>\n    </tr>\n    <tr>\n      <th>16</th>\n      <td>0.4.0+5.gef115d6</td>\n      <td>ef115d608c21f1c771622b53d702c29778040b0c</td>\n      <td>2020-08-21 10:56:24.311695</td>\n      <td>policy-1</td>\n      <td>base</td>\n      <td>2031-06-02</td>\n      <td>2032-06-02</td>\n      <td>17</td>\n      <td>0.913473</td>\n      <td>0.908180</td>\n      <td>...</td>\n      <td>0.605016</td>\n      <td>100.0</td>\n      <td>0.019450</td>\n      <td>58.91</td>\n      <td>82.15</td>\n      <td>132.37</td>\n      <td>0.00</td>\n      <td>0.00</td>\n      <td>2032-03-31</td>\n      <td>0.00</td>\n    </tr>\n    <tr>\n      <th>17</th>\n      <td>0.4.0+5.gef115d6</td>\n      <td>ef115d608c21f1c771622b53d702c29778040b0c</td>\n      <td>2020-08-21 10:56:24.311695</td>\n      <td>policy-1</td>\n      <td>base</td>\n      <td>2032-06-02</td>\n      <td>2033-06-02</td>\n      <td>18</td>\n      <td>0.902886</td>\n      <td>0.897027</td>\n      <td>...</td>\n      <td>0.587395</td>\n      <td>100.0</td>\n      <td>0.020769</td>\n      <td>47.72</td>\n      <td>49.30</td>\n      <td>97.16</td>\n      <td>0.00</td>\n      <td>0.00</td>\n      <td>2033-03-31</td>\n      <td>0.00</td>\n    </tr>\n    <tr>\n      <th>18</th>\n      <td>0.4.0+5.gef115d6</td>\n      <td>ef115d608c21f1c771622b53d702c29778040b0c</td>\n      <td>2020-08-21 10:56:24.311695</td>\n      <td>policy-1</td>\n      <td>base</td>\n      <td>2033-06-02</td>\n      <td>2034-06-02</td>\n      <td>19</td>\n      <td>0.891167</td>\n      <td>0.884719</td>\n      <td>...</td>\n      <td>0.570286</td>\n      <td>100.0</td>\n      <td>0.022110</td>\n      <td>33.05</td>\n      <td>23.78</td>\n      <td>63.36</td>\n      <td>0.00</td>\n      <td>0.00</td>\n      <td>2034-03-31</td>\n      <td>0.00</td>\n    </tr>\n    <tr>\n      <th>19</th>\n      <td>0.4.0+5.gef115d6</td>\n      <td>ef115d608c21f1c771622b53d702c29778040b0c</td>\n      <td>2020-08-21 10:56:24.311695</td>\n      <td>policy-1</td>\n      <td>base</td>\n      <td>2034-06-02</td>\n      <td>2035-06-02</td>\n      <td>20</td>\n      <td>0.878272</td>\n      <td>0.871228</td>\n      <td>...</td>\n      <td>0.553676</td>\n      <td>100.0</td>\n      <td>0.023439</td>\n      <td>14.01</td>\n      <td>6.86</td>\n      <td>30.98</td>\n      <td>0.00</td>\n      <td>0.00</td>\n      <td>2035-03-31</td>\n      <td>0.00</td>\n    </tr>\n  </tbody>\n</table>\n<p>16 rows × 23 columns</p>\n</div>"
     },
     "metadata": {},
     "execution_count": 10
    }
   ],
   "source": [
    "alr_policy_output"
   ]
  },
  {
   "cell_type": "markdown",
   "metadata": {},
   "source": [
    "## Population Models"
   ]
  },
  {
   "cell_type": "markdown",
   "metadata": {},
   "source": [
    "As noted earlier, populations models can by created by applying the policy models on each policy using a standard for loop. Within in the insurnace industry, a population of policies is typically represented as a `policy inforce extract` or `extract` for short which is tabular data structure were policies (and riders) are records in the table and the columns are policy attributes.\n",
    "\n",
    "Two population models were built where the links direct you to the detailed documentation for each model -\n",
    "\n",
    "- [disabled_lives_model](models.rst#footings_idi_model.population_models.disabled_lives_model)\n",
    "- [active_lives_model](models.rst#footings_idi_model.population_models.active_lives_model)\n"
   ]
  },
  {
   "cell_type": "markdown",
   "metadata": {},
   "source": [
    "In order to quickly create extracts, the `footings_idi_model` comes with a model to generate extracts using fake policies. It is exposed under `footings_idi_model.utils.extract_generator_model`. It's detailed information can be viewed under the [api section](models.rst#footings_idi_model.utils.extract_generator_model). \n",
    "\n",
    "To use the extract_generator_model, we need to define -\n",
    "\n",
    "- the `n` number of policies we want to create, \n",
    "- the extract type `disabled-lives` or `active-lives`,\n",
    "- the volume table which is a distribution of policies by attributes,\n",
    "- an as of date, and\n",
    "- a seed if wanting to have reproducibility when generating the extract."
   ]
  },
  {
   "cell_type": "code",
   "execution_count": 11,
   "metadata": {},
   "outputs": [],
   "source": [
    "from footings_idi_model.utils import extract_generator_model\n",
    "volume_tbl = pd.read_csv(\"volume-tbl.csv\")\n",
    "dl_extract = extract_generator_model(\n",
    "    n=10, \n",
    "    extract_type=\"disabled-lives\", \n",
    "    volume_tbl=volume_tbl, \n",
    "    as_of_dt=pd.Timestamp(\"2020-03-31\"), \n",
    "    seed=1\n",
    ").run()"
   ]
  },
  {
   "cell_type": "markdown",
   "metadata": {},
   "source": [
    "### Disabled Lives Model"
   ]
  },
  {
   "cell_type": "markdown",
   "metadata": {},
   "source": [
    "The disabled lives model requires the an extract with the following columns. Note the similarities to the arguments required of the `dlr_deterministic_model`."
   ]
  },
  {
   "cell_type": "code",
   "execution_count": 12,
   "metadata": {
    "tags": []
   },
   "outputs": [
    {
     "output_type": "stream",
     "name": "stdout",
     "text": "<class 'pandas.core.frame.DataFrame'>\nRangeIndex: 10 entries, 0 to 9\nData columns (total 16 columns):\n #   Column                Non-Null Count  Dtype         \n---  ------                --------------  -----         \n 0   POLICY_ID             10 non-null     object        \n 1   BIRTH_DT              10 non-null     datetime64[ns]\n 2   GENDER                10 non-null     object        \n 3   TOBACCO_USAGE         10 non-null     object        \n 4   CLAIM_ID              10 non-null     object        \n 5   COVERAGE_ID           10 non-null     object        \n 6   INCURRED_DT           10 non-null     datetime64[ns]\n 7   TERMINATION_DT        10 non-null     datetime64[ns]\n 8   ELIMINATION_PERIOD    10 non-null     int64         \n 9   BENEFIT_AMOUNT        10 non-null     float64       \n 10  IDI_OCCUPATION_CLASS  10 non-null     object        \n 11  IDI_CONTRACT          10 non-null     object        \n 12  IDI_BENEFIT_PERIOD    10 non-null     object        \n 13  IDI_MARKET            10 non-null     object        \n 14  IDI_DIAGNOSIS_GRP     10 non-null     object        \n 15  COLA_PERCENT          10 non-null     float64       \ndtypes: datetime64[ns](3), float64(2), int64(1), object(10)\nmemory usage: 1.4+ KB\n"
    }
   ],
   "source": [
    "dl_extract.info()"
   ]
  },
  {
   "cell_type": "markdown",
   "metadata": {},
   "source": [
    "A view of the extract is below."
   ]
  },
  {
   "cell_type": "code",
   "execution_count": 13,
   "metadata": {},
   "outputs": [
    {
     "output_type": "execute_result",
     "data": {
      "text/plain": "  POLICY_ID   BIRTH_DT GENDER TOBACCO_USAGE CLAIM_ID COVERAGE_ID INCURRED_DT  \\\n0        M1 1967-11-27      F             N     M1C1        base  2007-07-02   \n1        M2 1969-01-03      M             N     M2C1        base  2019-03-22   \n2        M3 1987-01-25      M             N     M3C1        base  2012-01-27   \n3        M4 1957-01-28      F             Y     M4C1        base  1992-08-28   \n4        M5 1989-02-26      F             Y     M5C1        base  2019-04-17   \n5        M6 1967-05-13      F             N     M6C1        base  1995-08-06   \n6        M7 1973-12-03      M             N     M7C1        base  2005-06-10   \n7        M8 1964-10-07      M             N     M8C1        base  2001-11-11   \n8        M9 1976-12-28      M             Y     M9C1        base  2015-11-17   \n9       M10 1961-04-21      M             Y    M10C1        base  2005-02-28   \n\n  TERMINATION_DT  ELIMINATION_PERIOD  BENEFIT_AMOUNT IDI_OCCUPATION_CLASS  \\\n0     2037-11-26                 360           100.0                    M   \n1     2020-10-04                  14           100.0                    4   \n2     2052-01-24                 180           100.0                    M   \n3     2024-01-27                  90           100.0                    1   \n4     2054-02-25                  90           100.0                    2   \n5     2032-05-12                 180           100.0                    1   \n6     2040-12-02                 360           100.0                    2   \n7     2034-10-06                 720           100.0                    1   \n8     2046-12-27                  90           100.0                    2   \n9     2081-04-20                 180           100.0                    2   \n\n  IDI_CONTRACT IDI_BENEFIT_PERIOD IDI_MARKET IDI_DIAGNOSIS_GRP  COLA_PERCENT  \n0           AS               TO70       INDV          VERY_LOW          0.02  \n1           AS                18M       INDV          VERY_LOW          0.00  \n2           AS               TO65       INDV          VERY_LOW          0.03  \n3           AS               TO67       INDV         VERY_HIGH          0.03  \n4           AO               TO65       INDV         VERY_HIGH          0.03  \n5           AS               TO65       INDV               LOW          0.03  \n6           AO               TO67       INDV          VERY_LOW          0.03  \n7           AO               TO70       INDV               LOW          0.00  \n8           AO               TO70       INDV         VERY_HIGH          0.03  \n9           SO               LIFE       INDV               LOW          0.02  ",
      "text/html": "<div>\n<style scoped>\n    .dataframe tbody tr th:only-of-type {\n        vertical-align: middle;\n    }\n\n    .dataframe tbody tr th {\n        vertical-align: top;\n    }\n\n    .dataframe thead th {\n        text-align: right;\n    }\n</style>\n<table border=\"1\" class=\"dataframe\">\n  <thead>\n    <tr style=\"text-align: right;\">\n      <th></th>\n      <th>POLICY_ID</th>\n      <th>BIRTH_DT</th>\n      <th>GENDER</th>\n      <th>TOBACCO_USAGE</th>\n      <th>CLAIM_ID</th>\n      <th>COVERAGE_ID</th>\n      <th>INCURRED_DT</th>\n      <th>TERMINATION_DT</th>\n      <th>ELIMINATION_PERIOD</th>\n      <th>BENEFIT_AMOUNT</th>\n      <th>IDI_OCCUPATION_CLASS</th>\n      <th>IDI_CONTRACT</th>\n      <th>IDI_BENEFIT_PERIOD</th>\n      <th>IDI_MARKET</th>\n      <th>IDI_DIAGNOSIS_GRP</th>\n      <th>COLA_PERCENT</th>\n    </tr>\n  </thead>\n  <tbody>\n    <tr>\n      <th>0</th>\n      <td>M1</td>\n      <td>1967-11-27</td>\n      <td>F</td>\n      <td>N</td>\n      <td>M1C1</td>\n      <td>base</td>\n      <td>2007-07-02</td>\n      <td>2037-11-26</td>\n      <td>360</td>\n      <td>100.0</td>\n      <td>M</td>\n      <td>AS</td>\n      <td>TO70</td>\n      <td>INDV</td>\n      <td>VERY_LOW</td>\n      <td>0.02</td>\n    </tr>\n    <tr>\n      <th>1</th>\n      <td>M2</td>\n      <td>1969-01-03</td>\n      <td>M</td>\n      <td>N</td>\n      <td>M2C1</td>\n      <td>base</td>\n      <td>2019-03-22</td>\n      <td>2020-10-04</td>\n      <td>14</td>\n      <td>100.0</td>\n      <td>4</td>\n      <td>AS</td>\n      <td>18M</td>\n      <td>INDV</td>\n      <td>VERY_LOW</td>\n      <td>0.00</td>\n    </tr>\n    <tr>\n      <th>2</th>\n      <td>M3</td>\n      <td>1987-01-25</td>\n      <td>M</td>\n      <td>N</td>\n      <td>M3C1</td>\n      <td>base</td>\n      <td>2012-01-27</td>\n      <td>2052-01-24</td>\n      <td>180</td>\n      <td>100.0</td>\n      <td>M</td>\n      <td>AS</td>\n      <td>TO65</td>\n      <td>INDV</td>\n      <td>VERY_LOW</td>\n      <td>0.03</td>\n    </tr>\n    <tr>\n      <th>3</th>\n      <td>M4</td>\n      <td>1957-01-28</td>\n      <td>F</td>\n      <td>Y</td>\n      <td>M4C1</td>\n      <td>base</td>\n      <td>1992-08-28</td>\n      <td>2024-01-27</td>\n      <td>90</td>\n      <td>100.0</td>\n      <td>1</td>\n      <td>AS</td>\n      <td>TO67</td>\n      <td>INDV</td>\n      <td>VERY_HIGH</td>\n      <td>0.03</td>\n    </tr>\n    <tr>\n      <th>4</th>\n      <td>M5</td>\n      <td>1989-02-26</td>\n      <td>F</td>\n      <td>Y</td>\n      <td>M5C1</td>\n      <td>base</td>\n      <td>2019-04-17</td>\n      <td>2054-02-25</td>\n      <td>90</td>\n      <td>100.0</td>\n      <td>2</td>\n      <td>AO</td>\n      <td>TO65</td>\n      <td>INDV</td>\n      <td>VERY_HIGH</td>\n      <td>0.03</td>\n    </tr>\n    <tr>\n      <th>5</th>\n      <td>M6</td>\n      <td>1967-05-13</td>\n      <td>F</td>\n      <td>N</td>\n      <td>M6C1</td>\n      <td>base</td>\n      <td>1995-08-06</td>\n      <td>2032-05-12</td>\n      <td>180</td>\n      <td>100.0</td>\n      <td>1</td>\n      <td>AS</td>\n      <td>TO65</td>\n      <td>INDV</td>\n      <td>LOW</td>\n      <td>0.03</td>\n    </tr>\n    <tr>\n      <th>6</th>\n      <td>M7</td>\n      <td>1973-12-03</td>\n      <td>M</td>\n      <td>N</td>\n      <td>M7C1</td>\n      <td>base</td>\n      <td>2005-06-10</td>\n      <td>2040-12-02</td>\n      <td>360</td>\n      <td>100.0</td>\n      <td>2</td>\n      <td>AO</td>\n      <td>TO67</td>\n      <td>INDV</td>\n      <td>VERY_LOW</td>\n      <td>0.03</td>\n    </tr>\n    <tr>\n      <th>7</th>\n      <td>M8</td>\n      <td>1964-10-07</td>\n      <td>M</td>\n      <td>N</td>\n      <td>M8C1</td>\n      <td>base</td>\n      <td>2001-11-11</td>\n      <td>2034-10-06</td>\n      <td>720</td>\n      <td>100.0</td>\n      <td>1</td>\n      <td>AO</td>\n      <td>TO70</td>\n      <td>INDV</td>\n      <td>LOW</td>\n      <td>0.00</td>\n    </tr>\n    <tr>\n      <th>8</th>\n      <td>M9</td>\n      <td>1976-12-28</td>\n      <td>M</td>\n      <td>Y</td>\n      <td>M9C1</td>\n      <td>base</td>\n      <td>2015-11-17</td>\n      <td>2046-12-27</td>\n      <td>90</td>\n      <td>100.0</td>\n      <td>2</td>\n      <td>AO</td>\n      <td>TO70</td>\n      <td>INDV</td>\n      <td>VERY_HIGH</td>\n      <td>0.03</td>\n    </tr>\n    <tr>\n      <th>9</th>\n      <td>M10</td>\n      <td>1961-04-21</td>\n      <td>M</td>\n      <td>Y</td>\n      <td>M10C1</td>\n      <td>base</td>\n      <td>2005-02-28</td>\n      <td>2081-04-20</td>\n      <td>180</td>\n      <td>100.0</td>\n      <td>2</td>\n      <td>SO</td>\n      <td>LIFE</td>\n      <td>INDV</td>\n      <td>LOW</td>\n      <td>0.02</td>\n    </tr>\n  </tbody>\n</table>\n</div>"
     },
     "metadata": {},
     "execution_count": 13
    }
   ],
   "source": [
    "dl_extract"
   ]
  },
  {
   "cell_type": "markdown",
   "metadata": {},
   "source": [
    "Modeling disabled lives has fewer inputs as most of the policy inputs come in on the extract."
   ]
  },
  {
   "cell_type": "code",
   "execution_count": 14,
   "metadata": {},
   "outputs": [],
   "source": [
    "from footings_idi_model.population_models import disabled_lives_model\n",
    "\n",
    "dl_population_init_model = disabled_lives_model(\n",
    "    extract=dl_extract, \n",
    "    valuation_dt=pd.Timestamp(\"2020-03-31\"),\n",
    "    assumption_set=\"stat\",\n",
    "    model_type=\"deterministic\",\n",
    ")"
   ]
  },
  {
   "cell_type": "markdown",
   "metadata": {},
   "source": [
    "Similar to the DLR deterministic policy model, to run the model requires applying the `run()` method of the object. The model returns three tables -\n",
    "\n",
    "- a time 0 view (i.e., dl_time_0),\n",
    "- a projection view (i.e., dl_projected), and\n",
    "- any policy's that error out when running the model (i.e., dl_errors). "
   ]
  },
  {
   "cell_type": "code",
   "execution_count": 15,
   "metadata": {},
   "outputs": [],
   "source": [
    "dl_time_0, dl_projected, dl_errors  = dl_population_init_model.run()"
   ]
  },
  {
   "cell_type": "markdown",
   "metadata": {},
   "source": [
    "A view of each of the tables are shown below."
   ]
  },
  {
   "cell_type": "code",
   "execution_count": 16,
   "metadata": {},
   "outputs": [
    {
     "output_type": "execute_result",
     "data": {
      "text/plain": "      MODEL_VERSION                               LAST_COMMIT  \\\n0  0.4.0+5.gef115d6  ef115d608c21f1c771622b53d702c29778040b0c   \n1  0.4.0+5.gef115d6  ef115d608c21f1c771622b53d702c29778040b0c   \n2  0.4.0+5.gef115d6  ef115d608c21f1c771622b53d702c29778040b0c   \n3  0.4.0+5.gef115d6  ef115d608c21f1c771622b53d702c29778040b0c   \n4  0.4.0+5.gef115d6  ef115d608c21f1c771622b53d702c29778040b0c   \n5  0.4.0+5.gef115d6  ef115d608c21f1c771622b53d702c29778040b0c   \n6  0.4.0+5.gef115d6  ef115d608c21f1c771622b53d702c29778040b0c   \n7  0.4.0+5.gef115d6  ef115d608c21f1c771622b53d702c29778040b0c   \n8  0.4.0+5.gef115d6  ef115d608c21f1c771622b53d702c29778040b0c   \n9  0.4.0+5.gef115d6  ef115d608c21f1c771622b53d702c29778040b0c   \n\n               RUN_DATE_TIME POLICY_ID       DLR  \n0 2020-08-21 10:56:28.045986        M1  22355.93  \n1 2020-08-21 10:56:27.989257        M2    581.21  \n2 2020-08-21 10:56:27.980830        M3  35707.70  \n3 2020-08-21 10:56:27.976094        M4   9770.50  \n4 2020-08-21 10:56:27.946440        M5  17998.52  \n5 2020-08-21 10:56:28.062419        M6  27274.47  \n6 2020-08-21 10:56:28.082836        M7  30214.14  \n7 2020-08-21 10:56:27.943190        M8  12217.32  \n8 2020-08-21 10:56:27.965304        M9  26403.34  \n9 2020-08-21 10:56:28.170137       M10  24687.92  ",
      "text/html": "<div>\n<style scoped>\n    .dataframe tbody tr th:only-of-type {\n        vertical-align: middle;\n    }\n\n    .dataframe tbody tr th {\n        vertical-align: top;\n    }\n\n    .dataframe thead th {\n        text-align: right;\n    }\n</style>\n<table border=\"1\" class=\"dataframe\">\n  <thead>\n    <tr style=\"text-align: right;\">\n      <th></th>\n      <th>MODEL_VERSION</th>\n      <th>LAST_COMMIT</th>\n      <th>RUN_DATE_TIME</th>\n      <th>POLICY_ID</th>\n      <th>DLR</th>\n    </tr>\n  </thead>\n  <tbody>\n    <tr>\n      <th>0</th>\n      <td>0.4.0+5.gef115d6</td>\n      <td>ef115d608c21f1c771622b53d702c29778040b0c</td>\n      <td>2020-08-21 10:56:28.045986</td>\n      <td>M1</td>\n      <td>22355.93</td>\n    </tr>\n    <tr>\n      <th>1</th>\n      <td>0.4.0+5.gef115d6</td>\n      <td>ef115d608c21f1c771622b53d702c29778040b0c</td>\n      <td>2020-08-21 10:56:27.989257</td>\n      <td>M2</td>\n      <td>581.21</td>\n    </tr>\n    <tr>\n      <th>2</th>\n      <td>0.4.0+5.gef115d6</td>\n      <td>ef115d608c21f1c771622b53d702c29778040b0c</td>\n      <td>2020-08-21 10:56:27.980830</td>\n      <td>M3</td>\n      <td>35707.70</td>\n    </tr>\n    <tr>\n      <th>3</th>\n      <td>0.4.0+5.gef115d6</td>\n      <td>ef115d608c21f1c771622b53d702c29778040b0c</td>\n      <td>2020-08-21 10:56:27.976094</td>\n      <td>M4</td>\n      <td>9770.50</td>\n    </tr>\n    <tr>\n      <th>4</th>\n      <td>0.4.0+5.gef115d6</td>\n      <td>ef115d608c21f1c771622b53d702c29778040b0c</td>\n      <td>2020-08-21 10:56:27.946440</td>\n      <td>M5</td>\n      <td>17998.52</td>\n    </tr>\n    <tr>\n      <th>5</th>\n      <td>0.4.0+5.gef115d6</td>\n      <td>ef115d608c21f1c771622b53d702c29778040b0c</td>\n      <td>2020-08-21 10:56:28.062419</td>\n      <td>M6</td>\n      <td>27274.47</td>\n    </tr>\n    <tr>\n      <th>6</th>\n      <td>0.4.0+5.gef115d6</td>\n      <td>ef115d608c21f1c771622b53d702c29778040b0c</td>\n      <td>2020-08-21 10:56:28.082836</td>\n      <td>M7</td>\n      <td>30214.14</td>\n    </tr>\n    <tr>\n      <th>7</th>\n      <td>0.4.0+5.gef115d6</td>\n      <td>ef115d608c21f1c771622b53d702c29778040b0c</td>\n      <td>2020-08-21 10:56:27.943190</td>\n      <td>M8</td>\n      <td>12217.32</td>\n    </tr>\n    <tr>\n      <th>8</th>\n      <td>0.4.0+5.gef115d6</td>\n      <td>ef115d608c21f1c771622b53d702c29778040b0c</td>\n      <td>2020-08-21 10:56:27.965304</td>\n      <td>M9</td>\n      <td>26403.34</td>\n    </tr>\n    <tr>\n      <th>9</th>\n      <td>0.4.0+5.gef115d6</td>\n      <td>ef115d608c21f1c771622b53d702c29778040b0c</td>\n      <td>2020-08-21 10:56:28.170137</td>\n      <td>M10</td>\n      <td>24687.92</td>\n    </tr>\n  </tbody>\n</table>\n</div>"
     },
     "metadata": {},
     "execution_count": 16
    }
   ],
   "source": [
    "dl_time_0"
   ]
  },
  {
   "cell_type": "code",
   "execution_count": 17,
   "metadata": {},
   "outputs": [
    {
     "output_type": "execute_result",
     "data": {
      "text/plain": "        MODEL_VERSION                               LAST_COMMIT  \\\n0    0.4.0+5.gef115d6  ef115d608c21f1c771622b53d702c29778040b0c   \n1    0.4.0+5.gef115d6  ef115d608c21f1c771622b53d702c29778040b0c   \n2    0.4.0+5.gef115d6  ef115d608c21f1c771622b53d702c29778040b0c   \n3    0.4.0+5.gef115d6  ef115d608c21f1c771622b53d702c29778040b0c   \n4    0.4.0+5.gef115d6  ef115d608c21f1c771622b53d702c29778040b0c   \n..                ...                                       ...   \n728  0.4.0+5.gef115d6  ef115d608c21f1c771622b53d702c29778040b0c   \n729  0.4.0+5.gef115d6  ef115d608c21f1c771622b53d702c29778040b0c   \n730  0.4.0+5.gef115d6  ef115d608c21f1c771622b53d702c29778040b0c   \n731  0.4.0+5.gef115d6  ef115d608c21f1c771622b53d702c29778040b0c   \n732  0.4.0+5.gef115d6  ef115d608c21f1c771622b53d702c29778040b0c   \n\n                 RUN_DATE_TIME POLICY_ID    DATE_BD    DATE_ED  DURATION_YEAR  \\\n0   2020-08-21 10:56:28.045986        M1 2020-03-02 2020-04-02             13   \n1   2020-08-21 10:56:28.045986        M1 2020-04-02 2020-05-02             13   \n2   2020-08-21 10:56:28.045986        M1 2020-05-02 2020-06-02             13   \n3   2020-08-21 10:56:28.045986        M1 2020-06-02 2020-07-02             13   \n4   2020-08-21 10:56:28.045986        M1 2020-07-02 2020-08-02             14   \n..                         ...       ...        ...        ...            ...   \n728 2020-08-21 10:56:28.170137       M10 2080-11-28 2080-12-28             76   \n729 2020-08-21 10:56:28.170137       M10 2080-12-28 2081-01-28             76   \n730 2020-08-21 10:56:28.170137       M10 2081-01-28 2081-02-28             76   \n731 2020-08-21 10:56:28.170137       M10 2081-02-28 2081-03-28             77   \n732 2020-08-21 10:56:28.170137       M10 2081-03-28 2081-04-28             77   \n\n     DURATION_MONTH  BENEFIT_AMOUNT       CTR      LIVES_BD      LIVES_MD  \\\n0               153          126.82  0.000876  1.000000e+00  9.995619e-01   \n1               154          126.82  0.000876  9.991238e-01  9.986860e-01   \n2               155          126.82  0.000876  9.982483e-01  9.978109e-01   \n3               156          126.82  0.000856  9.973736e-01  9.969468e-01   \n4               157          129.36  0.000856  9.965200e-01  9.960936e-01   \n..              ...             ...       ...           ...           ...   \n728             910          148.59  0.039377  5.350172e-08  5.244836e-08   \n729             911          148.59  0.039377  5.139500e-08  5.038311e-08   \n730             912          148.59  0.039377  4.937123e-08  4.839919e-08   \n731             913          148.59  0.039377  4.742715e-08  4.649338e-08   \n732             914          110.25  0.039377  4.555962e-08  4.466262e-08   \n\n         LIVES_ED  DISCOUNT_BD  DISCOUNT_MD  DISCOUNT_ED   PVFB_BD   PVFB_ED  \\\n0    9.991238e-01     1.000000     0.998769     0.997540  22404.64  22278.03   \n1    9.982483e-01     0.997540     0.996312     0.995086  22278.03  22151.84   \n2    9.973736e-01     0.995086     0.993861     0.992638  22151.84  22026.08   \n3    9.965200e-01     0.992638     0.991416     0.990195  22026.08  21900.73   \n4    9.956672e-01     0.990195     0.988977     0.987759  21900.73  21773.29   \n..            ...          ...          ...          ...       ...       ...   \n728  5.139500e-08     0.166421     0.166216     0.166012      0.00      0.00   \n729  4.937123e-08     0.166012     0.165807     0.165603      0.00      0.00   \n730  4.742715e-08     0.165603     0.165399     0.165196      0.00      0.00   \n731  4.555962e-08     0.165196     0.164992     0.164789      0.00      0.00   \n732  4.376563e-08     0.164789     0.164587     0.164384      0.00      0.00   \n\n      DATE_DLR       DLR  \n0   2020-03-31  22355.93  \n1   2020-04-30  22303.69  \n2   2020-05-31  22251.28  \n3   2020-06-30  22198.26  \n4   2020-07-31  22142.65  \n..         ...       ...  \n728 2080-11-30      0.00  \n729 2080-12-31      0.00  \n730 2081-01-31      0.00  \n731 2081-02-28      0.00  \n732 2081-03-31      0.00  \n\n[2682 rows x 20 columns]",
      "text/html": "<div>\n<style scoped>\n    .dataframe tbody tr th:only-of-type {\n        vertical-align: middle;\n    }\n\n    .dataframe tbody tr th {\n        vertical-align: top;\n    }\n\n    .dataframe thead th {\n        text-align: right;\n    }\n</style>\n<table border=\"1\" class=\"dataframe\">\n  <thead>\n    <tr style=\"text-align: right;\">\n      <th></th>\n      <th>MODEL_VERSION</th>\n      <th>LAST_COMMIT</th>\n      <th>RUN_DATE_TIME</th>\n      <th>POLICY_ID</th>\n      <th>DATE_BD</th>\n      <th>DATE_ED</th>\n      <th>DURATION_YEAR</th>\n      <th>DURATION_MONTH</th>\n      <th>BENEFIT_AMOUNT</th>\n      <th>CTR</th>\n      <th>LIVES_BD</th>\n      <th>LIVES_MD</th>\n      <th>LIVES_ED</th>\n      <th>DISCOUNT_BD</th>\n      <th>DISCOUNT_MD</th>\n      <th>DISCOUNT_ED</th>\n      <th>PVFB_BD</th>\n      <th>PVFB_ED</th>\n      <th>DATE_DLR</th>\n      <th>DLR</th>\n    </tr>\n  </thead>\n  <tbody>\n    <tr>\n      <th>0</th>\n      <td>0.4.0+5.gef115d6</td>\n      <td>ef115d608c21f1c771622b53d702c29778040b0c</td>\n      <td>2020-08-21 10:56:28.045986</td>\n      <td>M1</td>\n      <td>2020-03-02</td>\n      <td>2020-04-02</td>\n      <td>13</td>\n      <td>153</td>\n      <td>126.82</td>\n      <td>0.000876</td>\n      <td>1.000000e+00</td>\n      <td>9.995619e-01</td>\n      <td>9.991238e-01</td>\n      <td>1.000000</td>\n      <td>0.998769</td>\n      <td>0.997540</td>\n      <td>22404.64</td>\n      <td>22278.03</td>\n      <td>2020-03-31</td>\n      <td>22355.93</td>\n    </tr>\n    <tr>\n      <th>1</th>\n      <td>0.4.0+5.gef115d6</td>\n      <td>ef115d608c21f1c771622b53d702c29778040b0c</td>\n      <td>2020-08-21 10:56:28.045986</td>\n      <td>M1</td>\n      <td>2020-04-02</td>\n      <td>2020-05-02</td>\n      <td>13</td>\n      <td>154</td>\n      <td>126.82</td>\n      <td>0.000876</td>\n      <td>9.991238e-01</td>\n      <td>9.986860e-01</td>\n      <td>9.982483e-01</td>\n      <td>0.997540</td>\n      <td>0.996312</td>\n      <td>0.995086</td>\n      <td>22278.03</td>\n      <td>22151.84</td>\n      <td>2020-04-30</td>\n      <td>22303.69</td>\n    </tr>\n    <tr>\n      <th>2</th>\n      <td>0.4.0+5.gef115d6</td>\n      <td>ef115d608c21f1c771622b53d702c29778040b0c</td>\n      <td>2020-08-21 10:56:28.045986</td>\n      <td>M1</td>\n      <td>2020-05-02</td>\n      <td>2020-06-02</td>\n      <td>13</td>\n      <td>155</td>\n      <td>126.82</td>\n      <td>0.000876</td>\n      <td>9.982483e-01</td>\n      <td>9.978109e-01</td>\n      <td>9.973736e-01</td>\n      <td>0.995086</td>\n      <td>0.993861</td>\n      <td>0.992638</td>\n      <td>22151.84</td>\n      <td>22026.08</td>\n      <td>2020-05-31</td>\n      <td>22251.28</td>\n    </tr>\n    <tr>\n      <th>3</th>\n      <td>0.4.0+5.gef115d6</td>\n      <td>ef115d608c21f1c771622b53d702c29778040b0c</td>\n      <td>2020-08-21 10:56:28.045986</td>\n      <td>M1</td>\n      <td>2020-06-02</td>\n      <td>2020-07-02</td>\n      <td>13</td>\n      <td>156</td>\n      <td>126.82</td>\n      <td>0.000856</td>\n      <td>9.973736e-01</td>\n      <td>9.969468e-01</td>\n      <td>9.965200e-01</td>\n      <td>0.992638</td>\n      <td>0.991416</td>\n      <td>0.990195</td>\n      <td>22026.08</td>\n      <td>21900.73</td>\n      <td>2020-06-30</td>\n      <td>22198.26</td>\n    </tr>\n    <tr>\n      <th>4</th>\n      <td>0.4.0+5.gef115d6</td>\n      <td>ef115d608c21f1c771622b53d702c29778040b0c</td>\n      <td>2020-08-21 10:56:28.045986</td>\n      <td>M1</td>\n      <td>2020-07-02</td>\n      <td>2020-08-02</td>\n      <td>14</td>\n      <td>157</td>\n      <td>129.36</td>\n      <td>0.000856</td>\n      <td>9.965200e-01</td>\n      <td>9.960936e-01</td>\n      <td>9.956672e-01</td>\n      <td>0.990195</td>\n      <td>0.988977</td>\n      <td>0.987759</td>\n      <td>21900.73</td>\n      <td>21773.29</td>\n      <td>2020-07-31</td>\n      <td>22142.65</td>\n    </tr>\n    <tr>\n      <th>...</th>\n      <td>...</td>\n      <td>...</td>\n      <td>...</td>\n      <td>...</td>\n      <td>...</td>\n      <td>...</td>\n      <td>...</td>\n      <td>...</td>\n      <td>...</td>\n      <td>...</td>\n      <td>...</td>\n      <td>...</td>\n      <td>...</td>\n      <td>...</td>\n      <td>...</td>\n      <td>...</td>\n      <td>...</td>\n      <td>...</td>\n      <td>...</td>\n      <td>...</td>\n    </tr>\n    <tr>\n      <th>728</th>\n      <td>0.4.0+5.gef115d6</td>\n      <td>ef115d608c21f1c771622b53d702c29778040b0c</td>\n      <td>2020-08-21 10:56:28.170137</td>\n      <td>M10</td>\n      <td>2080-11-28</td>\n      <td>2080-12-28</td>\n      <td>76</td>\n      <td>910</td>\n      <td>148.59</td>\n      <td>0.039377</td>\n      <td>5.350172e-08</td>\n      <td>5.244836e-08</td>\n      <td>5.139500e-08</td>\n      <td>0.166421</td>\n      <td>0.166216</td>\n      <td>0.166012</td>\n      <td>0.00</td>\n      <td>0.00</td>\n      <td>2080-11-30</td>\n      <td>0.00</td>\n    </tr>\n    <tr>\n      <th>729</th>\n      <td>0.4.0+5.gef115d6</td>\n      <td>ef115d608c21f1c771622b53d702c29778040b0c</td>\n      <td>2020-08-21 10:56:28.170137</td>\n      <td>M10</td>\n      <td>2080-12-28</td>\n      <td>2081-01-28</td>\n      <td>76</td>\n      <td>911</td>\n      <td>148.59</td>\n      <td>0.039377</td>\n      <td>5.139500e-08</td>\n      <td>5.038311e-08</td>\n      <td>4.937123e-08</td>\n      <td>0.166012</td>\n      <td>0.165807</td>\n      <td>0.165603</td>\n      <td>0.00</td>\n      <td>0.00</td>\n      <td>2080-12-31</td>\n      <td>0.00</td>\n    </tr>\n    <tr>\n      <th>730</th>\n      <td>0.4.0+5.gef115d6</td>\n      <td>ef115d608c21f1c771622b53d702c29778040b0c</td>\n      <td>2020-08-21 10:56:28.170137</td>\n      <td>M10</td>\n      <td>2081-01-28</td>\n      <td>2081-02-28</td>\n      <td>76</td>\n      <td>912</td>\n      <td>148.59</td>\n      <td>0.039377</td>\n      <td>4.937123e-08</td>\n      <td>4.839919e-08</td>\n      <td>4.742715e-08</td>\n      <td>0.165603</td>\n      <td>0.165399</td>\n      <td>0.165196</td>\n      <td>0.00</td>\n      <td>0.00</td>\n      <td>2081-01-31</td>\n      <td>0.00</td>\n    </tr>\n    <tr>\n      <th>731</th>\n      <td>0.4.0+5.gef115d6</td>\n      <td>ef115d608c21f1c771622b53d702c29778040b0c</td>\n      <td>2020-08-21 10:56:28.170137</td>\n      <td>M10</td>\n      <td>2081-02-28</td>\n      <td>2081-03-28</td>\n      <td>77</td>\n      <td>913</td>\n      <td>148.59</td>\n      <td>0.039377</td>\n      <td>4.742715e-08</td>\n      <td>4.649338e-08</td>\n      <td>4.555962e-08</td>\n      <td>0.165196</td>\n      <td>0.164992</td>\n      <td>0.164789</td>\n      <td>0.00</td>\n      <td>0.00</td>\n      <td>2081-02-28</td>\n      <td>0.00</td>\n    </tr>\n    <tr>\n      <th>732</th>\n      <td>0.4.0+5.gef115d6</td>\n      <td>ef115d608c21f1c771622b53d702c29778040b0c</td>\n      <td>2020-08-21 10:56:28.170137</td>\n      <td>M10</td>\n      <td>2081-03-28</td>\n      <td>2081-04-28</td>\n      <td>77</td>\n      <td>914</td>\n      <td>110.25</td>\n      <td>0.039377</td>\n      <td>4.555962e-08</td>\n      <td>4.466262e-08</td>\n      <td>4.376563e-08</td>\n      <td>0.164789</td>\n      <td>0.164587</td>\n      <td>0.164384</td>\n      <td>0.00</td>\n      <td>0.00</td>\n      <td>2081-03-31</td>\n      <td>0.00</td>\n    </tr>\n  </tbody>\n</table>\n<p>2682 rows × 20 columns</p>\n</div>"
     },
     "metadata": {},
     "execution_count": 17
    }
   ],
   "source": [
    "dl_projected"
   ]
  },
  {
   "cell_type": "code",
   "execution_count": 18,
   "metadata": {},
   "outputs": [
    {
     "output_type": "execute_result",
     "data": {
      "text/plain": "[]"
     },
     "metadata": {},
     "execution_count": 18
    }
   ],
   "source": [
    "dl_errors"
   ]
  },
  {
   "cell_type": "markdown",
   "metadata": {},
   "source": [
    "### Active Lives Model"
   ]
  },
  {
   "cell_type": "markdown",
   "metadata": {},
   "source": [
    "The same patterns of the `disabled_lives_model` applies to the `active_lives_model` as the below code shows."
   ]
  },
  {
   "cell_type": "markdown",
   "metadata": {},
   "source": [
    "Generate active lives extract -"
   ]
  },
  {
   "cell_type": "code",
   "execution_count": 19,
   "metadata": {},
   "outputs": [
    {
     "output_type": "execute_result",
     "data": {
      "text/plain": "  POLICY_ID   BIRTH_DT GENDER TOBACCO_USAGE COVERAGE_ID POLICY_START_DT  \\\n0        M1 1971-04-05      F             N        base      2010-11-08   \n1        M2 1961-12-16      M             N        base      2012-03-03   \n2        M3 1987-09-06      M             N        base      2012-09-07   \n3        M4 1961-06-20      F             Y        base      1997-01-18   \n4        M5 1989-03-28      F             Y        base      2019-05-17   \n5        M6 1969-05-17      F             N        base      1997-08-10   \n6        M7 1976-01-04      M             N        base      2007-07-12   \n7        M8 1969-03-28      M             N        base      2006-05-02   \n8        M9 1978-02-11      M             Y        base      2016-12-31   \n9       M10 1972-10-17      M             Y        base      2016-08-26   \n\n  PREMIUM_PAY_TO_DT BENEFIT_END_ID POLICY_END_DT  ELIMINATION_PERIOD  \\\n0        2041-04-04  POLICY_END_DT    2041-04-04                 360   \n1        2026-12-15  POLICY_END_DT    2026-12-15                  14   \n2        2052-09-05  POLICY_END_DT    2052-09-05                 180   \n3        2028-06-19  POLICY_END_DT    2028-06-19                  90   \n4        2054-03-27  POLICY_END_DT    2054-03-27                  90   \n5        2034-05-16  POLICY_END_DT    2034-05-16                 180   \n6        2043-01-03  POLICY_END_DT    2043-01-03                 360   \n7        2039-03-27  POLICY_END_DT    2039-03-27                 720   \n8        2048-02-10  POLICY_END_DT    2048-02-10                  90   \n9        2037-10-16  POLICY_END_DT    2037-10-16                 180   \n\n   GROSS_PREMIUM  BENEFIT_AMOUNT IDI_OCCUPATION_CLASS IDI_CONTRACT  \\\n0          150.0           100.0                    M           AS   \n1          150.0           100.0                    4           AS   \n2          150.0           100.0                    M           AS   \n3          150.0           100.0                    1           AS   \n4          150.0           100.0                    2           AO   \n5          150.0           100.0                    1           AS   \n6          150.0           100.0                    2           AO   \n7          150.0           100.0                    1           AO   \n8          150.0           100.0                    2           AO   \n9          150.0           100.0                    2           SO   \n\n  IDI_BENEFIT_PERIOD IDI_MARKET  COLA_PERCENT  \n0               TO70       INDV          0.02  \n1                18M       INDV          0.00  \n2               TO65       INDV          0.03  \n3               TO67       INDV          0.03  \n4               TO65       INDV          0.03  \n5               TO65       INDV          0.03  \n6               TO67       INDV          0.03  \n7               TO70       INDV          0.00  \n8               TO70       INDV          0.03  \n9               LIFE       INDV          0.02  ",
      "text/html": "<div>\n<style scoped>\n    .dataframe tbody tr th:only-of-type {\n        vertical-align: middle;\n    }\n\n    .dataframe tbody tr th {\n        vertical-align: top;\n    }\n\n    .dataframe thead th {\n        text-align: right;\n    }\n</style>\n<table border=\"1\" class=\"dataframe\">\n  <thead>\n    <tr style=\"text-align: right;\">\n      <th></th>\n      <th>POLICY_ID</th>\n      <th>BIRTH_DT</th>\n      <th>GENDER</th>\n      <th>TOBACCO_USAGE</th>\n      <th>COVERAGE_ID</th>\n      <th>POLICY_START_DT</th>\n      <th>PREMIUM_PAY_TO_DT</th>\n      <th>BENEFIT_END_ID</th>\n      <th>POLICY_END_DT</th>\n      <th>ELIMINATION_PERIOD</th>\n      <th>GROSS_PREMIUM</th>\n      <th>BENEFIT_AMOUNT</th>\n      <th>IDI_OCCUPATION_CLASS</th>\n      <th>IDI_CONTRACT</th>\n      <th>IDI_BENEFIT_PERIOD</th>\n      <th>IDI_MARKET</th>\n      <th>COLA_PERCENT</th>\n    </tr>\n  </thead>\n  <tbody>\n    <tr>\n      <th>0</th>\n      <td>M1</td>\n      <td>1971-04-05</td>\n      <td>F</td>\n      <td>N</td>\n      <td>base</td>\n      <td>2010-11-08</td>\n      <td>2041-04-04</td>\n      <td>POLICY_END_DT</td>\n      <td>2041-04-04</td>\n      <td>360</td>\n      <td>150.0</td>\n      <td>100.0</td>\n      <td>M</td>\n      <td>AS</td>\n      <td>TO70</td>\n      <td>INDV</td>\n      <td>0.02</td>\n    </tr>\n    <tr>\n      <th>1</th>\n      <td>M2</td>\n      <td>1961-12-16</td>\n      <td>M</td>\n      <td>N</td>\n      <td>base</td>\n      <td>2012-03-03</td>\n      <td>2026-12-15</td>\n      <td>POLICY_END_DT</td>\n      <td>2026-12-15</td>\n      <td>14</td>\n      <td>150.0</td>\n      <td>100.0</td>\n      <td>4</td>\n      <td>AS</td>\n      <td>18M</td>\n      <td>INDV</td>\n      <td>0.00</td>\n    </tr>\n    <tr>\n      <th>2</th>\n      <td>M3</td>\n      <td>1987-09-06</td>\n      <td>M</td>\n      <td>N</td>\n      <td>base</td>\n      <td>2012-09-07</td>\n      <td>2052-09-05</td>\n      <td>POLICY_END_DT</td>\n      <td>2052-09-05</td>\n      <td>180</td>\n      <td>150.0</td>\n      <td>100.0</td>\n      <td>M</td>\n      <td>AS</td>\n      <td>TO65</td>\n      <td>INDV</td>\n      <td>0.03</td>\n    </tr>\n    <tr>\n      <th>3</th>\n      <td>M4</td>\n      <td>1961-06-20</td>\n      <td>F</td>\n      <td>Y</td>\n      <td>base</td>\n      <td>1997-01-18</td>\n      <td>2028-06-19</td>\n      <td>POLICY_END_DT</td>\n      <td>2028-06-19</td>\n      <td>90</td>\n      <td>150.0</td>\n      <td>100.0</td>\n      <td>1</td>\n      <td>AS</td>\n      <td>TO67</td>\n      <td>INDV</td>\n      <td>0.03</td>\n    </tr>\n    <tr>\n      <th>4</th>\n      <td>M5</td>\n      <td>1989-03-28</td>\n      <td>F</td>\n      <td>Y</td>\n      <td>base</td>\n      <td>2019-05-17</td>\n      <td>2054-03-27</td>\n      <td>POLICY_END_DT</td>\n      <td>2054-03-27</td>\n      <td>90</td>\n      <td>150.0</td>\n      <td>100.0</td>\n      <td>2</td>\n      <td>AO</td>\n      <td>TO65</td>\n      <td>INDV</td>\n      <td>0.03</td>\n    </tr>\n    <tr>\n      <th>5</th>\n      <td>M6</td>\n      <td>1969-05-17</td>\n      <td>F</td>\n      <td>N</td>\n      <td>base</td>\n      <td>1997-08-10</td>\n      <td>2034-05-16</td>\n      <td>POLICY_END_DT</td>\n      <td>2034-05-16</td>\n      <td>180</td>\n      <td>150.0</td>\n      <td>100.0</td>\n      <td>1</td>\n      <td>AS</td>\n      <td>TO65</td>\n      <td>INDV</td>\n      <td>0.03</td>\n    </tr>\n    <tr>\n      <th>6</th>\n      <td>M7</td>\n      <td>1976-01-04</td>\n      <td>M</td>\n      <td>N</td>\n      <td>base</td>\n      <td>2007-07-12</td>\n      <td>2043-01-03</td>\n      <td>POLICY_END_DT</td>\n      <td>2043-01-03</td>\n      <td>360</td>\n      <td>150.0</td>\n      <td>100.0</td>\n      <td>2</td>\n      <td>AO</td>\n      <td>TO67</td>\n      <td>INDV</td>\n      <td>0.03</td>\n    </tr>\n    <tr>\n      <th>7</th>\n      <td>M8</td>\n      <td>1969-03-28</td>\n      <td>M</td>\n      <td>N</td>\n      <td>base</td>\n      <td>2006-05-02</td>\n      <td>2039-03-27</td>\n      <td>POLICY_END_DT</td>\n      <td>2039-03-27</td>\n      <td>720</td>\n      <td>150.0</td>\n      <td>100.0</td>\n      <td>1</td>\n      <td>AO</td>\n      <td>TO70</td>\n      <td>INDV</td>\n      <td>0.00</td>\n    </tr>\n    <tr>\n      <th>8</th>\n      <td>M9</td>\n      <td>1978-02-11</td>\n      <td>M</td>\n      <td>Y</td>\n      <td>base</td>\n      <td>2016-12-31</td>\n      <td>2048-02-10</td>\n      <td>POLICY_END_DT</td>\n      <td>2048-02-10</td>\n      <td>90</td>\n      <td>150.0</td>\n      <td>100.0</td>\n      <td>2</td>\n      <td>AO</td>\n      <td>TO70</td>\n      <td>INDV</td>\n      <td>0.03</td>\n    </tr>\n    <tr>\n      <th>9</th>\n      <td>M10</td>\n      <td>1972-10-17</td>\n      <td>M</td>\n      <td>Y</td>\n      <td>base</td>\n      <td>2016-08-26</td>\n      <td>2037-10-16</td>\n      <td>POLICY_END_DT</td>\n      <td>2037-10-16</td>\n      <td>180</td>\n      <td>150.0</td>\n      <td>100.0</td>\n      <td>2</td>\n      <td>SO</td>\n      <td>LIFE</td>\n      <td>INDV</td>\n      <td>0.02</td>\n    </tr>\n  </tbody>\n</table>\n</div>"
     },
     "metadata": {},
     "execution_count": 19
    }
   ],
   "source": [
    "al_extract = extract_generator_model(\n",
    "    n=10, \n",
    "    extract_type=\"active-lives\", \n",
    "    volume_tbl=volume_tbl, \n",
    "    as_of_dt=pd.Timestamp(\"2020-03-31\"), \n",
    "    seed=1\n",
    ").run()\n",
    "al_extract"
   ]
  },
  {
   "cell_type": "markdown",
   "metadata": {},
   "source": [
    "Instantiate model -"
   ]
  },
  {
   "cell_type": "code",
   "execution_count": 20,
   "metadata": {},
   "outputs": [],
   "source": [
    "from footings_idi_model.population_models import active_lives_model\n",
    "\n",
    "rider_extract = pd.DataFrame(columns=[\"POLICY_ID\", \"COVERAGE_ID\", \"PARAMETER,VALUE\"])\n",
    "\n",
    "al_population_init_model = active_lives_model(\n",
    "    base_extract=al_extract, \n",
    "    rider_extract=rider_extract,\n",
    "    valuation_dt=pd.Timestamp(\"2020-03-31\"),\n",
    "    assumption_set=\"stat\",\n",
    "    net_benefit_method=\"PT1\",\n",
    "    model_type=\"deterministic\",\n",
    ")"
   ]
  },
  {
   "cell_type": "markdown",
   "metadata": {},
   "source": [
    "Run the model -"
   ]
  },
  {
   "cell_type": "code",
   "execution_count": 21,
   "metadata": {
    "tags": []
   },
   "outputs": [],
   "source": [
    "al_time_0, al_projected, al_errors  = al_population_init_model.run()"
   ]
  },
  {
   "cell_type": "markdown",
   "metadata": {},
   "source": [
    "Review output -"
   ]
  },
  {
   "cell_type": "code",
   "execution_count": 22,
   "metadata": {},
   "outputs": [
    {
     "output_type": "execute_result",
     "data": {
      "text/plain": "      MODEL_VERSION                               LAST_COMMIT  \\\n0  0.4.0+5.gef115d6  ef115d608c21f1c771622b53d702c29778040b0c   \n1  0.4.0+5.gef115d6  ef115d608c21f1c771622b53d702c29778040b0c   \n2  0.4.0+5.gef115d6  ef115d608c21f1c771622b53d702c29778040b0c   \n3  0.4.0+5.gef115d6  ef115d608c21f1c771622b53d702c29778040b0c   \n4  0.4.0+5.gef115d6  ef115d608c21f1c771622b53d702c29778040b0c   \n5  0.4.0+5.gef115d6  ef115d608c21f1c771622b53d702c29778040b0c   \n6  0.4.0+5.gef115d6  ef115d608c21f1c771622b53d702c29778040b0c   \n7  0.4.0+5.gef115d6  ef115d608c21f1c771622b53d702c29778040b0c   \n8  0.4.0+5.gef115d6  ef115d608c21f1c771622b53d702c29778040b0c   \n9  0.4.0+5.gef115d6  ef115d608c21f1c771622b53d702c29778040b0c   \n\n               RUN_DATE_TIME POLICY_ID COVERAGE_ID     ALR  \n0 2020-08-21 10:56:29.850522        M1        base   97.00  \n1 2020-08-21 10:56:29.745271       M10        base  317.91  \n2 2020-08-21 10:56:29.697736        M2        base   80.70  \n3 2020-08-21 10:56:29.785691        M3        base  119.10  \n4 2020-08-21 10:56:29.725884        M4        base    0.00  \n5 2020-08-21 10:56:29.740017        M5        base   10.87  \n6 2020-08-21 10:56:29.802917        M6        base   20.17  \n7 2020-08-21 10:56:29.730128        M7        base    0.00  \n8 2020-08-21 10:56:29.821400        M8        base    1.96  \n9 2020-08-21 10:56:29.734468        M9        base    9.86  ",
      "text/html": "<div>\n<style scoped>\n    .dataframe tbody tr th:only-of-type {\n        vertical-align: middle;\n    }\n\n    .dataframe tbody tr th {\n        vertical-align: top;\n    }\n\n    .dataframe thead th {\n        text-align: right;\n    }\n</style>\n<table border=\"1\" class=\"dataframe\">\n  <thead>\n    <tr style=\"text-align: right;\">\n      <th></th>\n      <th>MODEL_VERSION</th>\n      <th>LAST_COMMIT</th>\n      <th>RUN_DATE_TIME</th>\n      <th>POLICY_ID</th>\n      <th>COVERAGE_ID</th>\n      <th>ALR</th>\n    </tr>\n  </thead>\n  <tbody>\n    <tr>\n      <th>0</th>\n      <td>0.4.0+5.gef115d6</td>\n      <td>ef115d608c21f1c771622b53d702c29778040b0c</td>\n      <td>2020-08-21 10:56:29.850522</td>\n      <td>M1</td>\n      <td>base</td>\n      <td>97.00</td>\n    </tr>\n    <tr>\n      <th>1</th>\n      <td>0.4.0+5.gef115d6</td>\n      <td>ef115d608c21f1c771622b53d702c29778040b0c</td>\n      <td>2020-08-21 10:56:29.745271</td>\n      <td>M10</td>\n      <td>base</td>\n      <td>317.91</td>\n    </tr>\n    <tr>\n      <th>2</th>\n      <td>0.4.0+5.gef115d6</td>\n      <td>ef115d608c21f1c771622b53d702c29778040b0c</td>\n      <td>2020-08-21 10:56:29.697736</td>\n      <td>M2</td>\n      <td>base</td>\n      <td>80.70</td>\n    </tr>\n    <tr>\n      <th>3</th>\n      <td>0.4.0+5.gef115d6</td>\n      <td>ef115d608c21f1c771622b53d702c29778040b0c</td>\n      <td>2020-08-21 10:56:29.785691</td>\n      <td>M3</td>\n      <td>base</td>\n      <td>119.10</td>\n    </tr>\n    <tr>\n      <th>4</th>\n      <td>0.4.0+5.gef115d6</td>\n      <td>ef115d608c21f1c771622b53d702c29778040b0c</td>\n      <td>2020-08-21 10:56:29.725884</td>\n      <td>M4</td>\n      <td>base</td>\n      <td>0.00</td>\n    </tr>\n    <tr>\n      <th>5</th>\n      <td>0.4.0+5.gef115d6</td>\n      <td>ef115d608c21f1c771622b53d702c29778040b0c</td>\n      <td>2020-08-21 10:56:29.740017</td>\n      <td>M5</td>\n      <td>base</td>\n      <td>10.87</td>\n    </tr>\n    <tr>\n      <th>6</th>\n      <td>0.4.0+5.gef115d6</td>\n      <td>ef115d608c21f1c771622b53d702c29778040b0c</td>\n      <td>2020-08-21 10:56:29.802917</td>\n      <td>M6</td>\n      <td>base</td>\n      <td>20.17</td>\n    </tr>\n    <tr>\n      <th>7</th>\n      <td>0.4.0+5.gef115d6</td>\n      <td>ef115d608c21f1c771622b53d702c29778040b0c</td>\n      <td>2020-08-21 10:56:29.730128</td>\n      <td>M7</td>\n      <td>base</td>\n      <td>0.00</td>\n    </tr>\n    <tr>\n      <th>8</th>\n      <td>0.4.0+5.gef115d6</td>\n      <td>ef115d608c21f1c771622b53d702c29778040b0c</td>\n      <td>2020-08-21 10:56:29.821400</td>\n      <td>M8</td>\n      <td>base</td>\n      <td>1.96</td>\n    </tr>\n    <tr>\n      <th>9</th>\n      <td>0.4.0+5.gef115d6</td>\n      <td>ef115d608c21f1c771622b53d702c29778040b0c</td>\n      <td>2020-08-21 10:56:29.734468</td>\n      <td>M9</td>\n      <td>base</td>\n      <td>9.86</td>\n    </tr>\n  </tbody>\n</table>\n</div>"
     },
     "metadata": {},
     "execution_count": 22
    }
   ],
   "source": [
    "al_time_0"
   ]
  },
  {
   "cell_type": "code",
   "execution_count": 23,
   "metadata": {},
   "outputs": [
    {
     "output_type": "execute_result",
     "data": {
      "text/plain": "       MODEL_VERSION                               LAST_COMMIT  \\\n9   0.4.0+5.gef115d6  ef115d608c21f1c771622b53d702c29778040b0c   \n10  0.4.0+5.gef115d6  ef115d608c21f1c771622b53d702c29778040b0c   \n11  0.4.0+5.gef115d6  ef115d608c21f1c771622b53d702c29778040b0c   \n12  0.4.0+5.gef115d6  ef115d608c21f1c771622b53d702c29778040b0c   \n13  0.4.0+5.gef115d6  ef115d608c21f1c771622b53d702c29778040b0c   \n..               ...                                       ...   \n27  0.4.0+5.gef115d6  ef115d608c21f1c771622b53d702c29778040b0c   \n28  0.4.0+5.gef115d6  ef115d608c21f1c771622b53d702c29778040b0c   \n29  0.4.0+5.gef115d6  ef115d608c21f1c771622b53d702c29778040b0c   \n30  0.4.0+5.gef115d6  ef115d608c21f1c771622b53d702c29778040b0c   \n31  0.4.0+5.gef115d6  ef115d608c21f1c771622b53d702c29778040b0c   \n\n                RUN_DATE_TIME POLICY_ID COVERAGE_ID    DATE_BD    DATE_ED  \\\n9  2020-08-21 10:56:29.850522        M1        base 2019-11-08 2020-11-08   \n10 2020-08-21 10:56:29.850522        M1        base 2020-11-08 2021-11-08   \n11 2020-08-21 10:56:29.850522        M1        base 2021-11-08 2022-11-08   \n12 2020-08-21 10:56:29.850522        M1        base 2022-11-08 2023-11-08   \n13 2020-08-21 10:56:29.850522        M1        base 2023-11-08 2024-11-08   \n..                        ...       ...         ...        ...        ...   \n27 2020-08-21 10:56:29.734468        M9        base 2043-12-31 2044-12-31   \n28 2020-08-21 10:56:29.734468        M9        base 2044-12-31 2045-12-31   \n29 2020-08-21 10:56:29.734468        M9        base 2045-12-31 2046-12-31   \n30 2020-08-21 10:56:29.734468        M9        base 2046-12-31 2047-12-31   \n31 2020-08-21 10:56:29.734468        M9        base 2047-12-31 2048-12-31   \n\n    DURATION_YEAR  LIVES_BD  LIVES_MD  ...  DISCOUNT_ED  BENEFIT_AMOUNT  \\\n9              10  0.984606  0.983306  ...     0.744094           100.0   \n10             11  0.982006  0.980568  ...     0.722421           100.0   \n11             12  0.979129  0.977543  ...     0.701380           100.0   \n12             13  0.975957  0.974200  ...     0.680951           100.0   \n13             14  0.972443  0.970503  ...     0.661118           100.0   \n..            ...       ...       ...  ...          ...             ...   \n27             28  0.852576  0.845052  ...     0.437077           100.0   \n28             29  0.837528  0.829459  ...     0.424346           100.0   \n29             30  0.821389  0.812781  ...     0.411987           100.0   \n30             31  0.804173  0.795029  ...     0.399987           100.0   \n31             32  0.785886  0.776184  ...     0.388337           100.0   \n\n    INCIDENCE_RATE  BENEFIT_COST    PVFB   PVFNB  ALR_BD  ALR_ED   DATE_ALR  \\\n9         0.003561         52.20  623.46  548.53   97.77   95.81 2020-03-31   \n10        0.003837         54.43  584.70  513.41   95.81   91.58 2021-03-31   \n11        0.004145         56.76  545.57  479.41   91.58   84.95 2022-03-31   \n12        0.004464         58.83  506.07  446.49   84.95   76.11 2023-03-31   \n13        0.004804         60.71  466.46  414.63   76.11   65.22 2024-03-31   \n..             ...           ...     ...     ...     ...     ...        ...   \n27        0.003616         11.13   10.69   27.84    0.00    0.00 2044-03-31   \n28        0.003779          9.03    6.52   21.72    0.00    0.00 2045-03-31   \n29        0.003941          6.45    3.30   15.87    0.00    0.00 2046-03-31   \n30        0.004088          3.42    1.10   10.31    0.00    0.00 2047-03-31   \n31        0.004251          0.00    0.00    5.02    0.00    0.00 2048-03-31   \n\n      ALR  \n9   97.00  \n10  94.15  \n11  88.97  \n12  81.47  \n13  71.83  \n..    ...  \n27   0.00  \n28   0.00  \n29   0.00  \n30   0.00  \n31   0.00  \n\n[213 rows x 23 columns]",
      "text/html": "<div>\n<style scoped>\n    .dataframe tbody tr th:only-of-type {\n        vertical-align: middle;\n    }\n\n    .dataframe tbody tr th {\n        vertical-align: top;\n    }\n\n    .dataframe thead th {\n        text-align: right;\n    }\n</style>\n<table border=\"1\" class=\"dataframe\">\n  <thead>\n    <tr style=\"text-align: right;\">\n      <th></th>\n      <th>MODEL_VERSION</th>\n      <th>LAST_COMMIT</th>\n      <th>RUN_DATE_TIME</th>\n      <th>POLICY_ID</th>\n      <th>COVERAGE_ID</th>\n      <th>DATE_BD</th>\n      <th>DATE_ED</th>\n      <th>DURATION_YEAR</th>\n      <th>LIVES_BD</th>\n      <th>LIVES_MD</th>\n      <th>...</th>\n      <th>DISCOUNT_ED</th>\n      <th>BENEFIT_AMOUNT</th>\n      <th>INCIDENCE_RATE</th>\n      <th>BENEFIT_COST</th>\n      <th>PVFB</th>\n      <th>PVFNB</th>\n      <th>ALR_BD</th>\n      <th>ALR_ED</th>\n      <th>DATE_ALR</th>\n      <th>ALR</th>\n    </tr>\n  </thead>\n  <tbody>\n    <tr>\n      <th>9</th>\n      <td>0.4.0+5.gef115d6</td>\n      <td>ef115d608c21f1c771622b53d702c29778040b0c</td>\n      <td>2020-08-21 10:56:29.850522</td>\n      <td>M1</td>\n      <td>base</td>\n      <td>2019-11-08</td>\n      <td>2020-11-08</td>\n      <td>10</td>\n      <td>0.984606</td>\n      <td>0.983306</td>\n      <td>...</td>\n      <td>0.744094</td>\n      <td>100.0</td>\n      <td>0.003561</td>\n      <td>52.20</td>\n      <td>623.46</td>\n      <td>548.53</td>\n      <td>97.77</td>\n      <td>95.81</td>\n      <td>2020-03-31</td>\n      <td>97.00</td>\n    </tr>\n    <tr>\n      <th>10</th>\n      <td>0.4.0+5.gef115d6</td>\n      <td>ef115d608c21f1c771622b53d702c29778040b0c</td>\n      <td>2020-08-21 10:56:29.850522</td>\n      <td>M1</td>\n      <td>base</td>\n      <td>2020-11-08</td>\n      <td>2021-11-08</td>\n      <td>11</td>\n      <td>0.982006</td>\n      <td>0.980568</td>\n      <td>...</td>\n      <td>0.722421</td>\n      <td>100.0</td>\n      <td>0.003837</td>\n      <td>54.43</td>\n      <td>584.70</td>\n      <td>513.41</td>\n      <td>95.81</td>\n      <td>91.58</td>\n      <td>2021-03-31</td>\n      <td>94.15</td>\n    </tr>\n    <tr>\n      <th>11</th>\n      <td>0.4.0+5.gef115d6</td>\n      <td>ef115d608c21f1c771622b53d702c29778040b0c</td>\n      <td>2020-08-21 10:56:29.850522</td>\n      <td>M1</td>\n      <td>base</td>\n      <td>2021-11-08</td>\n      <td>2022-11-08</td>\n      <td>12</td>\n      <td>0.979129</td>\n      <td>0.977543</td>\n      <td>...</td>\n      <td>0.701380</td>\n      <td>100.0</td>\n      <td>0.004145</td>\n      <td>56.76</td>\n      <td>545.57</td>\n      <td>479.41</td>\n      <td>91.58</td>\n      <td>84.95</td>\n      <td>2022-03-31</td>\n      <td>88.97</td>\n    </tr>\n    <tr>\n      <th>12</th>\n      <td>0.4.0+5.gef115d6</td>\n      <td>ef115d608c21f1c771622b53d702c29778040b0c</td>\n      <td>2020-08-21 10:56:29.850522</td>\n      <td>M1</td>\n      <td>base</td>\n      <td>2022-11-08</td>\n      <td>2023-11-08</td>\n      <td>13</td>\n      <td>0.975957</td>\n      <td>0.974200</td>\n      <td>...</td>\n      <td>0.680951</td>\n      <td>100.0</td>\n      <td>0.004464</td>\n      <td>58.83</td>\n      <td>506.07</td>\n      <td>446.49</td>\n      <td>84.95</td>\n      <td>76.11</td>\n      <td>2023-03-31</td>\n      <td>81.47</td>\n    </tr>\n    <tr>\n      <th>13</th>\n      <td>0.4.0+5.gef115d6</td>\n      <td>ef115d608c21f1c771622b53d702c29778040b0c</td>\n      <td>2020-08-21 10:56:29.850522</td>\n      <td>M1</td>\n      <td>base</td>\n      <td>2023-11-08</td>\n      <td>2024-11-08</td>\n      <td>14</td>\n      <td>0.972443</td>\n      <td>0.970503</td>\n      <td>...</td>\n      <td>0.661118</td>\n      <td>100.0</td>\n      <td>0.004804</td>\n      <td>60.71</td>\n      <td>466.46</td>\n      <td>414.63</td>\n      <td>76.11</td>\n      <td>65.22</td>\n      <td>2024-03-31</td>\n      <td>71.83</td>\n    </tr>\n    <tr>\n      <th>...</th>\n      <td>...</td>\n      <td>...</td>\n      <td>...</td>\n      <td>...</td>\n      <td>...</td>\n      <td>...</td>\n      <td>...</td>\n      <td>...</td>\n      <td>...</td>\n      <td>...</td>\n      <td>...</td>\n      <td>...</td>\n      <td>...</td>\n      <td>...</td>\n      <td>...</td>\n      <td>...</td>\n      <td>...</td>\n      <td>...</td>\n      <td>...</td>\n      <td>...</td>\n      <td>...</td>\n    </tr>\n    <tr>\n      <th>27</th>\n      <td>0.4.0+5.gef115d6</td>\n      <td>ef115d608c21f1c771622b53d702c29778040b0c</td>\n      <td>2020-08-21 10:56:29.734468</td>\n      <td>M9</td>\n      <td>base</td>\n      <td>2043-12-31</td>\n      <td>2044-12-31</td>\n      <td>28</td>\n      <td>0.852576</td>\n      <td>0.845052</td>\n      <td>...</td>\n      <td>0.437077</td>\n      <td>100.0</td>\n      <td>0.003616</td>\n      <td>11.13</td>\n      <td>10.69</td>\n      <td>27.84</td>\n      <td>0.00</td>\n      <td>0.00</td>\n      <td>2044-03-31</td>\n      <td>0.00</td>\n    </tr>\n    <tr>\n      <th>28</th>\n      <td>0.4.0+5.gef115d6</td>\n      <td>ef115d608c21f1c771622b53d702c29778040b0c</td>\n      <td>2020-08-21 10:56:29.734468</td>\n      <td>M9</td>\n      <td>base</td>\n      <td>2044-12-31</td>\n      <td>2045-12-31</td>\n      <td>29</td>\n      <td>0.837528</td>\n      <td>0.829459</td>\n      <td>...</td>\n      <td>0.424346</td>\n      <td>100.0</td>\n      <td>0.003779</td>\n      <td>9.03</td>\n      <td>6.52</td>\n      <td>21.72</td>\n      <td>0.00</td>\n      <td>0.00</td>\n      <td>2045-03-31</td>\n      <td>0.00</td>\n    </tr>\n    <tr>\n      <th>29</th>\n      <td>0.4.0+5.gef115d6</td>\n      <td>ef115d608c21f1c771622b53d702c29778040b0c</td>\n      <td>2020-08-21 10:56:29.734468</td>\n      <td>M9</td>\n      <td>base</td>\n      <td>2045-12-31</td>\n      <td>2046-12-31</td>\n      <td>30</td>\n      <td>0.821389</td>\n      <td>0.812781</td>\n      <td>...</td>\n      <td>0.411987</td>\n      <td>100.0</td>\n      <td>0.003941</td>\n      <td>6.45</td>\n      <td>3.30</td>\n      <td>15.87</td>\n      <td>0.00</td>\n      <td>0.00</td>\n      <td>2046-03-31</td>\n      <td>0.00</td>\n    </tr>\n    <tr>\n      <th>30</th>\n      <td>0.4.0+5.gef115d6</td>\n      <td>ef115d608c21f1c771622b53d702c29778040b0c</td>\n      <td>2020-08-21 10:56:29.734468</td>\n      <td>M9</td>\n      <td>base</td>\n      <td>2046-12-31</td>\n      <td>2047-12-31</td>\n      <td>31</td>\n      <td>0.804173</td>\n      <td>0.795029</td>\n      <td>...</td>\n      <td>0.399987</td>\n      <td>100.0</td>\n      <td>0.004088</td>\n      <td>3.42</td>\n      <td>1.10</td>\n      <td>10.31</td>\n      <td>0.00</td>\n      <td>0.00</td>\n      <td>2047-03-31</td>\n      <td>0.00</td>\n    </tr>\n    <tr>\n      <th>31</th>\n      <td>0.4.0+5.gef115d6</td>\n      <td>ef115d608c21f1c771622b53d702c29778040b0c</td>\n      <td>2020-08-21 10:56:29.734468</td>\n      <td>M9</td>\n      <td>base</td>\n      <td>2047-12-31</td>\n      <td>2048-12-31</td>\n      <td>32</td>\n      <td>0.785886</td>\n      <td>0.776184</td>\n      <td>...</td>\n      <td>0.388337</td>\n      <td>100.0</td>\n      <td>0.004251</td>\n      <td>0.00</td>\n      <td>0.00</td>\n      <td>5.02</td>\n      <td>0.00</td>\n      <td>0.00</td>\n      <td>2048-03-31</td>\n      <td>0.00</td>\n    </tr>\n  </tbody>\n</table>\n<p>213 rows × 23 columns</p>\n</div>"
     },
     "metadata": {},
     "execution_count": 23
    }
   ],
   "source": [
    "al_projected"
   ]
  },
  {
   "cell_type": "code",
   "execution_count": 24,
   "metadata": {},
   "outputs": [
    {
     "output_type": "execute_result",
     "data": {
      "text/plain": "[]"
     },
     "metadata": {},
     "execution_count": 24
    }
   ],
   "source": [
    "al_errors"
   ]
  }
 ],
 "metadata": {
  "language_info": {
   "codemirror_mode": {
    "name": "ipython",
    "version": 3
   },
   "file_extension": ".py",
   "mimetype": "text/x-python",
   "name": "python",
   "nbconvert_exporter": "python",
   "pygments_lexer": "ipython3",
   "version": "3.7.7-final"
  },
  "orig_nbformat": 2,
  "kernelspec": {
   "name": "python3",
   "display_name": "Python 3"
  }
 },
 "nbformat": 4,
 "nbformat_minor": 2
}