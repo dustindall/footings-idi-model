{
 "cells": [
  {
   "cell_type": "markdown",
   "metadata": {},
   "source": [
    "# User Guide"
   ]
  },
  {
   "cell_type": "markdown",
   "metadata": {},
   "source": [
    "The IDI model utilizes the model per policy design pattern where we build models to model one policy a time. We expand this pattern to model population of policies by applying the policy model to each policy in a population (i.e., think a for loop for each policy)."
   ]
  },
  {
   "cell_type": "markdown",
   "metadata": {},
   "source": [
    "## Policy Models"
   ]
  },
  {
   "cell_type": "markdown",
   "metadata": {},
   "source": [
    "The following policy models were built where the links direct you to the detailed documentation for each model.\n",
    "\n",
    "- [DLRDeterministicPolicyModel](models.rst#footings_idi_model.policy_models.DLRDeterministicPolicyModel)\n",
    "- [DLRStochasticPolicyModel](models.rst#footings_idi_model.policy_models.DLRStochasticPolicyModel)\n",
    "- [ALRDeterministicPolicyModel](models.rst#footings_idi_model.policy_models.ALRDeterministicPolicyModel)\n",
    "\n",
    "In addition, development is planned to make an active lives stochastic model."
   ]
  },
  {
   "cell_type": "markdown",
   "metadata": {},
   "source": [
    "### DLR Deterministic"
   ]
  },
  {
   "cell_type": "markdown",
   "metadata": {},
   "source": [
    "Below is an example of using the `dlr_determinstic_model` where we import the model and instantiate it with the required policy information."
   ]
  },
  {
   "cell_type": "code",
   "execution_count": 1,
   "metadata": {},
   "outputs": [],
   "source": [
    "import pandas as pd\n",
    "from footings_idi_model.policy_models import DLRDeterministicPolicyModel\n",
    "\n",
    "dlr_policy_init_model = DLRDeterministicPolicyModel(\n",
    "    policy_id=\"policy-1\",\n",
    "    claim_id=\"claim-1\",\n",
    "    gender=\"M\",\n",
    "    birth_dt=pd.Timestamp(\"1970-03-26\"),\n",
    "    incurred_dt=pd.Timestamp(\"2015-06-02\"),\n",
    "    termination_dt=pd.Timestamp(\"2035-03-26\"),\n",
    "    elimination_period=90,\n",
    "    idi_contract=\"AS\",\n",
    "    idi_benefit_period=\"TO65\",\n",
    "    idi_diagnosis_grp=\"LOW\",\n",
    "    idi_occupation_class=\"M\",\n",
    "    cola_percent=0.0,\n",
    "    benefit_amount=200.0,\n",
    "    valuation_dt=pd.Timestamp(\"2020-03-31\"), \n",
    "    assumption_set=\"stat\",\n",
    ")"
   ]
  },
  {
   "cell_type": "markdown",
   "metadata": {},
   "source": [
    "To run the model we have to call the `run()` method attached to the instantiated object."
   ]
  },
  {
   "cell_type": "code",
   "execution_count": 2,
   "metadata": {},
   "outputs": [],
   "source": [
    "dlr_policy_output = dlr_policy_init_model.run()"
   ]
  },
  {
   "cell_type": "markdown",
   "metadata": {},
   "source": [
    "Once the model is ran, a pandas DataFrame is returned with the following information."
   ]
  },
  {
   "cell_type": "code",
   "execution_count": 3,
   "metadata": {
    "tags": []
   },
   "outputs": [
    {
     "output_type": "stream",
     "name": "stdout",
     "text": "<class 'pandas.core.frame.DataFrame'>\nInt64Index: 181 entries, 0 to 180\nData columns (total 33 columns):\n #   Column                Non-Null Count  Dtype         \n---  ------                --------------  -----         \n 0   DATE_BD               181 non-null    datetime64[ns]\n 1   DATE_ED               181 non-null    datetime64[ns]\n 2   DURATION_YEAR         181 non-null    Int64         \n 3   DURATION_MONTH        181 non-null    Int64         \n 4   WT_BD                 181 non-null    float64       \n 5   WT_ED                 181 non-null    float64       \n 6   GENDER                181 non-null    category      \n 7   IDI_OCCUPATION_CLASS  181 non-null    category      \n 8   AGE_ATTAINED          181 non-null    int32         \n 9   IDI_CONTRACT          181 non-null    category      \n 10  AGE_INCURRED          181 non-null    int64         \n 11  RUN_DATE_TIME         181 non-null    datetime64[ns]\n 12  ELIMINATION_PERIOD    181 non-null    int64         \n 13  CLAIM_ID              181 non-null    category      \n 14  LAST_COMMIT           181 non-null    category      \n 15  IDI_DIAGNOSIS_GRP     181 non-null    category      \n 16  COLA_FLAG             181 non-null    category      \n 17  MODEL_VERSION         181 non-null    category      \n 18  IDI_BENEFIT_PERIOD    181 non-null    category      \n 19  POLICY_ID             181 non-null    category      \n 20  PERIOD                63 non-null     category      \n 21  CTR                   181 non-null    float64       \n 22  BENEFIT_AMOUNT        181 non-null    float64       \n 23  LIVES_ED              181 non-null    float64       \n 24  LIVES_BD              181 non-null    float64       \n 25  LIVES_MD              181 non-null    float64       \n 26  DISCOUNT_MD           181 non-null    float64       \n 27  DISCOUNT_ED           181 non-null    float64       \n 28  DISCOUNT_BD           181 non-null    float64       \n 29  PVFB_BD               181 non-null    float64       \n 30  PVFB_ED               181 non-null    float64       \n 31  DLR                   181 non-null    float64       \n 32  DATE_DLR              181 non-null    datetime64[ns]\ndtypes: Int64(2), category(11), datetime64[ns](4), float64(13), int32(1), int64(2)\nmemory usage: 35.7 KB\n"
    }
   ],
   "source": [
    "dlr_policy_output.info()"
   ]
  },
  {
   "cell_type": "markdown",
   "metadata": {},
   "source": [
    "Below is the output."
   ]
  },
  {
   "cell_type": "code",
   "execution_count": 4,
   "metadata": {},
   "outputs": [
    {
     "output_type": "execute_result",
     "data": {
      "text/plain": "       DATE_BD    DATE_ED  DURATION_YEAR  DURATION_MONTH     WT_BD     WT_ED  \\\n0   2020-03-02 2020-04-02              5              58  0.064516  0.935484   \n1   2020-04-02 2020-05-02              5              59  0.064516  0.935484   \n2   2020-05-02 2020-06-02              5              60  0.064516  0.935484   \n3   2020-06-02 2020-07-02              6              61  0.064516  0.935484   \n4   2020-07-02 2020-08-02              6              62  0.064516  0.935484   \n..         ...        ...            ...             ...       ...       ...   \n176 2034-11-02 2034-12-02             20             234  0.064516  0.935484   \n177 2034-12-02 2035-01-02             20             235  0.064516  0.935484   \n178 2035-01-02 2035-02-02             20             236  0.064516  0.935484   \n179 2035-02-02 2035-03-02             20             237  0.064516  0.935484   \n180 2035-03-02 2035-04-02             20             238  0.064516  0.935484   \n\n    GENDER IDI_OCCUPATION_CLASS  AGE_ATTAINED IDI_CONTRACT  ...  LIVES_ED  \\\n0        M                    M            50           AS  ...  0.997381   \n1        M                    M            50           AS  ...  0.994812   \n2        M                    M            50           AS  ...  0.992293   \n3        M                    M            50           AS  ...  0.989617   \n4        M                    M            50           AS  ...  0.986949   \n..     ...                  ...           ...          ...  ...       ...   \n176      M                    M            65           AS  ...  0.754650   \n177      M                    M            65           AS  ...  0.753523   \n178      M                    M            65           AS  ...  0.752397   \n179      M                    M            65           AS  ...  0.751274   \n180      M                    M            65           AS  ...  0.750151   \n\n     LIVES_BD  LIVES_MD DISCOUNT_MD DISCOUNT_ED DISCOUNT_BD   PVFB_BD  \\\n0    1.000000  0.998690    0.998769    0.997540    1.000000  25156.01   \n1    0.997381  0.996096    0.996312    0.995086    0.997540  24956.52   \n2    0.994812  0.993552    0.993861    0.992638    0.995086  24758.03   \n3    0.992293  0.990955    0.991416    0.990195    0.992638  24560.54   \n4    0.989617  0.988283    0.988977    0.987759    0.990195  24364.05   \n..        ...       ...         ...         ...         ...       ...   \n176  0.755779  0.755215    0.647420    0.646623    0.648217    463.36   \n177  0.754650  0.754087    0.645827    0.645032    0.646623    365.57   \n178  0.753523  0.752960    0.644238    0.643445    0.645032    268.17   \n179  0.752397  0.751836    0.642653    0.641862    0.643445    171.15   \n180  0.751274  0.750713    0.641072    0.640283    0.641862     74.52   \n\n      PVFB_ED       DLR   DATE_DLR  \n0    24956.52  25088.47 2020-03-31  \n1    24758.03  25014.85 2020-04-30  \n2    24560.54  24939.77 2020-05-31  \n3    24364.05  24868.08 2020-06-30  \n4    24168.57  24796.29 2020-07-31  \n..        ...       ...        ...  \n176    365.57    761.89 2034-11-30  \n177    268.17    564.52 2034-12-31  \n178    171.15    366.36 2035-01-31  \n179     74.52    167.42 2035-02-28  \n180      0.00     10.01 2035-03-31  \n\n[181 rows x 33 columns]",
      "text/html": "<div>\n<style scoped>\n    .dataframe tbody tr th:only-of-type {\n        vertical-align: middle;\n    }\n\n    .dataframe tbody tr th {\n        vertical-align: top;\n    }\n\n    .dataframe thead th {\n        text-align: right;\n    }\n</style>\n<table border=\"1\" class=\"dataframe\">\n  <thead>\n    <tr style=\"text-align: right;\">\n      <th></th>\n      <th>DATE_BD</th>\n      <th>DATE_ED</th>\n      <th>DURATION_YEAR</th>\n      <th>DURATION_MONTH</th>\n      <th>WT_BD</th>\n      <th>WT_ED</th>\n      <th>GENDER</th>\n      <th>IDI_OCCUPATION_CLASS</th>\n      <th>AGE_ATTAINED</th>\n      <th>IDI_CONTRACT</th>\n      <th>...</th>\n      <th>LIVES_ED</th>\n      <th>LIVES_BD</th>\n      <th>LIVES_MD</th>\n      <th>DISCOUNT_MD</th>\n      <th>DISCOUNT_ED</th>\n      <th>DISCOUNT_BD</th>\n      <th>PVFB_BD</th>\n      <th>PVFB_ED</th>\n      <th>DLR</th>\n      <th>DATE_DLR</th>\n    </tr>\n  </thead>\n  <tbody>\n    <tr>\n      <th>0</th>\n      <td>2020-03-02</td>\n      <td>2020-04-02</td>\n      <td>5</td>\n      <td>58</td>\n      <td>0.064516</td>\n      <td>0.935484</td>\n      <td>M</td>\n      <td>M</td>\n      <td>50</td>\n      <td>AS</td>\n      <td>...</td>\n      <td>0.997381</td>\n      <td>1.000000</td>\n      <td>0.998690</td>\n      <td>0.998769</td>\n      <td>0.997540</td>\n      <td>1.000000</td>\n      <td>25156.01</td>\n      <td>24956.52</td>\n      <td>25088.47</td>\n      <td>2020-03-31</td>\n    </tr>\n    <tr>\n      <th>1</th>\n      <td>2020-04-02</td>\n      <td>2020-05-02</td>\n      <td>5</td>\n      <td>59</td>\n      <td>0.064516</td>\n      <td>0.935484</td>\n      <td>M</td>\n      <td>M</td>\n      <td>50</td>\n      <td>AS</td>\n      <td>...</td>\n      <td>0.994812</td>\n      <td>0.997381</td>\n      <td>0.996096</td>\n      <td>0.996312</td>\n      <td>0.995086</td>\n      <td>0.997540</td>\n      <td>24956.52</td>\n      <td>24758.03</td>\n      <td>25014.85</td>\n      <td>2020-04-30</td>\n    </tr>\n    <tr>\n      <th>2</th>\n      <td>2020-05-02</td>\n      <td>2020-06-02</td>\n      <td>5</td>\n      <td>60</td>\n      <td>0.064516</td>\n      <td>0.935484</td>\n      <td>M</td>\n      <td>M</td>\n      <td>50</td>\n      <td>AS</td>\n      <td>...</td>\n      <td>0.992293</td>\n      <td>0.994812</td>\n      <td>0.993552</td>\n      <td>0.993861</td>\n      <td>0.992638</td>\n      <td>0.995086</td>\n      <td>24758.03</td>\n      <td>24560.54</td>\n      <td>24939.77</td>\n      <td>2020-05-31</td>\n    </tr>\n    <tr>\n      <th>3</th>\n      <td>2020-06-02</td>\n      <td>2020-07-02</td>\n      <td>6</td>\n      <td>61</td>\n      <td>0.064516</td>\n      <td>0.935484</td>\n      <td>M</td>\n      <td>M</td>\n      <td>50</td>\n      <td>AS</td>\n      <td>...</td>\n      <td>0.989617</td>\n      <td>0.992293</td>\n      <td>0.990955</td>\n      <td>0.991416</td>\n      <td>0.990195</td>\n      <td>0.992638</td>\n      <td>24560.54</td>\n      <td>24364.05</td>\n      <td>24868.08</td>\n      <td>2020-06-30</td>\n    </tr>\n    <tr>\n      <th>4</th>\n      <td>2020-07-02</td>\n      <td>2020-08-02</td>\n      <td>6</td>\n      <td>62</td>\n      <td>0.064516</td>\n      <td>0.935484</td>\n      <td>M</td>\n      <td>M</td>\n      <td>50</td>\n      <td>AS</td>\n      <td>...</td>\n      <td>0.986949</td>\n      <td>0.989617</td>\n      <td>0.988283</td>\n      <td>0.988977</td>\n      <td>0.987759</td>\n      <td>0.990195</td>\n      <td>24364.05</td>\n      <td>24168.57</td>\n      <td>24796.29</td>\n      <td>2020-07-31</td>\n    </tr>\n    <tr>\n      <th>...</th>\n      <td>...</td>\n      <td>...</td>\n      <td>...</td>\n      <td>...</td>\n      <td>...</td>\n      <td>...</td>\n      <td>...</td>\n      <td>...</td>\n      <td>...</td>\n      <td>...</td>\n      <td>...</td>\n      <td>...</td>\n      <td>...</td>\n      <td>...</td>\n      <td>...</td>\n      <td>...</td>\n      <td>...</td>\n      <td>...</td>\n      <td>...</td>\n      <td>...</td>\n      <td>...</td>\n    </tr>\n    <tr>\n      <th>176</th>\n      <td>2034-11-02</td>\n      <td>2034-12-02</td>\n      <td>20</td>\n      <td>234</td>\n      <td>0.064516</td>\n      <td>0.935484</td>\n      <td>M</td>\n      <td>M</td>\n      <td>65</td>\n      <td>AS</td>\n      <td>...</td>\n      <td>0.754650</td>\n      <td>0.755779</td>\n      <td>0.755215</td>\n      <td>0.647420</td>\n      <td>0.646623</td>\n      <td>0.648217</td>\n      <td>463.36</td>\n      <td>365.57</td>\n      <td>761.89</td>\n      <td>2034-11-30</td>\n    </tr>\n    <tr>\n      <th>177</th>\n      <td>2034-12-02</td>\n      <td>2035-01-02</td>\n      <td>20</td>\n      <td>235</td>\n      <td>0.064516</td>\n      <td>0.935484</td>\n      <td>M</td>\n      <td>M</td>\n      <td>65</td>\n      <td>AS</td>\n      <td>...</td>\n      <td>0.753523</td>\n      <td>0.754650</td>\n      <td>0.754087</td>\n      <td>0.645827</td>\n      <td>0.645032</td>\n      <td>0.646623</td>\n      <td>365.57</td>\n      <td>268.17</td>\n      <td>564.52</td>\n      <td>2034-12-31</td>\n    </tr>\n    <tr>\n      <th>178</th>\n      <td>2035-01-02</td>\n      <td>2035-02-02</td>\n      <td>20</td>\n      <td>236</td>\n      <td>0.064516</td>\n      <td>0.935484</td>\n      <td>M</td>\n      <td>M</td>\n      <td>65</td>\n      <td>AS</td>\n      <td>...</td>\n      <td>0.752397</td>\n      <td>0.753523</td>\n      <td>0.752960</td>\n      <td>0.644238</td>\n      <td>0.643445</td>\n      <td>0.645032</td>\n      <td>268.17</td>\n      <td>171.15</td>\n      <td>366.36</td>\n      <td>2035-01-31</td>\n    </tr>\n    <tr>\n      <th>179</th>\n      <td>2035-02-02</td>\n      <td>2035-03-02</td>\n      <td>20</td>\n      <td>237</td>\n      <td>0.064516</td>\n      <td>0.935484</td>\n      <td>M</td>\n      <td>M</td>\n      <td>65</td>\n      <td>AS</td>\n      <td>...</td>\n      <td>0.751274</td>\n      <td>0.752397</td>\n      <td>0.751836</td>\n      <td>0.642653</td>\n      <td>0.641862</td>\n      <td>0.643445</td>\n      <td>171.15</td>\n      <td>74.52</td>\n      <td>167.42</td>\n      <td>2035-02-28</td>\n    </tr>\n    <tr>\n      <th>180</th>\n      <td>2035-03-02</td>\n      <td>2035-04-02</td>\n      <td>20</td>\n      <td>238</td>\n      <td>0.064516</td>\n      <td>0.935484</td>\n      <td>M</td>\n      <td>M</td>\n      <td>65</td>\n      <td>AS</td>\n      <td>...</td>\n      <td>0.750151</td>\n      <td>0.751274</td>\n      <td>0.750713</td>\n      <td>0.641072</td>\n      <td>0.640283</td>\n      <td>0.641862</td>\n      <td>74.52</td>\n      <td>0.00</td>\n      <td>10.01</td>\n      <td>2035-03-31</td>\n    </tr>\n  </tbody>\n</table>\n<p>181 rows × 33 columns</p>\n</div>"
     },
     "metadata": {},
     "execution_count": 4
    }
   ],
   "source": [
    "dlr_policy_output"
   ]
  },
  {
   "cell_type": "markdown",
   "metadata": {},
   "source": [
    "### DLR Stochastic"
   ]
  },
  {
   "cell_type": "markdown",
   "metadata": {},
   "source": [
    "Similar to the the DLR deterministic model, we load the `dlr_stochastic_model` with the same parameters and two additional parameters - `n_simulations` and `seed`. Note ouput is returned as we call run right after we instantiate the model."
   ]
  },
  {
   "cell_type": "code",
   "execution_count": 5,
   "metadata": {
    "tags": []
   },
   "outputs": [],
   "source": [
    "import pandas as pd\n",
    "from footings_idi_model.policy_models import DLRStochasticPolicyModel\n",
    "\n",
    "dlr_stochastic_output = DLRStochasticPolicyModel(\n",
    "    policy_id=\"policy-1\",\n",
    "    claim_id=\"claim-1\",\n",
    "    gender=\"M\",\n",
    "    birth_dt=pd.Timestamp(\"1970-03-26\"),\n",
    "    incurred_dt=pd.Timestamp(\"2015-06-02\"),\n",
    "    termination_dt=pd.Timestamp(\"2035-03-26\"),\n",
    "    elimination_period=90,\n",
    "    idi_contract=\"AS\",\n",
    "    idi_benefit_period=\"TO65\",\n",
    "    idi_diagnosis_grp=\"LOW\",\n",
    "    idi_occupation_class=\"M\",\n",
    "    cola_percent=0.0,\n",
    "    benefit_amount=200.0,\n",
    "    valuation_dt=pd.Timestamp(\"2020-03-31\"), \n",
    "    assumption_set=\"stat\",\n",
    "    n_simulations=10,\n",
    "    seed=1,\n",
    ").run()"
   ]
  },
  {
   "cell_type": "markdown",
   "metadata": {},
   "source": [
    "The output for the stochastic model is similar to the deterministic model and is shown below. The big addition is a `RUN` column which identifies the different runs and ranges from 1 to `n_simulations`."
   ]
  },
  {
   "cell_type": "code",
   "execution_count": 6,
   "metadata": {
    "tags": []
   },
   "outputs": [
    {
     "output_type": "stream",
     "name": "stdout",
     "text": "<class 'pandas.core.frame.DataFrame'>\nInt64Index: 1810 entries, 0 to 180\nData columns (total 35 columns):\n #   Column                Non-Null Count  Dtype         \n---  ------                --------------  -----         \n 0   RUN                   1810 non-null   int64         \n 1   DATE_BD               1810 non-null   datetime64[ns]\n 2   DATE_ED               1810 non-null   datetime64[ns]\n 3   DURATION_YEAR         1810 non-null   Int64         \n 4   DURATION_MONTH        1810 non-null   Int64         \n 5   WT_BD                 1810 non-null   float64       \n 6   WT_ED                 1810 non-null   float64       \n 7   GENDER                1810 non-null   category      \n 8   IDI_OCCUPATION_CLASS  1810 non-null   category      \n 9   AGE_ATTAINED          1810 non-null   int32         \n 10  IDI_CONTRACT          1810 non-null   category      \n 11  AGE_INCURRED          1810 non-null   int64         \n 12  RUN_DATE_TIME         1810 non-null   datetime64[ns]\n 13  ELIMINATION_PERIOD    1810 non-null   int64         \n 14  CLAIM_ID              1810 non-null   category      \n 15  LAST_COMMIT           1810 non-null   category      \n 16  IDI_DIAGNOSIS_GRP     1810 non-null   category      \n 17  COLA_FLAG             1810 non-null   category      \n 18  MODEL_VERSION         1810 non-null   category      \n 19  IDI_BENEFIT_PERIOD    1810 non-null   category      \n 20  POLICY_ID             1810 non-null   category      \n 21  PERIOD                630 non-null    category      \n 22  CTR                   1810 non-null   float64       \n 23  BENEFIT_AMOUNT        1810 non-null   float64       \n 24  DISCOUNT_MD           1810 non-null   float64       \n 25  DISCOUNT_ED           1810 non-null   float64       \n 26  DISCOUNT_BD           1810 non-null   float64       \n 27  DISCOUNT_VD_ADJ       1810 non-null   float64       \n 28  DATE_DLR              1810 non-null   datetime64[ns]\n 29  RANDOM                1810 non-null   float64       \n 30  TEMP_INFORCE          1810 non-null   float64       \n 31  INFORCE               1810 non-null   float64       \n 32  BENEFITS_PAID         1810 non-null   float64       \n 33  PVFB_VD               1810 non-null   float64       \n 34  DLR                   1810 non-null   float64       \ndtypes: Int64(2), category(11), datetime64[ns](4), float64(14), int32(1), int64(3)\nmemory usage: 371.0 KB\n"
    }
   ],
   "source": [
    "dlr_stochastic_output.info()"
   ]
  },
  {
   "cell_type": "markdown",
   "metadata": {},
   "source": [
    "A view of the output is below."
   ]
  },
  {
   "cell_type": "code",
   "execution_count": 7,
   "metadata": {},
   "outputs": [
    {
     "output_type": "execute_result",
     "data": {
      "text/plain": "     RUN    DATE_BD    DATE_ED  DURATION_YEAR  DURATION_MONTH     WT_BD  \\\n0      1 2020-03-02 2020-04-02              5              58  0.064516   \n1      1 2020-04-02 2020-05-02              5              59  0.064516   \n2      1 2020-05-02 2020-06-02              5              60  0.064516   \n3      1 2020-06-02 2020-07-02              6              61  0.064516   \n4      1 2020-07-02 2020-08-02              6              62  0.064516   \n..   ...        ...        ...            ...             ...       ...   \n176   10 2034-11-02 2034-12-02             20             234  0.064516   \n177   10 2034-12-02 2035-01-02             20             235  0.064516   \n178   10 2035-01-02 2035-02-02             20             236  0.064516   \n179   10 2035-02-02 2035-03-02             20             237  0.064516   \n180   10 2035-03-02 2035-04-02             20             238  0.064516   \n\n        WT_ED GENDER IDI_OCCUPATION_CLASS  AGE_ATTAINED  ... DISCOUNT_ED  \\\n0    0.935484      M                    M            50  ...    0.997540   \n1    0.935484      M                    M            50  ...    0.995086   \n2    0.935484      M                    M            50  ...    0.992638   \n3    0.935484      M                    M            50  ...    0.990195   \n4    0.935484      M                    M            50  ...    0.987759   \n..        ...    ...                  ...           ...  ...         ...   \n176  0.935484      M                    M            65  ...    0.646623   \n177  0.935484      M                    M            65  ...    0.645032   \n178  0.935484      M                    M            65  ...    0.643445   \n179  0.935484      M                    M            65  ...    0.641862   \n180  0.935484      M                    M            65  ...    0.640283   \n\n     DISCOUNT_BD DISCOUNT_VD_ADJ   DATE_DLR    RANDOM TEMP_INFORCE INFORCE  \\\n0       1.000000        1.002307 2020-03-31  0.417022          1.0     1.0   \n1       0.997540        1.004779 2020-04-30  0.720324          1.0     1.0   \n2       0.995086        1.007257 2020-05-31  0.000114          0.0     0.5   \n3       0.992638        1.009741 2020-06-30  0.302333          0.0     0.0   \n4       0.990195        1.012231 2020-07-31  0.146756          0.0     0.0   \n..           ...             ...        ...       ...          ...     ...   \n176     0.648217        1.546251 2034-11-30  0.900340          1.0     1.0   \n177     0.646623        1.550064 2034-12-31  0.011590          1.0     1.0   \n178     0.645032        1.553887 2035-01-31  0.379764          1.0     1.0   \n179     0.643445        1.557720 2035-02-28  0.235522          1.0     1.0   \n180     0.641862        1.561561 2035-03-31  0.295935          1.0     1.0   \n\n    BENEFITS_PAID     PVFB_VD     DLR  \n0          200.00  311.537097  312.26  \n1          200.00  112.245484  112.78  \n2          100.00    6.412258    6.46  \n3            0.00    0.000000    0.00  \n4            0.00    0.000000    0.00  \n..            ...         ...     ...  \n176        200.00  494.163548  764.10  \n177        200.00  364.973548  565.73  \n178        200.00  236.102903  366.88  \n179        200.00  107.552258  167.54  \n180        154.84    6.403871   10.00  \n\n[1810 rows x 35 columns]",
      "text/html": "<div>\n<style scoped>\n    .dataframe tbody tr th:only-of-type {\n        vertical-align: middle;\n    }\n\n    .dataframe tbody tr th {\n        vertical-align: top;\n    }\n\n    .dataframe thead th {\n        text-align: right;\n    }\n</style>\n<table border=\"1\" class=\"dataframe\">\n  <thead>\n    <tr style=\"text-align: right;\">\n      <th></th>\n      <th>RUN</th>\n      <th>DATE_BD</th>\n      <th>DATE_ED</th>\n      <th>DURATION_YEAR</th>\n      <th>DURATION_MONTH</th>\n      <th>WT_BD</th>\n      <th>WT_ED</th>\n      <th>GENDER</th>\n      <th>IDI_OCCUPATION_CLASS</th>\n      <th>AGE_ATTAINED</th>\n      <th>...</th>\n      <th>DISCOUNT_ED</th>\n      <th>DISCOUNT_BD</th>\n      <th>DISCOUNT_VD_ADJ</th>\n      <th>DATE_DLR</th>\n      <th>RANDOM</th>\n      <th>TEMP_INFORCE</th>\n      <th>INFORCE</th>\n      <th>BENEFITS_PAID</th>\n      <th>PVFB_VD</th>\n      <th>DLR</th>\n    </tr>\n  </thead>\n  <tbody>\n    <tr>\n      <th>0</th>\n      <td>1</td>\n      <td>2020-03-02</td>\n      <td>2020-04-02</td>\n      <td>5</td>\n      <td>58</td>\n      <td>0.064516</td>\n      <td>0.935484</td>\n      <td>M</td>\n      <td>M</td>\n      <td>50</td>\n      <td>...</td>\n      <td>0.997540</td>\n      <td>1.000000</td>\n      <td>1.002307</td>\n      <td>2020-03-31</td>\n      <td>0.417022</td>\n      <td>1.0</td>\n      <td>1.0</td>\n      <td>200.00</td>\n      <td>311.537097</td>\n      <td>312.26</td>\n    </tr>\n    <tr>\n      <th>1</th>\n      <td>1</td>\n      <td>2020-04-02</td>\n      <td>2020-05-02</td>\n      <td>5</td>\n      <td>59</td>\n      <td>0.064516</td>\n      <td>0.935484</td>\n      <td>M</td>\n      <td>M</td>\n      <td>50</td>\n      <td>...</td>\n      <td>0.995086</td>\n      <td>0.997540</td>\n      <td>1.004779</td>\n      <td>2020-04-30</td>\n      <td>0.720324</td>\n      <td>1.0</td>\n      <td>1.0</td>\n      <td>200.00</td>\n      <td>112.245484</td>\n      <td>112.78</td>\n    </tr>\n    <tr>\n      <th>2</th>\n      <td>1</td>\n      <td>2020-05-02</td>\n      <td>2020-06-02</td>\n      <td>5</td>\n      <td>60</td>\n      <td>0.064516</td>\n      <td>0.935484</td>\n      <td>M</td>\n      <td>M</td>\n      <td>50</td>\n      <td>...</td>\n      <td>0.992638</td>\n      <td>0.995086</td>\n      <td>1.007257</td>\n      <td>2020-05-31</td>\n      <td>0.000114</td>\n      <td>0.0</td>\n      <td>0.5</td>\n      <td>100.00</td>\n      <td>6.412258</td>\n      <td>6.46</td>\n    </tr>\n    <tr>\n      <th>3</th>\n      <td>1</td>\n      <td>2020-06-02</td>\n      <td>2020-07-02</td>\n      <td>6</td>\n      <td>61</td>\n      <td>0.064516</td>\n      <td>0.935484</td>\n      <td>M</td>\n      <td>M</td>\n      <td>50</td>\n      <td>...</td>\n      <td>0.990195</td>\n      <td>0.992638</td>\n      <td>1.009741</td>\n      <td>2020-06-30</td>\n      <td>0.302333</td>\n      <td>0.0</td>\n      <td>0.0</td>\n      <td>0.00</td>\n      <td>0.000000</td>\n      <td>0.00</td>\n    </tr>\n    <tr>\n      <th>4</th>\n      <td>1</td>\n      <td>2020-07-02</td>\n      <td>2020-08-02</td>\n      <td>6</td>\n      <td>62</td>\n      <td>0.064516</td>\n      <td>0.935484</td>\n      <td>M</td>\n      <td>M</td>\n      <td>50</td>\n      <td>...</td>\n      <td>0.987759</td>\n      <td>0.990195</td>\n      <td>1.012231</td>\n      <td>2020-07-31</td>\n      <td>0.146756</td>\n      <td>0.0</td>\n      <td>0.0</td>\n      <td>0.00</td>\n      <td>0.000000</td>\n      <td>0.00</td>\n    </tr>\n    <tr>\n      <th>...</th>\n      <td>...</td>\n      <td>...</td>\n      <td>...</td>\n      <td>...</td>\n      <td>...</td>\n      <td>...</td>\n      <td>...</td>\n      <td>...</td>\n      <td>...</td>\n      <td>...</td>\n      <td>...</td>\n      <td>...</td>\n      <td>...</td>\n      <td>...</td>\n      <td>...</td>\n      <td>...</td>\n      <td>...</td>\n      <td>...</td>\n      <td>...</td>\n      <td>...</td>\n      <td>...</td>\n    </tr>\n    <tr>\n      <th>176</th>\n      <td>10</td>\n      <td>2034-11-02</td>\n      <td>2034-12-02</td>\n      <td>20</td>\n      <td>234</td>\n      <td>0.064516</td>\n      <td>0.935484</td>\n      <td>M</td>\n      <td>M</td>\n      <td>65</td>\n      <td>...</td>\n      <td>0.646623</td>\n      <td>0.648217</td>\n      <td>1.546251</td>\n      <td>2034-11-30</td>\n      <td>0.900340</td>\n      <td>1.0</td>\n      <td>1.0</td>\n      <td>200.00</td>\n      <td>494.163548</td>\n      <td>764.10</td>\n    </tr>\n    <tr>\n      <th>177</th>\n      <td>10</td>\n      <td>2034-12-02</td>\n      <td>2035-01-02</td>\n      <td>20</td>\n      <td>235</td>\n      <td>0.064516</td>\n      <td>0.935484</td>\n      <td>M</td>\n      <td>M</td>\n      <td>65</td>\n      <td>...</td>\n      <td>0.645032</td>\n      <td>0.646623</td>\n      <td>1.550064</td>\n      <td>2034-12-31</td>\n      <td>0.011590</td>\n      <td>1.0</td>\n      <td>1.0</td>\n      <td>200.00</td>\n      <td>364.973548</td>\n      <td>565.73</td>\n    </tr>\n    <tr>\n      <th>178</th>\n      <td>10</td>\n      <td>2035-01-02</td>\n      <td>2035-02-02</td>\n      <td>20</td>\n      <td>236</td>\n      <td>0.064516</td>\n      <td>0.935484</td>\n      <td>M</td>\n      <td>M</td>\n      <td>65</td>\n      <td>...</td>\n      <td>0.643445</td>\n      <td>0.645032</td>\n      <td>1.553887</td>\n      <td>2035-01-31</td>\n      <td>0.379764</td>\n      <td>1.0</td>\n      <td>1.0</td>\n      <td>200.00</td>\n      <td>236.102903</td>\n      <td>366.88</td>\n    </tr>\n    <tr>\n      <th>179</th>\n      <td>10</td>\n      <td>2035-02-02</td>\n      <td>2035-03-02</td>\n      <td>20</td>\n      <td>237</td>\n      <td>0.064516</td>\n      <td>0.935484</td>\n      <td>M</td>\n      <td>M</td>\n      <td>65</td>\n      <td>...</td>\n      <td>0.641862</td>\n      <td>0.643445</td>\n      <td>1.557720</td>\n      <td>2035-02-28</td>\n      <td>0.235522</td>\n      <td>1.0</td>\n      <td>1.0</td>\n      <td>200.00</td>\n      <td>107.552258</td>\n      <td>167.54</td>\n    </tr>\n    <tr>\n      <th>180</th>\n      <td>10</td>\n      <td>2035-03-02</td>\n      <td>2035-04-02</td>\n      <td>20</td>\n      <td>238</td>\n      <td>0.064516</td>\n      <td>0.935484</td>\n      <td>M</td>\n      <td>M</td>\n      <td>65</td>\n      <td>...</td>\n      <td>0.640283</td>\n      <td>0.641862</td>\n      <td>1.561561</td>\n      <td>2035-03-31</td>\n      <td>0.295935</td>\n      <td>1.0</td>\n      <td>1.0</td>\n      <td>154.84</td>\n      <td>6.403871</td>\n      <td>10.00</td>\n    </tr>\n  </tbody>\n</table>\n<p>1810 rows × 35 columns</p>\n</div>"
     },
     "metadata": {},
     "execution_count": 7
    }
   ],
   "source": [
    "dlr_stochastic_output"
   ]
  },
  {
   "cell_type": "markdown",
   "metadata": {},
   "source": [
    "### ALR Deterministic"
   ]
  },
  {
   "cell_type": "markdown",
   "metadata": {},
   "source": [
    "The flow is the same for using the `alr_deterministic_model`."
   ]
  },
  {
   "cell_type": "code",
   "execution_count": 8,
   "metadata": {
    "tags": []
   },
   "outputs": [
    {
     "output_type": "error",
     "ename": "ModelRunError",
     "evalue": "At step [_model_disabled_lives], an error occured.\n  Error Type = NameError\n  Error Message = name 'DLRDeterminsticPolicyModel' is not defined\n  Error Trace = ['  File \"/home/dustintindall/anaconda3/lib/python3.7/site-packages/footings/core/model.py\", line 41, in _run_step\\n    return getattr(self, step)()\\n', '  File \"/home/dustintindall/anaconda3/lib/python3.7/site-packages/footings/core/model.py\", line 135, in wrapper\\n    return function(*args, **kwargs)\\n', '  File \"/home/dustintindall/anaconda3/lib/python3.7/site-packages/footings_idi_model/policy_models/alr_deterministic.py\", line 199, in _model_disabled_lives\\n    cola_percent=self.cola_percent,\\n', '  File \"/home/dustintindall/anaconda3/lib/python3.7/site-packages/footings_idi_model/functions/active_lives.py\", line 331, in model_disabled_lives\\n    kwargs = set(getfullargspec(DLRDeterminsticPolicyModel).kwonlyargs)\\n']\n",
     "traceback": [
      "\u001b[0;31m---------------------------------------------------------------------------\u001b[0m",
      "\u001b[0;31mNameError\u001b[0m                                 Traceback (most recent call last)",
      "\u001b[0;32m~/anaconda3/lib/python3.7/site-packages/footings/core/model.py\u001b[0m in \u001b[0;36m_run_step\u001b[0;34m(step)\u001b[0m\n\u001b[1;32m     40\u001b[0m         \u001b[0;32mtry\u001b[0m\u001b[0;34m:\u001b[0m\u001b[0;34m\u001b[0m\u001b[0;34m\u001b[0m\u001b[0m\n\u001b[0;32m---> 41\u001b[0;31m             \u001b[0;32mreturn\u001b[0m \u001b[0mgetattr\u001b[0m\u001b[0;34m(\u001b[0m\u001b[0mself\u001b[0m\u001b[0;34m,\u001b[0m \u001b[0mstep\u001b[0m\u001b[0;34m)\u001b[0m\u001b[0;34m(\u001b[0m\u001b[0;34m)\u001b[0m\u001b[0;34m\u001b[0m\u001b[0;34m\u001b[0m\u001b[0m\n\u001b[0m\u001b[1;32m     42\u001b[0m         \u001b[0;32mexcept\u001b[0m\u001b[0;34m:\u001b[0m\u001b[0;34m\u001b[0m\u001b[0;34m\u001b[0m\u001b[0m\n",
      "\u001b[0;32m~/anaconda3/lib/python3.7/site-packages/footings/core/model.py\u001b[0m in \u001b[0;36mwrapper\u001b[0;34m(*args, **kwargs)\u001b[0m\n\u001b[1;32m    134\u001b[0m     \u001b[0;32mdef\u001b[0m \u001b[0mwrapper\u001b[0m\u001b[0;34m(\u001b[0m\u001b[0;34m*\u001b[0m\u001b[0margs\u001b[0m\u001b[0;34m,\u001b[0m \u001b[0;34m**\u001b[0m\u001b[0mkwargs\u001b[0m\u001b[0;34m)\u001b[0m\u001b[0;34m:\u001b[0m\u001b[0;34m\u001b[0m\u001b[0;34m\u001b[0m\u001b[0m\n\u001b[0;32m--> 135\u001b[0;31m         \u001b[0;32mreturn\u001b[0m \u001b[0mfunction\u001b[0m\u001b[0;34m(\u001b[0m\u001b[0;34m*\u001b[0m\u001b[0margs\u001b[0m\u001b[0;34m,\u001b[0m \u001b[0;34m**\u001b[0m\u001b[0mkwargs\u001b[0m\u001b[0;34m)\u001b[0m\u001b[0;34m\u001b[0m\u001b[0;34m\u001b[0m\u001b[0m\n\u001b[0m\u001b[1;32m    136\u001b[0m \u001b[0;34m\u001b[0m\u001b[0m\n",
      "\u001b[0;32m~/anaconda3/lib/python3.7/site-packages/footings_idi_model/policy_models/alr_deterministic.py\u001b[0m in \u001b[0;36m_model_disabled_lives\u001b[0;34m(self)\u001b[0m\n\u001b[1;32m    198\u001b[0m             \u001b[0midi_benefit_period\u001b[0m\u001b[0;34m=\u001b[0m\u001b[0mself\u001b[0m\u001b[0;34m.\u001b[0m\u001b[0midi_benefit_period\u001b[0m\u001b[0;34m,\u001b[0m\u001b[0;34m\u001b[0m\u001b[0;34m\u001b[0m\u001b[0m\n\u001b[0;32m--> 199\u001b[0;31m             \u001b[0mcola_percent\u001b[0m\u001b[0;34m=\u001b[0m\u001b[0mself\u001b[0m\u001b[0;34m.\u001b[0m\u001b[0mcola_percent\u001b[0m\u001b[0;34m,\u001b[0m\u001b[0;34m\u001b[0m\u001b[0;34m\u001b[0m\u001b[0m\n\u001b[0m\u001b[1;32m    200\u001b[0m         )\n",
      "\u001b[0;32m~/anaconda3/lib/python3.7/site-packages/footings_idi_model/functions/active_lives.py\u001b[0m in \u001b[0;36mmodel_disabled_lives\u001b[0;34m(frame, assumption_set, birth_dt, elimination_period, idi_benefit_period, cola_percent)\u001b[0m\n\u001b[1;32m    330\u001b[0m     \u001b[0mframe_use\u001b[0m\u001b[0;34m[\u001b[0m\u001b[0;34m\"incurred_dt\"\u001b[0m\u001b[0;34m]\u001b[0m \u001b[0;34m=\u001b[0m \u001b[0mframe_use\u001b[0m\u001b[0;34m[\u001b[0m\u001b[0;34m\"date_bd\"\u001b[0m\u001b[0;34m]\u001b[0m\u001b[0;34m\u001b[0m\u001b[0;34m\u001b[0m\u001b[0m\n\u001b[0;32m--> 331\u001b[0;31m     \u001b[0mkwargs\u001b[0m \u001b[0;34m=\u001b[0m \u001b[0mset\u001b[0m\u001b[0;34m(\u001b[0m\u001b[0mgetfullargspec\u001b[0m\u001b[0;34m(\u001b[0m\u001b[0mDLRDeterminsticPolicyModel\u001b[0m\u001b[0;34m)\u001b[0m\u001b[0;34m.\u001b[0m\u001b[0mkwonlyargs\u001b[0m\u001b[0;34m)\u001b[0m\u001b[0;34m\u001b[0m\u001b[0;34m\u001b[0m\u001b[0m\n\u001b[0m\u001b[1;32m    332\u001b[0m     \u001b[0mcols\u001b[0m \u001b[0;34m=\u001b[0m \u001b[0mset\u001b[0m\u001b[0;34m(\u001b[0m\u001b[0mframe_use\u001b[0m\u001b[0;34m.\u001b[0m\u001b[0mcolumns\u001b[0m\u001b[0;34m)\u001b[0m\u001b[0;34m\u001b[0m\u001b[0;34m\u001b[0m\u001b[0m\n",
      "\u001b[0;31mNameError\u001b[0m: name 'DLRDeterminsticPolicyModel' is not defined",
      "\nDuring handling of the above exception, another exception occurred:\n",
      "\u001b[0;31mModelRunError\u001b[0m                             Traceback (most recent call last)",
      "\u001b[0;32m<ipython-input-8-04761512e366>\u001b[0m in \u001b[0;36m<module>\u001b[0;34m\u001b[0m\n\u001b[1;32m     21\u001b[0m     \u001b[0mvaluation_dt\u001b[0m\u001b[0;34m=\u001b[0m\u001b[0mpd\u001b[0m\u001b[0;34m.\u001b[0m\u001b[0mTimestamp\u001b[0m\u001b[0;34m(\u001b[0m\u001b[0;34m\"2020-03-31\"\u001b[0m\u001b[0;34m)\u001b[0m\u001b[0;34m,\u001b[0m\u001b[0;34m\u001b[0m\u001b[0;34m\u001b[0m\u001b[0m\n\u001b[1;32m     22\u001b[0m     \u001b[0massumption_set\u001b[0m\u001b[0;34m=\u001b[0m\u001b[0;34m\"stat\"\u001b[0m\u001b[0;34m,\u001b[0m\u001b[0;34m\u001b[0m\u001b[0;34m\u001b[0m\u001b[0m\n\u001b[0;32m---> 23\u001b[0;31m     \u001b[0mnet_benefit_method\u001b[0m\u001b[0;34m=\u001b[0m\u001b[0;34m\"NLP\"\u001b[0m\u001b[0;34m,\u001b[0m\u001b[0;34m\u001b[0m\u001b[0;34m\u001b[0m\u001b[0m\n\u001b[0m\u001b[1;32m     24\u001b[0m ).run()\n",
      "\u001b[0;32m~/anaconda3/lib/python3.7/site-packages/footings/core/model.py\u001b[0m in \u001b[0;36mrun\u001b[0;34m(self, to_step)\u001b[0m\n\u001b[1;32m    101\u001b[0m         \u001b[0mThe\u001b[0m \u001b[0mmodel\u001b[0m \u001b[0mran\u001b[0m \u001b[0mup\u001b[0m \u001b[0mto\u001b[0m \u001b[0mthe\u001b[0m \u001b[0mstep\u001b[0m\u001b[0;34m.\u001b[0m\u001b[0;34m\u001b[0m\u001b[0;34m\u001b[0m\u001b[0m\n\u001b[1;32m    102\u001b[0m         \"\"\"\n\u001b[0;32m--> 103\u001b[0;31m         \u001b[0;32mreturn\u001b[0m \u001b[0m_run\u001b[0m\u001b[0;34m(\u001b[0m\u001b[0mself\u001b[0m\u001b[0;34m,\u001b[0m \u001b[0mto_step\u001b[0m\u001b[0;34m=\u001b[0m\u001b[0mto_step\u001b[0m\u001b[0;34m)\u001b[0m\u001b[0;34m\u001b[0m\u001b[0;34m\u001b[0m\u001b[0m\n\u001b[0m\u001b[1;32m    104\u001b[0m \u001b[0;34m\u001b[0m\u001b[0m\n\u001b[1;32m    105\u001b[0m \u001b[0;34m\u001b[0m\u001b[0m\n",
      "\u001b[0;32m~/anaconda3/lib/python3.7/site-packages/footings/core/model.py\u001b[0m in \u001b[0;36m_run\u001b[0;34m(self, to_step)\u001b[0m\n\u001b[1;32m     49\u001b[0m \u001b[0;34m\u001b[0m\u001b[0m\n\u001b[1;32m     50\u001b[0m     \u001b[0;32mfor\u001b[0m \u001b[0mstep\u001b[0m \u001b[0;32min\u001b[0m \u001b[0msteps\u001b[0m\u001b[0;34m:\u001b[0m\u001b[0;34m\u001b[0m\u001b[0;34m\u001b[0m\u001b[0m\n\u001b[0;32m---> 51\u001b[0;31m         \u001b[0m_run_step\u001b[0m\u001b[0;34m(\u001b[0m\u001b[0mstep\u001b[0m\u001b[0;34m)\u001b[0m\u001b[0;34m\u001b[0m\u001b[0;34m\u001b[0m\u001b[0m\n\u001b[0m\u001b[1;32m     52\u001b[0m \u001b[0;34m\u001b[0m\u001b[0m\n\u001b[1;32m     53\u001b[0m     \u001b[0;32mif\u001b[0m \u001b[0mhasattr\u001b[0m\u001b[0;34m(\u001b[0m\u001b[0mself\u001b[0m\u001b[0;34m,\u001b[0m \u001b[0;34m\"_return\"\u001b[0m\u001b[0;34m)\u001b[0m \u001b[0;32mis\u001b[0m \u001b[0;32mFalse\u001b[0m\u001b[0;34m:\u001b[0m\u001b[0;34m\u001b[0m\u001b[0;34m\u001b[0m\u001b[0m\n",
      "\u001b[0;32m~/anaconda3/lib/python3.7/site-packages/footings/core/model.py\u001b[0m in \u001b[0;36m_run_step\u001b[0;34m(step)\u001b[0m\n\u001b[1;32m     46\u001b[0m             \u001b[0mmsg\u001b[0m \u001b[0;34m+=\u001b[0m \u001b[0;34mf\"  Error Message = {exc_value}\\n\"\u001b[0m\u001b[0;34m\u001b[0m\u001b[0;34m\u001b[0m\u001b[0m\n\u001b[1;32m     47\u001b[0m             \u001b[0mmsg\u001b[0m \u001b[0;34m+=\u001b[0m \u001b[0;34mf\"  Error Trace = {format_list(extract_tb(exc_trace))}\\n\"\u001b[0m\u001b[0;34m\u001b[0m\u001b[0;34m\u001b[0m\u001b[0m\n\u001b[0;32m---> 48\u001b[0;31m             \u001b[0;32mraise\u001b[0m \u001b[0mModelRunError\u001b[0m\u001b[0;34m(\u001b[0m\u001b[0mmsg\u001b[0m\u001b[0;34m)\u001b[0m\u001b[0;34m\u001b[0m\u001b[0;34m\u001b[0m\u001b[0m\n\u001b[0m\u001b[1;32m     49\u001b[0m \u001b[0;34m\u001b[0m\u001b[0m\n\u001b[1;32m     50\u001b[0m     \u001b[0;32mfor\u001b[0m \u001b[0mstep\u001b[0m \u001b[0;32min\u001b[0m \u001b[0msteps\u001b[0m\u001b[0;34m:\u001b[0m\u001b[0;34m\u001b[0m\u001b[0;34m\u001b[0m\u001b[0m\n",
      "\u001b[0;31mModelRunError\u001b[0m: At step [_model_disabled_lives], an error occured.\n  Error Type = NameError\n  Error Message = name 'DLRDeterminsticPolicyModel' is not defined\n  Error Trace = ['  File \"/home/dustintindall/anaconda3/lib/python3.7/site-packages/footings/core/model.py\", line 41, in _run_step\\n    return getattr(self, step)()\\n', '  File \"/home/dustintindall/anaconda3/lib/python3.7/site-packages/footings/core/model.py\", line 135, in wrapper\\n    return function(*args, **kwargs)\\n', '  File \"/home/dustintindall/anaconda3/lib/python3.7/site-packages/footings_idi_model/policy_models/alr_deterministic.py\", line 199, in _model_disabled_lives\\n    cola_percent=self.cola_percent,\\n', '  File \"/home/dustintindall/anaconda3/lib/python3.7/site-packages/footings_idi_model/functions/active_lives.py\", line 331, in model_disabled_lives\\n    kwargs = set(getfullargspec(DLRDeterminsticPolicyModel).kwonlyargs)\\n']\n"
     ]
    }
   ],
   "source": [
    "import pandas as pd\n",
    "from footings_idi_model.policy_models import ALRDeterministicPolicyModel\n",
    "\n",
    "alr_policy_output =  ALRDeterministicPolicyModel(\n",
    "    policy_id=\"policy-1\",\n",
    "    coverage_id=\"base\",\n",
    "    gender=\"M\",\n",
    "    tobacco_usage=\"N\",\n",
    "    birth_dt=pd.Timestamp(\"1970-03-26\"),\n",
    "    policy_start_dt=pd.Timestamp(\"2015-06-02\"),\n",
    "    policy_end_dt=pd.Timestamp(\"2035-03-26\"),\n",
    "    elimination_period=90,\n",
    "    idi_market=\"INDV\",\n",
    "    idi_contract=\"AS\",\n",
    "    idi_benefit_period=\"TO65\",\n",
    "    idi_occupation_class=\"M\",\n",
    "    cola_percent=0.0,\n",
    "    benefit_end_id=\"\",\n",
    "    gross_premium=150.0,\n",
    "    benefit_amount=100.0,\n",
    "    valuation_dt=pd.Timestamp(\"2020-03-31\"), \n",
    "    assumption_set=\"stat\", \n",
    "    net_benefit_method=\"NLP\",\n",
    ").run()"
   ]
  },
  {
   "cell_type": "markdown",
   "metadata": {},
   "source": [
    "For the `alr_deterministic_model` the respective output information is show below."
   ]
  },
  {
   "cell_type": "code",
   "execution_count": 9,
   "metadata": {
    "tags": []
   },
   "outputs": [
    {
     "output_type": "error",
     "ename": "NameError",
     "evalue": "name 'alr_policy_output' is not defined",
     "traceback": [
      "\u001b[0;31m---------------------------------------------------------------------------\u001b[0m",
      "\u001b[0;31mNameError\u001b[0m                                 Traceback (most recent call last)",
      "\u001b[0;32m<ipython-input-9-c5b16f7d6f37>\u001b[0m in \u001b[0;36m<module>\u001b[0;34m\u001b[0m\n\u001b[0;32m----> 1\u001b[0;31m \u001b[0malr_policy_output\u001b[0m\u001b[0;34m.\u001b[0m\u001b[0minfo\u001b[0m\u001b[0;34m(\u001b[0m\u001b[0;34m)\u001b[0m\u001b[0;34m\u001b[0m\u001b[0;34m\u001b[0m\u001b[0m\n\u001b[0m",
      "\u001b[0;31mNameError\u001b[0m: name 'alr_policy_output' is not defined"
     ]
    }
   ],
   "source": [
    "alr_policy_output.info()"
   ]
  },
  {
   "cell_type": "markdown",
   "metadata": {},
   "source": [
    "With the output shown below."
   ]
  },
  {
   "cell_type": "code",
   "execution_count": 10,
   "metadata": {},
   "outputs": [
    {
     "output_type": "error",
     "ename": "NameError",
     "evalue": "name 'alr_policy_output' is not defined",
     "traceback": [
      "\u001b[0;31m---------------------------------------------------------------------------\u001b[0m",
      "\u001b[0;31mNameError\u001b[0m                                 Traceback (most recent call last)",
      "\u001b[0;32m<ipython-input-10-dce12f0eda9f>\u001b[0m in \u001b[0;36m<module>\u001b[0;34m\u001b[0m\n\u001b[0;32m----> 1\u001b[0;31m \u001b[0malr_policy_output\u001b[0m\u001b[0;34m\u001b[0m\u001b[0;34m\u001b[0m\u001b[0m\n\u001b[0m",
      "\u001b[0;31mNameError\u001b[0m: name 'alr_policy_output' is not defined"
     ]
    }
   ],
   "source": [
    "alr_policy_output"
   ]
  },
  {
   "cell_type": "markdown",
   "metadata": {},
   "source": [
    "## Population Models"
   ]
  },
  {
   "cell_type": "markdown",
   "metadata": {},
   "source": [
    "As noted earlier, populations models can by created by applying the policy models on each policy using a standard for loop. Within in the insurnace industry, a population of policies is typically represented as a `policy inforce extract` or `extract` for short which is tabular data structure were policies (and riders) are records in the table and the columns are policy attributes.\n",
    "\n",
    "Two population models were built where the links direct you to the detailed documentation for each model -\n",
    "\n",
    "- [disabled_lives_model]models.rst#footings_idi_model.population_models.disabled_lives_model\n",
    "- [active_lives_model]models.rst#footings_idi_model.population_models.active_lives_model\n"
   ]
  },
  {
   "cell_type": "markdown",
   "metadata": {},
   "source": [
    "In order to quickly create extracts, the `footings_idi_model` comes with a model to generate extracts using fake policies. It is exposed under `footings_idi_model.utils.extract_generator_model`. It's detailed information can be viewed under the [api section]models.rst#footings_idi_model.utils.extract_generator_model. \n",
    "\n",
    "To use the extract_generator_model, we need to define -\n",
    "\n",
    "- the `n` number of policies we want to create, \n",
    "- the extract type `disabled-lives` or `active-lives`,\n",
    "- the volume table which is a distribution of policies by attributes,\n",
    "- an as of date, and\n",
    "- a seed if wanting to have reproducibility when generating the extract."
   ]
  },
  {
   "cell_type": "code",
   "execution_count": 11,
   "metadata": {},
   "outputs": [],
   "source": [
    "# from footings_idi_model.utils import extract_generator_model\n",
    "# volume_tbl = pd.read_csv(\"volume-tbl.csv\")\n",
    "# dl_extract = extract_generator_model(\n",
    "#     n=10, \n",
    "#     extract_type=\"disabled-lives\", \n",
    "#     volume_tbl=volume_tbl, \n",
    "#     as_of_dt=pd.Timestamp(\"2020-03-31\"), \n",
    "#     seed=1\n",
    "# ).run()"
   ]
  },
  {
   "cell_type": "markdown",
   "metadata": {},
   "source": [
    "### Disabled Lives Model"
   ]
  },
  {
   "cell_type": "markdown",
   "metadata": {},
   "source": [
    "The disabled lives model requires the an extract with the following columns. Note the similarities to the arguments required of the `dlr_deterministic_model`."
   ]
  },
  {
   "cell_type": "code",
   "execution_count": 12,
   "metadata": {
    "tags": []
   },
   "outputs": [],
   "source": [
    "# dl_extract.info()"
   ]
  },
  {
   "cell_type": "markdown",
   "metadata": {},
   "source": [
    "A view of the extract is below."
   ]
  },
  {
   "cell_type": "code",
   "execution_count": 13,
   "metadata": {},
   "outputs": [],
   "source": [
    "# dl_extract"
   ]
  },
  {
   "cell_type": "markdown",
   "metadata": {},
   "source": [
    "Modeling disabled lives has fewer inputs as most of the policy inputs come in on the extract."
   ]
  },
  {
   "cell_type": "code",
   "execution_count": 14,
   "metadata": {},
   "outputs": [],
   "source": [
    "# from footings_idi_model.population_models import disabled_lives_model\n",
    "# \n",
    "# dl_population_init_model = disabled_lives_model(\n",
    "#     extract=dl_extract, \n",
    "#     valuation_dt=pd.Timestamp(\"2020-03-31\"),\n",
    "#     assumption_set=\"stat\",\n",
    "#     model_type=\"deterministic\",\n",
    "# )"
   ]
  },
  {
   "cell_type": "markdown",
   "metadata": {},
   "source": [
    "Similar to the DLR deterministic policy model, to run the model requires applying the `run()` method of the object. The model returns three tables -\n",
    "\n",
    "- a time 0 view (i.e., dl_time_0),\n",
    "- a projection view (i.e., dl_projected), and\n",
    "- any policy's that error out when running the model (i.e., dl_errors). "
   ]
  },
  {
   "cell_type": "code",
   "execution_count": 15,
   "metadata": {},
   "outputs": [],
   "source": [
    "# dl_time_0, dl_projected, dl_errors  = dl_population_init_model.run()"
   ]
  },
  {
   "cell_type": "markdown",
   "metadata": {},
   "source": [
    "A view of each of the tables are shown below."
   ]
  },
  {
   "cell_type": "code",
   "execution_count": 16,
   "metadata": {},
   "outputs": [],
   "source": [
    "# dl_time_0"
   ]
  },
  {
   "cell_type": "code",
   "execution_count": 17,
   "metadata": {},
   "outputs": [],
   "source": [
    "# dl_projected"
   ]
  },
  {
   "cell_type": "code",
   "execution_count": 18,
   "metadata": {},
   "outputs": [],
   "source": [
    "# dl_errors"
   ]
  },
  {
   "cell_type": "markdown",
   "metadata": {},
   "source": [
    "### Active Lives Model"
   ]
  },
  {
   "cell_type": "markdown",
   "metadata": {},
   "source": [
    "The same patterns of the `disabled_lives_model` applies to the `active_lives_model` as the below code shows."
   ]
  },
  {
   "cell_type": "markdown",
   "metadata": {},
   "source": [
    "Generate active lives extract -"
   ]
  },
  {
   "cell_type": "code",
   "execution_count": 19,
   "metadata": {},
   "outputs": [],
   "source": [
    "# al_extract = extract_generator_model(\n",
    "#     n=10, \n",
    "#     extract_type=\"active-lives\", \n",
    "#     volume_tbl=volume_tbl, \n",
    "#     as_of_dt=pd.Timestamp(\"2020-03-31\"), \n",
    "#     seed=1\n",
    "# ).run()\n",
    "# al_extract"
   ]
  },
  {
   "cell_type": "markdown",
   "metadata": {},
   "source": [
    "Instantiate model -"
   ]
  },
  {
   "cell_type": "code",
   "execution_count": 20,
   "metadata": {},
   "outputs": [],
   "source": [
    "# from footings_idi_model.population_models import active_lives_model\n",
    "# \n",
    "# rider_extract = pd.DataFrame(columns=[\"POLICY_ID\", \"COVERAGE_ID\", \"PARAMETER,VALUE\"])\n",
    "# \n",
    "# al_population_init_model = active_lives_model(\n",
    "#     base_extract=al_extract, \n",
    "#     rider_extract=rider_extract,\n",
    "#     valuation_dt=pd.Timestamp(\"2020-03-31\"),\n",
    "#     assumption_set=\"stat\",\n",
    "#     net_benefit_method=\"PT1\",\n",
    "#     model_type=\"deterministic\",\n",
    "# )"
   ]
  },
  {
   "cell_type": "markdown",
   "metadata": {},
   "source": [
    "Run the model -"
   ]
  },
  {
   "cell_type": "code",
   "execution_count": 21,
   "metadata": {
    "tags": []
   },
   "outputs": [],
   "source": [
    "# al_time_0, al_projected, al_errors  = al_population_init_model.run()"
   ]
  },
  {
   "cell_type": "markdown",
   "metadata": {},
   "source": [
    "Review output -"
   ]
  },
  {
   "cell_type": "code",
   "execution_count": 22,
   "metadata": {},
   "outputs": [],
   "source": [
    "# al_time_0"
   ]
  },
  {
   "cell_type": "code",
   "execution_count": 23,
   "metadata": {},
   "outputs": [],
   "source": [
    "# al_projected"
   ]
  },
  {
   "cell_type": "code",
   "execution_count": 24,
   "metadata": {},
   "outputs": [],
   "source": [
    "# al_errors"
   ]
  }
 ],
 "metadata": {
  "language_info": {
   "codemirror_mode": {
    "name": "ipython",
    "version": 3
   },
   "file_extension": ".py",
   "mimetype": "text/x-python",
   "name": "python",
   "nbconvert_exporter": "python",
   "pygments_lexer": "ipython3",
   "version": "3.7.7-final"
  },
  "orig_nbformat": 2,
  "kernelspec": {
   "name": "python3",
   "display_name": "Python 3"
  }
 },
 "nbformat": 4,
 "nbformat_minor": 2
}