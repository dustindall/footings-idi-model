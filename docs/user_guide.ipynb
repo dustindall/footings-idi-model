{
 "cells": [
  {
   "cell_type": "markdown",
   "metadata": {},
   "source": [
    "# User Guide"
   ]
  },
  {
   "cell_type": "markdown",
   "metadata": {},
   "source": [
    "The IDI model utilizes the model per policy design pattern where we build models to model one policy a time. We expand this pattern to model population of policies by applying the policy model to each policy in a population (i.e., think a for loop for each policy)."
   ]
  },
  {
   "cell_type": "markdown",
   "metadata": {},
   "source": [
    "## Policy Models"
   ]
  },
  {
   "cell_type": "markdown",
   "metadata": {},
   "source": [
    "The following policy models were built where the links direct you to the detailed documentation for each model.\n",
    "\n",
    "- [dlr_deterministic_model](models.rst#footings_idi_model.policy_models.dlr_deterministic_model)\n",
    "- [alr_deterministic_model](models.rst#footings_idi_model.policy_models.alr_deterministic_model)\n",
    "\n",
    "In addition, development is planned to make the above deterministic models stochastic. They will be captured under respective models called `dlr_stochastic_model` and `alr_stochastic_model`. "
   ]
  },
  {
   "cell_type": "markdown",
   "metadata": {},
   "source": [
    "### DLR Deterministic"
   ]
  },
  {
   "cell_type": "markdown",
   "metadata": {},
   "source": [
    "Below is an example of using the `dlr_determinstic_model` where we import the model and instantiate it with the required policy information."
   ]
  },
  {
   "cell_type": "code",
   "execution_count": 1,
   "metadata": {},
   "outputs": [],
   "source": [
    "import pandas as pd\n",
    "from footings_idi_model.policy_models import dlr_deterministic_model\n",
    "\n",
    "dlr_policy_init_model = dlr_deterministic_model(\n",
    "    policy_id=\"policy-1\",\n",
    "    claim_id=\"claim-1\",\n",
    "    gender=\"M\",\n",
    "    birth_dt=pd.Timestamp(\"1970-03-26\"),\n",
    "    incurred_dt=pd.Timestamp(\"2015-06-02\"),\n",
    "    termination_dt=pd.Timestamp(\"2035-03-26\"),\n",
    "    elimination_period=90,\n",
    "    idi_contract=\"AS\",\n",
    "    idi_benefit_period=\"TO65\",\n",
    "    idi_diagnosis_grp=\"LOW\",\n",
    "    idi_occupation_class=\"M\",\n",
    "    cola_percent=0.0,\n",
    "    benefit_amount=200.0,\n",
    "    valuation_dt=pd.Timestamp(\"2020-03-31\"), \n",
    "    assumption_set=\"stat\",\n",
    ")"
   ]
  },
  {
   "cell_type": "markdown",
   "metadata": {},
   "source": [
    "To run the model we have to call the `run()` method attached to the instantiated object."
   ]
  },
  {
   "cell_type": "code",
   "execution_count": 2,
   "metadata": {},
   "outputs": [],
   "source": [
    "dlr_policy_output = dlr_policy_init_model.run()"
   ]
  },
  {
   "cell_type": "markdown",
   "metadata": {},
   "source": [
    "Once the model is ran, a pandas DataFrame is returned with the following information."
   ]
  },
  {
   "cell_type": "code",
   "execution_count": 3,
   "metadata": {
    "tags": []
   },
   "outputs": [
    {
     "output_type": "stream",
     "name": "stdout",
     "text": "<class 'pandas.core.frame.DataFrame'>\nInt64Index: 181 entries, 0 to 180\nData columns (total 18 columns):\n #   Column           Non-Null Count  Dtype         \n---  ------           --------------  -----         \n 0   POLICY_ID        181 non-null    object        \n 1   DATE_BD          181 non-null    datetime64[ns]\n 2   DATE_ED          181 non-null    datetime64[ns]\n 3   DURATION_YEAR    181 non-null    Int64         \n 4   DURATION_MONTH   181 non-null    Int64         \n 5   EXPOSURE_FACTOR  181 non-null    float64       \n 6   BENEFIT_AMOUNT   181 non-null    float64       \n 7   CTR              181 non-null    float64       \n 8   LIVES_BD         181 non-null    float64       \n 9   LIVES_MD         181 non-null    float64       \n 10  LIVES_ED         181 non-null    float64       \n 11  DISCOUNT_BD      181 non-null    float64       \n 12  DISCOUNT_MD      181 non-null    float64       \n 13  DISCOUNT_ED      181 non-null    float64       \n 14  PVFB_BD          181 non-null    float64       \n 15  PVFB_ED          181 non-null    float64       \n 16  DATE_DLR         181 non-null    datetime64[ns]\n 17  DLR              181 non-null    float64       \ndtypes: Int64(2), datetime64[ns](3), float64(12), object(1)\nmemory usage: 27.2+ KB\n"
    }
   ],
   "source": [
    "dlr_policy_output.info()"
   ]
  },
  {
   "cell_type": "markdown",
   "metadata": {},
   "source": [
    "Below is the output."
   ]
  },
  {
   "cell_type": "code",
   "execution_count": 4,
   "metadata": {},
   "outputs": [
    {
     "output_type": "execute_result",
     "data": {
      "text/plain": "    POLICY_ID    DATE_BD    DATE_ED  DURATION_YEAR  DURATION_MONTH  \\\n0    policy-1 2020-03-02 2020-04-02              5              58   \n1    policy-1 2020-04-02 2020-05-02              5              59   \n2    policy-1 2020-05-02 2020-06-02              5              60   \n3    policy-1 2020-06-02 2020-07-02              6              61   \n4    policy-1 2020-07-02 2020-08-02              6              62   \n..        ...        ...        ...            ...             ...   \n176  policy-1 2034-11-02 2034-12-02             20             234   \n177  policy-1 2034-12-02 2035-01-02             20             235   \n178  policy-1 2035-01-02 2035-02-02             20             236   \n179  policy-1 2035-02-02 2035-03-02             20             237   \n180  policy-1 2035-03-02 2035-04-02             20             238   \n\n     EXPOSURE_FACTOR  BENEFIT_AMOUNT       CTR  LIVES_BD  LIVES_MD  LIVES_ED  \\\n0           1.000000          200.00  0.002619  1.000000  0.998690  0.997381   \n1           1.000000          200.00  0.002576  0.997381  0.996096  0.994812   \n2           1.000000          200.00  0.002532  0.994812  0.993552  0.992293   \n3           1.000000          200.00  0.002696  0.992293  0.990955  0.989617   \n4           1.000000          200.00  0.002696  0.989617  0.988283  0.986949   \n..               ...             ...       ...       ...       ...       ...   \n176         1.000000          200.00  0.001494  0.755779  0.755215  0.754650   \n177         1.000000          200.00  0.001494  0.754650  0.754087  0.753523   \n178         1.000000          200.00  0.001494  0.753523  0.752960  0.752397   \n179         1.000000          200.00  0.001494  0.752397  0.751836  0.751274   \n180         0.774194          154.84  0.001494  0.751274  0.750713  0.750151   \n\n     DISCOUNT_BD  DISCOUNT_MD  DISCOUNT_ED   PVFB_BD   PVFB_ED   DATE_DLR  \\\n0       1.000000     0.998769     0.997540  25156.01  24956.52 2020-03-31   \n1       0.997540     0.996312     0.995086  24956.52  24758.03 2020-04-30   \n2       0.995086     0.993861     0.992638  24758.03  24560.54 2020-05-31   \n3       0.992638     0.991416     0.990195  24560.54  24364.05 2020-06-30   \n4       0.990195     0.988977     0.987759  24364.05  24168.57 2020-07-31   \n..           ...          ...          ...       ...       ...        ...   \n176     0.648217     0.647420     0.646623    463.36    365.57 2034-11-30   \n177     0.646623     0.645827     0.645032    365.57    268.17 2034-12-31   \n178     0.645032     0.644238     0.643445    268.17    171.15 2035-01-31   \n179     0.643445     0.642653     0.641862    171.15     74.52 2035-02-28   \n180     0.641862     0.641072     0.640283     74.52      0.00 2035-03-31   \n\n          DLR  \n0    25088.47  \n1    25014.85  \n2    24939.77  \n3    24868.08  \n4    24796.29  \n..        ...  \n176    761.89  \n177    564.52  \n178    366.36  \n179    167.42  \n180     10.01  \n\n[181 rows x 18 columns]",
      "text/html": "<div>\n<style scoped>\n    .dataframe tbody tr th:only-of-type {\n        vertical-align: middle;\n    }\n\n    .dataframe tbody tr th {\n        vertical-align: top;\n    }\n\n    .dataframe thead th {\n        text-align: right;\n    }\n</style>\n<table border=\"1\" class=\"dataframe\">\n  <thead>\n    <tr style=\"text-align: right;\">\n      <th></th>\n      <th>POLICY_ID</th>\n      <th>DATE_BD</th>\n      <th>DATE_ED</th>\n      <th>DURATION_YEAR</th>\n      <th>DURATION_MONTH</th>\n      <th>EXPOSURE_FACTOR</th>\n      <th>BENEFIT_AMOUNT</th>\n      <th>CTR</th>\n      <th>LIVES_BD</th>\n      <th>LIVES_MD</th>\n      <th>LIVES_ED</th>\n      <th>DISCOUNT_BD</th>\n      <th>DISCOUNT_MD</th>\n      <th>DISCOUNT_ED</th>\n      <th>PVFB_BD</th>\n      <th>PVFB_ED</th>\n      <th>DATE_DLR</th>\n      <th>DLR</th>\n    </tr>\n  </thead>\n  <tbody>\n    <tr>\n      <th>0</th>\n      <td>policy-1</td>\n      <td>2020-03-02</td>\n      <td>2020-04-02</td>\n      <td>5</td>\n      <td>58</td>\n      <td>1.000000</td>\n      <td>200.00</td>\n      <td>0.002619</td>\n      <td>1.000000</td>\n      <td>0.998690</td>\n      <td>0.997381</td>\n      <td>1.000000</td>\n      <td>0.998769</td>\n      <td>0.997540</td>\n      <td>25156.01</td>\n      <td>24956.52</td>\n      <td>2020-03-31</td>\n      <td>25088.47</td>\n    </tr>\n    <tr>\n      <th>1</th>\n      <td>policy-1</td>\n      <td>2020-04-02</td>\n      <td>2020-05-02</td>\n      <td>5</td>\n      <td>59</td>\n      <td>1.000000</td>\n      <td>200.00</td>\n      <td>0.002576</td>\n      <td>0.997381</td>\n      <td>0.996096</td>\n      <td>0.994812</td>\n      <td>0.997540</td>\n      <td>0.996312</td>\n      <td>0.995086</td>\n      <td>24956.52</td>\n      <td>24758.03</td>\n      <td>2020-04-30</td>\n      <td>25014.85</td>\n    </tr>\n    <tr>\n      <th>2</th>\n      <td>policy-1</td>\n      <td>2020-05-02</td>\n      <td>2020-06-02</td>\n      <td>5</td>\n      <td>60</td>\n      <td>1.000000</td>\n      <td>200.00</td>\n      <td>0.002532</td>\n      <td>0.994812</td>\n      <td>0.993552</td>\n      <td>0.992293</td>\n      <td>0.995086</td>\n      <td>0.993861</td>\n      <td>0.992638</td>\n      <td>24758.03</td>\n      <td>24560.54</td>\n      <td>2020-05-31</td>\n      <td>24939.77</td>\n    </tr>\n    <tr>\n      <th>3</th>\n      <td>policy-1</td>\n      <td>2020-06-02</td>\n      <td>2020-07-02</td>\n      <td>6</td>\n      <td>61</td>\n      <td>1.000000</td>\n      <td>200.00</td>\n      <td>0.002696</td>\n      <td>0.992293</td>\n      <td>0.990955</td>\n      <td>0.989617</td>\n      <td>0.992638</td>\n      <td>0.991416</td>\n      <td>0.990195</td>\n      <td>24560.54</td>\n      <td>24364.05</td>\n      <td>2020-06-30</td>\n      <td>24868.08</td>\n    </tr>\n    <tr>\n      <th>4</th>\n      <td>policy-1</td>\n      <td>2020-07-02</td>\n      <td>2020-08-02</td>\n      <td>6</td>\n      <td>62</td>\n      <td>1.000000</td>\n      <td>200.00</td>\n      <td>0.002696</td>\n      <td>0.989617</td>\n      <td>0.988283</td>\n      <td>0.986949</td>\n      <td>0.990195</td>\n      <td>0.988977</td>\n      <td>0.987759</td>\n      <td>24364.05</td>\n      <td>24168.57</td>\n      <td>2020-07-31</td>\n      <td>24796.29</td>\n    </tr>\n    <tr>\n      <th>...</th>\n      <td>...</td>\n      <td>...</td>\n      <td>...</td>\n      <td>...</td>\n      <td>...</td>\n      <td>...</td>\n      <td>...</td>\n      <td>...</td>\n      <td>...</td>\n      <td>...</td>\n      <td>...</td>\n      <td>...</td>\n      <td>...</td>\n      <td>...</td>\n      <td>...</td>\n      <td>...</td>\n      <td>...</td>\n      <td>...</td>\n    </tr>\n    <tr>\n      <th>176</th>\n      <td>policy-1</td>\n      <td>2034-11-02</td>\n      <td>2034-12-02</td>\n      <td>20</td>\n      <td>234</td>\n      <td>1.000000</td>\n      <td>200.00</td>\n      <td>0.001494</td>\n      <td>0.755779</td>\n      <td>0.755215</td>\n      <td>0.754650</td>\n      <td>0.648217</td>\n      <td>0.647420</td>\n      <td>0.646623</td>\n      <td>463.36</td>\n      <td>365.57</td>\n      <td>2034-11-30</td>\n      <td>761.89</td>\n    </tr>\n    <tr>\n      <th>177</th>\n      <td>policy-1</td>\n      <td>2034-12-02</td>\n      <td>2035-01-02</td>\n      <td>20</td>\n      <td>235</td>\n      <td>1.000000</td>\n      <td>200.00</td>\n      <td>0.001494</td>\n      <td>0.754650</td>\n      <td>0.754087</td>\n      <td>0.753523</td>\n      <td>0.646623</td>\n      <td>0.645827</td>\n      <td>0.645032</td>\n      <td>365.57</td>\n      <td>268.17</td>\n      <td>2034-12-31</td>\n      <td>564.52</td>\n    </tr>\n    <tr>\n      <th>178</th>\n      <td>policy-1</td>\n      <td>2035-01-02</td>\n      <td>2035-02-02</td>\n      <td>20</td>\n      <td>236</td>\n      <td>1.000000</td>\n      <td>200.00</td>\n      <td>0.001494</td>\n      <td>0.753523</td>\n      <td>0.752960</td>\n      <td>0.752397</td>\n      <td>0.645032</td>\n      <td>0.644238</td>\n      <td>0.643445</td>\n      <td>268.17</td>\n      <td>171.15</td>\n      <td>2035-01-31</td>\n      <td>366.36</td>\n    </tr>\n    <tr>\n      <th>179</th>\n      <td>policy-1</td>\n      <td>2035-02-02</td>\n      <td>2035-03-02</td>\n      <td>20</td>\n      <td>237</td>\n      <td>1.000000</td>\n      <td>200.00</td>\n      <td>0.001494</td>\n      <td>0.752397</td>\n      <td>0.751836</td>\n      <td>0.751274</td>\n      <td>0.643445</td>\n      <td>0.642653</td>\n      <td>0.641862</td>\n      <td>171.15</td>\n      <td>74.52</td>\n      <td>2035-02-28</td>\n      <td>167.42</td>\n    </tr>\n    <tr>\n      <th>180</th>\n      <td>policy-1</td>\n      <td>2035-03-02</td>\n      <td>2035-04-02</td>\n      <td>20</td>\n      <td>238</td>\n      <td>0.774194</td>\n      <td>154.84</td>\n      <td>0.001494</td>\n      <td>0.751274</td>\n      <td>0.750713</td>\n      <td>0.750151</td>\n      <td>0.641862</td>\n      <td>0.641072</td>\n      <td>0.640283</td>\n      <td>74.52</td>\n      <td>0.00</td>\n      <td>2035-03-31</td>\n      <td>10.01</td>\n    </tr>\n  </tbody>\n</table>\n<p>181 rows × 18 columns</p>\n</div>"
     },
     "metadata": {},
     "execution_count": 4
    }
   ],
   "source": [
    "dlr_policy_output"
   ]
  },
  {
   "cell_type": "markdown",
   "metadata": {},
   "source": [
    "### ALR Deterministic"
   ]
  },
  {
   "cell_type": "markdown",
   "metadata": {},
   "source": [
    "The flow is the same for using the `alr_deterministic_model`."
   ]
  },
  {
   "cell_type": "code",
   "execution_count": 5,
   "metadata": {
    "tags": []
   },
   "outputs": [
    {
     "output_type": "stream",
     "name": "stdout",
     "text": "<class 'pandas.core.series.Series'>\n0    2035-03-26\n1    2035-03-26\n2    2035-03-26\n3    2035-03-26\n4    2035-03-26\n5    2035-03-26\n6    2035-03-26\n7    2035-03-26\n8    2035-03-26\n9    2035-03-26\n10   2035-03-26\n11   2035-03-26\n12   2035-03-26\n13   2035-03-26\n14   2035-03-26\n15   2035-03-26\n16   2035-03-26\n17   2035-03-26\n18   2035-03-26\n19   2035-03-26\nName: termination_dt, dtype: datetime64[ns]\n"
    }
   ],
   "source": [
    "from footings_idi_model.policy_models import alr_deterministic_model\n",
    "\n",
    "alr_policy_output =  alr_deterministic_model(\n",
    "    policy_id=\"policy-1\",\n",
    "    gender=\"M\",\n",
    "    tobacco_usage=\"N\",\n",
    "    birth_dt=pd.Timestamp(\"1970-03-26\"),\n",
    "    issue_dt=pd.Timestamp(\"2015-06-02\"),\n",
    "    termination_dt=pd.Timestamp(\"2035-03-26\"),\n",
    "    elimination_period=90,\n",
    "    idi_market=\"INDV\",\n",
    "    idi_contract=\"AS\",\n",
    "    idi_benefit_period=\"TO65\",\n",
    "    idi_occupation_class=\"M\",\n",
    "    cola_percent=0.0,\n",
    "    benefit_amount=200.0,\n",
    "    valuation_dt=pd.Timestamp(\"2020-03-31\"), \n",
    "    assumption_set=\"stat\", \n",
    "    net_benefit_method=\"NLP\",\n",
    ").run() # note ouput is returned as we call run right after we instantiate the model"
   ]
  },
  {
   "cell_type": "markdown",
   "metadata": {},
   "source": [
    "For the `alr_deterministic_model` the respective output information is show below."
   ]
  },
  {
   "cell_type": "code",
   "execution_count": 6,
   "metadata": {
    "tags": []
   },
   "outputs": [
    {
     "output_type": "stream",
     "name": "stdout",
     "text": "<class 'pandas.core.frame.DataFrame'>\nInt64Index: 15 entries, 5 to 19\nData columns (total 20 columns):\n #   Column          Non-Null Count  Dtype         \n---  ------          --------------  -----         \n 0   POLICY_ID       15 non-null     object        \n 1   DATE_BD         15 non-null     datetime64[ns]\n 2   DATE_ED         15 non-null     datetime64[ns]\n 3   DURATION_YEAR   15 non-null     Int64         \n 4   LIVES_BD        15 non-null     float64       \n 5   LIVES_MD        15 non-null     float64       \n 6   LIVES_ED        15 non-null     float64       \n 7   DISCOUNT_BD     15 non-null     float64       \n 8   DISCOUNT_MD     15 non-null     float64       \n 9   DISCOUNT_ED     15 non-null     float64       \n 10  BENEFIT_AMOUNT  15 non-null     float64       \n 11  INCIDENCE_RATE  15 non-null     float64       \n 12  DLR             15 non-null     float64       \n 13  CLAIM_COST      15 non-null     float64       \n 14  PVFB            15 non-null     float64       \n 15  PVP             15 non-null     float64       \n 16  ALR_BD          15 non-null     float64       \n 17  ALR_ED          15 non-null     float64       \n 18  DATE_ALR        15 non-null     datetime64[ns]\n 19  ALR             15 non-null     float64       \ndtypes: Int64(1), datetime64[ns](3), float64(15), object(1)\nmemory usage: 2.5+ KB\n"
    }
   ],
   "source": [
    "alr_policy_output.info()"
   ]
  },
  {
   "cell_type": "markdown",
   "metadata": {},
   "source": [
    "With the output shown below."
   ]
  },
  {
   "cell_type": "code",
   "execution_count": 7,
   "metadata": {},
   "outputs": [
    {
     "output_type": "execute_result",
     "data": {
      "text/plain": "   POLICY_ID    DATE_BD    DATE_ED  DURATION_YEAR  LIVES_BD  LIVES_MD  \\\n5   policy-1 2020-06-02 2021-06-02              6  0.983993  0.982070   \n6   policy-1 2021-06-02 2022-06-02              7  0.980146  0.978058   \n7   policy-1 2022-06-02 2023-06-02              8  0.975970  0.973677   \n8   policy-1 2023-06-02 2024-06-02              9  0.971383  0.968853   \n9   policy-1 2024-06-02 2025-06-02             10  0.966322  0.963506   \n10  policy-1 2025-06-02 2026-06-02             11  0.960689  0.957557   \n11  policy-1 2026-06-02 2027-06-02             12  0.954425  0.950961   \n12  policy-1 2027-06-02 2028-06-02             13  0.947496  0.943730   \n13  policy-1 2028-06-02 2029-06-02             14  0.939963  0.935907   \n14  policy-1 2029-06-02 2030-06-02             15  0.931851  0.927462   \n15  policy-1 2030-06-02 2031-06-02             16  0.923073  0.918273   \n16  policy-1 2031-06-02 2032-06-02             17  0.913473  0.908180   \n17  policy-1 2032-06-02 2033-06-02             18  0.902886  0.897027   \n18  policy-1 2033-06-02 2034-06-02             19  0.891167  0.884719   \n19  policy-1 2034-06-02 2035-06-02             20  0.878272  0.871228   \n\n    LIVES_ED  DISCOUNT_BD  DISCOUNT_MD  DISCOUNT_ED  BENEFIT_AMOUNT  \\\n5   0.980146     0.862609     0.849954     0.837484           200.0   \n6   0.975970     0.837484     0.825198     0.813092           200.0   \n7   0.971383     0.813092     0.801163     0.789409           200.0   \n8   0.966322     0.789409     0.777828     0.766417           200.0   \n9   0.960689     0.766417     0.755173     0.744094           200.0   \n10  0.954425     0.744094     0.733178     0.722421           200.0   \n11  0.947496     0.722421     0.711823     0.701380           200.0   \n12  0.939963     0.701380     0.691090     0.680951           200.0   \n13  0.931851     0.680951     0.670961     0.661118           200.0   \n14  0.923073     0.661118     0.651419     0.641862           200.0   \n15  0.913473     0.641862     0.632445     0.623167           200.0   \n16  0.902886     0.623167     0.614025     0.605016           200.0   \n17  0.891167     0.605016     0.596140     0.587395           200.0   \n18  0.878272     0.587395     0.578777     0.570286           200.0   \n19  0.864184     0.570286     0.561920     0.553676           200.0   \n\n    INCIDENCE_RATE       DLR  CLAIM_COST     PVFB        PVP  ALR_BD  ALR_ED  \\\n5         0.008527  15495.74      132.14  1314.15  10.027989   85.20   81.45   \n6         0.009255  15046.49      139.26  1203.85   9.179188   81.45   70.56   \n7         0.010026  14530.74      145.68  1091.46   8.358331   70.56   53.09   \n8         0.010849  13938.14      151.22   977.82   7.564778   53.09   29.77   \n9         0.011736  13272.24      155.76   863.86   6.797959   29.77    1.49   \n10        0.012664  12528.04      158.66   750.52   6.057353    1.49    0.00   \n11        0.013656  11696.28      159.73   639.13   5.342511    0.00    0.00   \n12        0.014712  10773.83      158.50   531.01   4.653014    0.00    0.00   \n13        0.015809   9753.44      154.19   427.64   3.988459    0.00    0.00   \n14        0.016960   8629.78      146.36   330.81   3.348390    0.00    0.00   \n15        0.018173   7398.87      134.46   242.39   2.732326    0.00    0.00   \n16        0.019450   6057.46      117.82   164.30   2.139840    0.00    0.00   \n17        0.020769   4594.81       95.43    98.60   1.570594    0.00    0.00   \n18        0.022110   2989.91       66.11    47.56   1.024333    0.00    0.00   \n19        0.023439   1195.00       28.01    13.71   0.500866    0.00    0.00   \n\n     DATE_ALR     ALR  \n5  2020-03-31  100.57  \n6  2021-03-31  100.93  \n7  2022-03-31   92.18  \n8  2023-03-31   74.04  \n9  2024-03-31   46.51  \n10 2025-03-31    2.43  \n11 2026-03-31    0.00  \n12 2027-03-31    0.00  \n13 2028-03-31    0.00  \n14 2029-03-31    0.00  \n15 2030-03-31    0.00  \n16 2031-03-31    0.00  \n17 2032-03-31    0.00  \n18 2033-03-31    0.00  \n19 2034-03-31    0.00  ",
      "text/html": "<div>\n<style scoped>\n    .dataframe tbody tr th:only-of-type {\n        vertical-align: middle;\n    }\n\n    .dataframe tbody tr th {\n        vertical-align: top;\n    }\n\n    .dataframe thead th {\n        text-align: right;\n    }\n</style>\n<table border=\"1\" class=\"dataframe\">\n  <thead>\n    <tr style=\"text-align: right;\">\n      <th></th>\n      <th>POLICY_ID</th>\n      <th>DATE_BD</th>\n      <th>DATE_ED</th>\n      <th>DURATION_YEAR</th>\n      <th>LIVES_BD</th>\n      <th>LIVES_MD</th>\n      <th>LIVES_ED</th>\n      <th>DISCOUNT_BD</th>\n      <th>DISCOUNT_MD</th>\n      <th>DISCOUNT_ED</th>\n      <th>BENEFIT_AMOUNT</th>\n      <th>INCIDENCE_RATE</th>\n      <th>DLR</th>\n      <th>CLAIM_COST</th>\n      <th>PVFB</th>\n      <th>PVP</th>\n      <th>ALR_BD</th>\n      <th>ALR_ED</th>\n      <th>DATE_ALR</th>\n      <th>ALR</th>\n    </tr>\n  </thead>\n  <tbody>\n    <tr>\n      <th>5</th>\n      <td>policy-1</td>\n      <td>2020-06-02</td>\n      <td>2021-06-02</td>\n      <td>6</td>\n      <td>0.983993</td>\n      <td>0.982070</td>\n      <td>0.980146</td>\n      <td>0.862609</td>\n      <td>0.849954</td>\n      <td>0.837484</td>\n      <td>200.0</td>\n      <td>0.008527</td>\n      <td>15495.74</td>\n      <td>132.14</td>\n      <td>1314.15</td>\n      <td>10.027989</td>\n      <td>85.20</td>\n      <td>81.45</td>\n      <td>2020-03-31</td>\n      <td>100.57</td>\n    </tr>\n    <tr>\n      <th>6</th>\n      <td>policy-1</td>\n      <td>2021-06-02</td>\n      <td>2022-06-02</td>\n      <td>7</td>\n      <td>0.980146</td>\n      <td>0.978058</td>\n      <td>0.975970</td>\n      <td>0.837484</td>\n      <td>0.825198</td>\n      <td>0.813092</td>\n      <td>200.0</td>\n      <td>0.009255</td>\n      <td>15046.49</td>\n      <td>139.26</td>\n      <td>1203.85</td>\n      <td>9.179188</td>\n      <td>81.45</td>\n      <td>70.56</td>\n      <td>2021-03-31</td>\n      <td>100.93</td>\n    </tr>\n    <tr>\n      <th>7</th>\n      <td>policy-1</td>\n      <td>2022-06-02</td>\n      <td>2023-06-02</td>\n      <td>8</td>\n      <td>0.975970</td>\n      <td>0.973677</td>\n      <td>0.971383</td>\n      <td>0.813092</td>\n      <td>0.801163</td>\n      <td>0.789409</td>\n      <td>200.0</td>\n      <td>0.010026</td>\n      <td>14530.74</td>\n      <td>145.68</td>\n      <td>1091.46</td>\n      <td>8.358331</td>\n      <td>70.56</td>\n      <td>53.09</td>\n      <td>2022-03-31</td>\n      <td>92.18</td>\n    </tr>\n    <tr>\n      <th>8</th>\n      <td>policy-1</td>\n      <td>2023-06-02</td>\n      <td>2024-06-02</td>\n      <td>9</td>\n      <td>0.971383</td>\n      <td>0.968853</td>\n      <td>0.966322</td>\n      <td>0.789409</td>\n      <td>0.777828</td>\n      <td>0.766417</td>\n      <td>200.0</td>\n      <td>0.010849</td>\n      <td>13938.14</td>\n      <td>151.22</td>\n      <td>977.82</td>\n      <td>7.564778</td>\n      <td>53.09</td>\n      <td>29.77</td>\n      <td>2023-03-31</td>\n      <td>74.04</td>\n    </tr>\n    <tr>\n      <th>9</th>\n      <td>policy-1</td>\n      <td>2024-06-02</td>\n      <td>2025-06-02</td>\n      <td>10</td>\n      <td>0.966322</td>\n      <td>0.963506</td>\n      <td>0.960689</td>\n      <td>0.766417</td>\n      <td>0.755173</td>\n      <td>0.744094</td>\n      <td>200.0</td>\n      <td>0.011736</td>\n      <td>13272.24</td>\n      <td>155.76</td>\n      <td>863.86</td>\n      <td>6.797959</td>\n      <td>29.77</td>\n      <td>1.49</td>\n      <td>2024-03-31</td>\n      <td>46.51</td>\n    </tr>\n    <tr>\n      <th>10</th>\n      <td>policy-1</td>\n      <td>2025-06-02</td>\n      <td>2026-06-02</td>\n      <td>11</td>\n      <td>0.960689</td>\n      <td>0.957557</td>\n      <td>0.954425</td>\n      <td>0.744094</td>\n      <td>0.733178</td>\n      <td>0.722421</td>\n      <td>200.0</td>\n      <td>0.012664</td>\n      <td>12528.04</td>\n      <td>158.66</td>\n      <td>750.52</td>\n      <td>6.057353</td>\n      <td>1.49</td>\n      <td>0.00</td>\n      <td>2025-03-31</td>\n      <td>2.43</td>\n    </tr>\n    <tr>\n      <th>11</th>\n      <td>policy-1</td>\n      <td>2026-06-02</td>\n      <td>2027-06-02</td>\n      <td>12</td>\n      <td>0.954425</td>\n      <td>0.950961</td>\n      <td>0.947496</td>\n      <td>0.722421</td>\n      <td>0.711823</td>\n      <td>0.701380</td>\n      <td>200.0</td>\n      <td>0.013656</td>\n      <td>11696.28</td>\n      <td>159.73</td>\n      <td>639.13</td>\n      <td>5.342511</td>\n      <td>0.00</td>\n      <td>0.00</td>\n      <td>2026-03-31</td>\n      <td>0.00</td>\n    </tr>\n    <tr>\n      <th>12</th>\n      <td>policy-1</td>\n      <td>2027-06-02</td>\n      <td>2028-06-02</td>\n      <td>13</td>\n      <td>0.947496</td>\n      <td>0.943730</td>\n      <td>0.939963</td>\n      <td>0.701380</td>\n      <td>0.691090</td>\n      <td>0.680951</td>\n      <td>200.0</td>\n      <td>0.014712</td>\n      <td>10773.83</td>\n      <td>158.50</td>\n      <td>531.01</td>\n      <td>4.653014</td>\n      <td>0.00</td>\n      <td>0.00</td>\n      <td>2027-03-31</td>\n      <td>0.00</td>\n    </tr>\n    <tr>\n      <th>13</th>\n      <td>policy-1</td>\n      <td>2028-06-02</td>\n      <td>2029-06-02</td>\n      <td>14</td>\n      <td>0.939963</td>\n      <td>0.935907</td>\n      <td>0.931851</td>\n      <td>0.680951</td>\n      <td>0.670961</td>\n      <td>0.661118</td>\n      <td>200.0</td>\n      <td>0.015809</td>\n      <td>9753.44</td>\n      <td>154.19</td>\n      <td>427.64</td>\n      <td>3.988459</td>\n      <td>0.00</td>\n      <td>0.00</td>\n      <td>2028-03-31</td>\n      <td>0.00</td>\n    </tr>\n    <tr>\n      <th>14</th>\n      <td>policy-1</td>\n      <td>2029-06-02</td>\n      <td>2030-06-02</td>\n      <td>15</td>\n      <td>0.931851</td>\n      <td>0.927462</td>\n      <td>0.923073</td>\n      <td>0.661118</td>\n      <td>0.651419</td>\n      <td>0.641862</td>\n      <td>200.0</td>\n      <td>0.016960</td>\n      <td>8629.78</td>\n      <td>146.36</td>\n      <td>330.81</td>\n      <td>3.348390</td>\n      <td>0.00</td>\n      <td>0.00</td>\n      <td>2029-03-31</td>\n      <td>0.00</td>\n    </tr>\n    <tr>\n      <th>15</th>\n      <td>policy-1</td>\n      <td>2030-06-02</td>\n      <td>2031-06-02</td>\n      <td>16</td>\n      <td>0.923073</td>\n      <td>0.918273</td>\n      <td>0.913473</td>\n      <td>0.641862</td>\n      <td>0.632445</td>\n      <td>0.623167</td>\n      <td>200.0</td>\n      <td>0.018173</td>\n      <td>7398.87</td>\n      <td>134.46</td>\n      <td>242.39</td>\n      <td>2.732326</td>\n      <td>0.00</td>\n      <td>0.00</td>\n      <td>2030-03-31</td>\n      <td>0.00</td>\n    </tr>\n    <tr>\n      <th>16</th>\n      <td>policy-1</td>\n      <td>2031-06-02</td>\n      <td>2032-06-02</td>\n      <td>17</td>\n      <td>0.913473</td>\n      <td>0.908180</td>\n      <td>0.902886</td>\n      <td>0.623167</td>\n      <td>0.614025</td>\n      <td>0.605016</td>\n      <td>200.0</td>\n      <td>0.019450</td>\n      <td>6057.46</td>\n      <td>117.82</td>\n      <td>164.30</td>\n      <td>2.139840</td>\n      <td>0.00</td>\n      <td>0.00</td>\n      <td>2031-03-31</td>\n      <td>0.00</td>\n    </tr>\n    <tr>\n      <th>17</th>\n      <td>policy-1</td>\n      <td>2032-06-02</td>\n      <td>2033-06-02</td>\n      <td>18</td>\n      <td>0.902886</td>\n      <td>0.897027</td>\n      <td>0.891167</td>\n      <td>0.605016</td>\n      <td>0.596140</td>\n      <td>0.587395</td>\n      <td>200.0</td>\n      <td>0.020769</td>\n      <td>4594.81</td>\n      <td>95.43</td>\n      <td>98.60</td>\n      <td>1.570594</td>\n      <td>0.00</td>\n      <td>0.00</td>\n      <td>2032-03-31</td>\n      <td>0.00</td>\n    </tr>\n    <tr>\n      <th>18</th>\n      <td>policy-1</td>\n      <td>2033-06-02</td>\n      <td>2034-06-02</td>\n      <td>19</td>\n      <td>0.891167</td>\n      <td>0.884719</td>\n      <td>0.878272</td>\n      <td>0.587395</td>\n      <td>0.578777</td>\n      <td>0.570286</td>\n      <td>200.0</td>\n      <td>0.022110</td>\n      <td>2989.91</td>\n      <td>66.11</td>\n      <td>47.56</td>\n      <td>1.024333</td>\n      <td>0.00</td>\n      <td>0.00</td>\n      <td>2033-03-31</td>\n      <td>0.00</td>\n    </tr>\n    <tr>\n      <th>19</th>\n      <td>policy-1</td>\n      <td>2034-06-02</td>\n      <td>2035-06-02</td>\n      <td>20</td>\n      <td>0.878272</td>\n      <td>0.871228</td>\n      <td>0.864184</td>\n      <td>0.570286</td>\n      <td>0.561920</td>\n      <td>0.553676</td>\n      <td>200.0</td>\n      <td>0.023439</td>\n      <td>1195.00</td>\n      <td>28.01</td>\n      <td>13.71</td>\n      <td>0.500866</td>\n      <td>0.00</td>\n      <td>0.00</td>\n      <td>2034-03-31</td>\n      <td>0.00</td>\n    </tr>\n  </tbody>\n</table>\n</div>"
     },
     "metadata": {},
     "execution_count": 7
    }
   ],
   "source": [
    "alr_policy_output"
   ]
  },
  {
   "cell_type": "markdown",
   "metadata": {},
   "source": [
    "## Population Models"
   ]
  },
  {
   "cell_type": "markdown",
   "metadata": {},
   "source": [
    "As noted earlier, populations models can by created by applying the policy models on each policy using a standard for loop. Within in the insurnace industry, a population of policies is typically represented as a `policy inforce extract` or `extract` for short which is tabular data structure were policies (and riders) are records in the table and the columns are policy attributes.\n",
    "\n",
    "Two population models were built where the links direct you to the detailed documentation for each model -\n",
    "\n",
    "- [disabled_lives_model](models.rst#footings_idi_model.population_models.disabled_lives_model)\n",
    "- [active_lives_model](models.rst#footings_idi_model.population_models.active_lives_model)\n"
   ]
  },
  {
   "cell_type": "markdown",
   "metadata": {},
   "source": [
    "In order to quickly create extracts, the `footings_idi_model` comes with a model to generate extracts using fake policies. It is exposed under `footings_idi_model.utils.extract_generator_model`. It's detailed information can be viewed under the [api section](models.rst#footings_idi_model.utils.extract_generator_model). \n",
    "\n",
    "To use the extract_generator_model, we need to define -\n",
    "\n",
    "- the `n` number of policies we want to create, \n",
    "- the extract type `disabled-lives` or `active-lives`,\n",
    "- the volume table which is a distribution of policies by attributes,\n",
    "- an as of date, and\n",
    "- a seed if wanting to have reproducibility when generating the extract."
   ]
  },
  {
   "cell_type": "code",
   "execution_count": 8,
   "metadata": {},
   "outputs": [],
   "source": [
    "from footings_idi_model.utils import extract_generator_model\n",
    "volume_tbl = pd.read_csv(\"volume-tbl.csv\")\n",
    "dl_extract = extract_generator_model(\n",
    "    n=10, \n",
    "    extract_type=\"disabled-lives\", \n",
    "    volume_tbl=volume_tbl, \n",
    "    as_of_dt=pd.Timestamp(\"2020-03-31\"), \n",
    "    seed=1\n",
    ").run()"
   ]
  },
  {
   "cell_type": "markdown",
   "metadata": {},
   "source": [
    "### Disabled Lives Model"
   ]
  },
  {
   "cell_type": "markdown",
   "metadata": {},
   "source": [
    "The disabled lives model requires the an extract with the following columns. Note the similarities to the arguments required of the `dlr_deterministic_model`."
   ]
  },
  {
   "cell_type": "code",
   "execution_count": 9,
   "metadata": {
    "tags": []
   },
   "outputs": [
    {
     "output_type": "stream",
     "name": "stdout",
     "text": "<class 'pandas.core.frame.DataFrame'>\nRangeIndex: 10 entries, 0 to 9\nData columns (total 16 columns):\n #   Column                Non-Null Count  Dtype         \n---  ------                --------------  -----         \n 0   POLICY_ID             10 non-null     object        \n 1   BIRTH_DT              10 non-null     datetime64[ns]\n 2   GENDER                10 non-null     object        \n 3   TOBACCO_USAGE         10 non-null     object        \n 4   CLAIM_ID              10 non-null     object        \n 5   COVERAGE_ID           10 non-null     object        \n 6   INCURRED_DT           10 non-null     datetime64[ns]\n 7   TERMINATION_DT        10 non-null     datetime64[ns]\n 8   ELIMINATION_PERIOD    10 non-null     int64         \n 9   BENEFIT_AMOUNT        10 non-null     float64       \n 10  IDI_OCCUPATION_CLASS  10 non-null     object        \n 11  IDI_CONTRACT          10 non-null     object        \n 12  IDI_BENEFIT_PERIOD    10 non-null     object        \n 13  IDI_MARKET            10 non-null     object        \n 14  IDI_DIAGNOSIS_GRP     10 non-null     object        \n 15  COLA_PERCENT          10 non-null     float64       \ndtypes: datetime64[ns](3), float64(2), int64(1), object(10)\nmemory usage: 1.4+ KB\n"
    }
   ],
   "source": [
    "dl_extract.info()"
   ]
  },
  {
   "cell_type": "markdown",
   "metadata": {},
   "source": [
    "A view of the extract is below."
   ]
  },
  {
   "cell_type": "code",
   "execution_count": 10,
   "metadata": {},
   "outputs": [
    {
     "output_type": "execute_result",
     "data": {
      "text/plain": "  POLICY_ID   BIRTH_DT GENDER TOBACCO_USAGE CLAIM_ID COVERAGE_ID INCURRED_DT  \\\n0        M1 1967-11-27      F             N     M1C1        base  2007-07-02   \n1        M2 1969-01-03      M             N     M2C1        base  2019-03-22   \n2        M3 1987-01-25      M             N     M3C1        base  2012-01-27   \n3        M4 1957-01-28      F             Y     M4C1        base  1992-08-28   \n4        M5 1989-02-26      F             Y     M5C1        base  2019-04-17   \n5        M6 1967-05-13      F             N     M6C1        base  1995-08-06   \n6        M7 1973-12-03      M             N     M7C1        base  2005-06-10   \n7        M8 1964-10-07      M             N     M8C1        base  2001-11-11   \n8        M9 1976-12-28      M             Y     M9C1        base  2015-11-17   \n9       M10 1961-04-21      M             Y    M10C1        base  2005-02-28   \n\n  TERMINATION_DT  ELIMINATION_PERIOD  BENEFIT_AMOUNT IDI_OCCUPATION_CLASS  \\\n0     2037-11-27                 360           100.0                    M   \n1     2020-09-22                  14           100.0                    4   \n2     2052-01-25                 180           100.0                    M   \n3     2024-01-28                  90           100.0                    1   \n4     2054-02-26                  90           100.0                    2   \n5     2032-05-13                 180           100.0                    1   \n6     2040-12-03                 360           100.0                    2   \n7     2034-10-07                 720           100.0                    1   \n8     2046-12-28                  90           100.0                    2   \n9     2081-04-21                 180           100.0                    2   \n\n  IDI_CONTRACT IDI_BENEFIT_PERIOD IDI_MARKET IDI_DIAGNOSIS_GRP  COLA_PERCENT  \n0           AS               TO70       INDV          VERY_LOW          0.02  \n1           AS                18M       INDV          VERY_LOW          0.00  \n2           AS               TO65       INDV          VERY_LOW          0.03  \n3           AS               TO67       INDV         VERY_HIGH          0.03  \n4           AO               TO65       INDV         VERY_HIGH          0.03  \n5           AS               TO65       INDV               LOW          0.03  \n6           AO               TO67       INDV          VERY_LOW          0.03  \n7           AO               TO70       INDV               LOW          0.00  \n8           AO               TO70       INDV         VERY_HIGH          0.03  \n9           SO               LIFE       INDV               LOW          0.02  ",
      "text/html": "<div>\n<style scoped>\n    .dataframe tbody tr th:only-of-type {\n        vertical-align: middle;\n    }\n\n    .dataframe tbody tr th {\n        vertical-align: top;\n    }\n\n    .dataframe thead th {\n        text-align: right;\n    }\n</style>\n<table border=\"1\" class=\"dataframe\">\n  <thead>\n    <tr style=\"text-align: right;\">\n      <th></th>\n      <th>POLICY_ID</th>\n      <th>BIRTH_DT</th>\n      <th>GENDER</th>\n      <th>TOBACCO_USAGE</th>\n      <th>CLAIM_ID</th>\n      <th>COVERAGE_ID</th>\n      <th>INCURRED_DT</th>\n      <th>TERMINATION_DT</th>\n      <th>ELIMINATION_PERIOD</th>\n      <th>BENEFIT_AMOUNT</th>\n      <th>IDI_OCCUPATION_CLASS</th>\n      <th>IDI_CONTRACT</th>\n      <th>IDI_BENEFIT_PERIOD</th>\n      <th>IDI_MARKET</th>\n      <th>IDI_DIAGNOSIS_GRP</th>\n      <th>COLA_PERCENT</th>\n    </tr>\n  </thead>\n  <tbody>\n    <tr>\n      <th>0</th>\n      <td>M1</td>\n      <td>1967-11-27</td>\n      <td>F</td>\n      <td>N</td>\n      <td>M1C1</td>\n      <td>base</td>\n      <td>2007-07-02</td>\n      <td>2037-11-27</td>\n      <td>360</td>\n      <td>100.0</td>\n      <td>M</td>\n      <td>AS</td>\n      <td>TO70</td>\n      <td>INDV</td>\n      <td>VERY_LOW</td>\n      <td>0.02</td>\n    </tr>\n    <tr>\n      <th>1</th>\n      <td>M2</td>\n      <td>1969-01-03</td>\n      <td>M</td>\n      <td>N</td>\n      <td>M2C1</td>\n      <td>base</td>\n      <td>2019-03-22</td>\n      <td>2020-09-22</td>\n      <td>14</td>\n      <td>100.0</td>\n      <td>4</td>\n      <td>AS</td>\n      <td>18M</td>\n      <td>INDV</td>\n      <td>VERY_LOW</td>\n      <td>0.00</td>\n    </tr>\n    <tr>\n      <th>2</th>\n      <td>M3</td>\n      <td>1987-01-25</td>\n      <td>M</td>\n      <td>N</td>\n      <td>M3C1</td>\n      <td>base</td>\n      <td>2012-01-27</td>\n      <td>2052-01-25</td>\n      <td>180</td>\n      <td>100.0</td>\n      <td>M</td>\n      <td>AS</td>\n      <td>TO65</td>\n      <td>INDV</td>\n      <td>VERY_LOW</td>\n      <td>0.03</td>\n    </tr>\n    <tr>\n      <th>3</th>\n      <td>M4</td>\n      <td>1957-01-28</td>\n      <td>F</td>\n      <td>Y</td>\n      <td>M4C1</td>\n      <td>base</td>\n      <td>1992-08-28</td>\n      <td>2024-01-28</td>\n      <td>90</td>\n      <td>100.0</td>\n      <td>1</td>\n      <td>AS</td>\n      <td>TO67</td>\n      <td>INDV</td>\n      <td>VERY_HIGH</td>\n      <td>0.03</td>\n    </tr>\n    <tr>\n      <th>4</th>\n      <td>M5</td>\n      <td>1989-02-26</td>\n      <td>F</td>\n      <td>Y</td>\n      <td>M5C1</td>\n      <td>base</td>\n      <td>2019-04-17</td>\n      <td>2054-02-26</td>\n      <td>90</td>\n      <td>100.0</td>\n      <td>2</td>\n      <td>AO</td>\n      <td>TO65</td>\n      <td>INDV</td>\n      <td>VERY_HIGH</td>\n      <td>0.03</td>\n    </tr>\n    <tr>\n      <th>5</th>\n      <td>M6</td>\n      <td>1967-05-13</td>\n      <td>F</td>\n      <td>N</td>\n      <td>M6C1</td>\n      <td>base</td>\n      <td>1995-08-06</td>\n      <td>2032-05-13</td>\n      <td>180</td>\n      <td>100.0</td>\n      <td>1</td>\n      <td>AS</td>\n      <td>TO65</td>\n      <td>INDV</td>\n      <td>LOW</td>\n      <td>0.03</td>\n    </tr>\n    <tr>\n      <th>6</th>\n      <td>M7</td>\n      <td>1973-12-03</td>\n      <td>M</td>\n      <td>N</td>\n      <td>M7C1</td>\n      <td>base</td>\n      <td>2005-06-10</td>\n      <td>2040-12-03</td>\n      <td>360</td>\n      <td>100.0</td>\n      <td>2</td>\n      <td>AO</td>\n      <td>TO67</td>\n      <td>INDV</td>\n      <td>VERY_LOW</td>\n      <td>0.03</td>\n    </tr>\n    <tr>\n      <th>7</th>\n      <td>M8</td>\n      <td>1964-10-07</td>\n      <td>M</td>\n      <td>N</td>\n      <td>M8C1</td>\n      <td>base</td>\n      <td>2001-11-11</td>\n      <td>2034-10-07</td>\n      <td>720</td>\n      <td>100.0</td>\n      <td>1</td>\n      <td>AO</td>\n      <td>TO70</td>\n      <td>INDV</td>\n      <td>LOW</td>\n      <td>0.00</td>\n    </tr>\n    <tr>\n      <th>8</th>\n      <td>M9</td>\n      <td>1976-12-28</td>\n      <td>M</td>\n      <td>Y</td>\n      <td>M9C1</td>\n      <td>base</td>\n      <td>2015-11-17</td>\n      <td>2046-12-28</td>\n      <td>90</td>\n      <td>100.0</td>\n      <td>2</td>\n      <td>AO</td>\n      <td>TO70</td>\n      <td>INDV</td>\n      <td>VERY_HIGH</td>\n      <td>0.03</td>\n    </tr>\n    <tr>\n      <th>9</th>\n      <td>M10</td>\n      <td>1961-04-21</td>\n      <td>M</td>\n      <td>Y</td>\n      <td>M10C1</td>\n      <td>base</td>\n      <td>2005-02-28</td>\n      <td>2081-04-21</td>\n      <td>180</td>\n      <td>100.0</td>\n      <td>2</td>\n      <td>SO</td>\n      <td>LIFE</td>\n      <td>INDV</td>\n      <td>LOW</td>\n      <td>0.02</td>\n    </tr>\n  </tbody>\n</table>\n</div>"
     },
     "metadata": {},
     "execution_count": 10
    }
   ],
   "source": [
    "dl_extract"
   ]
  },
  {
   "cell_type": "markdown",
   "metadata": {},
   "source": [
    "Modeling disabled lives has fewer inputs as most of the policy inputs come in on the extract."
   ]
  },
  {
   "cell_type": "code",
   "execution_count": 11,
   "metadata": {},
   "outputs": [],
   "source": [
    "from footings_idi_model.population_models import disabled_lives_model\n",
    "\n",
    "dl_population_init_model = disabled_lives_model(\n",
    "    extract=dl_extract, \n",
    "    valuation_dt=pd.Timestamp(\"2020-03-31\"),\n",
    "    assumption_set=\"stat\",\n",
    "    policy_model=\"deterministic\",\n",
    ")"
   ]
  },
  {
   "cell_type": "markdown",
   "metadata": {},
   "source": [
    "Similar to the DLR deterministic policy model, to run the model requires applying the `run()` method of the object. The model returns three tables -\n",
    "\n",
    "- a time 0 view (i.e., dl_time_0),\n",
    "- a projection view (i.e., dl_projected), and\n",
    "- any policy's that error out when running the model (i.e., dl_errors). "
   ]
  },
  {
   "cell_type": "code",
   "execution_count": 12,
   "metadata": {},
   "outputs": [],
   "source": [
    "dl_time_0, dl_projected, dl_errors  = dl_population_init_model.run()"
   ]
  },
  {
   "cell_type": "markdown",
   "metadata": {},
   "source": [
    "A view of each of the tables are shown below."
   ]
  },
  {
   "cell_type": "code",
   "execution_count": 13,
   "metadata": {},
   "outputs": [
    {
     "output_type": "execute_result",
     "data": {
      "text/plain": "  POLICY_ID       DLR\n0        M1  17919.03\n1        M2    544.63\n2        M3  28189.83\n3        M4   4462.12\n4        M5   9988.54\n5        M6  13419.95\n6        M7  20020.85\n7        M8  12218.84\n8        M9  19922.56\n9       M10  21002.99",
      "text/html": "<div>\n<style scoped>\n    .dataframe tbody tr th:only-of-type {\n        vertical-align: middle;\n    }\n\n    .dataframe tbody tr th {\n        vertical-align: top;\n    }\n\n    .dataframe thead th {\n        text-align: right;\n    }\n</style>\n<table border=\"1\" class=\"dataframe\">\n  <thead>\n    <tr style=\"text-align: right;\">\n      <th></th>\n      <th>POLICY_ID</th>\n      <th>DLR</th>\n    </tr>\n  </thead>\n  <tbody>\n    <tr>\n      <th>0</th>\n      <td>M1</td>\n      <td>17919.03</td>\n    </tr>\n    <tr>\n      <th>1</th>\n      <td>M2</td>\n      <td>544.63</td>\n    </tr>\n    <tr>\n      <th>2</th>\n      <td>M3</td>\n      <td>28189.83</td>\n    </tr>\n    <tr>\n      <th>3</th>\n      <td>M4</td>\n      <td>4462.12</td>\n    </tr>\n    <tr>\n      <th>4</th>\n      <td>M5</td>\n      <td>9988.54</td>\n    </tr>\n    <tr>\n      <th>5</th>\n      <td>M6</td>\n      <td>13419.95</td>\n    </tr>\n    <tr>\n      <th>6</th>\n      <td>M7</td>\n      <td>20020.85</td>\n    </tr>\n    <tr>\n      <th>7</th>\n      <td>M8</td>\n      <td>12218.84</td>\n    </tr>\n    <tr>\n      <th>8</th>\n      <td>M9</td>\n      <td>19922.56</td>\n    </tr>\n    <tr>\n      <th>9</th>\n      <td>M10</td>\n      <td>21002.99</td>\n    </tr>\n  </tbody>\n</table>\n</div>"
     },
     "metadata": {},
     "execution_count": 13
    }
   ],
   "source": [
    "dl_time_0"
   ]
  },
  {
   "cell_type": "code",
   "execution_count": 14,
   "metadata": {},
   "outputs": [
    {
     "output_type": "execute_result",
     "data": {
      "text/plain": "    POLICY_ID    DATE_BD    DATE_ED  DURATION_YEAR  DURATION_MONTH  \\\n0          M1 2020-03-02 2020-04-02             13             153   \n1          M1 2020-04-02 2020-05-02             13             154   \n2          M1 2020-05-02 2020-06-02             13             155   \n3          M1 2020-06-02 2020-07-02             13             156   \n4          M1 2020-07-02 2020-08-02             14             157   \n..        ...        ...        ...            ...             ...   \n728       M10 2080-11-28 2080-12-28             76             910   \n729       M10 2080-12-28 2081-01-28             76             911   \n730       M10 2081-01-28 2081-02-28             76             912   \n731       M10 2081-02-28 2081-03-28             77             913   \n732       M10 2081-03-28 2081-04-28             77             914   \n\n     EXPOSURE_FACTOR  BENEFIT_AMOUNT       CTR      LIVES_BD      LIVES_MD  \\\n0           1.000000          100.00  0.000876  1.000000e+00  9.995619e-01   \n1           1.000000          100.00  0.000876  9.991238e-01  9.986860e-01   \n2           1.000000          100.00  0.000876  9.982483e-01  9.978109e-01   \n3           1.000000          100.00  0.000856  9.973736e-01  9.969468e-01   \n4           1.000000          102.00  0.000856  9.965200e-01  9.960936e-01   \n..               ...             ...       ...           ...           ...   \n728         1.000000          328.10  0.039377  5.350172e-08  5.244836e-08   \n729         1.000000          328.10  0.039377  5.139500e-08  5.038311e-08   \n730         1.000000          328.10  0.039377  4.937123e-08  4.839919e-08   \n731         1.000000          334.67  0.039377  4.742715e-08  4.649338e-08   \n732         0.774194          259.10  0.039377  4.555962e-08  4.466262e-08   \n\n         LIVES_ED  DISCOUNT_BD  DISCOUNT_MD  DISCOUNT_ED   PVFB_BD   PVFB_ED  \\\n0    9.991238e-01     1.000000     0.998769     0.997540  17956.53  17856.69   \n1    9.982483e-01     0.997540     0.996312     0.995086  17856.69  17757.19   \n2    9.973736e-01     0.995086     0.993861     0.992638  17757.19  17658.03   \n3    9.965200e-01     0.992638     0.991416     0.990195  17658.03  17559.19   \n4    9.956672e-01     0.990195     0.988977     0.987759  17559.19  17458.70   \n..            ...          ...          ...          ...       ...       ...   \n728  5.139500e-08     0.166421     0.166216     0.166012      0.00      0.00   \n729  4.937123e-08     0.166012     0.165807     0.165603      0.00      0.00   \n730  4.742715e-08     0.165603     0.165399     0.165196      0.00      0.00   \n731  4.555962e-08     0.165196     0.164992     0.164789      0.00      0.00   \n732  4.376563e-08     0.164789     0.164587     0.164384      0.00      0.00   \n\n      DATE_DLR       DLR  \n0   2020-03-31  17919.03  \n1   2020-04-30  17878.81  \n2   2020-05-31  17838.46  \n3   2020-06-30  17797.63  \n4   2020-07-31  17754.75  \n..         ...       ...  \n728 2080-11-30      0.00  \n729 2080-12-31      0.00  \n730 2081-01-31      0.00  \n731 2081-02-28      0.00  \n732 2081-03-31      0.00  \n\n[2681 rows x 18 columns]",
      "text/html": "<div>\n<style scoped>\n    .dataframe tbody tr th:only-of-type {\n        vertical-align: middle;\n    }\n\n    .dataframe tbody tr th {\n        vertical-align: top;\n    }\n\n    .dataframe thead th {\n        text-align: right;\n    }\n</style>\n<table border=\"1\" class=\"dataframe\">\n  <thead>\n    <tr style=\"text-align: right;\">\n      <th></th>\n      <th>POLICY_ID</th>\n      <th>DATE_BD</th>\n      <th>DATE_ED</th>\n      <th>DURATION_YEAR</th>\n      <th>DURATION_MONTH</th>\n      <th>EXPOSURE_FACTOR</th>\n      <th>BENEFIT_AMOUNT</th>\n      <th>CTR</th>\n      <th>LIVES_BD</th>\n      <th>LIVES_MD</th>\n      <th>LIVES_ED</th>\n      <th>DISCOUNT_BD</th>\n      <th>DISCOUNT_MD</th>\n      <th>DISCOUNT_ED</th>\n      <th>PVFB_BD</th>\n      <th>PVFB_ED</th>\n      <th>DATE_DLR</th>\n      <th>DLR</th>\n    </tr>\n  </thead>\n  <tbody>\n    <tr>\n      <th>0</th>\n      <td>M1</td>\n      <td>2020-03-02</td>\n      <td>2020-04-02</td>\n      <td>13</td>\n      <td>153</td>\n      <td>1.000000</td>\n      <td>100.00</td>\n      <td>0.000876</td>\n      <td>1.000000e+00</td>\n      <td>9.995619e-01</td>\n      <td>9.991238e-01</td>\n      <td>1.000000</td>\n      <td>0.998769</td>\n      <td>0.997540</td>\n      <td>17956.53</td>\n      <td>17856.69</td>\n      <td>2020-03-31</td>\n      <td>17919.03</td>\n    </tr>\n    <tr>\n      <th>1</th>\n      <td>M1</td>\n      <td>2020-04-02</td>\n      <td>2020-05-02</td>\n      <td>13</td>\n      <td>154</td>\n      <td>1.000000</td>\n      <td>100.00</td>\n      <td>0.000876</td>\n      <td>9.991238e-01</td>\n      <td>9.986860e-01</td>\n      <td>9.982483e-01</td>\n      <td>0.997540</td>\n      <td>0.996312</td>\n      <td>0.995086</td>\n      <td>17856.69</td>\n      <td>17757.19</td>\n      <td>2020-04-30</td>\n      <td>17878.81</td>\n    </tr>\n    <tr>\n      <th>2</th>\n      <td>M1</td>\n      <td>2020-05-02</td>\n      <td>2020-06-02</td>\n      <td>13</td>\n      <td>155</td>\n      <td>1.000000</td>\n      <td>100.00</td>\n      <td>0.000876</td>\n      <td>9.982483e-01</td>\n      <td>9.978109e-01</td>\n      <td>9.973736e-01</td>\n      <td>0.995086</td>\n      <td>0.993861</td>\n      <td>0.992638</td>\n      <td>17757.19</td>\n      <td>17658.03</td>\n      <td>2020-05-31</td>\n      <td>17838.46</td>\n    </tr>\n    <tr>\n      <th>3</th>\n      <td>M1</td>\n      <td>2020-06-02</td>\n      <td>2020-07-02</td>\n      <td>13</td>\n      <td>156</td>\n      <td>1.000000</td>\n      <td>100.00</td>\n      <td>0.000856</td>\n      <td>9.973736e-01</td>\n      <td>9.969468e-01</td>\n      <td>9.965200e-01</td>\n      <td>0.992638</td>\n      <td>0.991416</td>\n      <td>0.990195</td>\n      <td>17658.03</td>\n      <td>17559.19</td>\n      <td>2020-06-30</td>\n      <td>17797.63</td>\n    </tr>\n    <tr>\n      <th>4</th>\n      <td>M1</td>\n      <td>2020-07-02</td>\n      <td>2020-08-02</td>\n      <td>14</td>\n      <td>157</td>\n      <td>1.000000</td>\n      <td>102.00</td>\n      <td>0.000856</td>\n      <td>9.965200e-01</td>\n      <td>9.960936e-01</td>\n      <td>9.956672e-01</td>\n      <td>0.990195</td>\n      <td>0.988977</td>\n      <td>0.987759</td>\n      <td>17559.19</td>\n      <td>17458.70</td>\n      <td>2020-07-31</td>\n      <td>17754.75</td>\n    </tr>\n    <tr>\n      <th>...</th>\n      <td>...</td>\n      <td>...</td>\n      <td>...</td>\n      <td>...</td>\n      <td>...</td>\n      <td>...</td>\n      <td>...</td>\n      <td>...</td>\n      <td>...</td>\n      <td>...</td>\n      <td>...</td>\n      <td>...</td>\n      <td>...</td>\n      <td>...</td>\n      <td>...</td>\n      <td>...</td>\n      <td>...</td>\n      <td>...</td>\n    </tr>\n    <tr>\n      <th>728</th>\n      <td>M10</td>\n      <td>2080-11-28</td>\n      <td>2080-12-28</td>\n      <td>76</td>\n      <td>910</td>\n      <td>1.000000</td>\n      <td>328.10</td>\n      <td>0.039377</td>\n      <td>5.350172e-08</td>\n      <td>5.244836e-08</td>\n      <td>5.139500e-08</td>\n      <td>0.166421</td>\n      <td>0.166216</td>\n      <td>0.166012</td>\n      <td>0.00</td>\n      <td>0.00</td>\n      <td>2080-11-30</td>\n      <td>0.00</td>\n    </tr>\n    <tr>\n      <th>729</th>\n      <td>M10</td>\n      <td>2080-12-28</td>\n      <td>2081-01-28</td>\n      <td>76</td>\n      <td>911</td>\n      <td>1.000000</td>\n      <td>328.10</td>\n      <td>0.039377</td>\n      <td>5.139500e-08</td>\n      <td>5.038311e-08</td>\n      <td>4.937123e-08</td>\n      <td>0.166012</td>\n      <td>0.165807</td>\n      <td>0.165603</td>\n      <td>0.00</td>\n      <td>0.00</td>\n      <td>2080-12-31</td>\n      <td>0.00</td>\n    </tr>\n    <tr>\n      <th>730</th>\n      <td>M10</td>\n      <td>2081-01-28</td>\n      <td>2081-02-28</td>\n      <td>76</td>\n      <td>912</td>\n      <td>1.000000</td>\n      <td>328.10</td>\n      <td>0.039377</td>\n      <td>4.937123e-08</td>\n      <td>4.839919e-08</td>\n      <td>4.742715e-08</td>\n      <td>0.165603</td>\n      <td>0.165399</td>\n      <td>0.165196</td>\n      <td>0.00</td>\n      <td>0.00</td>\n      <td>2081-01-31</td>\n      <td>0.00</td>\n    </tr>\n    <tr>\n      <th>731</th>\n      <td>M10</td>\n      <td>2081-02-28</td>\n      <td>2081-03-28</td>\n      <td>77</td>\n      <td>913</td>\n      <td>1.000000</td>\n      <td>334.67</td>\n      <td>0.039377</td>\n      <td>4.742715e-08</td>\n      <td>4.649338e-08</td>\n      <td>4.555962e-08</td>\n      <td>0.165196</td>\n      <td>0.164992</td>\n      <td>0.164789</td>\n      <td>0.00</td>\n      <td>0.00</td>\n      <td>2081-02-28</td>\n      <td>0.00</td>\n    </tr>\n    <tr>\n      <th>732</th>\n      <td>M10</td>\n      <td>2081-03-28</td>\n      <td>2081-04-28</td>\n      <td>77</td>\n      <td>914</td>\n      <td>0.774194</td>\n      <td>259.10</td>\n      <td>0.039377</td>\n      <td>4.555962e-08</td>\n      <td>4.466262e-08</td>\n      <td>4.376563e-08</td>\n      <td>0.164789</td>\n      <td>0.164587</td>\n      <td>0.164384</td>\n      <td>0.00</td>\n      <td>0.00</td>\n      <td>2081-03-31</td>\n      <td>0.00</td>\n    </tr>\n  </tbody>\n</table>\n<p>2681 rows × 18 columns</p>\n</div>"
     },
     "metadata": {},
     "execution_count": 14
    }
   ],
   "source": [
    "dl_projected"
   ]
  },
  {
   "cell_type": "code",
   "execution_count": 15,
   "metadata": {},
   "outputs": [
    {
     "output_type": "execute_result",
     "data": {
      "text/plain": "[]"
     },
     "metadata": {},
     "execution_count": 15
    }
   ],
   "source": [
    "dl_errors"
   ]
  },
  {
   "cell_type": "markdown",
   "metadata": {},
   "source": [
    "### Active Lives Model"
   ]
  },
  {
   "cell_type": "markdown",
   "metadata": {},
   "source": [
    "The same patterns of the `disabled_lives_model` applies to the `active_lives_model` as the below code shows."
   ]
  },
  {
   "cell_type": "markdown",
   "metadata": {},
   "source": [
    "Generate active lives extract -"
   ]
  },
  {
   "cell_type": "code",
   "execution_count": 16,
   "metadata": {},
   "outputs": [],
   "source": [
    "al_extract = extract_generator_model(\n",
    "    n=10, \n",
    "    extract_type=\"active-lives\", \n",
    "    volume_tbl=volume_tbl, \n",
    "    as_of_dt=pd.Timestamp(\"2020-03-31\"), \n",
    "    seed=1\n",
    ").run()"
   ]
  },
  {
   "cell_type": "markdown",
   "metadata": {},
   "source": [
    "Instantiate model -"
   ]
  },
  {
   "cell_type": "code",
   "execution_count": 18,
   "metadata": {},
   "outputs": [],
   "source": [
    "from footings_idi_model.population_models import active_lives_model\n",
    "\n",
    "al_population_init_model = active_lives_model(\n",
    "    extract=al_extract, \n",
    "    valuation_dt=pd.Timestamp(\"2020-03-31\"),\n",
    "    assumption_set=\"stat\",\n",
    "    net_benefit_method=\"PT1\",\n",
    "    policy_model=\"deterministic\",\n",
    ")"
   ]
  },
  {
   "cell_type": "markdown",
   "metadata": {},
   "source": [
    "Run the model -"
   ]
  },
  {
   "cell_type": "code",
   "execution_count": 19,
   "metadata": {
    "tags": []
   },
   "outputs": [
    {
     "output_type": "stream",
     "name": "stdout",
     "text": "<class 'pandas.core.series.Series'>\n0    2041-04-05\n1    2041-04-05\n2    2041-04-05\n3    2041-04-05\n4    2041-04-05\n        ...    \n56   2041-04-05\n57   2041-04-05\n58   2041-04-05\n59   2041-04-05\n60   2041-04-05\nName: termination_dt, Length: 61, dtype: datetime64[ns]\n<class 'pandas.core.series.Series'>\n0    2026-12-16\n1    2026-12-16\n2    2026-12-16\n3    2026-12-16\n4    2026-12-16\n5    2026-12-16\n6    2026-12-16\n7    2026-12-16\n8    2026-12-16\n9    2026-12-16\n10   2026-12-16\n11   2026-12-16\n12   2026-12-16\n13   2026-12-16\n14   2026-12-16\n15   2026-12-16\n16   2026-12-16\n17   2026-12-16\n18   2026-12-16\n19   2026-12-16\n20   2026-12-16\n21   2026-12-16\n22   2026-12-16\n23   2026-12-16\n24   2026-12-16\n25   2026-12-16\n26   2026-12-16\n27   2026-12-16\n28   2026-12-16\n29   2026-12-16\n30   2026-12-16\n31   2026-12-16\n32   2026-12-16\n33   2026-12-16\n34   2026-12-16\n35   2026-12-16\n36   2026-12-16\n37   2026-12-16\n38   2026-12-16\n39   2026-12-16\n40   2026-12-16\n41   2026-12-16\n42   2026-12-16\n43   2026-12-16\n44   2026-12-16\n45   2026-12-16\n46   2026-12-16\n47   2026-12-16\n48   2026-12-16\n49   2026-12-16\n50   2026-12-16\n51   2026-12-16\n52   2026-12-16\n53   2026-12-16\n54   2026-12-16\n55   2026-12-16\n56   2026-12-16\nName: termination_dt, dtype: datetime64[ns]\n<class 'pandas.core.series.Series'>\n0    2037-10-17\n1    2037-10-17\n2    2037-10-17\n3    2037-10-17\n4    2037-10-17\n        ...    \n57   2037-10-17\n58   2037-10-17\n59   2037-10-17\n60   2037-10-17\n61   2037-10-17\nName: termination_dt, Length: 62, dtype: datetime64[ns]\n"
    }
   ],
   "source": [
    "al_time_0, al_projected, al_errors  = al_population_init_model.run()"
   ]
  },
  {
   "cell_type": "markdown",
   "metadata": {},
   "source": [
    "Review output -"
   ]
  },
  {
   "cell_type": "code",
   "execution_count": 20,
   "metadata": {},
   "outputs": [
    {
     "output_type": "execute_result",
     "data": {
      "text/plain": "  POLICY_ID       ALR\n0        M1      0.00\n1        M2    994.09\n2       M10  23935.65",
      "text/html": "<div>\n<style scoped>\n    .dataframe tbody tr th:only-of-type {\n        vertical-align: middle;\n    }\n\n    .dataframe tbody tr th {\n        vertical-align: top;\n    }\n\n    .dataframe thead th {\n        text-align: right;\n    }\n</style>\n<table border=\"1\" class=\"dataframe\">\n  <thead>\n    <tr style=\"text-align: right;\">\n      <th></th>\n      <th>POLICY_ID</th>\n      <th>ALR</th>\n    </tr>\n  </thead>\n  <tbody>\n    <tr>\n      <th>0</th>\n      <td>M1</td>\n      <td>0.00</td>\n    </tr>\n    <tr>\n      <th>1</th>\n      <td>M2</td>\n      <td>994.09</td>\n    </tr>\n    <tr>\n      <th>2</th>\n      <td>M10</td>\n      <td>23935.65</td>\n    </tr>\n  </tbody>\n</table>\n</div>"
     },
     "metadata": {},
     "execution_count": 20
    }
   ],
   "source": [
    "al_time_0"
   ]
  },
  {
   "cell_type": "code",
   "execution_count": 21,
   "metadata": {},
   "outputs": [
    {
     "output_type": "execute_result",
     "data": {
      "text/plain": "   POLICY_ID    DATE_BD    DATE_ED  DURATION_YEAR  LIVES_BD  LIVES_MD  \\\n40        M1 2020-08-26 2021-08-26             41  0.966762  0.965345   \n41        M1 2021-08-26 2022-08-26             42  0.963929  0.962367   \n42        M1 2022-08-26 2023-08-26             43  0.960806  0.959076   \n43        M1 2023-08-26 2024-08-26             44  0.957347  0.955437   \n44        M1 2024-08-26 2025-08-26             45  0.953527  0.951425   \n45        M1 2025-08-26 2026-08-26             46  0.949322  0.947015   \n46        M1 2026-08-26 2027-08-26             47  0.944708  0.942177   \n47        M1 2027-08-26 2028-08-26             48  0.939645  0.936868   \n48        M1 2028-08-26 2029-08-26             49  0.934091  0.931070   \n49        M1 2029-08-26 2030-08-26             50  0.928048  0.924776   \n50        M1 2030-08-26 2031-08-26             51  0.921505  0.917976   \n51        M1 2031-08-26 2032-08-26             52  0.914446  0.910647   \n52        M1 2032-08-26 2033-08-26             53  0.906847  0.902766   \n53        M1 2033-08-26 2034-08-26             54  0.898686  0.894309   \n54        M1 2034-08-26 2035-08-26             55  0.889932  0.885243   \n55        M1 2035-08-26 2036-08-26             56  0.880553  0.875533   \n56        M1 2036-08-26 2037-08-26             57  0.870514  0.865148   \n57        M1 2037-08-26 2038-08-26             58  0.859781  0.854042   \n58        M1 2038-08-26 2039-08-26             59  0.848303  0.842161   \n59        M1 2039-08-26 2040-08-26             60  0.836019  0.829452   \n60        M1 2040-08-26 2041-08-26             61  0.822885  0.815858   \n51        M2 2021-01-13 2022-01-13             52  0.897395  0.893169   \n52        M2 2022-01-13 2023-01-13             53  0.888942  0.884319   \n53        M2 2023-01-13 2024-01-13             54  0.879697  0.874599   \n54        M2 2024-01-13 2025-01-13             55  0.869501  0.863858   \n55        M2 2025-01-13 2026-01-13             56  0.858215  0.852006   \n56        M2 2026-01-13 2027-01-13             57  0.845797  0.839013   \n44       M10 2020-05-22 2021-05-22             45  0.957447  0.955891   \n45       M10 2021-05-22 2022-05-22             46  0.954335  0.952703   \n46       M10 2022-05-22 2023-05-22             47  0.951071  0.949340   \n47       M10 2023-05-22 2024-05-22             48  0.947609  0.945757   \n48       M10 2024-05-22 2025-05-22             49  0.943904  0.941893   \n49       M10 2025-05-22 2026-05-22             50  0.939883  0.937674   \n50       M10 2026-05-22 2027-05-22             51  0.935466  0.933029   \n51       M10 2027-05-22 2028-05-22             52  0.930592  0.927879   \n52       M10 2028-05-22 2029-05-22             53  0.925166  0.922150   \n53       M10 2029-05-22 2030-05-22             54  0.919134  0.915798   \n54       M10 2030-05-22 2031-05-22             55  0.912461  0.908834   \n55       M10 2031-05-22 2032-05-22             56  0.905207  0.901301   \n56       M10 2032-05-22 2033-05-22             57  0.897395  0.893169   \n57       M10 2033-05-22 2034-05-22             58  0.888942  0.884319   \n58       M10 2034-05-22 2035-05-22             59  0.879697  0.874599   \n59       M10 2035-05-22 2036-05-22             60  0.869501  0.863858   \n60       M10 2036-05-22 2037-05-22             61  0.858215  0.852006   \n61       M10 2037-05-22 2038-05-22             62  0.845797  0.839013   \n\n    LIVES_ED  DISCOUNT_BD  DISCOUNT_MD  DISCOUNT_ED  BENEFIT_AMOUNT  \\\n40  0.963929     0.306557     0.302059     0.297628          220.80   \n41  0.960806     0.297628     0.293262     0.288959          225.22   \n42  0.957347     0.288959     0.284720     0.280543          229.72   \n43  0.953527     0.280543     0.276427     0.272372          234.32   \n44  0.949322     0.272372     0.268376     0.264439          239.01   \n45  0.944708     0.264439     0.260559     0.256737          243.79   \n46  0.939645     0.256737     0.252970     0.249259          248.66   \n47  0.934091     0.249259     0.245602     0.241999          253.63   \n48  0.928048     0.241999     0.238449     0.234950          258.71   \n49  0.921505     0.234950     0.231503     0.228107          263.88   \n50  0.914446     0.228107     0.224761     0.221463          269.16   \n51  0.906847     0.221463     0.218214     0.215013          274.54   \n52  0.898686     0.215013     0.211858     0.208750          280.03   \n53  0.889932     0.208750     0.205688     0.202670          285.63   \n54  0.880553     0.202670     0.199697     0.196767          291.35   \n55  0.870514     0.196767     0.193880     0.191036          297.17   \n56  0.859781     0.191036     0.188233     0.185472          303.12   \n57  0.848303     0.185472     0.182751     0.180070          309.18   \n58  0.836019     0.180070     0.177428     0.174825          315.36   \n59  0.822885     0.174825     0.172260     0.169733          321.67   \n60  0.808831     0.169733     0.167243     0.164789          328.10   \n51  0.888942     0.221463     0.218214     0.215013          100.00   \n52  0.879697     0.215013     0.211858     0.208750          100.00   \n53  0.869501     0.208750     0.205688     0.202670          100.00   \n54  0.858215     0.202670     0.199697     0.196767          100.00   \n55  0.845797     0.196767     0.193880     0.191036          100.00   \n56  0.832230     0.191036     0.188233     0.185472          100.00   \n44  0.954335     0.272372     0.268376     0.264439          239.01   \n45  0.951071     0.264439     0.260559     0.256737          243.79   \n46  0.947609     0.256737     0.252970     0.249259          248.66   \n47  0.943904     0.249259     0.245602     0.241999          253.63   \n48  0.939883     0.241999     0.238449     0.234950          258.71   \n49  0.935466     0.234950     0.231503     0.228107          263.88   \n50  0.930592     0.228107     0.224761     0.221463          269.16   \n51  0.925166     0.221463     0.218214     0.215013          274.54   \n52  0.919134     0.215013     0.211858     0.208750          280.03   \n53  0.912461     0.208750     0.205688     0.202670          285.63   \n54  0.905207     0.202670     0.199697     0.196767          291.35   \n55  0.897395     0.196767     0.193880     0.191036          297.17   \n56  0.888942     0.191036     0.188233     0.185472          303.12   \n57  0.879697     0.185472     0.182751     0.180070          309.18   \n58  0.869501     0.180070     0.177428     0.174825          315.36   \n59  0.858215     0.174825     0.172260     0.169733          321.67   \n60  0.845797     0.169733     0.167243     0.164789          328.10   \n61  0.832230     0.164789     0.162372     0.159990          334.67   \n\n    INCIDENCE_RATE       DLR  CLAIM_COST     PVFB       PVP   ALR_BD   ALR_ED  \\\n40        0.003837      0.00        0.00     0.00  4.474347     0.00     0.00   \n41        0.004145      0.00        0.00     0.00  4.177980     0.00     0.00   \n42        0.004464      0.00        0.00     0.00  3.891088     0.00     0.00   \n43        0.004804      0.00        0.00     0.00  3.613454     0.00     0.00   \n44        0.005176      0.00        0.00     0.00  3.344877     0.00     0.00   \n45        0.005570      0.00        0.00     0.00  3.085163     0.00     0.00   \n46        0.005984      0.00        0.00     0.00  2.834126     0.00     0.00   \n47        0.006430      0.00        0.00     0.00  2.591585     0.00     0.00   \n48        0.006898      0.00        0.00     0.00  2.357370     0.00     0.00   \n49        0.007376      0.00        0.00     0.00  2.131321     0.00     0.00   \n50        0.007897      0.00        0.00     0.00  1.913276     0.00     0.00   \n51        0.008439      0.00        0.00     0.00  1.703074     0.00     0.00   \n52        0.009013      0.00        0.00     0.00  1.500558     0.00     0.00   \n53        0.009609      0.00        0.00     0.00  1.305574     0.00     0.00   \n54        0.010225      0.00        0.00     0.00  1.117973     0.00     0.00   \n55        0.010820      0.00        0.00     0.00  0.937610     0.00     0.00   \n56        0.011437      0.00        0.00     0.00  0.764347     0.00     0.00   \n57        0.012043      0.00        0.00     0.00  0.598047     0.00     0.00   \n58        0.012648      0.00        0.00     0.00  0.438582     0.00     0.00   \n59        0.013254      0.00        0.00     0.00  0.285828     0.00     0.00   \n60        0.013871      0.00        0.00     0.00  0.139671     0.00     0.00   \n51        0.076982    651.93       50.19    60.99  1.080179   185.54   162.64   \n52        0.080104    662.82       53.09    51.21  0.881439   162.64   136.77   \n53        0.083301    674.72       56.21    41.27  0.690305   136.77   107.61   \n54        0.086553    687.44       59.50    31.15  0.506668   107.61    75.22   \n55        0.089805    700.71       62.93    20.89  0.330446    75.22    39.31   \n56        0.093057    714.03       66.45    10.49  0.161578    39.31     0.00   \n44        0.006001  47206.18      283.31  2204.51  3.547854  6278.04  6329.03   \n45        0.006544  47820.95      312.92  2131.83  3.287073  6329.03  6353.32   \n46        0.007144  48411.34      345.84  2054.15  3.034710  6353.32  6347.30   \n47        0.007802  48978.67      382.13  1971.10  2.790535  6347.30  6306.97   \n48        0.008499  49519.19      420.86  1882.34  2.554336  6306.97  6229.36   \n49        0.009273  49966.88      463.35  1787.81  2.325912  6229.36  6110.29   \n50        0.010106  50407.06      509.40  1687.23  2.105086  6110.29  5945.55   \n51        0.010996  50832.15      558.96  1580.41  1.891700  5945.55  5731.15   \n52        0.011945  51248.31      612.15  1467.23  1.685608  5731.15  5463.03   \n53        0.012990  51639.88      670.82  1347.64  1.486685  5463.03  5135.39   \n54        0.014074  51965.90      731.39  1221.28  1.294816  5135.39  4745.81   \n55        0.015217  52277.98      795.49  1088.53  1.109887  4745.81  4290.55   \n56        0.016436  52587.93      864.35   949.53  0.931772  4290.55  3764.56   \n57        0.017695  52882.51      935.74   804.21  0.760337  3764.56  3165.33   \n58        0.018992  53160.67     1009.61   652.98  0.595463  3165.33  2490.43   \n59        0.020347  53369.29     1085.90   496.31  0.437056  2490.43  1737.96   \n60        0.021721  53576.11     1163.75   334.72  0.285046  1737.96   907.04   \n61        0.023057  53769.76     1239.78   168.90  0.139378   907.04     0.00   \n\n     DATE_ALR       ALR  \n40 2020-03-31      0.00  \n41 2021-03-31      0.00  \n42 2022-03-31      0.00  \n43 2023-03-31      0.00  \n44 2024-03-31      0.00  \n45 2025-03-31      0.00  \n46 2026-03-31      0.00  \n47 2027-03-31      0.00  \n48 2028-03-31      0.00  \n49 2029-03-31      0.00  \n50 2030-03-31      0.00  \n51 2031-03-31      0.00  \n52 2032-03-31      0.00  \n53 2033-03-31      0.00  \n54 2034-03-31      0.00  \n55 2035-03-31      0.00  \n56 2036-03-31      0.00  \n57 2037-03-31      0.00  \n58 2038-03-31      0.00  \n59 2039-03-31      0.00  \n60 2040-03-31      0.00  \n51 2020-03-31    994.09  \n52 2021-03-31    928.58  \n53 2022-03-31    842.82  \n54 2023-03-31    731.21  \n55 2024-03-31    592.68  \n56 2025-03-31    420.16  \n44 2020-03-31  23935.65  \n45 2021-03-31  24949.63  \n46 2022-03-31  25902.11  \n47 2023-03-31  26770.84  \n48 2024-03-31  27528.25  \n49 2025-03-31  28150.47  \n50 2026-03-31  28604.85  \n51 2027-03-31  28853.45  \n52 2028-03-31  28856.32  \n53 2029-03-31  28567.69  \n54 2030-03-31  27922.07  \n55 2031-03-31  26864.13  \n56 2032-03-31  25325.18  \n57 2033-03-31  23219.87  \n58 2034-03-31  20470.38  \n59 2035-03-31  16986.46  \n60 2036-03-31  12664.89  \n61 2037-03-31   7387.28  ",
      "text/html": "<div>\n<style scoped>\n    .dataframe tbody tr th:only-of-type {\n        vertical-align: middle;\n    }\n\n    .dataframe tbody tr th {\n        vertical-align: top;\n    }\n\n    .dataframe thead th {\n        text-align: right;\n    }\n</style>\n<table border=\"1\" class=\"dataframe\">\n  <thead>\n    <tr style=\"text-align: right;\">\n      <th></th>\n      <th>POLICY_ID</th>\n      <th>DATE_BD</th>\n      <th>DATE_ED</th>\n      <th>DURATION_YEAR</th>\n      <th>LIVES_BD</th>\n      <th>LIVES_MD</th>\n      <th>LIVES_ED</th>\n      <th>DISCOUNT_BD</th>\n      <th>DISCOUNT_MD</th>\n      <th>DISCOUNT_ED</th>\n      <th>BENEFIT_AMOUNT</th>\n      <th>INCIDENCE_RATE</th>\n      <th>DLR</th>\n      <th>CLAIM_COST</th>\n      <th>PVFB</th>\n      <th>PVP</th>\n      <th>ALR_BD</th>\n      <th>ALR_ED</th>\n      <th>DATE_ALR</th>\n      <th>ALR</th>\n    </tr>\n  </thead>\n  <tbody>\n    <tr>\n      <th>40</th>\n      <td>M1</td>\n      <td>2020-08-26</td>\n      <td>2021-08-26</td>\n      <td>41</td>\n      <td>0.966762</td>\n      <td>0.965345</td>\n      <td>0.963929</td>\n      <td>0.306557</td>\n      <td>0.302059</td>\n      <td>0.297628</td>\n      <td>220.80</td>\n      <td>0.003837</td>\n      <td>0.00</td>\n      <td>0.00</td>\n      <td>0.00</td>\n      <td>4.474347</td>\n      <td>0.00</td>\n      <td>0.00</td>\n      <td>2020-03-31</td>\n      <td>0.00</td>\n    </tr>\n    <tr>\n      <th>41</th>\n      <td>M1</td>\n      <td>2021-08-26</td>\n      <td>2022-08-26</td>\n      <td>42</td>\n      <td>0.963929</td>\n      <td>0.962367</td>\n      <td>0.960806</td>\n      <td>0.297628</td>\n      <td>0.293262</td>\n      <td>0.288959</td>\n      <td>225.22</td>\n      <td>0.004145</td>\n      <td>0.00</td>\n      <td>0.00</td>\n      <td>0.00</td>\n      <td>4.177980</td>\n      <td>0.00</td>\n      <td>0.00</td>\n      <td>2021-03-31</td>\n      <td>0.00</td>\n    </tr>\n    <tr>\n      <th>42</th>\n      <td>M1</td>\n      <td>2022-08-26</td>\n      <td>2023-08-26</td>\n      <td>43</td>\n      <td>0.960806</td>\n      <td>0.959076</td>\n      <td>0.957347</td>\n      <td>0.288959</td>\n      <td>0.284720</td>\n      <td>0.280543</td>\n      <td>229.72</td>\n      <td>0.004464</td>\n      <td>0.00</td>\n      <td>0.00</td>\n      <td>0.00</td>\n      <td>3.891088</td>\n      <td>0.00</td>\n      <td>0.00</td>\n      <td>2022-03-31</td>\n      <td>0.00</td>\n    </tr>\n    <tr>\n      <th>43</th>\n      <td>M1</td>\n      <td>2023-08-26</td>\n      <td>2024-08-26</td>\n      <td>44</td>\n      <td>0.957347</td>\n      <td>0.955437</td>\n      <td>0.953527</td>\n      <td>0.280543</td>\n      <td>0.276427</td>\n      <td>0.272372</td>\n      <td>234.32</td>\n      <td>0.004804</td>\n      <td>0.00</td>\n      <td>0.00</td>\n      <td>0.00</td>\n      <td>3.613454</td>\n      <td>0.00</td>\n      <td>0.00</td>\n      <td>2023-03-31</td>\n      <td>0.00</td>\n    </tr>\n    <tr>\n      <th>44</th>\n      <td>M1</td>\n      <td>2024-08-26</td>\n      <td>2025-08-26</td>\n      <td>45</td>\n      <td>0.953527</td>\n      <td>0.951425</td>\n      <td>0.949322</td>\n      <td>0.272372</td>\n      <td>0.268376</td>\n      <td>0.264439</td>\n      <td>239.01</td>\n      <td>0.005176</td>\n      <td>0.00</td>\n      <td>0.00</td>\n      <td>0.00</td>\n      <td>3.344877</td>\n      <td>0.00</td>\n      <td>0.00</td>\n      <td>2024-03-31</td>\n      <td>0.00</td>\n    </tr>\n    <tr>\n      <th>45</th>\n      <td>M1</td>\n      <td>2025-08-26</td>\n      <td>2026-08-26</td>\n      <td>46</td>\n      <td>0.949322</td>\n      <td>0.947015</td>\n      <td>0.944708</td>\n      <td>0.264439</td>\n      <td>0.260559</td>\n      <td>0.256737</td>\n      <td>243.79</td>\n      <td>0.005570</td>\n      <td>0.00</td>\n      <td>0.00</td>\n      <td>0.00</td>\n      <td>3.085163</td>\n      <td>0.00</td>\n      <td>0.00</td>\n      <td>2025-03-31</td>\n      <td>0.00</td>\n    </tr>\n    <tr>\n      <th>46</th>\n      <td>M1</td>\n      <td>2026-08-26</td>\n      <td>2027-08-26</td>\n      <td>47</td>\n      <td>0.944708</td>\n      <td>0.942177</td>\n      <td>0.939645</td>\n      <td>0.256737</td>\n      <td>0.252970</td>\n      <td>0.249259</td>\n      <td>248.66</td>\n      <td>0.005984</td>\n      <td>0.00</td>\n      <td>0.00</td>\n      <td>0.00</td>\n      <td>2.834126</td>\n      <td>0.00</td>\n      <td>0.00</td>\n      <td>2026-03-31</td>\n      <td>0.00</td>\n    </tr>\n    <tr>\n      <th>47</th>\n      <td>M1</td>\n      <td>2027-08-26</td>\n      <td>2028-08-26</td>\n      <td>48</td>\n      <td>0.939645</td>\n      <td>0.936868</td>\n      <td>0.934091</td>\n      <td>0.249259</td>\n      <td>0.245602</td>\n      <td>0.241999</td>\n      <td>253.63</td>\n      <td>0.006430</td>\n      <td>0.00</td>\n      <td>0.00</td>\n      <td>0.00</td>\n      <td>2.591585</td>\n      <td>0.00</td>\n      <td>0.00</td>\n      <td>2027-03-31</td>\n      <td>0.00</td>\n    </tr>\n    <tr>\n      <th>48</th>\n      <td>M1</td>\n      <td>2028-08-26</td>\n      <td>2029-08-26</td>\n      <td>49</td>\n      <td>0.934091</td>\n      <td>0.931070</td>\n      <td>0.928048</td>\n      <td>0.241999</td>\n      <td>0.238449</td>\n      <td>0.234950</td>\n      <td>258.71</td>\n      <td>0.006898</td>\n      <td>0.00</td>\n      <td>0.00</td>\n      <td>0.00</td>\n      <td>2.357370</td>\n      <td>0.00</td>\n      <td>0.00</td>\n      <td>2028-03-31</td>\n      <td>0.00</td>\n    </tr>\n    <tr>\n      <th>49</th>\n      <td>M1</td>\n      <td>2029-08-26</td>\n      <td>2030-08-26</td>\n      <td>50</td>\n      <td>0.928048</td>\n      <td>0.924776</td>\n      <td>0.921505</td>\n      <td>0.234950</td>\n      <td>0.231503</td>\n      <td>0.228107</td>\n      <td>263.88</td>\n      <td>0.007376</td>\n      <td>0.00</td>\n      <td>0.00</td>\n      <td>0.00</td>\n      <td>2.131321</td>\n      <td>0.00</td>\n      <td>0.00</td>\n      <td>2029-03-31</td>\n      <td>0.00</td>\n    </tr>\n    <tr>\n      <th>50</th>\n      <td>M1</td>\n      <td>2030-08-26</td>\n      <td>2031-08-26</td>\n      <td>51</td>\n      <td>0.921505</td>\n      <td>0.917976</td>\n      <td>0.914446</td>\n      <td>0.228107</td>\n      <td>0.224761</td>\n      <td>0.221463</td>\n      <td>269.16</td>\n      <td>0.007897</td>\n      <td>0.00</td>\n      <td>0.00</td>\n      <td>0.00</td>\n      <td>1.913276</td>\n      <td>0.00</td>\n      <td>0.00</td>\n      <td>2030-03-31</td>\n      <td>0.00</td>\n    </tr>\n    <tr>\n      <th>51</th>\n      <td>M1</td>\n      <td>2031-08-26</td>\n      <td>2032-08-26</td>\n      <td>52</td>\n      <td>0.914446</td>\n      <td>0.910647</td>\n      <td>0.906847</td>\n      <td>0.221463</td>\n      <td>0.218214</td>\n      <td>0.215013</td>\n      <td>274.54</td>\n      <td>0.008439</td>\n      <td>0.00</td>\n      <td>0.00</td>\n      <td>0.00</td>\n      <td>1.703074</td>\n      <td>0.00</td>\n      <td>0.00</td>\n      <td>2031-03-31</td>\n      <td>0.00</td>\n    </tr>\n    <tr>\n      <th>52</th>\n      <td>M1</td>\n      <td>2032-08-26</td>\n      <td>2033-08-26</td>\n      <td>53</td>\n      <td>0.906847</td>\n      <td>0.902766</td>\n      <td>0.898686</td>\n      <td>0.215013</td>\n      <td>0.211858</td>\n      <td>0.208750</td>\n      <td>280.03</td>\n      <td>0.009013</td>\n      <td>0.00</td>\n      <td>0.00</td>\n      <td>0.00</td>\n      <td>1.500558</td>\n      <td>0.00</td>\n      <td>0.00</td>\n      <td>2032-03-31</td>\n      <td>0.00</td>\n    </tr>\n    <tr>\n      <th>53</th>\n      <td>M1</td>\n      <td>2033-08-26</td>\n      <td>2034-08-26</td>\n      <td>54</td>\n      <td>0.898686</td>\n      <td>0.894309</td>\n      <td>0.889932</td>\n      <td>0.208750</td>\n      <td>0.205688</td>\n      <td>0.202670</td>\n      <td>285.63</td>\n      <td>0.009609</td>\n      <td>0.00</td>\n      <td>0.00</td>\n      <td>0.00</td>\n      <td>1.305574</td>\n      <td>0.00</td>\n      <td>0.00</td>\n      <td>2033-03-31</td>\n      <td>0.00</td>\n    </tr>\n    <tr>\n      <th>54</th>\n      <td>M1</td>\n      <td>2034-08-26</td>\n      <td>2035-08-26</td>\n      <td>55</td>\n      <td>0.889932</td>\n      <td>0.885243</td>\n      <td>0.880553</td>\n      <td>0.202670</td>\n      <td>0.199697</td>\n      <td>0.196767</td>\n      <td>291.35</td>\n      <td>0.010225</td>\n      <td>0.00</td>\n      <td>0.00</td>\n      <td>0.00</td>\n      <td>1.117973</td>\n      <td>0.00</td>\n      <td>0.00</td>\n      <td>2034-03-31</td>\n      <td>0.00</td>\n    </tr>\n    <tr>\n      <th>55</th>\n      <td>M1</td>\n      <td>2035-08-26</td>\n      <td>2036-08-26</td>\n      <td>56</td>\n      <td>0.880553</td>\n      <td>0.875533</td>\n      <td>0.870514</td>\n      <td>0.196767</td>\n      <td>0.193880</td>\n      <td>0.191036</td>\n      <td>297.17</td>\n      <td>0.010820</td>\n      <td>0.00</td>\n      <td>0.00</td>\n      <td>0.00</td>\n      <td>0.937610</td>\n      <td>0.00</td>\n      <td>0.00</td>\n      <td>2035-03-31</td>\n      <td>0.00</td>\n    </tr>\n    <tr>\n      <th>56</th>\n      <td>M1</td>\n      <td>2036-08-26</td>\n      <td>2037-08-26</td>\n      <td>57</td>\n      <td>0.870514</td>\n      <td>0.865148</td>\n      <td>0.859781</td>\n      <td>0.191036</td>\n      <td>0.188233</td>\n      <td>0.185472</td>\n      <td>303.12</td>\n      <td>0.011437</td>\n      <td>0.00</td>\n      <td>0.00</td>\n      <td>0.00</td>\n      <td>0.764347</td>\n      <td>0.00</td>\n      <td>0.00</td>\n      <td>2036-03-31</td>\n      <td>0.00</td>\n    </tr>\n    <tr>\n      <th>57</th>\n      <td>M1</td>\n      <td>2037-08-26</td>\n      <td>2038-08-26</td>\n      <td>58</td>\n      <td>0.859781</td>\n      <td>0.854042</td>\n      <td>0.848303</td>\n      <td>0.185472</td>\n      <td>0.182751</td>\n      <td>0.180070</td>\n      <td>309.18</td>\n      <td>0.012043</td>\n      <td>0.00</td>\n      <td>0.00</td>\n      <td>0.00</td>\n      <td>0.598047</td>\n      <td>0.00</td>\n      <td>0.00</td>\n      <td>2037-03-31</td>\n      <td>0.00</td>\n    </tr>\n    <tr>\n      <th>58</th>\n      <td>M1</td>\n      <td>2038-08-26</td>\n      <td>2039-08-26</td>\n      <td>59</td>\n      <td>0.848303</td>\n      <td>0.842161</td>\n      <td>0.836019</td>\n      <td>0.180070</td>\n      <td>0.177428</td>\n      <td>0.174825</td>\n      <td>315.36</td>\n      <td>0.012648</td>\n      <td>0.00</td>\n      <td>0.00</td>\n      <td>0.00</td>\n      <td>0.438582</td>\n      <td>0.00</td>\n      <td>0.00</td>\n      <td>2038-03-31</td>\n      <td>0.00</td>\n    </tr>\n    <tr>\n      <th>59</th>\n      <td>M1</td>\n      <td>2039-08-26</td>\n      <td>2040-08-26</td>\n      <td>60</td>\n      <td>0.836019</td>\n      <td>0.829452</td>\n      <td>0.822885</td>\n      <td>0.174825</td>\n      <td>0.172260</td>\n      <td>0.169733</td>\n      <td>321.67</td>\n      <td>0.013254</td>\n      <td>0.00</td>\n      <td>0.00</td>\n      <td>0.00</td>\n      <td>0.285828</td>\n      <td>0.00</td>\n      <td>0.00</td>\n      <td>2039-03-31</td>\n      <td>0.00</td>\n    </tr>\n    <tr>\n      <th>60</th>\n      <td>M1</td>\n      <td>2040-08-26</td>\n      <td>2041-08-26</td>\n      <td>61</td>\n      <td>0.822885</td>\n      <td>0.815858</td>\n      <td>0.808831</td>\n      <td>0.169733</td>\n      <td>0.167243</td>\n      <td>0.164789</td>\n      <td>328.10</td>\n      <td>0.013871</td>\n      <td>0.00</td>\n      <td>0.00</td>\n      <td>0.00</td>\n      <td>0.139671</td>\n      <td>0.00</td>\n      <td>0.00</td>\n      <td>2040-03-31</td>\n      <td>0.00</td>\n    </tr>\n    <tr>\n      <th>51</th>\n      <td>M2</td>\n      <td>2021-01-13</td>\n      <td>2022-01-13</td>\n      <td>52</td>\n      <td>0.897395</td>\n      <td>0.893169</td>\n      <td>0.888942</td>\n      <td>0.221463</td>\n      <td>0.218214</td>\n      <td>0.215013</td>\n      <td>100.00</td>\n      <td>0.076982</td>\n      <td>651.93</td>\n      <td>50.19</td>\n      <td>60.99</td>\n      <td>1.080179</td>\n      <td>185.54</td>\n      <td>162.64</td>\n      <td>2020-03-31</td>\n      <td>994.09</td>\n    </tr>\n    <tr>\n      <th>52</th>\n      <td>M2</td>\n      <td>2022-01-13</td>\n      <td>2023-01-13</td>\n      <td>53</td>\n      <td>0.888942</td>\n      <td>0.884319</td>\n      <td>0.879697</td>\n      <td>0.215013</td>\n      <td>0.211858</td>\n      <td>0.208750</td>\n      <td>100.00</td>\n      <td>0.080104</td>\n      <td>662.82</td>\n      <td>53.09</td>\n      <td>51.21</td>\n      <td>0.881439</td>\n      <td>162.64</td>\n      <td>136.77</td>\n      <td>2021-03-31</td>\n      <td>928.58</td>\n    </tr>\n    <tr>\n      <th>53</th>\n      <td>M2</td>\n      <td>2023-01-13</td>\n      <td>2024-01-13</td>\n      <td>54</td>\n      <td>0.879697</td>\n      <td>0.874599</td>\n      <td>0.869501</td>\n      <td>0.208750</td>\n      <td>0.205688</td>\n      <td>0.202670</td>\n      <td>100.00</td>\n      <td>0.083301</td>\n      <td>674.72</td>\n      <td>56.21</td>\n      <td>41.27</td>\n      <td>0.690305</td>\n      <td>136.77</td>\n      <td>107.61</td>\n      <td>2022-03-31</td>\n      <td>842.82</td>\n    </tr>\n    <tr>\n      <th>54</th>\n      <td>M2</td>\n      <td>2024-01-13</td>\n      <td>2025-01-13</td>\n      <td>55</td>\n      <td>0.869501</td>\n      <td>0.863858</td>\n      <td>0.858215</td>\n      <td>0.202670</td>\n      <td>0.199697</td>\n      <td>0.196767</td>\n      <td>100.00</td>\n      <td>0.086553</td>\n      <td>687.44</td>\n      <td>59.50</td>\n      <td>31.15</td>\n      <td>0.506668</td>\n      <td>107.61</td>\n      <td>75.22</td>\n      <td>2023-03-31</td>\n      <td>731.21</td>\n    </tr>\n    <tr>\n      <th>55</th>\n      <td>M2</td>\n      <td>2025-01-13</td>\n      <td>2026-01-13</td>\n      <td>56</td>\n      <td>0.858215</td>\n      <td>0.852006</td>\n      <td>0.845797</td>\n      <td>0.196767</td>\n      <td>0.193880</td>\n      <td>0.191036</td>\n      <td>100.00</td>\n      <td>0.089805</td>\n      <td>700.71</td>\n      <td>62.93</td>\n      <td>20.89</td>\n      <td>0.330446</td>\n      <td>75.22</td>\n      <td>39.31</td>\n      <td>2024-03-31</td>\n      <td>592.68</td>\n    </tr>\n    <tr>\n      <th>56</th>\n      <td>M2</td>\n      <td>2026-01-13</td>\n      <td>2027-01-13</td>\n      <td>57</td>\n      <td>0.845797</td>\n      <td>0.839013</td>\n      <td>0.832230</td>\n      <td>0.191036</td>\n      <td>0.188233</td>\n      <td>0.185472</td>\n      <td>100.00</td>\n      <td>0.093057</td>\n      <td>714.03</td>\n      <td>66.45</td>\n      <td>10.49</td>\n      <td>0.161578</td>\n      <td>39.31</td>\n      <td>0.00</td>\n      <td>2025-03-31</td>\n      <td>420.16</td>\n    </tr>\n    <tr>\n      <th>44</th>\n      <td>M10</td>\n      <td>2020-05-22</td>\n      <td>2021-05-22</td>\n      <td>45</td>\n      <td>0.957447</td>\n      <td>0.955891</td>\n      <td>0.954335</td>\n      <td>0.272372</td>\n      <td>0.268376</td>\n      <td>0.264439</td>\n      <td>239.01</td>\n      <td>0.006001</td>\n      <td>47206.18</td>\n      <td>283.31</td>\n      <td>2204.51</td>\n      <td>3.547854</td>\n      <td>6278.04</td>\n      <td>6329.03</td>\n      <td>2020-03-31</td>\n      <td>23935.65</td>\n    </tr>\n    <tr>\n      <th>45</th>\n      <td>M10</td>\n      <td>2021-05-22</td>\n      <td>2022-05-22</td>\n      <td>46</td>\n      <td>0.954335</td>\n      <td>0.952703</td>\n      <td>0.951071</td>\n      <td>0.264439</td>\n      <td>0.260559</td>\n      <td>0.256737</td>\n      <td>243.79</td>\n      <td>0.006544</td>\n      <td>47820.95</td>\n      <td>312.92</td>\n      <td>2131.83</td>\n      <td>3.287073</td>\n      <td>6329.03</td>\n      <td>6353.32</td>\n      <td>2021-03-31</td>\n      <td>24949.63</td>\n    </tr>\n    <tr>\n      <th>46</th>\n      <td>M10</td>\n      <td>2022-05-22</td>\n      <td>2023-05-22</td>\n      <td>47</td>\n      <td>0.951071</td>\n      <td>0.949340</td>\n      <td>0.947609</td>\n      <td>0.256737</td>\n      <td>0.252970</td>\n      <td>0.249259</td>\n      <td>248.66</td>\n      <td>0.007144</td>\n      <td>48411.34</td>\n      <td>345.84</td>\n      <td>2054.15</td>\n      <td>3.034710</td>\n      <td>6353.32</td>\n      <td>6347.30</td>\n      <td>2022-03-31</td>\n      <td>25902.11</td>\n    </tr>\n    <tr>\n      <th>47</th>\n      <td>M10</td>\n      <td>2023-05-22</td>\n      <td>2024-05-22</td>\n      <td>48</td>\n      <td>0.947609</td>\n      <td>0.945757</td>\n      <td>0.943904</td>\n      <td>0.249259</td>\n      <td>0.245602</td>\n      <td>0.241999</td>\n      <td>253.63</td>\n      <td>0.007802</td>\n      <td>48978.67</td>\n      <td>382.13</td>\n      <td>1971.10</td>\n      <td>2.790535</td>\n      <td>6347.30</td>\n      <td>6306.97</td>\n      <td>2023-03-31</td>\n      <td>26770.84</td>\n    </tr>\n    <tr>\n      <th>48</th>\n      <td>M10</td>\n      <td>2024-05-22</td>\n      <td>2025-05-22</td>\n      <td>49</td>\n      <td>0.943904</td>\n      <td>0.941893</td>\n      <td>0.939883</td>\n      <td>0.241999</td>\n      <td>0.238449</td>\n      <td>0.234950</td>\n      <td>258.71</td>\n      <td>0.008499</td>\n      <td>49519.19</td>\n      <td>420.86</td>\n      <td>1882.34</td>\n      <td>2.554336</td>\n      <td>6306.97</td>\n      <td>6229.36</td>\n      <td>2024-03-31</td>\n      <td>27528.25</td>\n    </tr>\n    <tr>\n      <th>49</th>\n      <td>M10</td>\n      <td>2025-05-22</td>\n      <td>2026-05-22</td>\n      <td>50</td>\n      <td>0.939883</td>\n      <td>0.937674</td>\n      <td>0.935466</td>\n      <td>0.234950</td>\n      <td>0.231503</td>\n      <td>0.228107</td>\n      <td>263.88</td>\n      <td>0.009273</td>\n      <td>49966.88</td>\n      <td>463.35</td>\n      <td>1787.81</td>\n      <td>2.325912</td>\n      <td>6229.36</td>\n      <td>6110.29</td>\n      <td>2025-03-31</td>\n      <td>28150.47</td>\n    </tr>\n    <tr>\n      <th>50</th>\n      <td>M10</td>\n      <td>2026-05-22</td>\n      <td>2027-05-22</td>\n      <td>51</td>\n      <td>0.935466</td>\n      <td>0.933029</td>\n      <td>0.930592</td>\n      <td>0.228107</td>\n      <td>0.224761</td>\n      <td>0.221463</td>\n      <td>269.16</td>\n      <td>0.010106</td>\n      <td>50407.06</td>\n      <td>509.40</td>\n      <td>1687.23</td>\n      <td>2.105086</td>\n      <td>6110.29</td>\n      <td>5945.55</td>\n      <td>2026-03-31</td>\n      <td>28604.85</td>\n    </tr>\n    <tr>\n      <th>51</th>\n      <td>M10</td>\n      <td>2027-05-22</td>\n      <td>2028-05-22</td>\n      <td>52</td>\n      <td>0.930592</td>\n      <td>0.927879</td>\n      <td>0.925166</td>\n      <td>0.221463</td>\n      <td>0.218214</td>\n      <td>0.215013</td>\n      <td>274.54</td>\n      <td>0.010996</td>\n      <td>50832.15</td>\n      <td>558.96</td>\n      <td>1580.41</td>\n      <td>1.891700</td>\n      <td>5945.55</td>\n      <td>5731.15</td>\n      <td>2027-03-31</td>\n      <td>28853.45</td>\n    </tr>\n    <tr>\n      <th>52</th>\n      <td>M10</td>\n      <td>2028-05-22</td>\n      <td>2029-05-22</td>\n      <td>53</td>\n      <td>0.925166</td>\n      <td>0.922150</td>\n      <td>0.919134</td>\n      <td>0.215013</td>\n      <td>0.211858</td>\n      <td>0.208750</td>\n      <td>280.03</td>\n      <td>0.011945</td>\n      <td>51248.31</td>\n      <td>612.15</td>\n      <td>1467.23</td>\n      <td>1.685608</td>\n      <td>5731.15</td>\n      <td>5463.03</td>\n      <td>2028-03-31</td>\n      <td>28856.32</td>\n    </tr>\n    <tr>\n      <th>53</th>\n      <td>M10</td>\n      <td>2029-05-22</td>\n      <td>2030-05-22</td>\n      <td>54</td>\n      <td>0.919134</td>\n      <td>0.915798</td>\n      <td>0.912461</td>\n      <td>0.208750</td>\n      <td>0.205688</td>\n      <td>0.202670</td>\n      <td>285.63</td>\n      <td>0.012990</td>\n      <td>51639.88</td>\n      <td>670.82</td>\n      <td>1347.64</td>\n      <td>1.486685</td>\n      <td>5463.03</td>\n      <td>5135.39</td>\n      <td>2029-03-31</td>\n      <td>28567.69</td>\n    </tr>\n    <tr>\n      <th>54</th>\n      <td>M10</td>\n      <td>2030-05-22</td>\n      <td>2031-05-22</td>\n      <td>55</td>\n      <td>0.912461</td>\n      <td>0.908834</td>\n      <td>0.905207</td>\n      <td>0.202670</td>\n      <td>0.199697</td>\n      <td>0.196767</td>\n      <td>291.35</td>\n      <td>0.014074</td>\n      <td>51965.90</td>\n      <td>731.39</td>\n      <td>1221.28</td>\n      <td>1.294816</td>\n      <td>5135.39</td>\n      <td>4745.81</td>\n      <td>2030-03-31</td>\n      <td>27922.07</td>\n    </tr>\n    <tr>\n      <th>55</th>\n      <td>M10</td>\n      <td>2031-05-22</td>\n      <td>2032-05-22</td>\n      <td>56</td>\n      <td>0.905207</td>\n      <td>0.901301</td>\n      <td>0.897395</td>\n      <td>0.196767</td>\n      <td>0.193880</td>\n      <td>0.191036</td>\n      <td>297.17</td>\n      <td>0.015217</td>\n      <td>52277.98</td>\n      <td>795.49</td>\n      <td>1088.53</td>\n      <td>1.109887</td>\n      <td>4745.81</td>\n      <td>4290.55</td>\n      <td>2031-03-31</td>\n      <td>26864.13</td>\n    </tr>\n    <tr>\n      <th>56</th>\n      <td>M10</td>\n      <td>2032-05-22</td>\n      <td>2033-05-22</td>\n      <td>57</td>\n      <td>0.897395</td>\n      <td>0.893169</td>\n      <td>0.888942</td>\n      <td>0.191036</td>\n      <td>0.188233</td>\n      <td>0.185472</td>\n      <td>303.12</td>\n      <td>0.016436</td>\n      <td>52587.93</td>\n      <td>864.35</td>\n      <td>949.53</td>\n      <td>0.931772</td>\n      <td>4290.55</td>\n      <td>3764.56</td>\n      <td>2032-03-31</td>\n      <td>25325.18</td>\n    </tr>\n    <tr>\n      <th>57</th>\n      <td>M10</td>\n      <td>2033-05-22</td>\n      <td>2034-05-22</td>\n      <td>58</td>\n      <td>0.888942</td>\n      <td>0.884319</td>\n      <td>0.879697</td>\n      <td>0.185472</td>\n      <td>0.182751</td>\n      <td>0.180070</td>\n      <td>309.18</td>\n      <td>0.017695</td>\n      <td>52882.51</td>\n      <td>935.74</td>\n      <td>804.21</td>\n      <td>0.760337</td>\n      <td>3764.56</td>\n      <td>3165.33</td>\n      <td>2033-03-31</td>\n      <td>23219.87</td>\n    </tr>\n    <tr>\n      <th>58</th>\n      <td>M10</td>\n      <td>2034-05-22</td>\n      <td>2035-05-22</td>\n      <td>59</td>\n      <td>0.879697</td>\n      <td>0.874599</td>\n      <td>0.869501</td>\n      <td>0.180070</td>\n      <td>0.177428</td>\n      <td>0.174825</td>\n      <td>315.36</td>\n      <td>0.018992</td>\n      <td>53160.67</td>\n      <td>1009.61</td>\n      <td>652.98</td>\n      <td>0.595463</td>\n      <td>3165.33</td>\n      <td>2490.43</td>\n      <td>2034-03-31</td>\n      <td>20470.38</td>\n    </tr>\n    <tr>\n      <th>59</th>\n      <td>M10</td>\n      <td>2035-05-22</td>\n      <td>2036-05-22</td>\n      <td>60</td>\n      <td>0.869501</td>\n      <td>0.863858</td>\n      <td>0.858215</td>\n      <td>0.174825</td>\n      <td>0.172260</td>\n      <td>0.169733</td>\n      <td>321.67</td>\n      <td>0.020347</td>\n      <td>53369.29</td>\n      <td>1085.90</td>\n      <td>496.31</td>\n      <td>0.437056</td>\n      <td>2490.43</td>\n      <td>1737.96</td>\n      <td>2035-03-31</td>\n      <td>16986.46</td>\n    </tr>\n    <tr>\n      <th>60</th>\n      <td>M10</td>\n      <td>2036-05-22</td>\n      <td>2037-05-22</td>\n      <td>61</td>\n      <td>0.858215</td>\n      <td>0.852006</td>\n      <td>0.845797</td>\n      <td>0.169733</td>\n      <td>0.167243</td>\n      <td>0.164789</td>\n      <td>328.10</td>\n      <td>0.021721</td>\n      <td>53576.11</td>\n      <td>1163.75</td>\n      <td>334.72</td>\n      <td>0.285046</td>\n      <td>1737.96</td>\n      <td>907.04</td>\n      <td>2036-03-31</td>\n      <td>12664.89</td>\n    </tr>\n    <tr>\n      <th>61</th>\n      <td>M10</td>\n      <td>2037-05-22</td>\n      <td>2038-05-22</td>\n      <td>62</td>\n      <td>0.845797</td>\n      <td>0.839013</td>\n      <td>0.832230</td>\n      <td>0.164789</td>\n      <td>0.162372</td>\n      <td>0.159990</td>\n      <td>334.67</td>\n      <td>0.023057</td>\n      <td>53769.76</td>\n      <td>1239.78</td>\n      <td>168.90</td>\n      <td>0.139378</td>\n      <td>907.04</td>\n      <td>0.00</td>\n      <td>2037-03-31</td>\n      <td>7387.28</td>\n    </tr>\n  </tbody>\n</table>\n</div>"
     },
     "metadata": {},
     "execution_count": 21
    }
   ],
   "source": [
    "al_projected"
   ]
  },
  {
   "cell_type": "code",
   "execution_count": 22,
   "metadata": {},
   "outputs": [
    {
     "output_type": "execute_result",
     "data": {
      "text/plain": "[]"
     },
     "metadata": {},
     "execution_count": 22
    }
   ],
   "source": [
    "al_errors"
   ]
  }
 ],
 "metadata": {
  "language_info": {
   "codemirror_mode": {
    "name": "ipython",
    "version": 3
   },
   "file_extension": ".py",
   "mimetype": "text/x-python",
   "name": "python",
   "nbconvert_exporter": "python",
   "pygments_lexer": "ipython3",
   "version": "3.7.7-final"
  },
  "orig_nbformat": 2,
  "kernelspec": {
   "name": "python3",
   "display_name": "Python 3"
  }
 },
 "nbformat": 4,
 "nbformat_minor": 2
}