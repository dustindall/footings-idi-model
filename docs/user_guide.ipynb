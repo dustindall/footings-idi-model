{
 "cells": [
  {
   "cell_type": "markdown",
   "metadata": {},
   "source": [
    "# User Guide"
   ]
  },
  {
   "cell_type": "markdown",
   "metadata": {},
   "source": [
    "The IDI model utilizes the model per policy design pattern where we build models to model one policy a time. We expand this pattern to model population of policies by applying the policy model to each policy in a population (i.e., think a for loop for each policy)."
   ]
  },
  {
   "cell_type": "markdown",
   "metadata": {},
   "source": [
    "## Policy Models"
   ]
  },
  {
   "cell_type": "markdown",
   "metadata": {},
   "source": [
    "The following policy models were built where the links direct you to the detailed documentation for each model.\n",
    "\n",
    "- [dlr_deterministic_model](models.rst#footings_idi_model.policy_models.dlr_deterministic_model)\n",
    "- [alr_deterministic_model](models.rst#footings_idi_model.policy_models.alr_deterministic_model)\n",
    "\n",
    "In addition, development is planned to make the above deterministic models stochastic. They will be captured under respective models called `dlr_stochastic_model` and `alr_stochastic_model`. "
   ]
  },
  {
   "cell_type": "markdown",
   "metadata": {},
   "source": [
    "### DLR Deterministic"
   ]
  },
  {
   "cell_type": "markdown",
   "metadata": {},
   "source": [
    "Below is an example of using the `dlr_determinstic_model` where we import the model and instantiate it with the required policy information."
   ]
  },
  {
   "cell_type": "code",
   "execution_count": 22,
   "metadata": {},
   "outputs": [],
   "source": [
    "import pandas as pd\n",
    "from footings_idi_model.policy_models import dlr_deterministic_model\n",
    "\n",
    "dlr_policy_init_model = dlr_deterministic_model(\n",
    "    policy_id=\"policy-1\",\n",
    "    claim_id=\"claim-1\",\n",
    "    gender=\"M\",\n",
    "    birth_dt=pd.Timestamp(\"1970-03-26\"),\n",
    "    incurred_dt=pd.Timestamp(\"2015-06-02\"),\n",
    "    termination_dt=pd.Timestamp(\"2035-03-26\"),\n",
    "    elimination_period=90,\n",
    "    idi_contract=\"AS\",\n",
    "    idi_benefit_period=\"TO65\",\n",
    "    idi_diagnosis_grp=\"LOW\",\n",
    "    idi_occupation_class=\"M\",\n",
    "    cola_percent=0.0,\n",
    "    benefit_amount=200.0,\n",
    "    valuation_dt=pd.Timestamp(\"2020-03-31\"), \n",
    "    assumption_set=\"stat\",\n",
    ")"
   ]
  },
  {
   "cell_type": "markdown",
   "metadata": {},
   "source": [
    "To run the model we have to call the `run()` method attached to the instantiated object."
   ]
  },
  {
   "cell_type": "code",
   "execution_count": 23,
   "metadata": {},
   "outputs": [],
   "source": [
    "dlr_policy_output = dlr_policy_init_model.run()"
   ]
  },
  {
   "cell_type": "markdown",
   "metadata": {},
   "source": [
    "Once the model is ran, a pandas DataFrame is returned with the following information."
   ]
  },
  {
   "cell_type": "code",
   "execution_count": 24,
   "metadata": {
    "tags": []
   },
   "outputs": [
    {
     "output_type": "stream",
     "name": "stdout",
     "text": "<class 'pandas.core.frame.DataFrame'>\nInt64Index: 181 entries, 0 to 180\nData columns (total 18 columns):\n #   Column           Non-Null Count  Dtype         \n---  ------           --------------  -----         \n 0   POLICY_ID        181 non-null    object        \n 1   DATE_BD          181 non-null    datetime64[ns]\n 2   DATE_ED          181 non-null    datetime64[ns]\n 3   DURATION_YEAR    181 non-null    Int64         \n 4   DURATION_MONTH   181 non-null    Int64         \n 5   EXPOSURE_FACTOR  181 non-null    float64       \n 6   BENEFIT_AMOUNT   181 non-null    float64       \n 7   CTR              181 non-null    float64       \n 8   LIVES_BD         181 non-null    float64       \n 9   LIVES_MD         181 non-null    float64       \n 10  LIVES_ED         181 non-null    float64       \n 11  DISCOUNT_BD      181 non-null    float64       \n 12  DISCOUNT_MD      181 non-null    float64       \n 13  DISCOUNT_ED      181 non-null    float64       \n 14  PVFB_BD          181 non-null    float64       \n 15  PVFB_ED          181 non-null    float64       \n 16  DATE_DLR         181 non-null    datetime64[ns]\n 17  DLR              181 non-null    float64       \ndtypes: Int64(2), datetime64[ns](3), float64(12), object(1)\nmemory usage: 27.2+ KB\n"
    }
   ],
   "source": [
    "dlr_policy_output.info()"
   ]
  },
  {
   "cell_type": "markdown",
   "metadata": {},
   "source": [
    "Below is the output."
   ]
  },
  {
   "cell_type": "code",
   "execution_count": 25,
   "metadata": {},
   "outputs": [
    {
     "output_type": "execute_result",
     "data": {
      "text/plain": "    POLICY_ID    DATE_BD    DATE_ED  DURATION_YEAR  DURATION_MONTH  \\\n0    policy-1 2020-03-02 2020-04-02              5              58   \n1    policy-1 2020-04-02 2020-05-02              5              59   \n2    policy-1 2020-05-02 2020-06-02              5              60   \n3    policy-1 2020-06-02 2020-07-02              6              61   \n4    policy-1 2020-07-02 2020-08-02              6              62   \n..        ...        ...        ...            ...             ...   \n176  policy-1 2034-11-02 2034-12-02             20             234   \n177  policy-1 2034-12-02 2035-01-02             20             235   \n178  policy-1 2035-01-02 2035-02-02             20             236   \n179  policy-1 2035-02-02 2035-03-02             20             237   \n180  policy-1 2035-03-02 2035-04-02             20             238   \n\n     EXPOSURE_FACTOR  BENEFIT_AMOUNT       CTR  LIVES_BD  LIVES_MD  LIVES_ED  \\\n0           1.000000          200.00  0.002619  1.000000  0.998690  0.997381   \n1           1.000000          200.00  0.002576  0.997381  0.996096  0.994812   \n2           1.000000          200.00  0.002532  0.994812  0.993552  0.992293   \n3           1.000000          200.00  0.002696  0.992293  0.990955  0.989617   \n4           1.000000          200.00  0.002696  0.989617  0.988283  0.986949   \n..               ...             ...       ...       ...       ...       ...   \n176         1.000000          200.00  0.001494  0.755779  0.755215  0.754650   \n177         1.000000          200.00  0.001494  0.754650  0.754087  0.753523   \n178         1.000000          200.00  0.001494  0.753523  0.752960  0.752397   \n179         1.000000          200.00  0.001494  0.752397  0.751836  0.751274   \n180         0.774194          154.84  0.001494  0.751274  0.750713  0.750151   \n\n     DISCOUNT_BD  DISCOUNT_MD  DISCOUNT_ED   PVFB_BD   PVFB_ED   DATE_DLR  \\\n0       1.000000     0.998769     0.997540  25156.01  24956.52 2020-03-31   \n1       0.997540     0.996312     0.995086  24956.52  24758.03 2020-04-30   \n2       0.995086     0.993861     0.992638  24758.03  24560.54 2020-05-31   \n3       0.992638     0.991416     0.990195  24560.54  24364.05 2020-06-30   \n4       0.990195     0.988977     0.987759  24364.05  24168.57 2020-07-31   \n..           ...          ...          ...       ...       ...        ...   \n176     0.648217     0.647420     0.646623    463.36    365.57 2034-11-30   \n177     0.646623     0.645827     0.645032    365.57    268.17 2034-12-31   \n178     0.645032     0.644238     0.643445    268.17    171.15 2035-01-31   \n179     0.643445     0.642653     0.641862    171.15     74.52 2035-02-28   \n180     0.641862     0.641072     0.640283     74.52      0.00 2035-03-31   \n\n          DLR  \n0    25088.47  \n1    25014.85  \n2    24939.77  \n3    24868.08  \n4    24796.29  \n..        ...  \n176    761.89  \n177    564.52  \n178    366.36  \n179    167.42  \n180     10.01  \n\n[181 rows x 18 columns]",
      "text/html": "<div>\n<style scoped>\n    .dataframe tbody tr th:only-of-type {\n        vertical-align: middle;\n    }\n\n    .dataframe tbody tr th {\n        vertical-align: top;\n    }\n\n    .dataframe thead th {\n        text-align: right;\n    }\n</style>\n<table border=\"1\" class=\"dataframe\">\n  <thead>\n    <tr style=\"text-align: right;\">\n      <th></th>\n      <th>POLICY_ID</th>\n      <th>DATE_BD</th>\n      <th>DATE_ED</th>\n      <th>DURATION_YEAR</th>\n      <th>DURATION_MONTH</th>\n      <th>EXPOSURE_FACTOR</th>\n      <th>BENEFIT_AMOUNT</th>\n      <th>CTR</th>\n      <th>LIVES_BD</th>\n      <th>LIVES_MD</th>\n      <th>LIVES_ED</th>\n      <th>DISCOUNT_BD</th>\n      <th>DISCOUNT_MD</th>\n      <th>DISCOUNT_ED</th>\n      <th>PVFB_BD</th>\n      <th>PVFB_ED</th>\n      <th>DATE_DLR</th>\n      <th>DLR</th>\n    </tr>\n  </thead>\n  <tbody>\n    <tr>\n      <th>0</th>\n      <td>policy-1</td>\n      <td>2020-03-02</td>\n      <td>2020-04-02</td>\n      <td>5</td>\n      <td>58</td>\n      <td>1.000000</td>\n      <td>200.00</td>\n      <td>0.002619</td>\n      <td>1.000000</td>\n      <td>0.998690</td>\n      <td>0.997381</td>\n      <td>1.000000</td>\n      <td>0.998769</td>\n      <td>0.997540</td>\n      <td>25156.01</td>\n      <td>24956.52</td>\n      <td>2020-03-31</td>\n      <td>25088.47</td>\n    </tr>\n    <tr>\n      <th>1</th>\n      <td>policy-1</td>\n      <td>2020-04-02</td>\n      <td>2020-05-02</td>\n      <td>5</td>\n      <td>59</td>\n      <td>1.000000</td>\n      <td>200.00</td>\n      <td>0.002576</td>\n      <td>0.997381</td>\n      <td>0.996096</td>\n      <td>0.994812</td>\n      <td>0.997540</td>\n      <td>0.996312</td>\n      <td>0.995086</td>\n      <td>24956.52</td>\n      <td>24758.03</td>\n      <td>2020-04-30</td>\n      <td>25014.85</td>\n    </tr>\n    <tr>\n      <th>2</th>\n      <td>policy-1</td>\n      <td>2020-05-02</td>\n      <td>2020-06-02</td>\n      <td>5</td>\n      <td>60</td>\n      <td>1.000000</td>\n      <td>200.00</td>\n      <td>0.002532</td>\n      <td>0.994812</td>\n      <td>0.993552</td>\n      <td>0.992293</td>\n      <td>0.995086</td>\n      <td>0.993861</td>\n      <td>0.992638</td>\n      <td>24758.03</td>\n      <td>24560.54</td>\n      <td>2020-05-31</td>\n      <td>24939.77</td>\n    </tr>\n    <tr>\n      <th>3</th>\n      <td>policy-1</td>\n      <td>2020-06-02</td>\n      <td>2020-07-02</td>\n      <td>6</td>\n      <td>61</td>\n      <td>1.000000</td>\n      <td>200.00</td>\n      <td>0.002696</td>\n      <td>0.992293</td>\n      <td>0.990955</td>\n      <td>0.989617</td>\n      <td>0.992638</td>\n      <td>0.991416</td>\n      <td>0.990195</td>\n      <td>24560.54</td>\n      <td>24364.05</td>\n      <td>2020-06-30</td>\n      <td>24868.08</td>\n    </tr>\n    <tr>\n      <th>4</th>\n      <td>policy-1</td>\n      <td>2020-07-02</td>\n      <td>2020-08-02</td>\n      <td>6</td>\n      <td>62</td>\n      <td>1.000000</td>\n      <td>200.00</td>\n      <td>0.002696</td>\n      <td>0.989617</td>\n      <td>0.988283</td>\n      <td>0.986949</td>\n      <td>0.990195</td>\n      <td>0.988977</td>\n      <td>0.987759</td>\n      <td>24364.05</td>\n      <td>24168.57</td>\n      <td>2020-07-31</td>\n      <td>24796.29</td>\n    </tr>\n    <tr>\n      <th>...</th>\n      <td>...</td>\n      <td>...</td>\n      <td>...</td>\n      <td>...</td>\n      <td>...</td>\n      <td>...</td>\n      <td>...</td>\n      <td>...</td>\n      <td>...</td>\n      <td>...</td>\n      <td>...</td>\n      <td>...</td>\n      <td>...</td>\n      <td>...</td>\n      <td>...</td>\n      <td>...</td>\n      <td>...</td>\n      <td>...</td>\n    </tr>\n    <tr>\n      <th>176</th>\n      <td>policy-1</td>\n      <td>2034-11-02</td>\n      <td>2034-12-02</td>\n      <td>20</td>\n      <td>234</td>\n      <td>1.000000</td>\n      <td>200.00</td>\n      <td>0.001494</td>\n      <td>0.755779</td>\n      <td>0.755215</td>\n      <td>0.754650</td>\n      <td>0.648217</td>\n      <td>0.647420</td>\n      <td>0.646623</td>\n      <td>463.36</td>\n      <td>365.57</td>\n      <td>2034-11-30</td>\n      <td>761.89</td>\n    </tr>\n    <tr>\n      <th>177</th>\n      <td>policy-1</td>\n      <td>2034-12-02</td>\n      <td>2035-01-02</td>\n      <td>20</td>\n      <td>235</td>\n      <td>1.000000</td>\n      <td>200.00</td>\n      <td>0.001494</td>\n      <td>0.754650</td>\n      <td>0.754087</td>\n      <td>0.753523</td>\n      <td>0.646623</td>\n      <td>0.645827</td>\n      <td>0.645032</td>\n      <td>365.57</td>\n      <td>268.17</td>\n      <td>2034-12-31</td>\n      <td>564.52</td>\n    </tr>\n    <tr>\n      <th>178</th>\n      <td>policy-1</td>\n      <td>2035-01-02</td>\n      <td>2035-02-02</td>\n      <td>20</td>\n      <td>236</td>\n      <td>1.000000</td>\n      <td>200.00</td>\n      <td>0.001494</td>\n      <td>0.753523</td>\n      <td>0.752960</td>\n      <td>0.752397</td>\n      <td>0.645032</td>\n      <td>0.644238</td>\n      <td>0.643445</td>\n      <td>268.17</td>\n      <td>171.15</td>\n      <td>2035-01-31</td>\n      <td>366.36</td>\n    </tr>\n    <tr>\n      <th>179</th>\n      <td>policy-1</td>\n      <td>2035-02-02</td>\n      <td>2035-03-02</td>\n      <td>20</td>\n      <td>237</td>\n      <td>1.000000</td>\n      <td>200.00</td>\n      <td>0.001494</td>\n      <td>0.752397</td>\n      <td>0.751836</td>\n      <td>0.751274</td>\n      <td>0.643445</td>\n      <td>0.642653</td>\n      <td>0.641862</td>\n      <td>171.15</td>\n      <td>74.52</td>\n      <td>2035-02-28</td>\n      <td>167.42</td>\n    </tr>\n    <tr>\n      <th>180</th>\n      <td>policy-1</td>\n      <td>2035-03-02</td>\n      <td>2035-04-02</td>\n      <td>20</td>\n      <td>238</td>\n      <td>0.774194</td>\n      <td>154.84</td>\n      <td>0.001494</td>\n      <td>0.751274</td>\n      <td>0.750713</td>\n      <td>0.750151</td>\n      <td>0.641862</td>\n      <td>0.641072</td>\n      <td>0.640283</td>\n      <td>74.52</td>\n      <td>0.00</td>\n      <td>2035-03-31</td>\n      <td>10.01</td>\n    </tr>\n  </tbody>\n</table>\n<p>181 rows × 18 columns</p>\n</div>"
     },
     "metadata": {},
     "execution_count": 25
    }
   ],
   "source": [
    "dlr_policy_output"
   ]
  },
  {
   "cell_type": "markdown",
   "metadata": {},
   "source": [
    "### ALR Deterministic"
   ]
  },
  {
   "cell_type": "markdown",
   "metadata": {},
   "source": [
    "The flow is the same for using the `alr_deterministic_model`."
   ]
  },
  {
   "cell_type": "code",
   "execution_count": 26,
   "metadata": {},
   "outputs": [],
   "source": [
    "from footings_idi_model.policy_models import alr_deterministic_model\n",
    "\n",
    "alr_policy_output =  alr_deterministic_model(\n",
    "    policy_id=\"policy-1\",\n",
    "    gender=\"M\",\n",
    "    tobacco_usage=\"N\",\n",
    "    birth_dt=pd.Timestamp(\"1970-03-26\"),\n",
    "    issue_dt=pd.Timestamp(\"2015-06-02\"),\n",
    "    termination_dt=pd.Timestamp(\"2035-03-26\"),\n",
    "    elimination_period=90,\n",
    "    idi_market=\"INDV\",\n",
    "    idi_contract=\"AS\",\n",
    "    idi_benefit_period=\"TO65\",\n",
    "    idi_occupation_class=\"M\",\n",
    "    cola_percent=0.0,\n",
    "    benefit_amount=200.0,\n",
    "    valuation_dt=pd.Timestamp(\"2020-03-31\"), \n",
    "    assumption_set=\"stat\", \n",
    "    net_benefit_method=\"NLP\",\n",
    ").run() # note ouput is returned as we call run right after we instantiate the model"
   ]
  },
  {
   "cell_type": "markdown",
   "metadata": {},
   "source": [
    "For the `alr_deterministic_model` the respective output information is show below."
   ]
  },
  {
   "cell_type": "code",
   "execution_count": 27,
   "metadata": {
    "tags": []
   },
   "outputs": [
    {
     "output_type": "stream",
     "name": "stdout",
     "text": "<class 'pandas.core.frame.DataFrame'>\nInt64Index: 15 entries, 5 to 19\nData columns (total 20 columns):\n #   Column          Non-Null Count  Dtype         \n---  ------          --------------  -----         \n 0   POLICY_ID       15 non-null     object        \n 1   DATE_BD         15 non-null     datetime64[ns]\n 2   DATE_ED         15 non-null     datetime64[ns]\n 3   DURATION_YEAR   15 non-null     Int64         \n 4   LIVES_BD        15 non-null     float64       \n 5   LIVES_MD        15 non-null     float64       \n 6   LIVES_ED        15 non-null     float64       \n 7   DISCOUNT_BD     15 non-null     float64       \n 8   DISCOUNT_MD     15 non-null     float64       \n 9   DISCOUNT_ED     15 non-null     float64       \n 10  BENEFIT_AMOUNT  15 non-null     float64       \n 11  INCIDENCE_RATE  15 non-null     float64       \n 12  DLR             15 non-null     float64       \n 13  CLAIM_COST      15 non-null     float64       \n 14  PVFB            15 non-null     float64       \n 15  PVP             15 non-null     float64       \n 16  ALR_BD          15 non-null     float64       \n 17  ALR_ED          15 non-null     float64       \n 18  DATE_ALR        15 non-null     datetime64[ns]\n 19  ALR             15 non-null     float64       \ndtypes: Int64(1), datetime64[ns](3), float64(15), object(1)\nmemory usage: 2.5+ KB\n"
    }
   ],
   "source": [
    "alr_policy_output.info()"
   ]
  },
  {
   "cell_type": "markdown",
   "metadata": {},
   "source": [
    "With the output shown below."
   ]
  },
  {
   "cell_type": "code",
   "execution_count": 28,
   "metadata": {},
   "outputs": [
    {
     "output_type": "execute_result",
     "data": {
      "text/plain": "   POLICY_ID    DATE_BD    DATE_ED  DURATION_YEAR  LIVES_BD  LIVES_MD  \\\n5   policy-1 2020-06-02 2021-06-02              6  0.983993  0.982070   \n6   policy-1 2021-06-02 2022-06-02              7  0.980146  0.978058   \n7   policy-1 2022-06-02 2023-06-02              8  0.975970  0.973677   \n8   policy-1 2023-06-02 2024-06-02              9  0.971383  0.968853   \n9   policy-1 2024-06-02 2025-06-02             10  0.966322  0.963506   \n10  policy-1 2025-06-02 2026-06-02             11  0.960689  0.957557   \n11  policy-1 2026-06-02 2027-06-02             12  0.954425  0.950961   \n12  policy-1 2027-06-02 2028-06-02             13  0.947496  0.943730   \n13  policy-1 2028-06-02 2029-06-02             14  0.939963  0.935907   \n14  policy-1 2029-06-02 2030-06-02             15  0.931851  0.927462   \n15  policy-1 2030-06-02 2031-06-02             16  0.923073  0.918273   \n16  policy-1 2031-06-02 2032-06-02             17  0.913473  0.908180   \n17  policy-1 2032-06-02 2033-06-02             18  0.902886  0.897027   \n18  policy-1 2033-06-02 2034-06-02             19  0.891167  0.884719   \n19  policy-1 2034-06-02 2035-06-02             20  0.878272  0.871228   \n\n    LIVES_ED  DISCOUNT_BD  DISCOUNT_MD  DISCOUNT_ED  BENEFIT_AMOUNT  \\\n5   0.980146     0.862609     0.849954     0.837484           200.0   \n6   0.975970     0.837484     0.825198     0.813092           200.0   \n7   0.971383     0.813092     0.801163     0.789409           200.0   \n8   0.966322     0.789409     0.777828     0.766417           200.0   \n9   0.960689     0.766417     0.755173     0.744094           200.0   \n10  0.954425     0.744094     0.733178     0.722421           200.0   \n11  0.947496     0.722421     0.711823     0.701380           200.0   \n12  0.939963     0.701380     0.691090     0.680951           200.0   \n13  0.931851     0.680951     0.670961     0.661118           200.0   \n14  0.923073     0.661118     0.651419     0.641862           200.0   \n15  0.913473     0.641862     0.632445     0.623167           200.0   \n16  0.902886     0.623167     0.614025     0.605016           200.0   \n17  0.891167     0.605016     0.596140     0.587395           200.0   \n18  0.878272     0.587395     0.578777     0.570286           200.0   \n19  0.864184     0.570286     0.561920     0.553676           200.0   \n\n    INCIDENCE_RATE       DLR  CLAIM_COST     PVFB        PVP  ALR_BD  ALR_ED  \\\n5         0.008527  15495.74      132.14  1314.15  10.027989   85.20   81.45   \n6         0.009255  15046.49      139.26  1203.85   9.179188   81.45   70.56   \n7         0.010026  14530.74      145.68  1091.46   8.358331   70.56   53.09   \n8         0.010849  13938.14      151.22   977.82   7.564778   53.09   29.77   \n9         0.011736  13272.24      155.76   863.86   6.797959   29.77    1.49   \n10        0.012664  12528.04      158.66   750.52   6.057353    1.49    0.00   \n11        0.013656  11696.28      159.73   639.13   5.342511    0.00    0.00   \n12        0.014712  10773.83      158.50   531.01   4.653014    0.00    0.00   \n13        0.015809   9753.44      154.19   427.64   3.988459    0.00    0.00   \n14        0.016960   8629.78      146.36   330.81   3.348390    0.00    0.00   \n15        0.018173   7398.87      134.46   242.39   2.732326    0.00    0.00   \n16        0.019450   6057.46      117.82   164.30   2.139840    0.00    0.00   \n17        0.020769   4594.81       95.43    98.60   1.570594    0.00    0.00   \n18        0.022110   2989.91       66.11    47.56   1.024333    0.00    0.00   \n19        0.023439   1195.00       28.01    13.71   0.500866    0.00    0.00   \n\n     DATE_ALR     ALR  \n5  2020-03-31  100.57  \n6  2021-03-31  100.93  \n7  2022-03-31   92.18  \n8  2023-03-31   74.04  \n9  2024-03-31   46.51  \n10 2025-03-31    2.43  \n11 2026-03-31    0.00  \n12 2027-03-31    0.00  \n13 2028-03-31    0.00  \n14 2029-03-31    0.00  \n15 2030-03-31    0.00  \n16 2031-03-31    0.00  \n17 2032-03-31    0.00  \n18 2033-03-31    0.00  \n19 2034-03-31    0.00  ",
      "text/html": "<div>\n<style scoped>\n    .dataframe tbody tr th:only-of-type {\n        vertical-align: middle;\n    }\n\n    .dataframe tbody tr th {\n        vertical-align: top;\n    }\n\n    .dataframe thead th {\n        text-align: right;\n    }\n</style>\n<table border=\"1\" class=\"dataframe\">\n  <thead>\n    <tr style=\"text-align: right;\">\n      <th></th>\n      <th>POLICY_ID</th>\n      <th>DATE_BD</th>\n      <th>DATE_ED</th>\n      <th>DURATION_YEAR</th>\n      <th>LIVES_BD</th>\n      <th>LIVES_MD</th>\n      <th>LIVES_ED</th>\n      <th>DISCOUNT_BD</th>\n      <th>DISCOUNT_MD</th>\n      <th>DISCOUNT_ED</th>\n      <th>BENEFIT_AMOUNT</th>\n      <th>INCIDENCE_RATE</th>\n      <th>DLR</th>\n      <th>CLAIM_COST</th>\n      <th>PVFB</th>\n      <th>PVP</th>\n      <th>ALR_BD</th>\n      <th>ALR_ED</th>\n      <th>DATE_ALR</th>\n      <th>ALR</th>\n    </tr>\n  </thead>\n  <tbody>\n    <tr>\n      <th>5</th>\n      <td>policy-1</td>\n      <td>2020-06-02</td>\n      <td>2021-06-02</td>\n      <td>6</td>\n      <td>0.983993</td>\n      <td>0.982070</td>\n      <td>0.980146</td>\n      <td>0.862609</td>\n      <td>0.849954</td>\n      <td>0.837484</td>\n      <td>200.0</td>\n      <td>0.008527</td>\n      <td>15495.74</td>\n      <td>132.14</td>\n      <td>1314.15</td>\n      <td>10.027989</td>\n      <td>85.20</td>\n      <td>81.45</td>\n      <td>2020-03-31</td>\n      <td>100.57</td>\n    </tr>\n    <tr>\n      <th>6</th>\n      <td>policy-1</td>\n      <td>2021-06-02</td>\n      <td>2022-06-02</td>\n      <td>7</td>\n      <td>0.980146</td>\n      <td>0.978058</td>\n      <td>0.975970</td>\n      <td>0.837484</td>\n      <td>0.825198</td>\n      <td>0.813092</td>\n      <td>200.0</td>\n      <td>0.009255</td>\n      <td>15046.49</td>\n      <td>139.26</td>\n      <td>1203.85</td>\n      <td>9.179188</td>\n      <td>81.45</td>\n      <td>70.56</td>\n      <td>2021-03-31</td>\n      <td>100.93</td>\n    </tr>\n    <tr>\n      <th>7</th>\n      <td>policy-1</td>\n      <td>2022-06-02</td>\n      <td>2023-06-02</td>\n      <td>8</td>\n      <td>0.975970</td>\n      <td>0.973677</td>\n      <td>0.971383</td>\n      <td>0.813092</td>\n      <td>0.801163</td>\n      <td>0.789409</td>\n      <td>200.0</td>\n      <td>0.010026</td>\n      <td>14530.74</td>\n      <td>145.68</td>\n      <td>1091.46</td>\n      <td>8.358331</td>\n      <td>70.56</td>\n      <td>53.09</td>\n      <td>2022-03-31</td>\n      <td>92.18</td>\n    </tr>\n    <tr>\n      <th>8</th>\n      <td>policy-1</td>\n      <td>2023-06-02</td>\n      <td>2024-06-02</td>\n      <td>9</td>\n      <td>0.971383</td>\n      <td>0.968853</td>\n      <td>0.966322</td>\n      <td>0.789409</td>\n      <td>0.777828</td>\n      <td>0.766417</td>\n      <td>200.0</td>\n      <td>0.010849</td>\n      <td>13938.14</td>\n      <td>151.22</td>\n      <td>977.82</td>\n      <td>7.564778</td>\n      <td>53.09</td>\n      <td>29.77</td>\n      <td>2023-03-31</td>\n      <td>74.04</td>\n    </tr>\n    <tr>\n      <th>9</th>\n      <td>policy-1</td>\n      <td>2024-06-02</td>\n      <td>2025-06-02</td>\n      <td>10</td>\n      <td>0.966322</td>\n      <td>0.963506</td>\n      <td>0.960689</td>\n      <td>0.766417</td>\n      <td>0.755173</td>\n      <td>0.744094</td>\n      <td>200.0</td>\n      <td>0.011736</td>\n      <td>13272.24</td>\n      <td>155.76</td>\n      <td>863.86</td>\n      <td>6.797959</td>\n      <td>29.77</td>\n      <td>1.49</td>\n      <td>2024-03-31</td>\n      <td>46.51</td>\n    </tr>\n    <tr>\n      <th>10</th>\n      <td>policy-1</td>\n      <td>2025-06-02</td>\n      <td>2026-06-02</td>\n      <td>11</td>\n      <td>0.960689</td>\n      <td>0.957557</td>\n      <td>0.954425</td>\n      <td>0.744094</td>\n      <td>0.733178</td>\n      <td>0.722421</td>\n      <td>200.0</td>\n      <td>0.012664</td>\n      <td>12528.04</td>\n      <td>158.66</td>\n      <td>750.52</td>\n      <td>6.057353</td>\n      <td>1.49</td>\n      <td>0.00</td>\n      <td>2025-03-31</td>\n      <td>2.43</td>\n    </tr>\n    <tr>\n      <th>11</th>\n      <td>policy-1</td>\n      <td>2026-06-02</td>\n      <td>2027-06-02</td>\n      <td>12</td>\n      <td>0.954425</td>\n      <td>0.950961</td>\n      <td>0.947496</td>\n      <td>0.722421</td>\n      <td>0.711823</td>\n      <td>0.701380</td>\n      <td>200.0</td>\n      <td>0.013656</td>\n      <td>11696.28</td>\n      <td>159.73</td>\n      <td>639.13</td>\n      <td>5.342511</td>\n      <td>0.00</td>\n      <td>0.00</td>\n      <td>2026-03-31</td>\n      <td>0.00</td>\n    </tr>\n    <tr>\n      <th>12</th>\n      <td>policy-1</td>\n      <td>2027-06-02</td>\n      <td>2028-06-02</td>\n      <td>13</td>\n      <td>0.947496</td>\n      <td>0.943730</td>\n      <td>0.939963</td>\n      <td>0.701380</td>\n      <td>0.691090</td>\n      <td>0.680951</td>\n      <td>200.0</td>\n      <td>0.014712</td>\n      <td>10773.83</td>\n      <td>158.50</td>\n      <td>531.01</td>\n      <td>4.653014</td>\n      <td>0.00</td>\n      <td>0.00</td>\n      <td>2027-03-31</td>\n      <td>0.00</td>\n    </tr>\n    <tr>\n      <th>13</th>\n      <td>policy-1</td>\n      <td>2028-06-02</td>\n      <td>2029-06-02</td>\n      <td>14</td>\n      <td>0.939963</td>\n      <td>0.935907</td>\n      <td>0.931851</td>\n      <td>0.680951</td>\n      <td>0.670961</td>\n      <td>0.661118</td>\n      <td>200.0</td>\n      <td>0.015809</td>\n      <td>9753.44</td>\n      <td>154.19</td>\n      <td>427.64</td>\n      <td>3.988459</td>\n      <td>0.00</td>\n      <td>0.00</td>\n      <td>2028-03-31</td>\n      <td>0.00</td>\n    </tr>\n    <tr>\n      <th>14</th>\n      <td>policy-1</td>\n      <td>2029-06-02</td>\n      <td>2030-06-02</td>\n      <td>15</td>\n      <td>0.931851</td>\n      <td>0.927462</td>\n      <td>0.923073</td>\n      <td>0.661118</td>\n      <td>0.651419</td>\n      <td>0.641862</td>\n      <td>200.0</td>\n      <td>0.016960</td>\n      <td>8629.78</td>\n      <td>146.36</td>\n      <td>330.81</td>\n      <td>3.348390</td>\n      <td>0.00</td>\n      <td>0.00</td>\n      <td>2029-03-31</td>\n      <td>0.00</td>\n    </tr>\n    <tr>\n      <th>15</th>\n      <td>policy-1</td>\n      <td>2030-06-02</td>\n      <td>2031-06-02</td>\n      <td>16</td>\n      <td>0.923073</td>\n      <td>0.918273</td>\n      <td>0.913473</td>\n      <td>0.641862</td>\n      <td>0.632445</td>\n      <td>0.623167</td>\n      <td>200.0</td>\n      <td>0.018173</td>\n      <td>7398.87</td>\n      <td>134.46</td>\n      <td>242.39</td>\n      <td>2.732326</td>\n      <td>0.00</td>\n      <td>0.00</td>\n      <td>2030-03-31</td>\n      <td>0.00</td>\n    </tr>\n    <tr>\n      <th>16</th>\n      <td>policy-1</td>\n      <td>2031-06-02</td>\n      <td>2032-06-02</td>\n      <td>17</td>\n      <td>0.913473</td>\n      <td>0.908180</td>\n      <td>0.902886</td>\n      <td>0.623167</td>\n      <td>0.614025</td>\n      <td>0.605016</td>\n      <td>200.0</td>\n      <td>0.019450</td>\n      <td>6057.46</td>\n      <td>117.82</td>\n      <td>164.30</td>\n      <td>2.139840</td>\n      <td>0.00</td>\n      <td>0.00</td>\n      <td>2031-03-31</td>\n      <td>0.00</td>\n    </tr>\n    <tr>\n      <th>17</th>\n      <td>policy-1</td>\n      <td>2032-06-02</td>\n      <td>2033-06-02</td>\n      <td>18</td>\n      <td>0.902886</td>\n      <td>0.897027</td>\n      <td>0.891167</td>\n      <td>0.605016</td>\n      <td>0.596140</td>\n      <td>0.587395</td>\n      <td>200.0</td>\n      <td>0.020769</td>\n      <td>4594.81</td>\n      <td>95.43</td>\n      <td>98.60</td>\n      <td>1.570594</td>\n      <td>0.00</td>\n      <td>0.00</td>\n      <td>2032-03-31</td>\n      <td>0.00</td>\n    </tr>\n    <tr>\n      <th>18</th>\n      <td>policy-1</td>\n      <td>2033-06-02</td>\n      <td>2034-06-02</td>\n      <td>19</td>\n      <td>0.891167</td>\n      <td>0.884719</td>\n      <td>0.878272</td>\n      <td>0.587395</td>\n      <td>0.578777</td>\n      <td>0.570286</td>\n      <td>200.0</td>\n      <td>0.022110</td>\n      <td>2989.91</td>\n      <td>66.11</td>\n      <td>47.56</td>\n      <td>1.024333</td>\n      <td>0.00</td>\n      <td>0.00</td>\n      <td>2033-03-31</td>\n      <td>0.00</td>\n    </tr>\n    <tr>\n      <th>19</th>\n      <td>policy-1</td>\n      <td>2034-06-02</td>\n      <td>2035-06-02</td>\n      <td>20</td>\n      <td>0.878272</td>\n      <td>0.871228</td>\n      <td>0.864184</td>\n      <td>0.570286</td>\n      <td>0.561920</td>\n      <td>0.553676</td>\n      <td>200.0</td>\n      <td>0.023439</td>\n      <td>1195.00</td>\n      <td>28.01</td>\n      <td>13.71</td>\n      <td>0.500866</td>\n      <td>0.00</td>\n      <td>0.00</td>\n      <td>2034-03-31</td>\n      <td>0.00</td>\n    </tr>\n  </tbody>\n</table>\n</div>"
     },
     "metadata": {},
     "execution_count": 28
    }
   ],
   "source": [
    "alr_policy_output"
   ]
  },
  {
   "cell_type": "markdown",
   "metadata": {},
   "source": [
    "## Population Models"
   ]
  },
  {
   "cell_type": "markdown",
   "metadata": {},
   "source": [
    "As noted earlier, populations models can by created by applying the policy models on each policy using a standard for loop. Within in the insurnace industry, a population of policies is typically represented as a `policy inforce extract` or `extract` for short which is tabular data structure were policies (and riders) are records in the table and the columns are policy attributes.\n",
    "\n",
    "Two population models were built where the links direct you to the detailed documentation for each model -\n",
    "\n",
    "- [disabled_lives_model](models.rst#footings_idi_model.population_models.disabled_lives_model)\n",
    "- [active_lives_model](models.rst#footings_idi_model.population_models.active_lives_model)\n"
   ]
  },
  {
   "cell_type": "markdown",
   "metadata": {},
   "source": [
    "In order to quickly create extracts, the `footings_idi_model` comes with a model to generate extracts using fake policies. It is exposed under `footings_idi_model.utils.extract_generator_model`. It's detailed information can be viewed under the [api section](models.rst#footings_idi_model.utils.extract_generator_model). \n",
    "\n",
    "To use the extract_generator_model, we need to define -\n",
    "\n",
    "- the `n` number of policies we want to create, \n",
    "- the extract type `disabled-lives` or `active-lives`,\n",
    "- the volume table which is a distribution of policies by attributes,\n",
    "- an as of date, and\n",
    "- a seed if wanting to have reproducibility when generating the extract."
   ]
  },
  {
   "cell_type": "code",
   "execution_count": 29,
   "metadata": {},
   "outputs": [],
   "source": [
    "from footings_idi_model.utils import extract_generator_model\n",
    "volume_tbl = pd.read_csv(\"volume-tbl.csv\")\n",
    "dl_extract = extract_generator_model(\n",
    "    n=10, \n",
    "    extract_type=\"disabled-lives\", \n",
    "    volume_tbl=volume_tbl, \n",
    "    as_of_dt=pd.Timestamp(\"2020-03-31\"), \n",
    "    seed=1\n",
    ").run()"
   ]
  },
  {
   "cell_type": "markdown",
   "metadata": {},
   "source": [
    "### Disabled Lives Model"
   ]
  },
  {
   "cell_type": "markdown",
   "metadata": {},
   "source": [
    "The disabled lives model requires the an extract with the following columns. Note the similarities to the arguments required of the `dlr_deterministic_model`."
   ]
  },
  {
   "cell_type": "code",
   "execution_count": 30,
   "metadata": {
    "tags": []
   },
   "outputs": [
    {
     "output_type": "stream",
     "name": "stdout",
     "text": "<class 'pandas.core.frame.DataFrame'>\nRangeIndex: 10 entries, 0 to 9\nData columns (total 16 columns):\n #   Column                Non-Null Count  Dtype         \n---  ------                --------------  -----         \n 0   POLICY_ID             10 non-null     object        \n 1   BIRTH_DT              10 non-null     datetime64[ns]\n 2   GENDER                10 non-null     object        \n 3   TOBACCO_USAGE         10 non-null     object        \n 4   CLAIM_ID              10 non-null     object        \n 5   COVERAGE_ID           10 non-null     object        \n 6   INCURRED_DT           10 non-null     datetime64[ns]\n 7   TERMINATION_DT        10 non-null     datetime64[ns]\n 8   ELIMINATION_PERIOD    10 non-null     int64         \n 9   BENEFIT_AMOUNT        10 non-null     float64       \n 10  IDI_OCCUPATION_CLASS  10 non-null     object        \n 11  IDI_CONTRACT          10 non-null     object        \n 12  IDI_BENEFIT_PERIOD    10 non-null     object        \n 13  IDI_MARKET            10 non-null     object        \n 14  IDI_DIAGNOSIS_GRP     10 non-null     object        \n 15  COLA_PERCENT          10 non-null     float64       \ndtypes: datetime64[ns](3), float64(2), int64(1), object(10)\nmemory usage: 1.4+ KB\n"
    }
   ],
   "source": [
    "dl_extract.info()"
   ]
  },
  {
   "cell_type": "markdown",
   "metadata": {},
   "source": [
    "A view of the extract is below."
   ]
  },
  {
   "cell_type": "code",
   "execution_count": 31,
   "metadata": {},
   "outputs": [
    {
     "output_type": "execute_result",
     "data": {
      "text/plain": "  POLICY_ID   BIRTH_DT GENDER TOBACCO_USAGE CLAIM_ID COVERAGE_ID INCURRED_DT  \\\n0        M1 1967-11-27      F             N     M1C1        base  2007-07-02   \n1        M2 1969-01-03      M             N     M2C1        base  2019-03-22   \n2        M3 1987-01-25      M             N     M3C1        base  2012-01-27   \n3        M4 1957-01-28      F             Y     M4C1        base  1992-08-28   \n4        M5 1989-02-26      F             Y     M5C1        base  2019-04-17   \n5        M6 1967-05-13      F             N     M6C1        base  1995-08-06   \n6        M7 1973-12-03      M             N     M7C1        base  2005-06-10   \n7        M8 1964-10-07      M             N     M8C1        base  2001-11-11   \n8        M9 1976-12-28      M             Y     M9C1        base  2015-11-17   \n9       M10 1961-04-21      M             Y    M10C1        base  2005-02-28   \n\n  TERMINATION_DT  ELIMINATION_PERIOD  BENEFIT_AMOUNT IDI_OCCUPATION_CLASS  \\\n0     2037-11-27                 360           100.0                    M   \n1     2020-09-22                  14           100.0                    4   \n2     2052-01-25                 180           100.0                    M   \n3     2024-01-28                  90           100.0                    1   \n4     2054-02-26                  90           100.0                    2   \n5     2032-05-13                 180           100.0                    1   \n6     2040-12-03                 360           100.0                    2   \n7     2034-10-07                 720           100.0                    1   \n8     2046-12-28                  90           100.0                    2   \n9     2081-04-21                 180           100.0                    2   \n\n  IDI_CONTRACT IDI_BENEFIT_PERIOD IDI_MARKET IDI_DIAGNOSIS_GRP  COLA_PERCENT  \n0           AS               TO70       INDV          VERY_LOW          0.02  \n1           AS                18M       INDV          VERY_LOW          0.00  \n2           AS               TO65       INDV          VERY_LOW          0.03  \n3           AS               TO67       INDV         VERY_HIGH          0.03  \n4           AO               TO65       INDV         VERY_HIGH          0.03  \n5           AS               TO65       INDV               LOW          0.03  \n6           AO               TO67       INDV          VERY_LOW          0.03  \n7           AO               TO70       INDV               LOW          0.00  \n8           AO               TO70       INDV         VERY_HIGH          0.03  \n9           SO               LIFE       INDV               LOW          0.02  ",
      "text/html": "<div>\n<style scoped>\n    .dataframe tbody tr th:only-of-type {\n        vertical-align: middle;\n    }\n\n    .dataframe tbody tr th {\n        vertical-align: top;\n    }\n\n    .dataframe thead th {\n        text-align: right;\n    }\n</style>\n<table border=\"1\" class=\"dataframe\">\n  <thead>\n    <tr style=\"text-align: right;\">\n      <th></th>\n      <th>POLICY_ID</th>\n      <th>BIRTH_DT</th>\n      <th>GENDER</th>\n      <th>TOBACCO_USAGE</th>\n      <th>CLAIM_ID</th>\n      <th>COVERAGE_ID</th>\n      <th>INCURRED_DT</th>\n      <th>TERMINATION_DT</th>\n      <th>ELIMINATION_PERIOD</th>\n      <th>BENEFIT_AMOUNT</th>\n      <th>IDI_OCCUPATION_CLASS</th>\n      <th>IDI_CONTRACT</th>\n      <th>IDI_BENEFIT_PERIOD</th>\n      <th>IDI_MARKET</th>\n      <th>IDI_DIAGNOSIS_GRP</th>\n      <th>COLA_PERCENT</th>\n    </tr>\n  </thead>\n  <tbody>\n    <tr>\n      <th>0</th>\n      <td>M1</td>\n      <td>1967-11-27</td>\n      <td>F</td>\n      <td>N</td>\n      <td>M1C1</td>\n      <td>base</td>\n      <td>2007-07-02</td>\n      <td>2037-11-27</td>\n      <td>360</td>\n      <td>100.0</td>\n      <td>M</td>\n      <td>AS</td>\n      <td>TO70</td>\n      <td>INDV</td>\n      <td>VERY_LOW</td>\n      <td>0.02</td>\n    </tr>\n    <tr>\n      <th>1</th>\n      <td>M2</td>\n      <td>1969-01-03</td>\n      <td>M</td>\n      <td>N</td>\n      <td>M2C1</td>\n      <td>base</td>\n      <td>2019-03-22</td>\n      <td>2020-09-22</td>\n      <td>14</td>\n      <td>100.0</td>\n      <td>4</td>\n      <td>AS</td>\n      <td>18M</td>\n      <td>INDV</td>\n      <td>VERY_LOW</td>\n      <td>0.00</td>\n    </tr>\n    <tr>\n      <th>2</th>\n      <td>M3</td>\n      <td>1987-01-25</td>\n      <td>M</td>\n      <td>N</td>\n      <td>M3C1</td>\n      <td>base</td>\n      <td>2012-01-27</td>\n      <td>2052-01-25</td>\n      <td>180</td>\n      <td>100.0</td>\n      <td>M</td>\n      <td>AS</td>\n      <td>TO65</td>\n      <td>INDV</td>\n      <td>VERY_LOW</td>\n      <td>0.03</td>\n    </tr>\n    <tr>\n      <th>3</th>\n      <td>M4</td>\n      <td>1957-01-28</td>\n      <td>F</td>\n      <td>Y</td>\n      <td>M4C1</td>\n      <td>base</td>\n      <td>1992-08-28</td>\n      <td>2024-01-28</td>\n      <td>90</td>\n      <td>100.0</td>\n      <td>1</td>\n      <td>AS</td>\n      <td>TO67</td>\n      <td>INDV</td>\n      <td>VERY_HIGH</td>\n      <td>0.03</td>\n    </tr>\n    <tr>\n      <th>4</th>\n      <td>M5</td>\n      <td>1989-02-26</td>\n      <td>F</td>\n      <td>Y</td>\n      <td>M5C1</td>\n      <td>base</td>\n      <td>2019-04-17</td>\n      <td>2054-02-26</td>\n      <td>90</td>\n      <td>100.0</td>\n      <td>2</td>\n      <td>AO</td>\n      <td>TO65</td>\n      <td>INDV</td>\n      <td>VERY_HIGH</td>\n      <td>0.03</td>\n    </tr>\n    <tr>\n      <th>5</th>\n      <td>M6</td>\n      <td>1967-05-13</td>\n      <td>F</td>\n      <td>N</td>\n      <td>M6C1</td>\n      <td>base</td>\n      <td>1995-08-06</td>\n      <td>2032-05-13</td>\n      <td>180</td>\n      <td>100.0</td>\n      <td>1</td>\n      <td>AS</td>\n      <td>TO65</td>\n      <td>INDV</td>\n      <td>LOW</td>\n      <td>0.03</td>\n    </tr>\n    <tr>\n      <th>6</th>\n      <td>M7</td>\n      <td>1973-12-03</td>\n      <td>M</td>\n      <td>N</td>\n      <td>M7C1</td>\n      <td>base</td>\n      <td>2005-06-10</td>\n      <td>2040-12-03</td>\n      <td>360</td>\n      <td>100.0</td>\n      <td>2</td>\n      <td>AO</td>\n      <td>TO67</td>\n      <td>INDV</td>\n      <td>VERY_LOW</td>\n      <td>0.03</td>\n    </tr>\n    <tr>\n      <th>7</th>\n      <td>M8</td>\n      <td>1964-10-07</td>\n      <td>M</td>\n      <td>N</td>\n      <td>M8C1</td>\n      <td>base</td>\n      <td>2001-11-11</td>\n      <td>2034-10-07</td>\n      <td>720</td>\n      <td>100.0</td>\n      <td>1</td>\n      <td>AO</td>\n      <td>TO70</td>\n      <td>INDV</td>\n      <td>LOW</td>\n      <td>0.00</td>\n    </tr>\n    <tr>\n      <th>8</th>\n      <td>M9</td>\n      <td>1976-12-28</td>\n      <td>M</td>\n      <td>Y</td>\n      <td>M9C1</td>\n      <td>base</td>\n      <td>2015-11-17</td>\n      <td>2046-12-28</td>\n      <td>90</td>\n      <td>100.0</td>\n      <td>2</td>\n      <td>AO</td>\n      <td>TO70</td>\n      <td>INDV</td>\n      <td>VERY_HIGH</td>\n      <td>0.03</td>\n    </tr>\n    <tr>\n      <th>9</th>\n      <td>M10</td>\n      <td>1961-04-21</td>\n      <td>M</td>\n      <td>Y</td>\n      <td>M10C1</td>\n      <td>base</td>\n      <td>2005-02-28</td>\n      <td>2081-04-21</td>\n      <td>180</td>\n      <td>100.0</td>\n      <td>2</td>\n      <td>SO</td>\n      <td>LIFE</td>\n      <td>INDV</td>\n      <td>LOW</td>\n      <td>0.02</td>\n    </tr>\n  </tbody>\n</table>\n</div>"
     },
     "metadata": {},
     "execution_count": 31
    }
   ],
   "source": [
    "dl_extract"
   ]
  },
  {
   "cell_type": "markdown",
   "metadata": {},
   "source": [
    "Modeling disabled lives has fewer inputs as most of the policy inputs come in on the extract."
   ]
  },
  {
   "cell_type": "code",
   "execution_count": 32,
   "metadata": {},
   "outputs": [],
   "source": [
    "from footings_idi_model.population_models import disabled_lives_model\n",
    "\n",
    "dl_population_init_model = disabled_lives_model(\n",
    "    extract=dl_extract, \n",
    "    valuation_dt=pd.Timestamp(\"2020-03-31\"),\n",
    "    assumption_set=\"stat\",\n",
    "    policy_model=\"deterministic\",\n",
    ")"
   ]
  },
  {
   "cell_type": "markdown",
   "metadata": {},
   "source": [
    "Similar to the DLR deterministic policy model, to run the model requires applying the `run()` method of the object. The model returns three tables -\n",
    "\n",
    "- a time 0 view (i.e., dl_time_0),\n",
    "- a projection view (i.e., dl_projected), and\n",
    "- any policy's that error out when running the model (i.e., dl_errors). "
   ]
  },
  {
   "cell_type": "code",
   "execution_count": 33,
   "metadata": {},
   "outputs": [],
   "source": [
    "dl_time_0, dl_projected, dl_errors  = dl_population_init_model.run()"
   ]
  },
  {
   "cell_type": "markdown",
   "metadata": {},
   "source": [
    "A view of each of the tables are shown below."
   ]
  },
  {
   "cell_type": "code",
   "execution_count": 34,
   "metadata": {},
   "outputs": [
    {
     "output_type": "execute_result",
     "data": {
      "text/plain": "  POLICY_ID       DLR\n0        M1  17919.03\n1        M3  28189.83\n2        M4   4462.12\n3        M5   9988.54\n4        M6  13419.95\n5        M7  20020.85\n6        M8  12218.84\n7        M9  19922.56\n8       M10  21002.99",
      "text/html": "<div>\n<style scoped>\n    .dataframe tbody tr th:only-of-type {\n        vertical-align: middle;\n    }\n\n    .dataframe tbody tr th {\n        vertical-align: top;\n    }\n\n    .dataframe thead th {\n        text-align: right;\n    }\n</style>\n<table border=\"1\" class=\"dataframe\">\n  <thead>\n    <tr style=\"text-align: right;\">\n      <th></th>\n      <th>POLICY_ID</th>\n      <th>DLR</th>\n    </tr>\n  </thead>\n  <tbody>\n    <tr>\n      <th>0</th>\n      <td>M1</td>\n      <td>17919.03</td>\n    </tr>\n    <tr>\n      <th>1</th>\n      <td>M3</td>\n      <td>28189.83</td>\n    </tr>\n    <tr>\n      <th>2</th>\n      <td>M4</td>\n      <td>4462.12</td>\n    </tr>\n    <tr>\n      <th>3</th>\n      <td>M5</td>\n      <td>9988.54</td>\n    </tr>\n    <tr>\n      <th>4</th>\n      <td>M6</td>\n      <td>13419.95</td>\n    </tr>\n    <tr>\n      <th>5</th>\n      <td>M7</td>\n      <td>20020.85</td>\n    </tr>\n    <tr>\n      <th>6</th>\n      <td>M8</td>\n      <td>12218.84</td>\n    </tr>\n    <tr>\n      <th>7</th>\n      <td>M9</td>\n      <td>19922.56</td>\n    </tr>\n    <tr>\n      <th>8</th>\n      <td>M10</td>\n      <td>21002.99</td>\n    </tr>\n  </tbody>\n</table>\n</div>"
     },
     "metadata": {},
     "execution_count": 34
    }
   ],
   "source": [
    "dl_time_0"
   ]
  },
  {
   "cell_type": "code",
   "execution_count": 35,
   "metadata": {},
   "outputs": [
    {
     "output_type": "execute_result",
     "data": {
      "text/plain": "    POLICY_ID    DATE_BD    DATE_ED  DURATION_YEAR  DURATION_MONTH  \\\n0          M1 2020-03-02 2020-04-02             13             153   \n1          M1 2020-04-02 2020-05-02             13             154   \n2          M1 2020-05-02 2020-06-02             13             155   \n3          M1 2020-06-02 2020-07-02             13             156   \n4          M1 2020-07-02 2020-08-02             14             157   \n..        ...        ...        ...            ...             ...   \n728       M10 2080-11-28 2080-12-28             76             910   \n729       M10 2080-12-28 2081-01-28             76             911   \n730       M10 2081-01-28 2081-02-28             76             912   \n731       M10 2081-02-28 2081-03-28             77             913   \n732       M10 2081-03-28 2081-04-28             77             914   \n\n     EXPOSURE_FACTOR  BENEFIT_AMOUNT       CTR      LIVES_BD      LIVES_MD  \\\n0           1.000000          100.00  0.000876  1.000000e+00  9.995619e-01   \n1           1.000000          100.00  0.000876  9.991238e-01  9.986860e-01   \n2           1.000000          100.00  0.000876  9.982483e-01  9.978109e-01   \n3           1.000000          100.00  0.000856  9.973736e-01  9.969468e-01   \n4           1.000000          102.00  0.000856  9.965200e-01  9.960936e-01   \n..               ...             ...       ...           ...           ...   \n728         1.000000          328.10  0.039377  5.350172e-08  5.244836e-08   \n729         1.000000          328.10  0.039377  5.139500e-08  5.038311e-08   \n730         1.000000          328.10  0.039377  4.937123e-08  4.839919e-08   \n731         1.000000          334.67  0.039377  4.742715e-08  4.649338e-08   \n732         0.774194          259.10  0.039377  4.555962e-08  4.466262e-08   \n\n         LIVES_ED  DISCOUNT_BD  DISCOUNT_MD  DISCOUNT_ED   PVFB_BD   PVFB_ED  \\\n0    9.991238e-01     1.000000     0.998769     0.997540  17956.53  17856.69   \n1    9.982483e-01     0.997540     0.996312     0.995086  17856.69  17757.19   \n2    9.973736e-01     0.995086     0.993861     0.992638  17757.19  17658.03   \n3    9.965200e-01     0.992638     0.991416     0.990195  17658.03  17559.19   \n4    9.956672e-01     0.990195     0.988977     0.987759  17559.19  17458.70   \n..            ...          ...          ...          ...       ...       ...   \n728  5.139500e-08     0.166421     0.166216     0.166012      0.00      0.00   \n729  4.937123e-08     0.166012     0.165807     0.165603      0.00      0.00   \n730  4.742715e-08     0.165603     0.165399     0.165196      0.00      0.00   \n731  4.555962e-08     0.165196     0.164992     0.164789      0.00      0.00   \n732  4.376563e-08     0.164789     0.164587     0.164384      0.00      0.00   \n\n      DATE_DLR       DLR  \n0   2020-03-31  17919.03  \n1   2020-04-30  17878.81  \n2   2020-05-31  17838.46  \n3   2020-06-30  17797.63  \n4   2020-07-31  17754.75  \n..         ...       ...  \n728 2080-11-30      0.00  \n729 2080-12-31      0.00  \n730 2081-01-31      0.00  \n731 2081-02-28      0.00  \n732 2081-03-31      0.00  \n\n[2675 rows x 18 columns]",
      "text/html": "<div>\n<style scoped>\n    .dataframe tbody tr th:only-of-type {\n        vertical-align: middle;\n    }\n\n    .dataframe tbody tr th {\n        vertical-align: top;\n    }\n\n    .dataframe thead th {\n        text-align: right;\n    }\n</style>\n<table border=\"1\" class=\"dataframe\">\n  <thead>\n    <tr style=\"text-align: right;\">\n      <th></th>\n      <th>POLICY_ID</th>\n      <th>DATE_BD</th>\n      <th>DATE_ED</th>\n      <th>DURATION_YEAR</th>\n      <th>DURATION_MONTH</th>\n      <th>EXPOSURE_FACTOR</th>\n      <th>BENEFIT_AMOUNT</th>\n      <th>CTR</th>\n      <th>LIVES_BD</th>\n      <th>LIVES_MD</th>\n      <th>LIVES_ED</th>\n      <th>DISCOUNT_BD</th>\n      <th>DISCOUNT_MD</th>\n      <th>DISCOUNT_ED</th>\n      <th>PVFB_BD</th>\n      <th>PVFB_ED</th>\n      <th>DATE_DLR</th>\n      <th>DLR</th>\n    </tr>\n  </thead>\n  <tbody>\n    <tr>\n      <th>0</th>\n      <td>M1</td>\n      <td>2020-03-02</td>\n      <td>2020-04-02</td>\n      <td>13</td>\n      <td>153</td>\n      <td>1.000000</td>\n      <td>100.00</td>\n      <td>0.000876</td>\n      <td>1.000000e+00</td>\n      <td>9.995619e-01</td>\n      <td>9.991238e-01</td>\n      <td>1.000000</td>\n      <td>0.998769</td>\n      <td>0.997540</td>\n      <td>17956.53</td>\n      <td>17856.69</td>\n      <td>2020-03-31</td>\n      <td>17919.03</td>\n    </tr>\n    <tr>\n      <th>1</th>\n      <td>M1</td>\n      <td>2020-04-02</td>\n      <td>2020-05-02</td>\n      <td>13</td>\n      <td>154</td>\n      <td>1.000000</td>\n      <td>100.00</td>\n      <td>0.000876</td>\n      <td>9.991238e-01</td>\n      <td>9.986860e-01</td>\n      <td>9.982483e-01</td>\n      <td>0.997540</td>\n      <td>0.996312</td>\n      <td>0.995086</td>\n      <td>17856.69</td>\n      <td>17757.19</td>\n      <td>2020-04-30</td>\n      <td>17878.81</td>\n    </tr>\n    <tr>\n      <th>2</th>\n      <td>M1</td>\n      <td>2020-05-02</td>\n      <td>2020-06-02</td>\n      <td>13</td>\n      <td>155</td>\n      <td>1.000000</td>\n      <td>100.00</td>\n      <td>0.000876</td>\n      <td>9.982483e-01</td>\n      <td>9.978109e-01</td>\n      <td>9.973736e-01</td>\n      <td>0.995086</td>\n      <td>0.993861</td>\n      <td>0.992638</td>\n      <td>17757.19</td>\n      <td>17658.03</td>\n      <td>2020-05-31</td>\n      <td>17838.46</td>\n    </tr>\n    <tr>\n      <th>3</th>\n      <td>M1</td>\n      <td>2020-06-02</td>\n      <td>2020-07-02</td>\n      <td>13</td>\n      <td>156</td>\n      <td>1.000000</td>\n      <td>100.00</td>\n      <td>0.000856</td>\n      <td>9.973736e-01</td>\n      <td>9.969468e-01</td>\n      <td>9.965200e-01</td>\n      <td>0.992638</td>\n      <td>0.991416</td>\n      <td>0.990195</td>\n      <td>17658.03</td>\n      <td>17559.19</td>\n      <td>2020-06-30</td>\n      <td>17797.63</td>\n    </tr>\n    <tr>\n      <th>4</th>\n      <td>M1</td>\n      <td>2020-07-02</td>\n      <td>2020-08-02</td>\n      <td>14</td>\n      <td>157</td>\n      <td>1.000000</td>\n      <td>102.00</td>\n      <td>0.000856</td>\n      <td>9.965200e-01</td>\n      <td>9.960936e-01</td>\n      <td>9.956672e-01</td>\n      <td>0.990195</td>\n      <td>0.988977</td>\n      <td>0.987759</td>\n      <td>17559.19</td>\n      <td>17458.70</td>\n      <td>2020-07-31</td>\n      <td>17754.75</td>\n    </tr>\n    <tr>\n      <th>...</th>\n      <td>...</td>\n      <td>...</td>\n      <td>...</td>\n      <td>...</td>\n      <td>...</td>\n      <td>...</td>\n      <td>...</td>\n      <td>...</td>\n      <td>...</td>\n      <td>...</td>\n      <td>...</td>\n      <td>...</td>\n      <td>...</td>\n      <td>...</td>\n      <td>...</td>\n      <td>...</td>\n      <td>...</td>\n      <td>...</td>\n    </tr>\n    <tr>\n      <th>728</th>\n      <td>M10</td>\n      <td>2080-11-28</td>\n      <td>2080-12-28</td>\n      <td>76</td>\n      <td>910</td>\n      <td>1.000000</td>\n      <td>328.10</td>\n      <td>0.039377</td>\n      <td>5.350172e-08</td>\n      <td>5.244836e-08</td>\n      <td>5.139500e-08</td>\n      <td>0.166421</td>\n      <td>0.166216</td>\n      <td>0.166012</td>\n      <td>0.00</td>\n      <td>0.00</td>\n      <td>2080-11-30</td>\n      <td>0.00</td>\n    </tr>\n    <tr>\n      <th>729</th>\n      <td>M10</td>\n      <td>2080-12-28</td>\n      <td>2081-01-28</td>\n      <td>76</td>\n      <td>911</td>\n      <td>1.000000</td>\n      <td>328.10</td>\n      <td>0.039377</td>\n      <td>5.139500e-08</td>\n      <td>5.038311e-08</td>\n      <td>4.937123e-08</td>\n      <td>0.166012</td>\n      <td>0.165807</td>\n      <td>0.165603</td>\n      <td>0.00</td>\n      <td>0.00</td>\n      <td>2080-12-31</td>\n      <td>0.00</td>\n    </tr>\n    <tr>\n      <th>730</th>\n      <td>M10</td>\n      <td>2081-01-28</td>\n      <td>2081-02-28</td>\n      <td>76</td>\n      <td>912</td>\n      <td>1.000000</td>\n      <td>328.10</td>\n      <td>0.039377</td>\n      <td>4.937123e-08</td>\n      <td>4.839919e-08</td>\n      <td>4.742715e-08</td>\n      <td>0.165603</td>\n      <td>0.165399</td>\n      <td>0.165196</td>\n      <td>0.00</td>\n      <td>0.00</td>\n      <td>2081-01-31</td>\n      <td>0.00</td>\n    </tr>\n    <tr>\n      <th>731</th>\n      <td>M10</td>\n      <td>2081-02-28</td>\n      <td>2081-03-28</td>\n      <td>77</td>\n      <td>913</td>\n      <td>1.000000</td>\n      <td>334.67</td>\n      <td>0.039377</td>\n      <td>4.742715e-08</td>\n      <td>4.649338e-08</td>\n      <td>4.555962e-08</td>\n      <td>0.165196</td>\n      <td>0.164992</td>\n      <td>0.164789</td>\n      <td>0.00</td>\n      <td>0.00</td>\n      <td>2081-02-28</td>\n      <td>0.00</td>\n    </tr>\n    <tr>\n      <th>732</th>\n      <td>M10</td>\n      <td>2081-03-28</td>\n      <td>2081-04-28</td>\n      <td>77</td>\n      <td>914</td>\n      <td>0.774194</td>\n      <td>259.10</td>\n      <td>0.039377</td>\n      <td>4.555962e-08</td>\n      <td>4.466262e-08</td>\n      <td>4.376563e-08</td>\n      <td>0.164789</td>\n      <td>0.164587</td>\n      <td>0.164384</td>\n      <td>0.00</td>\n      <td>0.00</td>\n      <td>2081-03-31</td>\n      <td>0.00</td>\n    </tr>\n  </tbody>\n</table>\n<p>2675 rows × 18 columns</p>\n</div>"
     },
     "metadata": {},
     "execution_count": 35
    }
   ],
   "source": [
    "dl_projected"
   ]
  },
  {
   "cell_type": "code",
   "execution_count": 36,
   "metadata": {},
   "outputs": [
    {
     "output_type": "execute_result",
     "data": {
      "text/plain": "[{'POLICY_ID': 'M2',\n  'CLAIM_ID': 'M2C1',\n  'ERROR_TYPE': footings.core.model.ModelRunError,\n  'ERROR_VALUE': footings.core.model.ModelRunError(\"At step [create-dlr-frame], an error occured.\\n  Error Type = <class 'ValueError'>\\n  Error Message = Non-integer years and months are ambiguous and not currently supported.\"),\n  'ERROR_STACKTRACE': ['  File \"/home/dustintindall/anaconda3/lib/python3.7/site-packages/footings_idi_model/population_models/disabled_lives.py\", line 54, in run_model\\n    ret = policy_model(**kwargs).run()\\n',\n   '  File \"/home/dustintindall/anaconda3/lib/python3.7/site-packages/footings/core/model.py\", line 154, in run\\n    return run_model(self)\\n',\n   '  File \"/home/dustintindall/anaconda3/lib/python3.7/site-packages/footings/core/model.py\", line 99, in run_model\\n    raise ModelRunError(msg)\\n']}]"
     },
     "metadata": {},
     "execution_count": 36
    }
   ],
   "source": [
    "dl_errors"
   ]
  },
  {
   "cell_type": "markdown",
   "metadata": {},
   "source": [
    "### Active Lives Model"
   ]
  },
  {
   "cell_type": "markdown",
   "metadata": {},
   "source": [
    "The same patterns of the `disabled_lives_model` applies to the `active_lives_model` as the below code shows."
   ]
  },
  {
   "cell_type": "markdown",
   "metadata": {},
   "source": [
    "Generate active lives extract -"
   ]
  },
  {
   "cell_type": "code",
   "execution_count": 37,
   "metadata": {},
   "outputs": [],
   "source": [
    "al_extract = extract_generator_model(\n",
    "    n=10, \n",
    "    extract_type=\"active-lives\", \n",
    "    volume_tbl=volume_tbl, \n",
    "    as_of_dt=pd.Timestamp(\"2020-03-31\"), \n",
    "    seed=1\n",
    ").run()"
   ]
  },
  {
   "cell_type": "markdown",
   "metadata": {},
   "source": [
    "Instantiate model -"
   ]
  },
  {
   "cell_type": "code",
   "execution_count": 38,
   "metadata": {},
   "outputs": [],
   "source": [
    "from footings_idi_model.population_models import active_lives_model\n",
    "\n",
    "al_population_init_model = active_lives_model(\n",
    "    extract=al_extract, \n",
    "    valuation_dt=pd.Timestamp(\"2020-03-31\"),\n",
    "    assumption_set=\"stat\",\n",
    "    net_benefit_method=\"PT1\",\n",
    "    policy_model=\"deterministic\",\n",
    ")"
   ]
  },
  {
   "cell_type": "markdown",
   "metadata": {},
   "source": [
    "Run the model -"
   ]
  },
  {
   "cell_type": "code",
   "execution_count": 39,
   "metadata": {},
   "outputs": [],
   "source": [
    "al_time_0, al_projected, al_errors  = al_population_init_model.run()"
   ]
  },
  {
   "cell_type": "markdown",
   "metadata": {},
   "source": [
    "Review output -"
   ]
  },
  {
   "cell_type": "code",
   "execution_count": 40,
   "metadata": {},
   "outputs": [
    {
     "output_type": "execute_result",
     "data": {
      "text/plain": "  POLICY_ID       ALR\n0        M1      0.00\n1        M3   3344.60\n2        M4   1781.78\n3        M5   9214.67\n4        M6    995.07\n5        M7      0.00\n6        M8      0.00\n7        M9  19897.23",
      "text/html": "<div>\n<style scoped>\n    .dataframe tbody tr th:only-of-type {\n        vertical-align: middle;\n    }\n\n    .dataframe tbody tr th {\n        vertical-align: top;\n    }\n\n    .dataframe thead th {\n        text-align: right;\n    }\n</style>\n<table border=\"1\" class=\"dataframe\">\n  <thead>\n    <tr style=\"text-align: right;\">\n      <th></th>\n      <th>POLICY_ID</th>\n      <th>ALR</th>\n    </tr>\n  </thead>\n  <tbody>\n    <tr>\n      <th>0</th>\n      <td>M1</td>\n      <td>0.00</td>\n    </tr>\n    <tr>\n      <th>1</th>\n      <td>M3</td>\n      <td>3344.60</td>\n    </tr>\n    <tr>\n      <th>2</th>\n      <td>M4</td>\n      <td>1781.78</td>\n    </tr>\n    <tr>\n      <th>3</th>\n      <td>M5</td>\n      <td>9214.67</td>\n    </tr>\n    <tr>\n      <th>4</th>\n      <td>M6</td>\n      <td>995.07</td>\n    </tr>\n    <tr>\n      <th>5</th>\n      <td>M7</td>\n      <td>0.00</td>\n    </tr>\n    <tr>\n      <th>6</th>\n      <td>M8</td>\n      <td>0.00</td>\n    </tr>\n    <tr>\n      <th>7</th>\n      <td>M9</td>\n      <td>19897.23</td>\n    </tr>\n  </tbody>\n</table>\n</div>"
     },
     "metadata": {},
     "execution_count": 40
    }
   ],
   "source": [
    "al_time_0"
   ]
  },
  {
   "cell_type": "code",
   "execution_count": 41,
   "metadata": {},
   "outputs": [
    {
     "output_type": "execute_result",
     "data": {
      "text/plain": "   POLICY_ID    DATE_BD    DATE_ED  DURATION_YEAR  LIVES_BD  LIVES_MD  \\\n40        M1 2020-08-26 2021-08-26             41  0.966762  0.965345   \n41        M1 2021-08-26 2022-08-26             42  0.963929  0.962367   \n42        M1 2022-08-26 2023-08-26             43  0.960806  0.959076   \n43        M1 2023-08-26 2024-08-26             44  0.957347  0.955437   \n44        M1 2024-08-26 2025-08-26             45  0.953527  0.951425   \n..       ...        ...        ...            ...       ...       ...   \n62        M9 2043-05-12 2044-05-12             63  0.832230  0.824886   \n63        M9 2044-05-12 2045-05-12             64  0.817541  0.809664   \n64        M9 2045-05-12 2046-05-12             65  0.801787  0.793385   \n65        M9 2046-05-12 2047-05-12             66  0.784982  0.776057   \n66        M9 2047-05-12 2048-05-12             67  0.767131  0.757661   \n\n    LIVES_ED  DISCOUNT_BD  DISCOUNT_MD  DISCOUNT_ED  BENEFIT_AMOUNT  \\\n40  0.963929     0.306557     0.302059     0.297628          220.80   \n41  0.960806     0.297628     0.293262     0.288959          225.22   \n42  0.957347     0.288959     0.284720     0.280543          229.72   \n43  0.953527     0.280543     0.276427     0.272372          234.32   \n44  0.949322     0.272372     0.268376     0.264439          239.01   \n..       ...          ...          ...          ...             ...   \n62  0.817541     0.159990     0.157643     0.155330          625.04   \n63  0.801787     0.155330     0.153051     0.150806          643.79   \n64  0.784982     0.150806     0.148593     0.146413          663.11   \n65  0.767131     0.146413     0.144265     0.142149          683.00   \n66  0.748191     0.142149     0.140063     0.138009          703.49   \n\n    INCIDENCE_RATE       DLR  CLAIM_COST    PVFB       PVP   ALR_BD  ALR_ED  \\\n40        0.003837      0.00        0.00    0.00  4.474347     0.00    0.00   \n41        0.004145      0.00        0.00    0.00  4.177980     0.00    0.00   \n42        0.004464      0.00        0.00    0.00  3.891088     0.00    0.00   \n43        0.004804      0.00        0.00    0.00  3.613454     0.00    0.00   \n44        0.005176      0.00        0.00    0.00  3.344877     0.00    0.00   \n..             ...       ...         ...     ...       ...      ...     ...   \n62        0.028584  24297.28      694.51  275.99  0.605029  1139.82  725.30   \n63        0.030164  20189.61      609.00  185.68  0.471881   725.30  376.91   \n64        0.031744  15536.73      493.19  110.21  0.344893   376.91  118.91   \n65        0.033307  10123.95      337.20   52.07  0.223979   118.91    0.00   \n66        0.034871   3869.30      134.93   14.32  0.109047     0.00    0.00   \n\n     DATE_ALR      ALR  \n40 2020-03-31     0.00  \n41 2021-03-31     0.00  \n42 2022-03-31     0.00  \n43 2023-03-31     0.00  \n44 2024-03-31     0.00  \n..        ...      ...  \n62 2043-03-31  8870.96  \n63 2044-03-31  5993.80  \n64 2045-03-31  3343.40  \n65 2046-03-31  1146.81  \n66 2047-03-31     0.00  \n\n[179 rows x 20 columns]",
      "text/html": "<div>\n<style scoped>\n    .dataframe tbody tr th:only-of-type {\n        vertical-align: middle;\n    }\n\n    .dataframe tbody tr th {\n        vertical-align: top;\n    }\n\n    .dataframe thead th {\n        text-align: right;\n    }\n</style>\n<table border=\"1\" class=\"dataframe\">\n  <thead>\n    <tr style=\"text-align: right;\">\n      <th></th>\n      <th>POLICY_ID</th>\n      <th>DATE_BD</th>\n      <th>DATE_ED</th>\n      <th>DURATION_YEAR</th>\n      <th>LIVES_BD</th>\n      <th>LIVES_MD</th>\n      <th>LIVES_ED</th>\n      <th>DISCOUNT_BD</th>\n      <th>DISCOUNT_MD</th>\n      <th>DISCOUNT_ED</th>\n      <th>BENEFIT_AMOUNT</th>\n      <th>INCIDENCE_RATE</th>\n      <th>DLR</th>\n      <th>CLAIM_COST</th>\n      <th>PVFB</th>\n      <th>PVP</th>\n      <th>ALR_BD</th>\n      <th>ALR_ED</th>\n      <th>DATE_ALR</th>\n      <th>ALR</th>\n    </tr>\n  </thead>\n  <tbody>\n    <tr>\n      <th>40</th>\n      <td>M1</td>\n      <td>2020-08-26</td>\n      <td>2021-08-26</td>\n      <td>41</td>\n      <td>0.966762</td>\n      <td>0.965345</td>\n      <td>0.963929</td>\n      <td>0.306557</td>\n      <td>0.302059</td>\n      <td>0.297628</td>\n      <td>220.80</td>\n      <td>0.003837</td>\n      <td>0.00</td>\n      <td>0.00</td>\n      <td>0.00</td>\n      <td>4.474347</td>\n      <td>0.00</td>\n      <td>0.00</td>\n      <td>2020-03-31</td>\n      <td>0.00</td>\n    </tr>\n    <tr>\n      <th>41</th>\n      <td>M1</td>\n      <td>2021-08-26</td>\n      <td>2022-08-26</td>\n      <td>42</td>\n      <td>0.963929</td>\n      <td>0.962367</td>\n      <td>0.960806</td>\n      <td>0.297628</td>\n      <td>0.293262</td>\n      <td>0.288959</td>\n      <td>225.22</td>\n      <td>0.004145</td>\n      <td>0.00</td>\n      <td>0.00</td>\n      <td>0.00</td>\n      <td>4.177980</td>\n      <td>0.00</td>\n      <td>0.00</td>\n      <td>2021-03-31</td>\n      <td>0.00</td>\n    </tr>\n    <tr>\n      <th>42</th>\n      <td>M1</td>\n      <td>2022-08-26</td>\n      <td>2023-08-26</td>\n      <td>43</td>\n      <td>0.960806</td>\n      <td>0.959076</td>\n      <td>0.957347</td>\n      <td>0.288959</td>\n      <td>0.284720</td>\n      <td>0.280543</td>\n      <td>229.72</td>\n      <td>0.004464</td>\n      <td>0.00</td>\n      <td>0.00</td>\n      <td>0.00</td>\n      <td>3.891088</td>\n      <td>0.00</td>\n      <td>0.00</td>\n      <td>2022-03-31</td>\n      <td>0.00</td>\n    </tr>\n    <tr>\n      <th>43</th>\n      <td>M1</td>\n      <td>2023-08-26</td>\n      <td>2024-08-26</td>\n      <td>44</td>\n      <td>0.957347</td>\n      <td>0.955437</td>\n      <td>0.953527</td>\n      <td>0.280543</td>\n      <td>0.276427</td>\n      <td>0.272372</td>\n      <td>234.32</td>\n      <td>0.004804</td>\n      <td>0.00</td>\n      <td>0.00</td>\n      <td>0.00</td>\n      <td>3.613454</td>\n      <td>0.00</td>\n      <td>0.00</td>\n      <td>2023-03-31</td>\n      <td>0.00</td>\n    </tr>\n    <tr>\n      <th>44</th>\n      <td>M1</td>\n      <td>2024-08-26</td>\n      <td>2025-08-26</td>\n      <td>45</td>\n      <td>0.953527</td>\n      <td>0.951425</td>\n      <td>0.949322</td>\n      <td>0.272372</td>\n      <td>0.268376</td>\n      <td>0.264439</td>\n      <td>239.01</td>\n      <td>0.005176</td>\n      <td>0.00</td>\n      <td>0.00</td>\n      <td>0.00</td>\n      <td>3.344877</td>\n      <td>0.00</td>\n      <td>0.00</td>\n      <td>2024-03-31</td>\n      <td>0.00</td>\n    </tr>\n    <tr>\n      <th>...</th>\n      <td>...</td>\n      <td>...</td>\n      <td>...</td>\n      <td>...</td>\n      <td>...</td>\n      <td>...</td>\n      <td>...</td>\n      <td>...</td>\n      <td>...</td>\n      <td>...</td>\n      <td>...</td>\n      <td>...</td>\n      <td>...</td>\n      <td>...</td>\n      <td>...</td>\n      <td>...</td>\n      <td>...</td>\n      <td>...</td>\n      <td>...</td>\n      <td>...</td>\n    </tr>\n    <tr>\n      <th>62</th>\n      <td>M9</td>\n      <td>2043-05-12</td>\n      <td>2044-05-12</td>\n      <td>63</td>\n      <td>0.832230</td>\n      <td>0.824886</td>\n      <td>0.817541</td>\n      <td>0.159990</td>\n      <td>0.157643</td>\n      <td>0.155330</td>\n      <td>625.04</td>\n      <td>0.028584</td>\n      <td>24297.28</td>\n      <td>694.51</td>\n      <td>275.99</td>\n      <td>0.605029</td>\n      <td>1139.82</td>\n      <td>725.30</td>\n      <td>2043-03-31</td>\n      <td>8870.96</td>\n    </tr>\n    <tr>\n      <th>63</th>\n      <td>M9</td>\n      <td>2044-05-12</td>\n      <td>2045-05-12</td>\n      <td>64</td>\n      <td>0.817541</td>\n      <td>0.809664</td>\n      <td>0.801787</td>\n      <td>0.155330</td>\n      <td>0.153051</td>\n      <td>0.150806</td>\n      <td>643.79</td>\n      <td>0.030164</td>\n      <td>20189.61</td>\n      <td>609.00</td>\n      <td>185.68</td>\n      <td>0.471881</td>\n      <td>725.30</td>\n      <td>376.91</td>\n      <td>2044-03-31</td>\n      <td>5993.80</td>\n    </tr>\n    <tr>\n      <th>64</th>\n      <td>M9</td>\n      <td>2045-05-12</td>\n      <td>2046-05-12</td>\n      <td>65</td>\n      <td>0.801787</td>\n      <td>0.793385</td>\n      <td>0.784982</td>\n      <td>0.150806</td>\n      <td>0.148593</td>\n      <td>0.146413</td>\n      <td>663.11</td>\n      <td>0.031744</td>\n      <td>15536.73</td>\n      <td>493.19</td>\n      <td>110.21</td>\n      <td>0.344893</td>\n      <td>376.91</td>\n      <td>118.91</td>\n      <td>2045-03-31</td>\n      <td>3343.40</td>\n    </tr>\n    <tr>\n      <th>65</th>\n      <td>M9</td>\n      <td>2046-05-12</td>\n      <td>2047-05-12</td>\n      <td>66</td>\n      <td>0.784982</td>\n      <td>0.776057</td>\n      <td>0.767131</td>\n      <td>0.146413</td>\n      <td>0.144265</td>\n      <td>0.142149</td>\n      <td>683.00</td>\n      <td>0.033307</td>\n      <td>10123.95</td>\n      <td>337.20</td>\n      <td>52.07</td>\n      <td>0.223979</td>\n      <td>118.91</td>\n      <td>0.00</td>\n      <td>2046-03-31</td>\n      <td>1146.81</td>\n    </tr>\n    <tr>\n      <th>66</th>\n      <td>M9</td>\n      <td>2047-05-12</td>\n      <td>2048-05-12</td>\n      <td>67</td>\n      <td>0.767131</td>\n      <td>0.757661</td>\n      <td>0.748191</td>\n      <td>0.142149</td>\n      <td>0.140063</td>\n      <td>0.138009</td>\n      <td>703.49</td>\n      <td>0.034871</td>\n      <td>3869.30</td>\n      <td>134.93</td>\n      <td>14.32</td>\n      <td>0.109047</td>\n      <td>0.00</td>\n      <td>0.00</td>\n      <td>2047-03-31</td>\n      <td>0.00</td>\n    </tr>\n  </tbody>\n</table>\n<p>179 rows × 20 columns</p>\n</div>"
     },
     "metadata": {},
     "execution_count": 41
    }
   ],
   "source": [
    "al_projected"
   ]
  },
  {
   "cell_type": "code",
   "execution_count": 42,
   "metadata": {},
   "outputs": [
    {
     "output_type": "execute_result",
     "data": {
      "text/plain": "[{'POLICY_ID': 'M2',\n  'ERROR_TYPE': footings.core.model.ModelRunError,\n  'ERROR_VALUE': footings.core.model.ModelRunError(\"At step [calculate-claim-cost], an error occured.\\n  Error Type = <class 'ValueError'>\\n  Error Message = Units 'M' and 'Y' are no longer supported, as they do not represent unambiguous timedelta values durations.\"),\n  'ERROR_STACKTRACE': ['  File \"/home/dustintindall/anaconda3/lib/python3.7/site-packages/footings_idi_model/population_models/active_lives.py\", line 56, in run_model\\n    ret = policy_model(**kwargs).run()\\n',\n   '  File \"/home/dustintindall/anaconda3/lib/python3.7/site-packages/footings/core/model.py\", line 154, in run\\n    return run_model(self)\\n',\n   '  File \"/home/dustintindall/anaconda3/lib/python3.7/site-packages/footings/core/model.py\", line 99, in run_model\\n    raise ModelRunError(msg)\\n']},\n {'POLICY_ID': 'M10',\n  'ERROR_TYPE': footings.core.model.ModelRunError,\n  'ERROR_VALUE': footings.core.model.ModelRunError(\"At step [calculate-claim-cost], an error occured.\\n  Error Type = <class 'UnboundLocalError'>\\n  Error Message = local variable 'termination_dt' referenced before assignment\"),\n  'ERROR_STACKTRACE': ['  File \"/home/dustintindall/anaconda3/lib/python3.7/site-packages/footings_idi_model/population_models/active_lives.py\", line 56, in run_model\\n    ret = policy_model(**kwargs).run()\\n',\n   '  File \"/home/dustintindall/anaconda3/lib/python3.7/site-packages/footings/core/model.py\", line 154, in run\\n    return run_model(self)\\n',\n   '  File \"/home/dustintindall/anaconda3/lib/python3.7/site-packages/footings/core/model.py\", line 99, in run_model\\n    raise ModelRunError(msg)\\n']}]"
     },
     "metadata": {},
     "execution_count": 42
    }
   ],
   "source": [
    "al_errors"
   ]
  }
 ],
 "metadata": {
  "language_info": {
   "codemirror_mode": {
    "name": "ipython",
    "version": 3
   },
   "file_extension": ".py",
   "mimetype": "text/x-python",
   "name": "python",
   "nbconvert_exporter": "python",
   "pygments_lexer": "ipython3",
   "version": "3.8.3-final"
  },
  "orig_nbformat": 2,
  "kernelspec": {
   "name": "python3",
   "display_name": "Python 3"
  }
 },
 "nbformat": 4,
 "nbformat_minor": 2
}