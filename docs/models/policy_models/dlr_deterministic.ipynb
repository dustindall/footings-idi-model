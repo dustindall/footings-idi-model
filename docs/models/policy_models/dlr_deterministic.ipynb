{
 "metadata": {
  "language_info": {
   "codemirror_mode": {
    "name": "ipython",
    "version": 3
   },
   "file_extension": ".py",
   "mimetype": "text/x-python",
   "name": "python",
   "nbconvert_exporter": "python",
   "pygments_lexer": "ipython3",
   "version": "3.7.7-final"
  },
  "orig_nbformat": 2,
  "kernelspec": {
   "name": "python3",
   "display_name": "Python 3"
  }
 },
 "nbformat": 4,
 "nbformat_minor": 2,
 "cells": [
  {
   "source": [
    "## DLR Deterministic"
   ],
   "cell_type": "markdown",
   "metadata": {}
  },
  {
   "source": [
    ".. autoclass:: footings_idi_model.policy_models.DLRDeterministicPolicyModel"
   ],
   "cell_type": "markdown",
   "metadata": {}
  },
  {
   "source": [
    "**Usage**"
   ],
   "cell_type": "markdown",
   "metadata": {}
  },
  {
   "cell_type": "code",
   "execution_count": 1,
   "metadata": {},
   "outputs": [],
   "source": [
    "import pandas as pd\n",
    "from footings_idi_model.policy_models import DLRDeterministicPolicyModel\n",
    "\n",
    "model = DLRDeterministicPolicyModel(\n",
    "    policy_id=\"policy-1\",\n",
    "    claim_id=\"claim-1\",\n",
    "    gender=\"M\",\n",
    "    birth_dt=pd.Timestamp(\"1970-03-26\"),\n",
    "    incurred_dt=pd.Timestamp(\"2015-06-02\"),\n",
    "    termination_dt=pd.Timestamp(\"2035-03-26\"),\n",
    "    elimination_period=90,\n",
    "    idi_contract=\"AS\",\n",
    "    idi_benefit_period=\"TO65\",\n",
    "    idi_diagnosis_grp=\"LOW\",\n",
    "    idi_occupation_class=\"M\",\n",
    "    cola_percent=0.0,\n",
    "    benefit_amount=200.0,\n",
    "    valuation_dt=pd.Timestamp(\"2020-03-31\"), \n",
    "    assumption_set=\"stat\",\n",
    ")"
   ]
  },
  {
   "cell_type": "code",
   "execution_count": 2,
   "metadata": {},
   "outputs": [],
   "source": [
    "model.audit(\"Audit-DLRDeterministicPolicyModel.xlsx\")"
   ]
  },
  {
   "source": [
    "Download audit file [Audit-DLRDeterministicPolicyModel.xlsx](Audit-DLRDeterministicPolicyModel.xlsx)."
   ],
   "cell_type": "markdown",
   "metadata": {}
  },
  {
   "cell_type": "code",
   "execution_count": 3,
   "metadata": {},
   "outputs": [],
   "source": [
    "output = model.run()"
   ]
  },
  {
   "cell_type": "code",
   "execution_count": 4,
   "metadata": {},
   "outputs": [
    {
     "output_type": "stream",
     "name": "stdout",
     "text": [
      "<class 'pandas.core.frame.DataFrame'>\nInt64Index: 181 entries, 0 to 180\nData columns (total 21 columns):\n #   Column          Non-Null Count  Dtype         \n---  ------          --------------  -----         \n 0   MODEL_VERSION   181 non-null    object        \n 1   LAST_COMMIT     181 non-null    object        \n 2   RUN_DATE_TIME   181 non-null    datetime64[ns]\n 3   POLICY_ID       181 non-null    object        \n 4   CLAIM_ID        181 non-null    object        \n 5   DATE_BD         181 non-null    datetime64[ns]\n 6   DATE_ED         181 non-null    datetime64[ns]\n 7   DURATION_YEAR   181 non-null    Int64         \n 8   DURATION_MONTH  181 non-null    Int64         \n 9   BENEFIT_AMOUNT  181 non-null    float64       \n 10  FINAL_CTR       181 non-null    float64       \n 11  LIVES_BD        181 non-null    float64       \n 12  LIVES_MD        181 non-null    float64       \n 13  LIVES_ED        181 non-null    float64       \n 14  DISCOUNT_BD     181 non-null    float64       \n 15  DISCOUNT_MD     181 non-null    float64       \n 16  DISCOUNT_ED     181 non-null    float64       \n 17  PVFB_BD         181 non-null    float64       \n 18  PVFB_ED         181 non-null    float64       \n 19  DATE_DLR        181 non-null    datetime64[ns]\n 20  DLR             181 non-null    float64       \ndtypes: Int64(2), datetime64[ns](4), float64(11), object(4)\nmemory usage: 31.5+ KB\n"
     ]
    }
   ],
   "source": [
    "output.info()"
   ]
  },
  {
   "cell_type": "code",
   "execution_count": 5,
   "metadata": {},
   "outputs": [
    {
     "output_type": "execute_result",
     "data": {
      "text/plain": [
       "               MODEL_VERSION                               LAST_COMMIT  \\\n",
       "0    0.4.0+38.ga27a550.dirty  a27a55061c420bd61f65a5428e4502998b3263ae   \n",
       "1    0.4.0+38.ga27a550.dirty  a27a55061c420bd61f65a5428e4502998b3263ae   \n",
       "2    0.4.0+38.ga27a550.dirty  a27a55061c420bd61f65a5428e4502998b3263ae   \n",
       "3    0.4.0+38.ga27a550.dirty  a27a55061c420bd61f65a5428e4502998b3263ae   \n",
       "4    0.4.0+38.ga27a550.dirty  a27a55061c420bd61f65a5428e4502998b3263ae   \n",
       "..                       ...                                       ...   \n",
       "176  0.4.0+38.ga27a550.dirty  a27a55061c420bd61f65a5428e4502998b3263ae   \n",
       "177  0.4.0+38.ga27a550.dirty  a27a55061c420bd61f65a5428e4502998b3263ae   \n",
       "178  0.4.0+38.ga27a550.dirty  a27a55061c420bd61f65a5428e4502998b3263ae   \n",
       "179  0.4.0+38.ga27a550.dirty  a27a55061c420bd61f65a5428e4502998b3263ae   \n",
       "180  0.4.0+38.ga27a550.dirty  a27a55061c420bd61f65a5428e4502998b3263ae   \n",
       "\n",
       "                 RUN_DATE_TIME POLICY_ID CLAIM_ID    DATE_BD    DATE_ED  \\\n",
       "0   2020-11-13 12:07:02.672668  policy-1  claim-1 2020-03-02 2020-04-02   \n",
       "1   2020-11-13 12:07:02.672668  policy-1  claim-1 2020-04-02 2020-05-02   \n",
       "2   2020-11-13 12:07:02.672668  policy-1  claim-1 2020-05-02 2020-06-02   \n",
       "3   2020-11-13 12:07:02.672668  policy-1  claim-1 2020-06-02 2020-07-02   \n",
       "4   2020-11-13 12:07:02.672668  policy-1  claim-1 2020-07-02 2020-08-02   \n",
       "..                         ...       ...      ...        ...        ...   \n",
       "176 2020-11-13 12:07:02.672668  policy-1  claim-1 2034-11-02 2034-12-02   \n",
       "177 2020-11-13 12:07:02.672668  policy-1  claim-1 2034-12-02 2035-01-02   \n",
       "178 2020-11-13 12:07:02.672668  policy-1  claim-1 2035-01-02 2035-02-02   \n",
       "179 2020-11-13 12:07:02.672668  policy-1  claim-1 2035-02-02 2035-03-02   \n",
       "180 2020-11-13 12:07:02.672668  policy-1  claim-1 2035-03-02 2035-04-02   \n",
       "\n",
       "     DURATION_YEAR  DURATION_MONTH  BENEFIT_AMOUNT  ...  LIVES_BD  LIVES_MD  \\\n",
       "0                5              58           12.90  ...  1.000000  0.998690   \n",
       "1                5              59          200.00  ...  0.997381  0.996111   \n",
       "2                5              60          200.00  ...  0.994841  0.993574   \n",
       "3                6              61          200.00  ...  0.992307  0.990969   \n",
       "4                6              62          200.00  ...  0.989630  0.988295   \n",
       "..             ...             ...             ...  ...       ...       ...   \n",
       "176             20             234          200.00  ...  0.755674  0.755109   \n",
       "177             20             235          200.00  ...  0.754545  0.753982   \n",
       "178             20             236          200.00  ...  0.753418  0.752855   \n",
       "179             20             237          200.00  ...  0.752293  0.751731   \n",
       "180             20             238          154.84  ...  0.751169  0.750608   \n",
       "\n",
       "     LIVES_ED  DISCOUNT_BD  DISCOUNT_MD  DISCOUNT_ED   PVFB_BD   PVFB_ED  \\\n",
       "0    0.997381     1.000000     0.998769     0.997540  24966.83  24953.96   \n",
       "1    0.994841     0.997540     0.996312     0.995086  24953.96  24755.48   \n",
       "2    0.992307     0.995086     0.993861     0.992638  24755.48  24557.98   \n",
       "3    0.989630     0.992638     0.991416     0.990195  24557.98  24361.49   \n",
       "4    0.986960     0.990195     0.988977     0.987759  24361.49  24166.01   \n",
       "..        ...          ...          ...          ...       ...       ...   \n",
       "176  0.754545     0.648217     0.647420     0.646623    463.29    365.52   \n",
       "177  0.753418     0.646623     0.645827     0.645032    365.52    268.13   \n",
       "178  0.752293     0.645032     0.644238     0.643445    268.13    171.13   \n",
       "179  0.751169     0.643445     0.642653     0.641862    171.13     74.51   \n",
       "180  0.750047     0.641862     0.641072     0.640283     74.51      0.00   \n",
       "\n",
       "      DATE_DLR       DLR  \n",
       "0   2020-03-31  25073.80  \n",
       "1   2020-04-30  25011.59  \n",
       "2   2020-05-31  24936.78  \n",
       "3   2020-06-30  24865.16  \n",
       "4   2020-07-31  24793.40  \n",
       "..         ...       ...  \n",
       "176 2034-11-30    761.89  \n",
       "177 2034-12-31    564.52  \n",
       "178 2035-01-31    366.37  \n",
       "179 2035-02-28    167.42  \n",
       "180 2035-03-31     10.01  \n",
       "\n",
       "[181 rows x 21 columns]"
      ],
      "text/html": "<div>\n<style scoped>\n    .dataframe tbody tr th:only-of-type {\n        vertical-align: middle;\n    }\n\n    .dataframe tbody tr th {\n        vertical-align: top;\n    }\n\n    .dataframe thead th {\n        text-align: right;\n    }\n</style>\n<table border=\"1\" class=\"dataframe\">\n  <thead>\n    <tr style=\"text-align: right;\">\n      <th></th>\n      <th>MODEL_VERSION</th>\n      <th>LAST_COMMIT</th>\n      <th>RUN_DATE_TIME</th>\n      <th>POLICY_ID</th>\n      <th>CLAIM_ID</th>\n      <th>DATE_BD</th>\n      <th>DATE_ED</th>\n      <th>DURATION_YEAR</th>\n      <th>DURATION_MONTH</th>\n      <th>BENEFIT_AMOUNT</th>\n      <th>...</th>\n      <th>LIVES_BD</th>\n      <th>LIVES_MD</th>\n      <th>LIVES_ED</th>\n      <th>DISCOUNT_BD</th>\n      <th>DISCOUNT_MD</th>\n      <th>DISCOUNT_ED</th>\n      <th>PVFB_BD</th>\n      <th>PVFB_ED</th>\n      <th>DATE_DLR</th>\n      <th>DLR</th>\n    </tr>\n  </thead>\n  <tbody>\n    <tr>\n      <th>0</th>\n      <td>0.4.0+38.ga27a550.dirty</td>\n      <td>a27a55061c420bd61f65a5428e4502998b3263ae</td>\n      <td>2020-11-13 12:07:02.672668</td>\n      <td>policy-1</td>\n      <td>claim-1</td>\n      <td>2020-03-02</td>\n      <td>2020-04-02</td>\n      <td>5</td>\n      <td>58</td>\n      <td>12.90</td>\n      <td>...</td>\n      <td>1.000000</td>\n      <td>0.998690</td>\n      <td>0.997381</td>\n      <td>1.000000</td>\n      <td>0.998769</td>\n      <td>0.997540</td>\n      <td>24966.83</td>\n      <td>24953.96</td>\n      <td>2020-03-31</td>\n      <td>25073.80</td>\n    </tr>\n    <tr>\n      <th>1</th>\n      <td>0.4.0+38.ga27a550.dirty</td>\n      <td>a27a55061c420bd61f65a5428e4502998b3263ae</td>\n      <td>2020-11-13 12:07:02.672668</td>\n      <td>policy-1</td>\n      <td>claim-1</td>\n      <td>2020-04-02</td>\n      <td>2020-05-02</td>\n      <td>5</td>\n      <td>59</td>\n      <td>200.00</td>\n      <td>...</td>\n      <td>0.997381</td>\n      <td>0.996111</td>\n      <td>0.994841</td>\n      <td>0.997540</td>\n      <td>0.996312</td>\n      <td>0.995086</td>\n      <td>24953.96</td>\n      <td>24755.48</td>\n      <td>2020-04-30</td>\n      <td>25011.59</td>\n    </tr>\n    <tr>\n      <th>2</th>\n      <td>0.4.0+38.ga27a550.dirty</td>\n      <td>a27a55061c420bd61f65a5428e4502998b3263ae</td>\n      <td>2020-11-13 12:07:02.672668</td>\n      <td>policy-1</td>\n      <td>claim-1</td>\n      <td>2020-05-02</td>\n      <td>2020-06-02</td>\n      <td>5</td>\n      <td>60</td>\n      <td>200.00</td>\n      <td>...</td>\n      <td>0.994841</td>\n      <td>0.993574</td>\n      <td>0.992307</td>\n      <td>0.995086</td>\n      <td>0.993861</td>\n      <td>0.992638</td>\n      <td>24755.48</td>\n      <td>24557.98</td>\n      <td>2020-05-31</td>\n      <td>24936.78</td>\n    </tr>\n    <tr>\n      <th>3</th>\n      <td>0.4.0+38.ga27a550.dirty</td>\n      <td>a27a55061c420bd61f65a5428e4502998b3263ae</td>\n      <td>2020-11-13 12:07:02.672668</td>\n      <td>policy-1</td>\n      <td>claim-1</td>\n      <td>2020-06-02</td>\n      <td>2020-07-02</td>\n      <td>6</td>\n      <td>61</td>\n      <td>200.00</td>\n      <td>...</td>\n      <td>0.992307</td>\n      <td>0.990969</td>\n      <td>0.989630</td>\n      <td>0.992638</td>\n      <td>0.991416</td>\n      <td>0.990195</td>\n      <td>24557.98</td>\n      <td>24361.49</td>\n      <td>2020-06-30</td>\n      <td>24865.16</td>\n    </tr>\n    <tr>\n      <th>4</th>\n      <td>0.4.0+38.ga27a550.dirty</td>\n      <td>a27a55061c420bd61f65a5428e4502998b3263ae</td>\n      <td>2020-11-13 12:07:02.672668</td>\n      <td>policy-1</td>\n      <td>claim-1</td>\n      <td>2020-07-02</td>\n      <td>2020-08-02</td>\n      <td>6</td>\n      <td>62</td>\n      <td>200.00</td>\n      <td>...</td>\n      <td>0.989630</td>\n      <td>0.988295</td>\n      <td>0.986960</td>\n      <td>0.990195</td>\n      <td>0.988977</td>\n      <td>0.987759</td>\n      <td>24361.49</td>\n      <td>24166.01</td>\n      <td>2020-07-31</td>\n      <td>24793.40</td>\n    </tr>\n    <tr>\n      <th>...</th>\n      <td>...</td>\n      <td>...</td>\n      <td>...</td>\n      <td>...</td>\n      <td>...</td>\n      <td>...</td>\n      <td>...</td>\n      <td>...</td>\n      <td>...</td>\n      <td>...</td>\n      <td>...</td>\n      <td>...</td>\n      <td>...</td>\n      <td>...</td>\n      <td>...</td>\n      <td>...</td>\n      <td>...</td>\n      <td>...</td>\n      <td>...</td>\n      <td>...</td>\n      <td>...</td>\n    </tr>\n    <tr>\n      <th>176</th>\n      <td>0.4.0+38.ga27a550.dirty</td>\n      <td>a27a55061c420bd61f65a5428e4502998b3263ae</td>\n      <td>2020-11-13 12:07:02.672668</td>\n      <td>policy-1</td>\n      <td>claim-1</td>\n      <td>2034-11-02</td>\n      <td>2034-12-02</td>\n      <td>20</td>\n      <td>234</td>\n      <td>200.00</td>\n      <td>...</td>\n      <td>0.755674</td>\n      <td>0.755109</td>\n      <td>0.754545</td>\n      <td>0.648217</td>\n      <td>0.647420</td>\n      <td>0.646623</td>\n      <td>463.29</td>\n      <td>365.52</td>\n      <td>2034-11-30</td>\n      <td>761.89</td>\n    </tr>\n    <tr>\n      <th>177</th>\n      <td>0.4.0+38.ga27a550.dirty</td>\n      <td>a27a55061c420bd61f65a5428e4502998b3263ae</td>\n      <td>2020-11-13 12:07:02.672668</td>\n      <td>policy-1</td>\n      <td>claim-1</td>\n      <td>2034-12-02</td>\n      <td>2035-01-02</td>\n      <td>20</td>\n      <td>235</td>\n      <td>200.00</td>\n      <td>...</td>\n      <td>0.754545</td>\n      <td>0.753982</td>\n      <td>0.753418</td>\n      <td>0.646623</td>\n      <td>0.645827</td>\n      <td>0.645032</td>\n      <td>365.52</td>\n      <td>268.13</td>\n      <td>2034-12-31</td>\n      <td>564.52</td>\n    </tr>\n    <tr>\n      <th>178</th>\n      <td>0.4.0+38.ga27a550.dirty</td>\n      <td>a27a55061c420bd61f65a5428e4502998b3263ae</td>\n      <td>2020-11-13 12:07:02.672668</td>\n      <td>policy-1</td>\n      <td>claim-1</td>\n      <td>2035-01-02</td>\n      <td>2035-02-02</td>\n      <td>20</td>\n      <td>236</td>\n      <td>200.00</td>\n      <td>...</td>\n      <td>0.753418</td>\n      <td>0.752855</td>\n      <td>0.752293</td>\n      <td>0.645032</td>\n      <td>0.644238</td>\n      <td>0.643445</td>\n      <td>268.13</td>\n      <td>171.13</td>\n      <td>2035-01-31</td>\n      <td>366.37</td>\n    </tr>\n    <tr>\n      <th>179</th>\n      <td>0.4.0+38.ga27a550.dirty</td>\n      <td>a27a55061c420bd61f65a5428e4502998b3263ae</td>\n      <td>2020-11-13 12:07:02.672668</td>\n      <td>policy-1</td>\n      <td>claim-1</td>\n      <td>2035-02-02</td>\n      <td>2035-03-02</td>\n      <td>20</td>\n      <td>237</td>\n      <td>200.00</td>\n      <td>...</td>\n      <td>0.752293</td>\n      <td>0.751731</td>\n      <td>0.751169</td>\n      <td>0.643445</td>\n      <td>0.642653</td>\n      <td>0.641862</td>\n      <td>171.13</td>\n      <td>74.51</td>\n      <td>2035-02-28</td>\n      <td>167.42</td>\n    </tr>\n    <tr>\n      <th>180</th>\n      <td>0.4.0+38.ga27a550.dirty</td>\n      <td>a27a55061c420bd61f65a5428e4502998b3263ae</td>\n      <td>2020-11-13 12:07:02.672668</td>\n      <td>policy-1</td>\n      <td>claim-1</td>\n      <td>2035-03-02</td>\n      <td>2035-04-02</td>\n      <td>20</td>\n      <td>238</td>\n      <td>154.84</td>\n      <td>...</td>\n      <td>0.751169</td>\n      <td>0.750608</td>\n      <td>0.750047</td>\n      <td>0.641862</td>\n      <td>0.641072</td>\n      <td>0.640283</td>\n      <td>74.51</td>\n      <td>0.00</td>\n      <td>2035-03-31</td>\n      <td>10.01</td>\n    </tr>\n  </tbody>\n</table>\n<p>181 rows × 21 columns</p>\n</div>"
     },
     "metadata": {},
     "execution_count": 5
    }
   ],
   "source": [
    "output"
   ]
  }
 ]
}