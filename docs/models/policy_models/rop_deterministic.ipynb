{
 "metadata": {
  "language_info": {
   "codemirror_mode": {
    "name": "ipython",
    "version": 3
   },
   "file_extension": ".py",
   "mimetype": "text/x-python",
   "name": "python",
   "nbconvert_exporter": "python",
   "pygments_lexer": "ipython3",
   "version": "3.7.7-final"
  },
  "orig_nbformat": 2,
  "kernelspec": {
   "name": "python3",
   "display_name": "Python 3"
  }
 },
 "nbformat": 4,
 "nbformat_minor": 2,
 "cells": [
  {
   "source": [
    "## ROP Deterministic"
   ],
   "cell_type": "markdown",
   "metadata": {}
  },
  {
   "source": [
    ".. autoclass:: footings_idi_model.policy_models.ROPDeterministicPolicyModel"
   ],
   "cell_type": "markdown",
   "metadata": {}
  },
  {
   "source": [
    "**Usage**"
   ],
   "cell_type": "markdown",
   "metadata": {}
  },
  {
   "cell_type": "code",
   "execution_count": 1,
   "metadata": {},
   "outputs": [],
   "source": [
    "import pandas as pd\n",
    "from footings_idi_model.policy_models import ROPDeterministicPolicyModel\n",
    "\n",
    "model = ROPDeterministicPolicyModel(\n",
    "    policy_id=\"policy-1\",\n",
    "    coverage_id=\"rop\",\n",
    "    gender=\"M\",\n",
    "    tobacco_usage=\"N\",\n",
    "    birth_dt=pd.Timestamp(\"1970-03-26\"),\n",
    "    policy_start_dt=pd.Timestamp(\"2015-06-02\"),\n",
    "    policy_end_dt=pd.Timestamp(\"2035-03-26\"),\n",
    "    elimination_period=90,\n",
    "    idi_market=\"INDV\",\n",
    "    idi_contract=\"AS\",\n",
    "    idi_benefit_period=\"TO65\",\n",
    "    idi_occupation_class=\"M\",\n",
    "    cola_percent=0.0,\n",
    "    gross_premium=150.0,\n",
    "    benefit_amount=100.0,\n",
    "    valuation_dt=pd.Timestamp(\"2020-03-31\"), \n",
    "    assumption_set=\"stat\", \n",
    "    withdraw_table=\"01CSO\",\n",
    "    net_benefit_method=\"NLP\",\n",
    "    rop_return_frequency=10,\n",
    "    rop_return_percentage=0.5,\n",
    "    rop_claims_paid=0,\n",
    "    rop_future_claims_start_dt=pd.Timestamp(\"2005-02-10\"),\n",
    ")"
   ]
  },
  {
   "cell_type": "code",
   "execution_count": 2,
   "metadata": {},
   "outputs": [],
   "source": [
    "model.audit(\"Audit-ROPDeterministicPolicyModel.xlsx\")"
   ]
  },
  {
   "source": [
    "Download audit file [Audit-ROPDeterministicPolicyModel.xlsx](Audit-ROPDeterministicPolicyModel.xlsx)."
   ],
   "cell_type": "markdown",
   "metadata": {}
  },
  {
   "cell_type": "code",
   "execution_count": 3,
   "metadata": {},
   "outputs": [],
   "source": [
    "output = model.run()"
   ]
  },
  {
   "cell_type": "code",
   "execution_count": 4,
   "metadata": {},
   "outputs": [
    {
     "output_type": "stream",
     "name": "stdout",
     "text": [
      "<class 'pandas.core.frame.DataFrame'>\nInt64Index: 16 entries, 4 to 19\nData columns (total 23 columns):\n #   Column                Non-Null Count  Dtype         \n---  ------                --------------  -----         \n 0   MODEL_VERSION         16 non-null     object        \n 1   LAST_COMMIT           16 non-null     object        \n 2   RUN_DATE_TIME         16 non-null     datetime64[ns]\n 3   POLICY_ID             16 non-null     object        \n 4   COVERAGE_ID           16 non-null     object        \n 5   DATE_BD               16 non-null     datetime64[ns]\n 6   DATE_ED               16 non-null     datetime64[ns]\n 7   DURATION_YEAR         16 non-null     Int64         \n 8   LIVES_BD              16 non-null     float64       \n 9   LIVES_MD              16 non-null     float64       \n 10  LIVES_ED              16 non-null     float64       \n 11  DISCOUNT_BD           16 non-null     float64       \n 12  DISCOUNT_MD           16 non-null     float64       \n 13  DISCOUNT_ED           16 non-null     float64       \n 14  BENEFIT_AMOUNT        16 non-null     float64       \n 15  FINAL_INCIDENCE_RATE  16 non-null     float64       \n 16  BENEFIT_COST          16 non-null     float64       \n 17  PVFB                  16 non-null     float64       \n 18  PVFNB                 16 non-null     float64       \n 19  ALR_BD                16 non-null     float64       \n 20  ALR_ED                16 non-null     float64       \n 21  DATE_ALR              16 non-null     datetime64[ns]\n 22  ALR                   16 non-null     float64       \ndtypes: Int64(1), datetime64[ns](4), float64(14), object(4)\nmemory usage: 3.0+ KB\n"
     ]
    }
   ],
   "source": [
    "output.info()"
   ]
  },
  {
   "cell_type": "code",
   "execution_count": 5,
   "metadata": {},
   "outputs": [
    {
     "output_type": "execute_result",
     "data": {
      "text/plain": [
       "              MODEL_VERSION                               LAST_COMMIT  \\\n",
       "4   0.4.0+38.ga27a550.dirty  a27a55061c420bd61f65a5428e4502998b3263ae   \n",
       "5   0.4.0+38.ga27a550.dirty  a27a55061c420bd61f65a5428e4502998b3263ae   \n",
       "6   0.4.0+38.ga27a550.dirty  a27a55061c420bd61f65a5428e4502998b3263ae   \n",
       "7   0.4.0+38.ga27a550.dirty  a27a55061c420bd61f65a5428e4502998b3263ae   \n",
       "8   0.4.0+38.ga27a550.dirty  a27a55061c420bd61f65a5428e4502998b3263ae   \n",
       "9   0.4.0+38.ga27a550.dirty  a27a55061c420bd61f65a5428e4502998b3263ae   \n",
       "10  0.4.0+38.ga27a550.dirty  a27a55061c420bd61f65a5428e4502998b3263ae   \n",
       "11  0.4.0+38.ga27a550.dirty  a27a55061c420bd61f65a5428e4502998b3263ae   \n",
       "12  0.4.0+38.ga27a550.dirty  a27a55061c420bd61f65a5428e4502998b3263ae   \n",
       "13  0.4.0+38.ga27a550.dirty  a27a55061c420bd61f65a5428e4502998b3263ae   \n",
       "14  0.4.0+38.ga27a550.dirty  a27a55061c420bd61f65a5428e4502998b3263ae   \n",
       "15  0.4.0+38.ga27a550.dirty  a27a55061c420bd61f65a5428e4502998b3263ae   \n",
       "16  0.4.0+38.ga27a550.dirty  a27a55061c420bd61f65a5428e4502998b3263ae   \n",
       "17  0.4.0+38.ga27a550.dirty  a27a55061c420bd61f65a5428e4502998b3263ae   \n",
       "18  0.4.0+38.ga27a550.dirty  a27a55061c420bd61f65a5428e4502998b3263ae   \n",
       "19  0.4.0+38.ga27a550.dirty  a27a55061c420bd61f65a5428e4502998b3263ae   \n",
       "\n",
       "                RUN_DATE_TIME POLICY_ID COVERAGE_ID    DATE_BD    DATE_ED  \\\n",
       "4  2020-11-13 12:42:35.566203  policy-1         rop 2019-06-02 2020-06-02   \n",
       "5  2020-11-13 12:42:35.566203  policy-1         rop 2020-06-02 2021-06-02   \n",
       "6  2020-11-13 12:42:35.566203  policy-1         rop 2021-06-02 2022-06-02   \n",
       "7  2020-11-13 12:42:35.566203  policy-1         rop 2022-06-02 2023-06-02   \n",
       "8  2020-11-13 12:42:35.566203  policy-1         rop 2023-06-02 2024-06-02   \n",
       "9  2020-11-13 12:42:35.566203  policy-1         rop 2024-06-02 2025-06-02   \n",
       "10 2020-11-13 12:42:35.566203  policy-1         rop 2025-06-02 2026-06-02   \n",
       "11 2020-11-13 12:42:35.566203  policy-1         rop 2026-06-02 2027-06-02   \n",
       "12 2020-11-13 12:42:35.566203  policy-1         rop 2027-06-02 2028-06-02   \n",
       "13 2020-11-13 12:42:35.566203  policy-1         rop 2028-06-02 2029-06-02   \n",
       "14 2020-11-13 12:42:35.566203  policy-1         rop 2029-06-02 2030-06-02   \n",
       "15 2020-11-13 12:42:35.566203  policy-1         rop 2030-06-02 2031-06-02   \n",
       "16 2020-11-13 12:42:35.566203  policy-1         rop 2031-06-02 2032-06-02   \n",
       "17 2020-11-13 12:42:35.566203  policy-1         rop 2032-06-02 2033-06-02   \n",
       "18 2020-11-13 12:42:35.566203  policy-1         rop 2033-06-02 2034-06-02   \n",
       "19 2020-11-13 12:42:35.566203  policy-1         rop 2034-06-02 2035-06-02   \n",
       "\n",
       "    DURATION_YEAR  LIVES_BD  LIVES_MD  ...  DISCOUNT_ED  BENEFIT_AMOUNT  \\\n",
       "4               5  0.987588  0.985791  ...     0.862609           100.0   \n",
       "5               6  0.983993  0.982070  ...     0.837484           100.0   \n",
       "6               7  0.980146  0.978058  ...     0.813092           100.0   \n",
       "7               8  0.975970  0.973677  ...     0.789409           100.0   \n",
       "8               9  0.971383  0.968853  ...     0.766417           100.0   \n",
       "9              10  0.966322  0.963506  ...     0.744094           100.0   \n",
       "10             11  0.960689  0.957557  ...     0.722421           100.0   \n",
       "11             12  0.954425  0.950961  ...     0.701380           100.0   \n",
       "12             13  0.947496  0.943730  ...     0.680951           100.0   \n",
       "13             14  0.939963  0.935907  ...     0.661118           100.0   \n",
       "14             15  0.931851  0.927462  ...     0.641862           100.0   \n",
       "15             16  0.923073  0.918273  ...     0.623167           100.0   \n",
       "16             17  0.913473  0.908180  ...     0.605016           100.0   \n",
       "17             18  0.902886  0.897027  ...     0.587395           100.0   \n",
       "18             19  0.891167  0.884719  ...     0.570286           100.0   \n",
       "19             20  0.878272  0.871228  ...     0.553676           100.0   \n",
       "\n",
       "    FINAL_INCIDENCE_RATE  BENEFIT_COST    PVFB   PVFNB  ALR_BD  ALR_ED  \\\n",
       "4               0.007967          0.00  398.24  295.09  116.10  147.11   \n",
       "5               0.008640          0.00  398.24  271.34  147.11  178.94   \n",
       "6               0.009378          0.00  398.24  248.38  178.94  211.62   \n",
       "7               0.010159          0.00  398.24  226.17  211.62  245.18   \n",
       "8               0.010993          0.00  398.24  204.69  245.18  279.61   \n",
       "9               0.011891        465.77  398.24  183.94  279.61    0.00   \n",
       "10              0.012832          0.00   59.34  163.90    0.00    0.00   \n",
       "11              0.013837          0.00   59.34  144.56    0.00    0.00   \n",
       "12              0.014907          0.00   59.34  125.90    0.00    0.00   \n",
       "13              0.016019          0.00   59.34  107.92    0.00    0.00   \n",
       "14              0.017184          0.00   59.34   90.60    0.00    0.00   \n",
       "15              0.018414          0.00   59.34   73.93    0.00    2.31   \n",
       "16              0.019708          0.00   59.34   57.90    2.31   27.83   \n",
       "17              0.021045          0.00   59.34   42.50   27.83   53.83   \n",
       "18              0.022403          0.00   59.34   27.72   53.83   80.29   \n",
       "19              0.023750        121.21   59.34   13.55   80.29    0.00   \n",
       "\n",
       "     DATE_ALR     ALR  \n",
       "4  2020-03-31  141.77  \n",
       "5  2021-03-31  173.46  \n",
       "6  2022-03-31  205.99  \n",
       "7  2023-03-31  239.40  \n",
       "8  2024-03-31  273.68  \n",
       "9  2025-03-31   48.13  \n",
       "10 2026-03-31    0.00  \n",
       "11 2027-03-31    0.00  \n",
       "12 2028-03-31    0.00  \n",
       "13 2029-03-31    0.00  \n",
       "14 2030-03-31    0.00  \n",
       "15 2031-03-31    1.91  \n",
       "16 2032-03-31   23.44  \n",
       "17 2033-03-31   49.35  \n",
       "18 2034-03-31   75.74  \n",
       "19 2035-03-31   13.82  \n",
       "\n",
       "[16 rows x 23 columns]"
      ],
      "text/html": "<div>\n<style scoped>\n    .dataframe tbody tr th:only-of-type {\n        vertical-align: middle;\n    }\n\n    .dataframe tbody tr th {\n        vertical-align: top;\n    }\n\n    .dataframe thead th {\n        text-align: right;\n    }\n</style>\n<table border=\"1\" class=\"dataframe\">\n  <thead>\n    <tr style=\"text-align: right;\">\n      <th></th>\n      <th>MODEL_VERSION</th>\n      <th>LAST_COMMIT</th>\n      <th>RUN_DATE_TIME</th>\n      <th>POLICY_ID</th>\n      <th>COVERAGE_ID</th>\n      <th>DATE_BD</th>\n      <th>DATE_ED</th>\n      <th>DURATION_YEAR</th>\n      <th>LIVES_BD</th>\n      <th>LIVES_MD</th>\n      <th>...</th>\n      <th>DISCOUNT_ED</th>\n      <th>BENEFIT_AMOUNT</th>\n      <th>FINAL_INCIDENCE_RATE</th>\n      <th>BENEFIT_COST</th>\n      <th>PVFB</th>\n      <th>PVFNB</th>\n      <th>ALR_BD</th>\n      <th>ALR_ED</th>\n      <th>DATE_ALR</th>\n      <th>ALR</th>\n    </tr>\n  </thead>\n  <tbody>\n    <tr>\n      <th>4</th>\n      <td>0.4.0+38.ga27a550.dirty</td>\n      <td>a27a55061c420bd61f65a5428e4502998b3263ae</td>\n      <td>2020-11-13 12:42:35.566203</td>\n      <td>policy-1</td>\n      <td>rop</td>\n      <td>2019-06-02</td>\n      <td>2020-06-02</td>\n      <td>5</td>\n      <td>0.987588</td>\n      <td>0.985791</td>\n      <td>...</td>\n      <td>0.862609</td>\n      <td>100.0</td>\n      <td>0.007967</td>\n      <td>0.00</td>\n      <td>398.24</td>\n      <td>295.09</td>\n      <td>116.10</td>\n      <td>147.11</td>\n      <td>2020-03-31</td>\n      <td>141.77</td>\n    </tr>\n    <tr>\n      <th>5</th>\n      <td>0.4.0+38.ga27a550.dirty</td>\n      <td>a27a55061c420bd61f65a5428e4502998b3263ae</td>\n      <td>2020-11-13 12:42:35.566203</td>\n      <td>policy-1</td>\n      <td>rop</td>\n      <td>2020-06-02</td>\n      <td>2021-06-02</td>\n      <td>6</td>\n      <td>0.983993</td>\n      <td>0.982070</td>\n      <td>...</td>\n      <td>0.837484</td>\n      <td>100.0</td>\n      <td>0.008640</td>\n      <td>0.00</td>\n      <td>398.24</td>\n      <td>271.34</td>\n      <td>147.11</td>\n      <td>178.94</td>\n      <td>2021-03-31</td>\n      <td>173.46</td>\n    </tr>\n    <tr>\n      <th>6</th>\n      <td>0.4.0+38.ga27a550.dirty</td>\n      <td>a27a55061c420bd61f65a5428e4502998b3263ae</td>\n      <td>2020-11-13 12:42:35.566203</td>\n      <td>policy-1</td>\n      <td>rop</td>\n      <td>2021-06-02</td>\n      <td>2022-06-02</td>\n      <td>7</td>\n      <td>0.980146</td>\n      <td>0.978058</td>\n      <td>...</td>\n      <td>0.813092</td>\n      <td>100.0</td>\n      <td>0.009378</td>\n      <td>0.00</td>\n      <td>398.24</td>\n      <td>248.38</td>\n      <td>178.94</td>\n      <td>211.62</td>\n      <td>2022-03-31</td>\n      <td>205.99</td>\n    </tr>\n    <tr>\n      <th>7</th>\n      <td>0.4.0+38.ga27a550.dirty</td>\n      <td>a27a55061c420bd61f65a5428e4502998b3263ae</td>\n      <td>2020-11-13 12:42:35.566203</td>\n      <td>policy-1</td>\n      <td>rop</td>\n      <td>2022-06-02</td>\n      <td>2023-06-02</td>\n      <td>8</td>\n      <td>0.975970</td>\n      <td>0.973677</td>\n      <td>...</td>\n      <td>0.789409</td>\n      <td>100.0</td>\n      <td>0.010159</td>\n      <td>0.00</td>\n      <td>398.24</td>\n      <td>226.17</td>\n      <td>211.62</td>\n      <td>245.18</td>\n      <td>2023-03-31</td>\n      <td>239.40</td>\n    </tr>\n    <tr>\n      <th>8</th>\n      <td>0.4.0+38.ga27a550.dirty</td>\n      <td>a27a55061c420bd61f65a5428e4502998b3263ae</td>\n      <td>2020-11-13 12:42:35.566203</td>\n      <td>policy-1</td>\n      <td>rop</td>\n      <td>2023-06-02</td>\n      <td>2024-06-02</td>\n      <td>9</td>\n      <td>0.971383</td>\n      <td>0.968853</td>\n      <td>...</td>\n      <td>0.766417</td>\n      <td>100.0</td>\n      <td>0.010993</td>\n      <td>0.00</td>\n      <td>398.24</td>\n      <td>204.69</td>\n      <td>245.18</td>\n      <td>279.61</td>\n      <td>2024-03-31</td>\n      <td>273.68</td>\n    </tr>\n    <tr>\n      <th>9</th>\n      <td>0.4.0+38.ga27a550.dirty</td>\n      <td>a27a55061c420bd61f65a5428e4502998b3263ae</td>\n      <td>2020-11-13 12:42:35.566203</td>\n      <td>policy-1</td>\n      <td>rop</td>\n      <td>2024-06-02</td>\n      <td>2025-06-02</td>\n      <td>10</td>\n      <td>0.966322</td>\n      <td>0.963506</td>\n      <td>...</td>\n      <td>0.744094</td>\n      <td>100.0</td>\n      <td>0.011891</td>\n      <td>465.77</td>\n      <td>398.24</td>\n      <td>183.94</td>\n      <td>279.61</td>\n      <td>0.00</td>\n      <td>2025-03-31</td>\n      <td>48.13</td>\n    </tr>\n    <tr>\n      <th>10</th>\n      <td>0.4.0+38.ga27a550.dirty</td>\n      <td>a27a55061c420bd61f65a5428e4502998b3263ae</td>\n      <td>2020-11-13 12:42:35.566203</td>\n      <td>policy-1</td>\n      <td>rop</td>\n      <td>2025-06-02</td>\n      <td>2026-06-02</td>\n      <td>11</td>\n      <td>0.960689</td>\n      <td>0.957557</td>\n      <td>...</td>\n      <td>0.722421</td>\n      <td>100.0</td>\n      <td>0.012832</td>\n      <td>0.00</td>\n      <td>59.34</td>\n      <td>163.90</td>\n      <td>0.00</td>\n      <td>0.00</td>\n      <td>2026-03-31</td>\n      <td>0.00</td>\n    </tr>\n    <tr>\n      <th>11</th>\n      <td>0.4.0+38.ga27a550.dirty</td>\n      <td>a27a55061c420bd61f65a5428e4502998b3263ae</td>\n      <td>2020-11-13 12:42:35.566203</td>\n      <td>policy-1</td>\n      <td>rop</td>\n      <td>2026-06-02</td>\n      <td>2027-06-02</td>\n      <td>12</td>\n      <td>0.954425</td>\n      <td>0.950961</td>\n      <td>...</td>\n      <td>0.701380</td>\n      <td>100.0</td>\n      <td>0.013837</td>\n      <td>0.00</td>\n      <td>59.34</td>\n      <td>144.56</td>\n      <td>0.00</td>\n      <td>0.00</td>\n      <td>2027-03-31</td>\n      <td>0.00</td>\n    </tr>\n    <tr>\n      <th>12</th>\n      <td>0.4.0+38.ga27a550.dirty</td>\n      <td>a27a55061c420bd61f65a5428e4502998b3263ae</td>\n      <td>2020-11-13 12:42:35.566203</td>\n      <td>policy-1</td>\n      <td>rop</td>\n      <td>2027-06-02</td>\n      <td>2028-06-02</td>\n      <td>13</td>\n      <td>0.947496</td>\n      <td>0.943730</td>\n      <td>...</td>\n      <td>0.680951</td>\n      <td>100.0</td>\n      <td>0.014907</td>\n      <td>0.00</td>\n      <td>59.34</td>\n      <td>125.90</td>\n      <td>0.00</td>\n      <td>0.00</td>\n      <td>2028-03-31</td>\n      <td>0.00</td>\n    </tr>\n    <tr>\n      <th>13</th>\n      <td>0.4.0+38.ga27a550.dirty</td>\n      <td>a27a55061c420bd61f65a5428e4502998b3263ae</td>\n      <td>2020-11-13 12:42:35.566203</td>\n      <td>policy-1</td>\n      <td>rop</td>\n      <td>2028-06-02</td>\n      <td>2029-06-02</td>\n      <td>14</td>\n      <td>0.939963</td>\n      <td>0.935907</td>\n      <td>...</td>\n      <td>0.661118</td>\n      <td>100.0</td>\n      <td>0.016019</td>\n      <td>0.00</td>\n      <td>59.34</td>\n      <td>107.92</td>\n      <td>0.00</td>\n      <td>0.00</td>\n      <td>2029-03-31</td>\n      <td>0.00</td>\n    </tr>\n    <tr>\n      <th>14</th>\n      <td>0.4.0+38.ga27a550.dirty</td>\n      <td>a27a55061c420bd61f65a5428e4502998b3263ae</td>\n      <td>2020-11-13 12:42:35.566203</td>\n      <td>policy-1</td>\n      <td>rop</td>\n      <td>2029-06-02</td>\n      <td>2030-06-02</td>\n      <td>15</td>\n      <td>0.931851</td>\n      <td>0.927462</td>\n      <td>...</td>\n      <td>0.641862</td>\n      <td>100.0</td>\n      <td>0.017184</td>\n      <td>0.00</td>\n      <td>59.34</td>\n      <td>90.60</td>\n      <td>0.00</td>\n      <td>0.00</td>\n      <td>2030-03-31</td>\n      <td>0.00</td>\n    </tr>\n    <tr>\n      <th>15</th>\n      <td>0.4.0+38.ga27a550.dirty</td>\n      <td>a27a55061c420bd61f65a5428e4502998b3263ae</td>\n      <td>2020-11-13 12:42:35.566203</td>\n      <td>policy-1</td>\n      <td>rop</td>\n      <td>2030-06-02</td>\n      <td>2031-06-02</td>\n      <td>16</td>\n      <td>0.923073</td>\n      <td>0.918273</td>\n      <td>...</td>\n      <td>0.623167</td>\n      <td>100.0</td>\n      <td>0.018414</td>\n      <td>0.00</td>\n      <td>59.34</td>\n      <td>73.93</td>\n      <td>0.00</td>\n      <td>2.31</td>\n      <td>2031-03-31</td>\n      <td>1.91</td>\n    </tr>\n    <tr>\n      <th>16</th>\n      <td>0.4.0+38.ga27a550.dirty</td>\n      <td>a27a55061c420bd61f65a5428e4502998b3263ae</td>\n      <td>2020-11-13 12:42:35.566203</td>\n      <td>policy-1</td>\n      <td>rop</td>\n      <td>2031-06-02</td>\n      <td>2032-06-02</td>\n      <td>17</td>\n      <td>0.913473</td>\n      <td>0.908180</td>\n      <td>...</td>\n      <td>0.605016</td>\n      <td>100.0</td>\n      <td>0.019708</td>\n      <td>0.00</td>\n      <td>59.34</td>\n      <td>57.90</td>\n      <td>2.31</td>\n      <td>27.83</td>\n      <td>2032-03-31</td>\n      <td>23.44</td>\n    </tr>\n    <tr>\n      <th>17</th>\n      <td>0.4.0+38.ga27a550.dirty</td>\n      <td>a27a55061c420bd61f65a5428e4502998b3263ae</td>\n      <td>2020-11-13 12:42:35.566203</td>\n      <td>policy-1</td>\n      <td>rop</td>\n      <td>2032-06-02</td>\n      <td>2033-06-02</td>\n      <td>18</td>\n      <td>0.902886</td>\n      <td>0.897027</td>\n      <td>...</td>\n      <td>0.587395</td>\n      <td>100.0</td>\n      <td>0.021045</td>\n      <td>0.00</td>\n      <td>59.34</td>\n      <td>42.50</td>\n      <td>27.83</td>\n      <td>53.83</td>\n      <td>2033-03-31</td>\n      <td>49.35</td>\n    </tr>\n    <tr>\n      <th>18</th>\n      <td>0.4.0+38.ga27a550.dirty</td>\n      <td>a27a55061c420bd61f65a5428e4502998b3263ae</td>\n      <td>2020-11-13 12:42:35.566203</td>\n      <td>policy-1</td>\n      <td>rop</td>\n      <td>2033-06-02</td>\n      <td>2034-06-02</td>\n      <td>19</td>\n      <td>0.891167</td>\n      <td>0.884719</td>\n      <td>...</td>\n      <td>0.570286</td>\n      <td>100.0</td>\n      <td>0.022403</td>\n      <td>0.00</td>\n      <td>59.34</td>\n      <td>27.72</td>\n      <td>53.83</td>\n      <td>80.29</td>\n      <td>2034-03-31</td>\n      <td>75.74</td>\n    </tr>\n    <tr>\n      <th>19</th>\n      <td>0.4.0+38.ga27a550.dirty</td>\n      <td>a27a55061c420bd61f65a5428e4502998b3263ae</td>\n      <td>2020-11-13 12:42:35.566203</td>\n      <td>policy-1</td>\n      <td>rop</td>\n      <td>2034-06-02</td>\n      <td>2035-06-02</td>\n      <td>20</td>\n      <td>0.878272</td>\n      <td>0.871228</td>\n      <td>...</td>\n      <td>0.553676</td>\n      <td>100.0</td>\n      <td>0.023750</td>\n      <td>121.21</td>\n      <td>59.34</td>\n      <td>13.55</td>\n      <td>80.29</td>\n      <td>0.00</td>\n      <td>2035-03-31</td>\n      <td>13.82</td>\n    </tr>\n  </tbody>\n</table>\n<p>16 rows × 23 columns</p>\n</div>"
     },
     "metadata": {},
     "execution_count": 5
    }
   ],
   "source": [
    "output"
   ]
  }
 ]
}