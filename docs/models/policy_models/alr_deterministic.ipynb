{
 "metadata": {
  "language_info": {
   "codemirror_mode": {
    "name": "ipython",
    "version": 3
   },
   "file_extension": ".py",
   "mimetype": "text/x-python",
   "name": "python",
   "nbconvert_exporter": "python",
   "pygments_lexer": "ipython3",
   "version": "3.7.7-final"
  },
  "orig_nbformat": 2,
  "kernelspec": {
   "name": "python3",
   "display_name": "Python 3"
  }
 },
 "nbformat": 4,
 "nbformat_minor": 2,
 "cells": [
  {
   "source": [
    "## ALR Deterministic"
   ],
   "cell_type": "markdown",
   "metadata": {}
  },
  {
   "source": [
    ".. autoclass:: footings_idi_model.policy_models.ALRDeterministicPolicyModel"
   ],
   "cell_type": "markdown",
   "metadata": {}
  },
  {
   "source": [
    "**Usage**"
   ],
   "cell_type": "markdown",
   "metadata": {}
  },
  {
   "cell_type": "code",
   "execution_count": 1,
   "metadata": {},
   "outputs": [],
   "source": [
    "import pandas as pd\n",
    "from footings_idi_model.policy_models import ALRDeterministicPolicyModel\n",
    "\n",
    "model = ALRDeterministicPolicyModel(\n",
    "    policy_id=\"policy-1\",\n",
    "    coverage_id=\"base\",\n",
    "    gender=\"M\",\n",
    "    tobacco_usage=\"N\",\n",
    "    birth_dt=pd.Timestamp(\"1970-03-26\"),\n",
    "    policy_start_dt=pd.Timestamp(\"2015-06-02\"),\n",
    "    policy_end_dt=pd.Timestamp(\"2035-03-26\"),\n",
    "    elimination_period=90,\n",
    "    idi_market=\"INDV\",\n",
    "    idi_contract=\"AS\",\n",
    "    idi_benefit_period=\"TO65\",\n",
    "    idi_occupation_class=\"M\",\n",
    "    cola_percent=0.0,\n",
    "    gross_premium=150.0,\n",
    "    benefit_amount=100.0,\n",
    "    valuation_dt=pd.Timestamp(\"2020-03-31\"), \n",
    "    assumption_set=\"stat\", \n",
    "    withdraw_table=\"01CSO\",\n",
    "    net_benefit_method=\"NLP\",\n",
    ")"
   ]
  },
  {
   "cell_type": "code",
   "execution_count": 2,
   "metadata": {},
   "outputs": [],
   "source": [
    "model.audit(\"Audit-ALRDeterministicPolicyModel.xlsx\")"
   ]
  },
  {
   "source": [
    "Download audit file [Audit-ALRDeterministicPolicyModel.xlsx](Audit-ALRDeterministicPolicyModel.xlsx)."
   ],
   "cell_type": "markdown",
   "metadata": {}
  },
  {
   "cell_type": "code",
   "execution_count": 3,
   "metadata": {},
   "outputs": [],
   "source": [
    "output = model.run()"
   ]
  },
  {
   "cell_type": "code",
   "execution_count": 4,
   "metadata": {},
   "outputs": [
    {
     "output_type": "stream",
     "name": "stdout",
     "text": [
      "<class 'pandas.core.frame.DataFrame'>\nInt64Index: 32 entries, 8 to 39\nData columns (total 23 columns):\n #   Column                Non-Null Count  Dtype         \n---  ------                --------------  -----         \n 0   MODEL_VERSION         32 non-null     object        \n 1   LAST_COMMIT           32 non-null     object        \n 2   RUN_DATE_TIME         32 non-null     datetime64[ns]\n 3   POLICY_ID             32 non-null     object        \n 4   COVERAGE_ID           32 non-null     object        \n 5   DATE_BD               32 non-null     datetime64[ns]\n 6   DATE_ED               32 non-null     datetime64[ns]\n 7   DURATION_YEAR         32 non-null     Int64         \n 8   LIVES_BD              32 non-null     float64       \n 9   LIVES_MD              32 non-null     float64       \n 10  LIVES_ED              32 non-null     float64       \n 11  DISCOUNT_BD           32 non-null     float64       \n 12  DISCOUNT_MD           32 non-null     float64       \n 13  DISCOUNT_ED           32 non-null     float64       \n 14  BENEFIT_AMOUNT        32 non-null     float64       \n 15  FINAL_INCIDENCE_RATE  32 non-null     float64       \n 16  BENEFIT_COST          32 non-null     float64       \n 17  PVFB                  32 non-null     float64       \n 18  PVFNB                 32 non-null     float64       \n 19  ALR_BD                32 non-null     float64       \n 20  ALR_ED                32 non-null     float64       \n 21  DATE_ALR              32 non-null     datetime64[ns]\n 22  ALR                   32 non-null     float64       \ndtypes: Int64(1), datetime64[ns](4), float64(14), object(4)\nmemory usage: 6.0+ KB\n"
     ]
    }
   ],
   "source": [
    "output.info()"
   ]
  },
  {
   "cell_type": "code",
   "execution_count": 5,
   "metadata": {},
   "outputs": [
    {
     "output_type": "execute_result",
     "data": {
      "text/plain": [
       "              MODEL_VERSION                               LAST_COMMIT  \\\n",
       "8   0.4.0+38.ga27a550.dirty  a27a55061c420bd61f65a5428e4502998b3263ae   \n",
       "9   0.4.0+38.ga27a550.dirty  a27a55061c420bd61f65a5428e4502998b3263ae   \n",
       "10  0.4.0+38.ga27a550.dirty  a27a55061c420bd61f65a5428e4502998b3263ae   \n",
       "11  0.4.0+38.ga27a550.dirty  a27a55061c420bd61f65a5428e4502998b3263ae   \n",
       "12  0.4.0+38.ga27a550.dirty  a27a55061c420bd61f65a5428e4502998b3263ae   \n",
       "13  0.4.0+38.ga27a550.dirty  a27a55061c420bd61f65a5428e4502998b3263ae   \n",
       "14  0.4.0+38.ga27a550.dirty  a27a55061c420bd61f65a5428e4502998b3263ae   \n",
       "15  0.4.0+38.ga27a550.dirty  a27a55061c420bd61f65a5428e4502998b3263ae   \n",
       "16  0.4.0+38.ga27a550.dirty  a27a55061c420bd61f65a5428e4502998b3263ae   \n",
       "17  0.4.0+38.ga27a550.dirty  a27a55061c420bd61f65a5428e4502998b3263ae   \n",
       "18  0.4.0+38.ga27a550.dirty  a27a55061c420bd61f65a5428e4502998b3263ae   \n",
       "19  0.4.0+38.ga27a550.dirty  a27a55061c420bd61f65a5428e4502998b3263ae   \n",
       "20  0.4.0+38.ga27a550.dirty  a27a55061c420bd61f65a5428e4502998b3263ae   \n",
       "21  0.4.0+38.ga27a550.dirty  a27a55061c420bd61f65a5428e4502998b3263ae   \n",
       "22  0.4.0+38.ga27a550.dirty  a27a55061c420bd61f65a5428e4502998b3263ae   \n",
       "23  0.4.0+38.ga27a550.dirty  a27a55061c420bd61f65a5428e4502998b3263ae   \n",
       "24  0.4.0+38.ga27a550.dirty  a27a55061c420bd61f65a5428e4502998b3263ae   \n",
       "25  0.4.0+38.ga27a550.dirty  a27a55061c420bd61f65a5428e4502998b3263ae   \n",
       "26  0.4.0+38.ga27a550.dirty  a27a55061c420bd61f65a5428e4502998b3263ae   \n",
       "27  0.4.0+38.ga27a550.dirty  a27a55061c420bd61f65a5428e4502998b3263ae   \n",
       "28  0.4.0+38.ga27a550.dirty  a27a55061c420bd61f65a5428e4502998b3263ae   \n",
       "29  0.4.0+38.ga27a550.dirty  a27a55061c420bd61f65a5428e4502998b3263ae   \n",
       "30  0.4.0+38.ga27a550.dirty  a27a55061c420bd61f65a5428e4502998b3263ae   \n",
       "31  0.4.0+38.ga27a550.dirty  a27a55061c420bd61f65a5428e4502998b3263ae   \n",
       "32  0.4.0+38.ga27a550.dirty  a27a55061c420bd61f65a5428e4502998b3263ae   \n",
       "33  0.4.0+38.ga27a550.dirty  a27a55061c420bd61f65a5428e4502998b3263ae   \n",
       "34  0.4.0+38.ga27a550.dirty  a27a55061c420bd61f65a5428e4502998b3263ae   \n",
       "35  0.4.0+38.ga27a550.dirty  a27a55061c420bd61f65a5428e4502998b3263ae   \n",
       "36  0.4.0+38.ga27a550.dirty  a27a55061c420bd61f65a5428e4502998b3263ae   \n",
       "37  0.4.0+38.ga27a550.dirty  a27a55061c420bd61f65a5428e4502998b3263ae   \n",
       "38  0.4.0+38.ga27a550.dirty  a27a55061c420bd61f65a5428e4502998b3263ae   \n",
       "39  0.4.0+38.ga27a550.dirty  a27a55061c420bd61f65a5428e4502998b3263ae   \n",
       "\n",
       "                RUN_DATE_TIME POLICY_ID COVERAGE_ID    DATE_BD    DATE_ED  \\\n",
       "8  2020-11-13 12:07:13.806650  policy-1        base 2019-06-02 2020-06-02   \n",
       "9  2020-11-13 12:07:13.806650  policy-1        base 2019-06-02 2020-06-02   \n",
       "10 2020-11-13 12:07:13.806650  policy-1        base 2020-06-02 2021-06-02   \n",
       "11 2020-11-13 12:07:13.806650  policy-1        base 2020-06-02 2021-06-02   \n",
       "12 2020-11-13 12:07:13.806650  policy-1        base 2021-06-02 2022-06-02   \n",
       "13 2020-11-13 12:07:13.806650  policy-1        base 2021-06-02 2022-06-02   \n",
       "14 2020-11-13 12:07:13.806650  policy-1        base 2022-06-02 2023-06-02   \n",
       "15 2020-11-13 12:07:13.806650  policy-1        base 2022-06-02 2023-06-02   \n",
       "16 2020-11-13 12:07:13.806650  policy-1        base 2023-06-02 2024-06-02   \n",
       "17 2020-11-13 12:07:13.806650  policy-1        base 2023-06-02 2024-06-02   \n",
       "18 2020-11-13 12:07:13.806650  policy-1        base 2024-06-02 2025-06-02   \n",
       "19 2020-11-13 12:07:13.806650  policy-1        base 2024-06-02 2025-06-02   \n",
       "20 2020-11-13 12:07:13.806650  policy-1        base 2025-06-02 2026-06-02   \n",
       "21 2020-11-13 12:07:13.806650  policy-1        base 2025-06-02 2026-06-02   \n",
       "22 2020-11-13 12:07:13.806650  policy-1        base 2026-06-02 2027-06-02   \n",
       "23 2020-11-13 12:07:13.806650  policy-1        base 2026-06-02 2027-06-02   \n",
       "24 2020-11-13 12:07:13.806650  policy-1        base 2027-06-02 2028-06-02   \n",
       "25 2020-11-13 12:07:13.806650  policy-1        base 2027-06-02 2028-06-02   \n",
       "26 2020-11-13 12:07:13.806650  policy-1        base 2028-06-02 2029-06-02   \n",
       "27 2020-11-13 12:07:13.806650  policy-1        base 2028-06-02 2029-06-02   \n",
       "28 2020-11-13 12:07:13.806650  policy-1        base 2029-06-02 2030-06-02   \n",
       "29 2020-11-13 12:07:13.806650  policy-1        base 2029-06-02 2030-06-02   \n",
       "30 2020-11-13 12:07:13.806650  policy-1        base 2030-06-02 2031-06-02   \n",
       "31 2020-11-13 12:07:13.806650  policy-1        base 2030-06-02 2031-06-02   \n",
       "32 2020-11-13 12:07:13.806650  policy-1        base 2031-06-02 2032-06-02   \n",
       "33 2020-11-13 12:07:13.806650  policy-1        base 2031-06-02 2032-06-02   \n",
       "34 2020-11-13 12:07:13.806650  policy-1        base 2032-06-02 2033-06-02   \n",
       "35 2020-11-13 12:07:13.806650  policy-1        base 2032-06-02 2033-06-02   \n",
       "36 2020-11-13 12:07:13.806650  policy-1        base 2033-06-02 2034-06-02   \n",
       "37 2020-11-13 12:07:13.806650  policy-1        base 2033-06-02 2034-06-02   \n",
       "38 2020-11-13 12:07:13.806650  policy-1        base 2034-06-02 2035-06-02   \n",
       "39 2020-11-13 12:07:13.806650  policy-1        base 2034-06-02 2035-06-02   \n",
       "\n",
       "    DURATION_YEAR  LIVES_BD  LIVES_MD  ...  DISCOUNT_ED  BENEFIT_AMOUNT  \\\n",
       "8               5  0.978592  0.977159  ...     0.862609           100.0   \n",
       "9               5  0.975725  0.973949  ...     0.862609           100.0   \n",
       "10              6  0.972173  0.970598  ...     0.837484           100.0   \n",
       "11              6  0.969024  0.967129  ...     0.837484           100.0   \n",
       "12              7  0.965235  0.963497  ...     0.813092           100.0   \n",
       "13              7  0.961760  0.959711  ...     0.813092           100.0   \n",
       "14              8  0.957663  0.955752  ...     0.789409           100.0   \n",
       "15              8  0.953842  0.951600  ...     0.789409           100.0   \n",
       "16              9  0.949359  0.947265  ...     0.766417           100.0   \n",
       "17              9  0.945172  0.942710  ...     0.766417           100.0   \n",
       "18             10  0.940248  0.937963  ...     0.744094           100.0   \n",
       "19             10  0.935678  0.932950  ...     0.744094           100.0   \n",
       "20             11  0.930223  0.927730  ...     0.722421           100.0   \n",
       "21             11  0.925237  0.922221  ...     0.722421           100.0   \n",
       "22             12  0.919204  0.916488  ...     0.701380           100.0   \n",
       "23             12  0.913772  0.910455  ...     0.701380           100.0   \n",
       "24             13  0.907138  0.904203  ...     0.680951           100.0   \n",
       "25             13  0.901269  0.897686  ...     0.680951           100.0   \n",
       "26             14  0.894104  0.890952  ...     0.661118           100.0   \n",
       "27             14  0.887800  0.883969  ...     0.661118           100.0   \n",
       "28             15  0.880139  0.876768  ...     0.641862           100.0   \n",
       "29             15  0.873397  0.869283  ...     0.641862           100.0   \n",
       "30             16  0.865169  0.861574  ...     0.623167           100.0   \n",
       "31             16  0.857980  0.853518  ...     0.623167           100.0   \n",
       "32             17  0.849057  0.845236  ...     0.605016           100.0   \n",
       "33             17  0.841415  0.836539  ...     0.605016           100.0   \n",
       "34             18  0.831663  0.827613  ...     0.587395           100.0   \n",
       "35             18  0.823563  0.818218  ...     0.587395           100.0   \n",
       "36             19  0.812873  0.808589  ...     0.570286           100.0   \n",
       "37             19  0.804305  0.798486  ...     0.570286           100.0   \n",
       "38             20  0.792667  0.788149  ...     0.553676           100.0   \n",
       "39             20  0.783631  0.777346  ...     0.553676           100.0   \n",
       "\n",
       "    FINAL_INCIDENCE_RATE  BENEFIT_COST     PVFB    PVFNB  ALR_BD  ALR_ED  \\\n",
       "8               0.007967         63.31  1387.27  1312.56   84.09   84.68   \n",
       "9               0.007967         63.31  1333.11  1257.87   84.68   87.85   \n",
       "10              0.008640         67.00  1279.13  1203.35   87.85   84.92   \n",
       "11              0.008640         67.00  1223.85  1150.60   84.92   84.49   \n",
       "12              0.009378         70.63  1168.78  1098.02   84.49   78.14   \n",
       "13              0.009378         70.63  1112.62  1047.18   78.14   74.00   \n",
       "14              0.010159         73.87  1056.69   996.52   74.00   64.67   \n",
       "15              0.010159         73.87  1000.12   947.54   64.67   57.07   \n",
       "16              0.010993         76.67   943.81   898.76   57.07   45.21   \n",
       "17              0.010993         76.67   887.31   851.62   45.21   34.46   \n",
       "18              0.011891         78.98   831.10   804.69   34.46   20.60   \n",
       "19              0.011891         78.98   775.15   759.36   20.60    7.06   \n",
       "20              0.012832         80.46   719.51   714.26    7.06    0.00   \n",
       "21              0.012832         80.46   664.78   670.72    0.00    0.00   \n",
       "22              0.013837         81.02   610.38   627.42    0.00    0.00   \n",
       "23              0.013837         81.02   557.52   585.65    0.00    0.00   \n",
       "24              0.014907         80.41   505.01   544.13    0.00    0.00   \n",
       "25              0.014907         80.41   454.77   504.11    0.00    0.00   \n",
       "26              0.016019         78.22   404.88   464.35    0.00    0.00   \n",
       "27              0.016019         78.22   358.12   426.05    0.00    0.00   \n",
       "28              0.017184         74.26   311.73   388.03    0.00    0.00   \n",
       "29              0.017184         74.26   269.32   351.43    0.00    0.00   \n",
       "30              0.018414         68.25   227.26   315.11    0.00    0.00   \n",
       "31              0.018414         68.25   190.07   280.18    0.00    0.00   \n",
       "32              0.019708         59.81   153.23   245.54    0.00    0.00   \n",
       "33              0.019708         59.81   122.19   212.26    0.00    0.00   \n",
       "34              0.021045         48.48    91.47   179.28    0.00    0.00   \n",
       "35              0.021045         48.48    67.55   147.63    0.00    0.00   \n",
       "36              0.022403         33.64    43.90   116.29    0.00    0.00   \n",
       "37              0.022403         33.64    28.16    86.26    0.00    0.00   \n",
       "38              0.023750         14.34    12.61    56.54    0.00    0.00   \n",
       "39              0.023750         14.34     6.26    28.11    0.00    0.00   \n",
       "\n",
       "     DATE_ALR    ALR  \n",
       "8  2020-03-31  84.58  \n",
       "9  2021-03-31  87.30  \n",
       "10 2022-03-31  85.42  \n",
       "11 2023-03-31  84.56  \n",
       "12 2024-03-31  79.23  \n",
       "13 2025-03-31  74.71  \n",
       "14 2026-03-31  66.28  \n",
       "15 2027-03-31  58.38  \n",
       "16 2028-03-31  47.25  \n",
       "17 2029-03-31  36.31  \n",
       "18 2030-03-31  22.99  \n",
       "19 2031-03-31   9.39  \n",
       "20 2032-03-31   1.22  \n",
       "21 2033-03-31   0.00  \n",
       "22 2034-03-31   0.00  \n",
       "23 2035-03-31   0.00  \n",
       "24 2036-03-31   0.00  \n",
       "25 2037-03-31   0.00  \n",
       "26 2038-03-31   0.00  \n",
       "27 2039-03-31   0.00  \n",
       "28 2040-03-31   0.00  \n",
       "29 2041-03-31   0.00  \n",
       "30 2042-03-31   0.00  \n",
       "31 2043-03-31   0.00  \n",
       "32 2044-03-31   0.00  \n",
       "33 2045-03-31   0.00  \n",
       "34 2046-03-31   0.00  \n",
       "35 2047-03-31   0.00  \n",
       "36 2048-03-31   0.00  \n",
       "37 2049-03-31   0.00  \n",
       "38 2050-03-31   0.00  \n",
       "39 2051-03-31   0.00  \n",
       "\n",
       "[32 rows x 23 columns]"
      ],
      "text/html": "<div>\n<style scoped>\n    .dataframe tbody tr th:only-of-type {\n        vertical-align: middle;\n    }\n\n    .dataframe tbody tr th {\n        vertical-align: top;\n    }\n\n    .dataframe thead th {\n        text-align: right;\n    }\n</style>\n<table border=\"1\" class=\"dataframe\">\n  <thead>\n    <tr style=\"text-align: right;\">\n      <th></th>\n      <th>MODEL_VERSION</th>\n      <th>LAST_COMMIT</th>\n      <th>RUN_DATE_TIME</th>\n      <th>POLICY_ID</th>\n      <th>COVERAGE_ID</th>\n      <th>DATE_BD</th>\n      <th>DATE_ED</th>\n      <th>DURATION_YEAR</th>\n      <th>LIVES_BD</th>\n      <th>LIVES_MD</th>\n      <th>...</th>\n      <th>DISCOUNT_ED</th>\n      <th>BENEFIT_AMOUNT</th>\n      <th>FINAL_INCIDENCE_RATE</th>\n      <th>BENEFIT_COST</th>\n      <th>PVFB</th>\n      <th>PVFNB</th>\n      <th>ALR_BD</th>\n      <th>ALR_ED</th>\n      <th>DATE_ALR</th>\n      <th>ALR</th>\n    </tr>\n  </thead>\n  <tbody>\n    <tr>\n      <th>8</th>\n      <td>0.4.0+38.ga27a550.dirty</td>\n      <td>a27a55061c420bd61f65a5428e4502998b3263ae</td>\n      <td>2020-11-13 12:07:13.806650</td>\n      <td>policy-1</td>\n      <td>base</td>\n      <td>2019-06-02</td>\n      <td>2020-06-02</td>\n      <td>5</td>\n      <td>0.978592</td>\n      <td>0.977159</td>\n      <td>...</td>\n      <td>0.862609</td>\n      <td>100.0</td>\n      <td>0.007967</td>\n      <td>63.31</td>\n      <td>1387.27</td>\n      <td>1312.56</td>\n      <td>84.09</td>\n      <td>84.68</td>\n      <td>2020-03-31</td>\n      <td>84.58</td>\n    </tr>\n    <tr>\n      <th>9</th>\n      <td>0.4.0+38.ga27a550.dirty</td>\n      <td>a27a55061c420bd61f65a5428e4502998b3263ae</td>\n      <td>2020-11-13 12:07:13.806650</td>\n      <td>policy-1</td>\n      <td>base</td>\n      <td>2019-06-02</td>\n      <td>2020-06-02</td>\n      <td>5</td>\n      <td>0.975725</td>\n      <td>0.973949</td>\n      <td>...</td>\n      <td>0.862609</td>\n      <td>100.0</td>\n      <td>0.007967</td>\n      <td>63.31</td>\n      <td>1333.11</td>\n      <td>1257.87</td>\n      <td>84.68</td>\n      <td>87.85</td>\n      <td>2021-03-31</td>\n      <td>87.30</td>\n    </tr>\n    <tr>\n      <th>10</th>\n      <td>0.4.0+38.ga27a550.dirty</td>\n      <td>a27a55061c420bd61f65a5428e4502998b3263ae</td>\n      <td>2020-11-13 12:07:13.806650</td>\n      <td>policy-1</td>\n      <td>base</td>\n      <td>2020-06-02</td>\n      <td>2021-06-02</td>\n      <td>6</td>\n      <td>0.972173</td>\n      <td>0.970598</td>\n      <td>...</td>\n      <td>0.837484</td>\n      <td>100.0</td>\n      <td>0.008640</td>\n      <td>67.00</td>\n      <td>1279.13</td>\n      <td>1203.35</td>\n      <td>87.85</td>\n      <td>84.92</td>\n      <td>2022-03-31</td>\n      <td>85.42</td>\n    </tr>\n    <tr>\n      <th>11</th>\n      <td>0.4.0+38.ga27a550.dirty</td>\n      <td>a27a55061c420bd61f65a5428e4502998b3263ae</td>\n      <td>2020-11-13 12:07:13.806650</td>\n      <td>policy-1</td>\n      <td>base</td>\n      <td>2020-06-02</td>\n      <td>2021-06-02</td>\n      <td>6</td>\n      <td>0.969024</td>\n      <td>0.967129</td>\n      <td>...</td>\n      <td>0.837484</td>\n      <td>100.0</td>\n      <td>0.008640</td>\n      <td>67.00</td>\n      <td>1223.85</td>\n      <td>1150.60</td>\n      <td>84.92</td>\n      <td>84.49</td>\n      <td>2023-03-31</td>\n      <td>84.56</td>\n    </tr>\n    <tr>\n      <th>12</th>\n      <td>0.4.0+38.ga27a550.dirty</td>\n      <td>a27a55061c420bd61f65a5428e4502998b3263ae</td>\n      <td>2020-11-13 12:07:13.806650</td>\n      <td>policy-1</td>\n      <td>base</td>\n      <td>2021-06-02</td>\n      <td>2022-06-02</td>\n      <td>7</td>\n      <td>0.965235</td>\n      <td>0.963497</td>\n      <td>...</td>\n      <td>0.813092</td>\n      <td>100.0</td>\n      <td>0.009378</td>\n      <td>70.63</td>\n      <td>1168.78</td>\n      <td>1098.02</td>\n      <td>84.49</td>\n      <td>78.14</td>\n      <td>2024-03-31</td>\n      <td>79.23</td>\n    </tr>\n    <tr>\n      <th>13</th>\n      <td>0.4.0+38.ga27a550.dirty</td>\n      <td>a27a55061c420bd61f65a5428e4502998b3263ae</td>\n      <td>2020-11-13 12:07:13.806650</td>\n      <td>policy-1</td>\n      <td>base</td>\n      <td>2021-06-02</td>\n      <td>2022-06-02</td>\n      <td>7</td>\n      <td>0.961760</td>\n      <td>0.959711</td>\n      <td>...</td>\n      <td>0.813092</td>\n      <td>100.0</td>\n      <td>0.009378</td>\n      <td>70.63</td>\n      <td>1112.62</td>\n      <td>1047.18</td>\n      <td>78.14</td>\n      <td>74.00</td>\n      <td>2025-03-31</td>\n      <td>74.71</td>\n    </tr>\n    <tr>\n      <th>14</th>\n      <td>0.4.0+38.ga27a550.dirty</td>\n      <td>a27a55061c420bd61f65a5428e4502998b3263ae</td>\n      <td>2020-11-13 12:07:13.806650</td>\n      <td>policy-1</td>\n      <td>base</td>\n      <td>2022-06-02</td>\n      <td>2023-06-02</td>\n      <td>8</td>\n      <td>0.957663</td>\n      <td>0.955752</td>\n      <td>...</td>\n      <td>0.789409</td>\n      <td>100.0</td>\n      <td>0.010159</td>\n      <td>73.87</td>\n      <td>1056.69</td>\n      <td>996.52</td>\n      <td>74.00</td>\n      <td>64.67</td>\n      <td>2026-03-31</td>\n      <td>66.28</td>\n    </tr>\n    <tr>\n      <th>15</th>\n      <td>0.4.0+38.ga27a550.dirty</td>\n      <td>a27a55061c420bd61f65a5428e4502998b3263ae</td>\n      <td>2020-11-13 12:07:13.806650</td>\n      <td>policy-1</td>\n      <td>base</td>\n      <td>2022-06-02</td>\n      <td>2023-06-02</td>\n      <td>8</td>\n      <td>0.953842</td>\n      <td>0.951600</td>\n      <td>...</td>\n      <td>0.789409</td>\n      <td>100.0</td>\n      <td>0.010159</td>\n      <td>73.87</td>\n      <td>1000.12</td>\n      <td>947.54</td>\n      <td>64.67</td>\n      <td>57.07</td>\n      <td>2027-03-31</td>\n      <td>58.38</td>\n    </tr>\n    <tr>\n      <th>16</th>\n      <td>0.4.0+38.ga27a550.dirty</td>\n      <td>a27a55061c420bd61f65a5428e4502998b3263ae</td>\n      <td>2020-11-13 12:07:13.806650</td>\n      <td>policy-1</td>\n      <td>base</td>\n      <td>2023-06-02</td>\n      <td>2024-06-02</td>\n      <td>9</td>\n      <td>0.949359</td>\n      <td>0.947265</td>\n      <td>...</td>\n      <td>0.766417</td>\n      <td>100.0</td>\n      <td>0.010993</td>\n      <td>76.67</td>\n      <td>943.81</td>\n      <td>898.76</td>\n      <td>57.07</td>\n      <td>45.21</td>\n      <td>2028-03-31</td>\n      <td>47.25</td>\n    </tr>\n    <tr>\n      <th>17</th>\n      <td>0.4.0+38.ga27a550.dirty</td>\n      <td>a27a55061c420bd61f65a5428e4502998b3263ae</td>\n      <td>2020-11-13 12:07:13.806650</td>\n      <td>policy-1</td>\n      <td>base</td>\n      <td>2023-06-02</td>\n      <td>2024-06-02</td>\n      <td>9</td>\n      <td>0.945172</td>\n      <td>0.942710</td>\n      <td>...</td>\n      <td>0.766417</td>\n      <td>100.0</td>\n      <td>0.010993</td>\n      <td>76.67</td>\n      <td>887.31</td>\n      <td>851.62</td>\n      <td>45.21</td>\n      <td>34.46</td>\n      <td>2029-03-31</td>\n      <td>36.31</td>\n    </tr>\n    <tr>\n      <th>18</th>\n      <td>0.4.0+38.ga27a550.dirty</td>\n      <td>a27a55061c420bd61f65a5428e4502998b3263ae</td>\n      <td>2020-11-13 12:07:13.806650</td>\n      <td>policy-1</td>\n      <td>base</td>\n      <td>2024-06-02</td>\n      <td>2025-06-02</td>\n      <td>10</td>\n      <td>0.940248</td>\n      <td>0.937963</td>\n      <td>...</td>\n      <td>0.744094</td>\n      <td>100.0</td>\n      <td>0.011891</td>\n      <td>78.98</td>\n      <td>831.10</td>\n      <td>804.69</td>\n      <td>34.46</td>\n      <td>20.60</td>\n      <td>2030-03-31</td>\n      <td>22.99</td>\n    </tr>\n    <tr>\n      <th>19</th>\n      <td>0.4.0+38.ga27a550.dirty</td>\n      <td>a27a55061c420bd61f65a5428e4502998b3263ae</td>\n      <td>2020-11-13 12:07:13.806650</td>\n      <td>policy-1</td>\n      <td>base</td>\n      <td>2024-06-02</td>\n      <td>2025-06-02</td>\n      <td>10</td>\n      <td>0.935678</td>\n      <td>0.932950</td>\n      <td>...</td>\n      <td>0.744094</td>\n      <td>100.0</td>\n      <td>0.011891</td>\n      <td>78.98</td>\n      <td>775.15</td>\n      <td>759.36</td>\n      <td>20.60</td>\n      <td>7.06</td>\n      <td>2031-03-31</td>\n      <td>9.39</td>\n    </tr>\n    <tr>\n      <th>20</th>\n      <td>0.4.0+38.ga27a550.dirty</td>\n      <td>a27a55061c420bd61f65a5428e4502998b3263ae</td>\n      <td>2020-11-13 12:07:13.806650</td>\n      <td>policy-1</td>\n      <td>base</td>\n      <td>2025-06-02</td>\n      <td>2026-06-02</td>\n      <td>11</td>\n      <td>0.930223</td>\n      <td>0.927730</td>\n      <td>...</td>\n      <td>0.722421</td>\n      <td>100.0</td>\n      <td>0.012832</td>\n      <td>80.46</td>\n      <td>719.51</td>\n      <td>714.26</td>\n      <td>7.06</td>\n      <td>0.00</td>\n      <td>2032-03-31</td>\n      <td>1.22</td>\n    </tr>\n    <tr>\n      <th>21</th>\n      <td>0.4.0+38.ga27a550.dirty</td>\n      <td>a27a55061c420bd61f65a5428e4502998b3263ae</td>\n      <td>2020-11-13 12:07:13.806650</td>\n      <td>policy-1</td>\n      <td>base</td>\n      <td>2025-06-02</td>\n      <td>2026-06-02</td>\n      <td>11</td>\n      <td>0.925237</td>\n      <td>0.922221</td>\n      <td>...</td>\n      <td>0.722421</td>\n      <td>100.0</td>\n      <td>0.012832</td>\n      <td>80.46</td>\n      <td>664.78</td>\n      <td>670.72</td>\n      <td>0.00</td>\n      <td>0.00</td>\n      <td>2033-03-31</td>\n      <td>0.00</td>\n    </tr>\n    <tr>\n      <th>22</th>\n      <td>0.4.0+38.ga27a550.dirty</td>\n      <td>a27a55061c420bd61f65a5428e4502998b3263ae</td>\n      <td>2020-11-13 12:07:13.806650</td>\n      <td>policy-1</td>\n      <td>base</td>\n      <td>2026-06-02</td>\n      <td>2027-06-02</td>\n      <td>12</td>\n      <td>0.919204</td>\n      <td>0.916488</td>\n      <td>...</td>\n      <td>0.701380</td>\n      <td>100.0</td>\n      <td>0.013837</td>\n      <td>81.02</td>\n      <td>610.38</td>\n      <td>627.42</td>\n      <td>0.00</td>\n      <td>0.00</td>\n      <td>2034-03-31</td>\n      <td>0.00</td>\n    </tr>\n    <tr>\n      <th>23</th>\n      <td>0.4.0+38.ga27a550.dirty</td>\n      <td>a27a55061c420bd61f65a5428e4502998b3263ae</td>\n      <td>2020-11-13 12:07:13.806650</td>\n      <td>policy-1</td>\n      <td>base</td>\n      <td>2026-06-02</td>\n      <td>2027-06-02</td>\n      <td>12</td>\n      <td>0.913772</td>\n      <td>0.910455</td>\n      <td>...</td>\n      <td>0.701380</td>\n      <td>100.0</td>\n      <td>0.013837</td>\n      <td>81.02</td>\n      <td>557.52</td>\n      <td>585.65</td>\n      <td>0.00</td>\n      <td>0.00</td>\n      <td>2035-03-31</td>\n      <td>0.00</td>\n    </tr>\n    <tr>\n      <th>24</th>\n      <td>0.4.0+38.ga27a550.dirty</td>\n      <td>a27a55061c420bd61f65a5428e4502998b3263ae</td>\n      <td>2020-11-13 12:07:13.806650</td>\n      <td>policy-1</td>\n      <td>base</td>\n      <td>2027-06-02</td>\n      <td>2028-06-02</td>\n      <td>13</td>\n      <td>0.907138</td>\n      <td>0.904203</td>\n      <td>...</td>\n      <td>0.680951</td>\n      <td>100.0</td>\n      <td>0.014907</td>\n      <td>80.41</td>\n      <td>505.01</td>\n      <td>544.13</td>\n      <td>0.00</td>\n      <td>0.00</td>\n      <td>2036-03-31</td>\n      <td>0.00</td>\n    </tr>\n    <tr>\n      <th>25</th>\n      <td>0.4.0+38.ga27a550.dirty</td>\n      <td>a27a55061c420bd61f65a5428e4502998b3263ae</td>\n      <td>2020-11-13 12:07:13.806650</td>\n      <td>policy-1</td>\n      <td>base</td>\n      <td>2027-06-02</td>\n      <td>2028-06-02</td>\n      <td>13</td>\n      <td>0.901269</td>\n      <td>0.897686</td>\n      <td>...</td>\n      <td>0.680951</td>\n      <td>100.0</td>\n      <td>0.014907</td>\n      <td>80.41</td>\n      <td>454.77</td>\n      <td>504.11</td>\n      <td>0.00</td>\n      <td>0.00</td>\n      <td>2037-03-31</td>\n      <td>0.00</td>\n    </tr>\n    <tr>\n      <th>26</th>\n      <td>0.4.0+38.ga27a550.dirty</td>\n      <td>a27a55061c420bd61f65a5428e4502998b3263ae</td>\n      <td>2020-11-13 12:07:13.806650</td>\n      <td>policy-1</td>\n      <td>base</td>\n      <td>2028-06-02</td>\n      <td>2029-06-02</td>\n      <td>14</td>\n      <td>0.894104</td>\n      <td>0.890952</td>\n      <td>...</td>\n      <td>0.661118</td>\n      <td>100.0</td>\n      <td>0.016019</td>\n      <td>78.22</td>\n      <td>404.88</td>\n      <td>464.35</td>\n      <td>0.00</td>\n      <td>0.00</td>\n      <td>2038-03-31</td>\n      <td>0.00</td>\n    </tr>\n    <tr>\n      <th>27</th>\n      <td>0.4.0+38.ga27a550.dirty</td>\n      <td>a27a55061c420bd61f65a5428e4502998b3263ae</td>\n      <td>2020-11-13 12:07:13.806650</td>\n      <td>policy-1</td>\n      <td>base</td>\n      <td>2028-06-02</td>\n      <td>2029-06-02</td>\n      <td>14</td>\n      <td>0.887800</td>\n      <td>0.883969</td>\n      <td>...</td>\n      <td>0.661118</td>\n      <td>100.0</td>\n      <td>0.016019</td>\n      <td>78.22</td>\n      <td>358.12</td>\n      <td>426.05</td>\n      <td>0.00</td>\n      <td>0.00</td>\n      <td>2039-03-31</td>\n      <td>0.00</td>\n    </tr>\n    <tr>\n      <th>28</th>\n      <td>0.4.0+38.ga27a550.dirty</td>\n      <td>a27a55061c420bd61f65a5428e4502998b3263ae</td>\n      <td>2020-11-13 12:07:13.806650</td>\n      <td>policy-1</td>\n      <td>base</td>\n      <td>2029-06-02</td>\n      <td>2030-06-02</td>\n      <td>15</td>\n      <td>0.880139</td>\n      <td>0.876768</td>\n      <td>...</td>\n      <td>0.641862</td>\n      <td>100.0</td>\n      <td>0.017184</td>\n      <td>74.26</td>\n      <td>311.73</td>\n      <td>388.03</td>\n      <td>0.00</td>\n      <td>0.00</td>\n      <td>2040-03-31</td>\n      <td>0.00</td>\n    </tr>\n    <tr>\n      <th>29</th>\n      <td>0.4.0+38.ga27a550.dirty</td>\n      <td>a27a55061c420bd61f65a5428e4502998b3263ae</td>\n      <td>2020-11-13 12:07:13.806650</td>\n      <td>policy-1</td>\n      <td>base</td>\n      <td>2029-06-02</td>\n      <td>2030-06-02</td>\n      <td>15</td>\n      <td>0.873397</td>\n      <td>0.869283</td>\n      <td>...</td>\n      <td>0.641862</td>\n      <td>100.0</td>\n      <td>0.017184</td>\n      <td>74.26</td>\n      <td>269.32</td>\n      <td>351.43</td>\n      <td>0.00</td>\n      <td>0.00</td>\n      <td>2041-03-31</td>\n      <td>0.00</td>\n    </tr>\n    <tr>\n      <th>30</th>\n      <td>0.4.0+38.ga27a550.dirty</td>\n      <td>a27a55061c420bd61f65a5428e4502998b3263ae</td>\n      <td>2020-11-13 12:07:13.806650</td>\n      <td>policy-1</td>\n      <td>base</td>\n      <td>2030-06-02</td>\n      <td>2031-06-02</td>\n      <td>16</td>\n      <td>0.865169</td>\n      <td>0.861574</td>\n      <td>...</td>\n      <td>0.623167</td>\n      <td>100.0</td>\n      <td>0.018414</td>\n      <td>68.25</td>\n      <td>227.26</td>\n      <td>315.11</td>\n      <td>0.00</td>\n      <td>0.00</td>\n      <td>2042-03-31</td>\n      <td>0.00</td>\n    </tr>\n    <tr>\n      <th>31</th>\n      <td>0.4.0+38.ga27a550.dirty</td>\n      <td>a27a55061c420bd61f65a5428e4502998b3263ae</td>\n      <td>2020-11-13 12:07:13.806650</td>\n      <td>policy-1</td>\n      <td>base</td>\n      <td>2030-06-02</td>\n      <td>2031-06-02</td>\n      <td>16</td>\n      <td>0.857980</td>\n      <td>0.853518</td>\n      <td>...</td>\n      <td>0.623167</td>\n      <td>100.0</td>\n      <td>0.018414</td>\n      <td>68.25</td>\n      <td>190.07</td>\n      <td>280.18</td>\n      <td>0.00</td>\n      <td>0.00</td>\n      <td>2043-03-31</td>\n      <td>0.00</td>\n    </tr>\n    <tr>\n      <th>32</th>\n      <td>0.4.0+38.ga27a550.dirty</td>\n      <td>a27a55061c420bd61f65a5428e4502998b3263ae</td>\n      <td>2020-11-13 12:07:13.806650</td>\n      <td>policy-1</td>\n      <td>base</td>\n      <td>2031-06-02</td>\n      <td>2032-06-02</td>\n      <td>17</td>\n      <td>0.849057</td>\n      <td>0.845236</td>\n      <td>...</td>\n      <td>0.605016</td>\n      <td>100.0</td>\n      <td>0.019708</td>\n      <td>59.81</td>\n      <td>153.23</td>\n      <td>245.54</td>\n      <td>0.00</td>\n      <td>0.00</td>\n      <td>2044-03-31</td>\n      <td>0.00</td>\n    </tr>\n    <tr>\n      <th>33</th>\n      <td>0.4.0+38.ga27a550.dirty</td>\n      <td>a27a55061c420bd61f65a5428e4502998b3263ae</td>\n      <td>2020-11-13 12:07:13.806650</td>\n      <td>policy-1</td>\n      <td>base</td>\n      <td>2031-06-02</td>\n      <td>2032-06-02</td>\n      <td>17</td>\n      <td>0.841415</td>\n      <td>0.836539</td>\n      <td>...</td>\n      <td>0.605016</td>\n      <td>100.0</td>\n      <td>0.019708</td>\n      <td>59.81</td>\n      <td>122.19</td>\n      <td>212.26</td>\n      <td>0.00</td>\n      <td>0.00</td>\n      <td>2045-03-31</td>\n      <td>0.00</td>\n    </tr>\n    <tr>\n      <th>34</th>\n      <td>0.4.0+38.ga27a550.dirty</td>\n      <td>a27a55061c420bd61f65a5428e4502998b3263ae</td>\n      <td>2020-11-13 12:07:13.806650</td>\n      <td>policy-1</td>\n      <td>base</td>\n      <td>2032-06-02</td>\n      <td>2033-06-02</td>\n      <td>18</td>\n      <td>0.831663</td>\n      <td>0.827613</td>\n      <td>...</td>\n      <td>0.587395</td>\n      <td>100.0</td>\n      <td>0.021045</td>\n      <td>48.48</td>\n      <td>91.47</td>\n      <td>179.28</td>\n      <td>0.00</td>\n      <td>0.00</td>\n      <td>2046-03-31</td>\n      <td>0.00</td>\n    </tr>\n    <tr>\n      <th>35</th>\n      <td>0.4.0+38.ga27a550.dirty</td>\n      <td>a27a55061c420bd61f65a5428e4502998b3263ae</td>\n      <td>2020-11-13 12:07:13.806650</td>\n      <td>policy-1</td>\n      <td>base</td>\n      <td>2032-06-02</td>\n      <td>2033-06-02</td>\n      <td>18</td>\n      <td>0.823563</td>\n      <td>0.818218</td>\n      <td>...</td>\n      <td>0.587395</td>\n      <td>100.0</td>\n      <td>0.021045</td>\n      <td>48.48</td>\n      <td>67.55</td>\n      <td>147.63</td>\n      <td>0.00</td>\n      <td>0.00</td>\n      <td>2047-03-31</td>\n      <td>0.00</td>\n    </tr>\n    <tr>\n      <th>36</th>\n      <td>0.4.0+38.ga27a550.dirty</td>\n      <td>a27a55061c420bd61f65a5428e4502998b3263ae</td>\n      <td>2020-11-13 12:07:13.806650</td>\n      <td>policy-1</td>\n      <td>base</td>\n      <td>2033-06-02</td>\n      <td>2034-06-02</td>\n      <td>19</td>\n      <td>0.812873</td>\n      <td>0.808589</td>\n      <td>...</td>\n      <td>0.570286</td>\n      <td>100.0</td>\n      <td>0.022403</td>\n      <td>33.64</td>\n      <td>43.90</td>\n      <td>116.29</td>\n      <td>0.00</td>\n      <td>0.00</td>\n      <td>2048-03-31</td>\n      <td>0.00</td>\n    </tr>\n    <tr>\n      <th>37</th>\n      <td>0.4.0+38.ga27a550.dirty</td>\n      <td>a27a55061c420bd61f65a5428e4502998b3263ae</td>\n      <td>2020-11-13 12:07:13.806650</td>\n      <td>policy-1</td>\n      <td>base</td>\n      <td>2033-06-02</td>\n      <td>2034-06-02</td>\n      <td>19</td>\n      <td>0.804305</td>\n      <td>0.798486</td>\n      <td>...</td>\n      <td>0.570286</td>\n      <td>100.0</td>\n      <td>0.022403</td>\n      <td>33.64</td>\n      <td>28.16</td>\n      <td>86.26</td>\n      <td>0.00</td>\n      <td>0.00</td>\n      <td>2049-03-31</td>\n      <td>0.00</td>\n    </tr>\n    <tr>\n      <th>38</th>\n      <td>0.4.0+38.ga27a550.dirty</td>\n      <td>a27a55061c420bd61f65a5428e4502998b3263ae</td>\n      <td>2020-11-13 12:07:13.806650</td>\n      <td>policy-1</td>\n      <td>base</td>\n      <td>2034-06-02</td>\n      <td>2035-06-02</td>\n      <td>20</td>\n      <td>0.792667</td>\n      <td>0.788149</td>\n      <td>...</td>\n      <td>0.553676</td>\n      <td>100.0</td>\n      <td>0.023750</td>\n      <td>14.34</td>\n      <td>12.61</td>\n      <td>56.54</td>\n      <td>0.00</td>\n      <td>0.00</td>\n      <td>2050-03-31</td>\n      <td>0.00</td>\n    </tr>\n    <tr>\n      <th>39</th>\n      <td>0.4.0+38.ga27a550.dirty</td>\n      <td>a27a55061c420bd61f65a5428e4502998b3263ae</td>\n      <td>2020-11-13 12:07:13.806650</td>\n      <td>policy-1</td>\n      <td>base</td>\n      <td>2034-06-02</td>\n      <td>2035-06-02</td>\n      <td>20</td>\n      <td>0.783631</td>\n      <td>0.777346</td>\n      <td>...</td>\n      <td>0.553676</td>\n      <td>100.0</td>\n      <td>0.023750</td>\n      <td>14.34</td>\n      <td>6.26</td>\n      <td>28.11</td>\n      <td>0.00</td>\n      <td>0.00</td>\n      <td>2051-03-31</td>\n      <td>0.00</td>\n    </tr>\n  </tbody>\n</table>\n<p>32 rows × 23 columns</p>\n</div>"
     },
     "metadata": {},
     "execution_count": 5
    }
   ],
   "source": [
    "output"
   ]
  }
 ]
}