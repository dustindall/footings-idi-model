{
 "metadata": {
  "language_info": {
   "codemirror_mode": {
    "name": "ipython",
    "version": 3
   },
   "file_extension": ".py",
   "mimetype": "text/x-python",
   "name": "python",
   "nbconvert_exporter": "python",
   "pygments_lexer": "ipython3",
   "version": "3.7.7-final"
  },
  "orig_nbformat": 2,
  "kernelspec": {
   "name": "python3",
   "display_name": "Python 3"
  }
 },
 "nbformat": 4,
 "nbformat_minor": 2,
 "cells": [
  {
   "source": [
    "## DLR Stochastic"
   ],
   "cell_type": "markdown",
   "metadata": {}
  },
  {
   "source": [
    ".. autoclass:: footings_idi_model.policy_models.DLRStochasticPolicyModel"
   ],
   "cell_type": "markdown",
   "metadata": {}
  },
  {
   "source": [
    "**Usage**"
   ],
   "cell_type": "markdown",
   "metadata": {}
  },
  {
   "cell_type": "code",
   "execution_count": 1,
   "metadata": {},
   "outputs": [],
   "source": [
    "import pandas as pd\n",
    "from footings_idi_model.policy_models import DLRStochasticPolicyModel\n",
    "\n",
    "model = DLRStochasticPolicyModel(\n",
    "    n_simulations=10,\n",
    "    seed=42,\n",
    "    policy_id=\"policy-1\",\n",
    "    claim_id=\"claim-1\",\n",
    "    gender=\"M\",\n",
    "    birth_dt=pd.Timestamp(\"1970-03-26\"),\n",
    "    incurred_dt=pd.Timestamp(\"2015-06-02\"),\n",
    "    termination_dt=pd.Timestamp(\"2035-03-26\"),\n",
    "    elimination_period=90,\n",
    "    idi_contract=\"AS\",\n",
    "    idi_benefit_period=\"TO65\",\n",
    "    idi_diagnosis_grp=\"LOW\",\n",
    "    idi_occupation_class=\"M\",\n",
    "    cola_percent=0.0,\n",
    "    benefit_amount=200.0,\n",
    "    valuation_dt=pd.Timestamp(\"2020-03-31\"), \n",
    "    assumption_set=\"stat\",\n",
    ")"
   ]
  },
  {
   "source": [
    "model.audit(\"Audit-DLRStochasticPolicyModel.xlsx\")"
   ],
   "cell_type": "code",
   "metadata": {},
   "execution_count": 2,
   "outputs": []
  },
  {
   "source": [
    "Download audit file [Audit-DLRStochasticPolicyModel.xlsx](Audit-DLRStochasticPolicyModel.xlsx)."
   ],
   "cell_type": "markdown",
   "metadata": {}
  },
  {
   "cell_type": "code",
   "execution_count": 3,
   "metadata": {},
   "outputs": [],
   "source": [
    "output = model.run()"
   ]
  },
  {
   "cell_type": "code",
   "execution_count": 4,
   "metadata": {},
   "outputs": [
    {
     "output_type": "stream",
     "name": "stdout",
     "text": [
      "<class 'pandas.core.frame.DataFrame'>\nInt64Index: 1810 entries, 0 to 180\nData columns (total 14 columns):\n #   Column          Non-Null Count  Dtype         \n---  ------          --------------  -----         \n 0   MODEL_VERSION   1810 non-null   object        \n 1   LAST_COMMIT     1810 non-null   object        \n 2   RUN_DATE_TIME   1810 non-null   datetime64[ns]\n 3   POLICY_ID       1810 non-null   object        \n 4   RUN             1810 non-null   int64         \n 5   DATE_BD         1810 non-null   datetime64[ns]\n 6   DATE_ED         1810 non-null   datetime64[ns]\n 7   DURATION_YEAR   1810 non-null   Int64         \n 8   DURATION_MONTH  1810 non-null   Int64         \n 9   BENEFIT_AMOUNT  1810 non-null   float64       \n 10  CTR             1810 non-null   float64       \n 11  BENEFITS_PAID   1810 non-null   float64       \n 12  DISCOUNT_VD     1810 non-null   float64       \n 13  PVFB_VD         1810 non-null   float64       \ndtypes: Int64(2), datetime64[ns](3), float64(5), int64(1), object(3)\nmemory usage: 215.6+ KB\n"
     ]
    }
   ],
   "source": [
    "output.info()"
   ]
  },
  {
   "cell_type": "code",
   "execution_count": 5,
   "metadata": {},
   "outputs": [
    {
     "output_type": "execute_result",
     "data": {
      "text/plain": [
       "               MODEL_VERSION                               LAST_COMMIT  \\\n",
       "0    0.4.0+38.ga27a550.dirty  a27a55061c420bd61f65a5428e4502998b3263ae   \n",
       "1    0.4.0+38.ga27a550.dirty  a27a55061c420bd61f65a5428e4502998b3263ae   \n",
       "2    0.4.0+38.ga27a550.dirty  a27a55061c420bd61f65a5428e4502998b3263ae   \n",
       "3    0.4.0+38.ga27a550.dirty  a27a55061c420bd61f65a5428e4502998b3263ae   \n",
       "4    0.4.0+38.ga27a550.dirty  a27a55061c420bd61f65a5428e4502998b3263ae   \n",
       "..                       ...                                       ...   \n",
       "176  0.4.0+38.ga27a550.dirty  a27a55061c420bd61f65a5428e4502998b3263ae   \n",
       "177  0.4.0+38.ga27a550.dirty  a27a55061c420bd61f65a5428e4502998b3263ae   \n",
       "178  0.4.0+38.ga27a550.dirty  a27a55061c420bd61f65a5428e4502998b3263ae   \n",
       "179  0.4.0+38.ga27a550.dirty  a27a55061c420bd61f65a5428e4502998b3263ae   \n",
       "180  0.4.0+38.ga27a550.dirty  a27a55061c420bd61f65a5428e4502998b3263ae   \n",
       "\n",
       "                 RUN_DATE_TIME POLICY_ID  RUN    DATE_BD    DATE_ED  \\\n",
       "0   2020-11-13 12:08:05.315778  policy-1    1 2020-03-02 2020-04-02   \n",
       "1   2020-11-13 12:08:05.315778  policy-1    1 2020-04-02 2020-05-02   \n",
       "2   2020-11-13 12:08:05.315778  policy-1    1 2020-05-02 2020-06-02   \n",
       "3   2020-11-13 12:08:05.315778  policy-1    1 2020-06-02 2020-07-02   \n",
       "4   2020-11-13 12:08:05.315778  policy-1    1 2020-07-02 2020-08-02   \n",
       "..                         ...       ...  ...        ...        ...   \n",
       "176 2020-11-13 12:08:05.315778  policy-1   10 2034-11-02 2034-12-02   \n",
       "177 2020-11-13 12:08:05.315778  policy-1   10 2034-12-02 2035-01-02   \n",
       "178 2020-11-13 12:08:05.315778  policy-1   10 2035-01-02 2035-02-02   \n",
       "179 2020-11-13 12:08:05.315778  policy-1   10 2035-02-02 2035-03-02   \n",
       "180 2020-11-13 12:08:05.315778  policy-1   10 2035-03-02 2035-04-02   \n",
       "\n",
       "     DURATION_YEAR  DURATION_MONTH  BENEFIT_AMOUNT       CTR  BENEFITS_PAID  \\\n",
       "0                5              58           12.90  0.002619          12.90   \n",
       "1                5              59          200.00  0.002547         200.00   \n",
       "2                5              60          200.00  0.002547         200.00   \n",
       "3                6              61          200.00  0.002698         200.00   \n",
       "4                6              62          200.00  0.002698         200.00   \n",
       "..             ...             ...             ...       ...            ...   \n",
       "176             20             234          200.00  0.001494         200.00   \n",
       "177             20             235          200.00  0.001494         200.00   \n",
       "178             20             236          200.00  0.001494         200.00   \n",
       "179             20             237          200.00  0.001494         200.00   \n",
       "180             20             238          154.84  0.001494         154.84   \n",
       "\n",
       "     DISCOUNT_VD   PVFB_VD  \n",
       "0       0.999838  29022.09  \n",
       "1       0.997414  29009.19  \n",
       "2       0.994915  28809.71  \n",
       "3       0.992502  28610.72  \n",
       "4       0.990015  28412.22  \n",
       "..           ...       ...  \n",
       "176     0.648113    615.95  \n",
       "177     0.646489    486.33  \n",
       "178     0.644869    357.03  \n",
       "179     0.643409    228.06  \n",
       "180     0.641797     99.38  \n",
       "\n",
       "[1810 rows x 14 columns]"
      ],
      "text/html": "<div>\n<style scoped>\n    .dataframe tbody tr th:only-of-type {\n        vertical-align: middle;\n    }\n\n    .dataframe tbody tr th {\n        vertical-align: top;\n    }\n\n    .dataframe thead th {\n        text-align: right;\n    }\n</style>\n<table border=\"1\" class=\"dataframe\">\n  <thead>\n    <tr style=\"text-align: right;\">\n      <th></th>\n      <th>MODEL_VERSION</th>\n      <th>LAST_COMMIT</th>\n      <th>RUN_DATE_TIME</th>\n      <th>POLICY_ID</th>\n      <th>RUN</th>\n      <th>DATE_BD</th>\n      <th>DATE_ED</th>\n      <th>DURATION_YEAR</th>\n      <th>DURATION_MONTH</th>\n      <th>BENEFIT_AMOUNT</th>\n      <th>CTR</th>\n      <th>BENEFITS_PAID</th>\n      <th>DISCOUNT_VD</th>\n      <th>PVFB_VD</th>\n    </tr>\n  </thead>\n  <tbody>\n    <tr>\n      <th>0</th>\n      <td>0.4.0+38.ga27a550.dirty</td>\n      <td>a27a55061c420bd61f65a5428e4502998b3263ae</td>\n      <td>2020-11-13 12:08:05.315778</td>\n      <td>policy-1</td>\n      <td>1</td>\n      <td>2020-03-02</td>\n      <td>2020-04-02</td>\n      <td>5</td>\n      <td>58</td>\n      <td>12.90</td>\n      <td>0.002619</td>\n      <td>12.90</td>\n      <td>0.999838</td>\n      <td>29022.09</td>\n    </tr>\n    <tr>\n      <th>1</th>\n      <td>0.4.0+38.ga27a550.dirty</td>\n      <td>a27a55061c420bd61f65a5428e4502998b3263ae</td>\n      <td>2020-11-13 12:08:05.315778</td>\n      <td>policy-1</td>\n      <td>1</td>\n      <td>2020-04-02</td>\n      <td>2020-05-02</td>\n      <td>5</td>\n      <td>59</td>\n      <td>200.00</td>\n      <td>0.002547</td>\n      <td>200.00</td>\n      <td>0.997414</td>\n      <td>29009.19</td>\n    </tr>\n    <tr>\n      <th>2</th>\n      <td>0.4.0+38.ga27a550.dirty</td>\n      <td>a27a55061c420bd61f65a5428e4502998b3263ae</td>\n      <td>2020-11-13 12:08:05.315778</td>\n      <td>policy-1</td>\n      <td>1</td>\n      <td>2020-05-02</td>\n      <td>2020-06-02</td>\n      <td>5</td>\n      <td>60</td>\n      <td>200.00</td>\n      <td>0.002547</td>\n      <td>200.00</td>\n      <td>0.994915</td>\n      <td>28809.71</td>\n    </tr>\n    <tr>\n      <th>3</th>\n      <td>0.4.0+38.ga27a550.dirty</td>\n      <td>a27a55061c420bd61f65a5428e4502998b3263ae</td>\n      <td>2020-11-13 12:08:05.315778</td>\n      <td>policy-1</td>\n      <td>1</td>\n      <td>2020-06-02</td>\n      <td>2020-07-02</td>\n      <td>6</td>\n      <td>61</td>\n      <td>200.00</td>\n      <td>0.002698</td>\n      <td>200.00</td>\n      <td>0.992502</td>\n      <td>28610.72</td>\n    </tr>\n    <tr>\n      <th>4</th>\n      <td>0.4.0+38.ga27a550.dirty</td>\n      <td>a27a55061c420bd61f65a5428e4502998b3263ae</td>\n      <td>2020-11-13 12:08:05.315778</td>\n      <td>policy-1</td>\n      <td>1</td>\n      <td>2020-07-02</td>\n      <td>2020-08-02</td>\n      <td>6</td>\n      <td>62</td>\n      <td>200.00</td>\n      <td>0.002698</td>\n      <td>200.00</td>\n      <td>0.990015</td>\n      <td>28412.22</td>\n    </tr>\n    <tr>\n      <th>...</th>\n      <td>...</td>\n      <td>...</td>\n      <td>...</td>\n      <td>...</td>\n      <td>...</td>\n      <td>...</td>\n      <td>...</td>\n      <td>...</td>\n      <td>...</td>\n      <td>...</td>\n      <td>...</td>\n      <td>...</td>\n      <td>...</td>\n      <td>...</td>\n    </tr>\n    <tr>\n      <th>176</th>\n      <td>0.4.0+38.ga27a550.dirty</td>\n      <td>a27a55061c420bd61f65a5428e4502998b3263ae</td>\n      <td>2020-11-13 12:08:05.315778</td>\n      <td>policy-1</td>\n      <td>10</td>\n      <td>2034-11-02</td>\n      <td>2034-12-02</td>\n      <td>20</td>\n      <td>234</td>\n      <td>200.00</td>\n      <td>0.001494</td>\n      <td>200.00</td>\n      <td>0.648113</td>\n      <td>615.95</td>\n    </tr>\n    <tr>\n      <th>177</th>\n      <td>0.4.0+38.ga27a550.dirty</td>\n      <td>a27a55061c420bd61f65a5428e4502998b3263ae</td>\n      <td>2020-11-13 12:08:05.315778</td>\n      <td>policy-1</td>\n      <td>10</td>\n      <td>2034-12-02</td>\n      <td>2035-01-02</td>\n      <td>20</td>\n      <td>235</td>\n      <td>200.00</td>\n      <td>0.001494</td>\n      <td>200.00</td>\n      <td>0.646489</td>\n      <td>486.33</td>\n    </tr>\n    <tr>\n      <th>178</th>\n      <td>0.4.0+38.ga27a550.dirty</td>\n      <td>a27a55061c420bd61f65a5428e4502998b3263ae</td>\n      <td>2020-11-13 12:08:05.315778</td>\n      <td>policy-1</td>\n      <td>10</td>\n      <td>2035-01-02</td>\n      <td>2035-02-02</td>\n      <td>20</td>\n      <td>236</td>\n      <td>200.00</td>\n      <td>0.001494</td>\n      <td>200.00</td>\n      <td>0.644869</td>\n      <td>357.03</td>\n    </tr>\n    <tr>\n      <th>179</th>\n      <td>0.4.0+38.ga27a550.dirty</td>\n      <td>a27a55061c420bd61f65a5428e4502998b3263ae</td>\n      <td>2020-11-13 12:08:05.315778</td>\n      <td>policy-1</td>\n      <td>10</td>\n      <td>2035-02-02</td>\n      <td>2035-03-02</td>\n      <td>20</td>\n      <td>237</td>\n      <td>200.00</td>\n      <td>0.001494</td>\n      <td>200.00</td>\n      <td>0.643409</td>\n      <td>228.06</td>\n    </tr>\n    <tr>\n      <th>180</th>\n      <td>0.4.0+38.ga27a550.dirty</td>\n      <td>a27a55061c420bd61f65a5428e4502998b3263ae</td>\n      <td>2020-11-13 12:08:05.315778</td>\n      <td>policy-1</td>\n      <td>10</td>\n      <td>2035-03-02</td>\n      <td>2035-04-02</td>\n      <td>20</td>\n      <td>238</td>\n      <td>154.84</td>\n      <td>0.001494</td>\n      <td>154.84</td>\n      <td>0.641797</td>\n      <td>99.38</td>\n    </tr>\n  </tbody>\n</table>\n<p>1810 rows × 14 columns</p>\n</div>"
     },
     "metadata": {},
     "execution_count": 5
    }
   ],
   "source": [
    "output"
   ]
  }
 ]
}