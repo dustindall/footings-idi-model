{
 "metadata": {
  "language_info": {
   "codemirror_mode": {
    "name": "ipython",
    "version": 3
   },
   "file_extension": ".py",
   "mimetype": "text/x-python",
   "name": "python",
   "nbconvert_exporter": "python",
   "pygments_lexer": "ipython3",
   "version": "3.7.7-final"
  },
  "orig_nbformat": 2,
  "kernelspec": {
   "name": "python3",
   "display_name": "Python 3"
  }
 },
 "nbformat": 4,
 "nbformat_minor": 2,
 "cells": [
  {
   "source": [
    "## Active Lives Deterministic"
   ],
   "cell_type": "markdown",
   "metadata": {}
  },
  {
   "source": [
    ".. autoclass:: footings_idi_model.population_models.ActiveLivesDeterministicModel"
   ],
   "cell_type": "markdown",
   "metadata": {}
  },
  {
   "source": [
    "**Usage**"
   ],
   "cell_type": "markdown",
   "metadata": {}
  },
  {
   "cell_type": "code",
   "execution_count": 6,
   "metadata": {},
   "outputs": [],
   "source": [
    "import pandas as pd\n",
    "from footings_idi_model.population_models import ActiveLivesDeterministicModel\n",
    "\n",
    "base_extract = pd.read_csv(\"active-lives-sample-base.csv\")\n",
    "rider_extract = pd.read_csv(\"active-lives-sample-riders.csv\")"
   ]
  },
  {
   "cell_type": "code",
   "execution_count": 7,
   "metadata": {},
   "outputs": [
    {
     "output_type": "execute_result",
     "data": {
      "text/plain": [
       "  POLICY_ID    BIRTH_DT GENDER TOBACCO_USAGE COVERAGE_ID POLICY_START_DT  \\\n",
       "0        M1  1978-08-01      F             N        base      2018-03-06   \n",
       "1        M1  1978-08-01      F             N         rop      2018-03-06   \n",
       "2        M2  1967-11-03      M             N        base      2018-01-19   \n",
       "3        M3  1982-06-17      M             N        base      2007-06-19   \n",
       "4        M3  1982-06-17      M             N         rop      2007-06-19   \n",
       "5        M4  1974-03-08      F             Y        base      2009-10-06   \n",
       "6        M4  1974-03-08      F             Y         rop      2009-10-06   \n",
       "7        M5  1972-12-10      F             Y        base      2003-01-29   \n",
       "8        M5  1972-12-10      F             Y         rop      2003-01-29   \n",
       "\n",
       "  PREMIUM_PAY_TO_DT BENEFIT_END_ID POLICY_END_DT  ELIMINATION_PERIOD  \\\n",
       "0        2048-07-31  POLICY_END_DT    2048-07-31                 360   \n",
       "1        2048-07-31  POLICY_END_DT    2048-07-31                 360   \n",
       "2        2032-11-02  POLICY_END_DT    2032-11-02                  14   \n",
       "3        2047-06-16  POLICY_END_DT    2047-06-16                 180   \n",
       "4        2047-06-16  POLICY_END_DT    2047-06-16                 180   \n",
       "5        2041-03-07  POLICY_END_DT    2041-03-07                  90   \n",
       "6        2041-03-07  POLICY_END_DT    2041-03-07                  90   \n",
       "7        2037-12-09  POLICY_END_DT    2037-12-09                  90   \n",
       "8        2037-12-09  POLICY_END_DT    2037-12-09                  90   \n",
       "\n",
       "   GROSS_PREMIUM  BENEFIT_AMOUNT IDI_OCCUPATION_CLASS IDI_CONTRACT  \\\n",
       "0          150.0           100.0                    M           AS   \n",
       "1          150.0           100.0                    M           AS   \n",
       "2          150.0           100.0                    4           AS   \n",
       "3          150.0           100.0                    M           AS   \n",
       "4          150.0           100.0                    M           AS   \n",
       "5          150.0           100.0                    1           AS   \n",
       "6          150.0           100.0                    1           AS   \n",
       "7          150.0           100.0                    2           AO   \n",
       "8          150.0           100.0                    2           AO   \n",
       "\n",
       "  IDI_BENEFIT_PERIOD IDI_MARKET  COLA_PERCENT  \n",
       "0               TO70       INDV          0.02  \n",
       "1               TO70       INDV          0.02  \n",
       "2                18M       INDV          0.00  \n",
       "3               TO65       INDV          0.03  \n",
       "4               TO65       INDV          0.03  \n",
       "5               TO67       INDV          0.03  \n",
       "6               TO67       INDV          0.03  \n",
       "7               TO65       INDV          0.03  \n",
       "8               TO65       INDV          0.03  "
      ],
      "text/html": "<div>\n<style scoped>\n    .dataframe tbody tr th:only-of-type {\n        vertical-align: middle;\n    }\n\n    .dataframe tbody tr th {\n        vertical-align: top;\n    }\n\n    .dataframe thead th {\n        text-align: right;\n    }\n</style>\n<table border=\"1\" class=\"dataframe\">\n  <thead>\n    <tr style=\"text-align: right;\">\n      <th></th>\n      <th>POLICY_ID</th>\n      <th>BIRTH_DT</th>\n      <th>GENDER</th>\n      <th>TOBACCO_USAGE</th>\n      <th>COVERAGE_ID</th>\n      <th>POLICY_START_DT</th>\n      <th>PREMIUM_PAY_TO_DT</th>\n      <th>BENEFIT_END_ID</th>\n      <th>POLICY_END_DT</th>\n      <th>ELIMINATION_PERIOD</th>\n      <th>GROSS_PREMIUM</th>\n      <th>BENEFIT_AMOUNT</th>\n      <th>IDI_OCCUPATION_CLASS</th>\n      <th>IDI_CONTRACT</th>\n      <th>IDI_BENEFIT_PERIOD</th>\n      <th>IDI_MARKET</th>\n      <th>COLA_PERCENT</th>\n    </tr>\n  </thead>\n  <tbody>\n    <tr>\n      <th>0</th>\n      <td>M1</td>\n      <td>1978-08-01</td>\n      <td>F</td>\n      <td>N</td>\n      <td>base</td>\n      <td>2018-03-06</td>\n      <td>2048-07-31</td>\n      <td>POLICY_END_DT</td>\n      <td>2048-07-31</td>\n      <td>360</td>\n      <td>150.0</td>\n      <td>100.0</td>\n      <td>M</td>\n      <td>AS</td>\n      <td>TO70</td>\n      <td>INDV</td>\n      <td>0.02</td>\n    </tr>\n    <tr>\n      <th>1</th>\n      <td>M1</td>\n      <td>1978-08-01</td>\n      <td>F</td>\n      <td>N</td>\n      <td>rop</td>\n      <td>2018-03-06</td>\n      <td>2048-07-31</td>\n      <td>POLICY_END_DT</td>\n      <td>2048-07-31</td>\n      <td>360</td>\n      <td>150.0</td>\n      <td>100.0</td>\n      <td>M</td>\n      <td>AS</td>\n      <td>TO70</td>\n      <td>INDV</td>\n      <td>0.02</td>\n    </tr>\n    <tr>\n      <th>2</th>\n      <td>M2</td>\n      <td>1967-11-03</td>\n      <td>M</td>\n      <td>N</td>\n      <td>base</td>\n      <td>2018-01-19</td>\n      <td>2032-11-02</td>\n      <td>POLICY_END_DT</td>\n      <td>2032-11-02</td>\n      <td>14</td>\n      <td>150.0</td>\n      <td>100.0</td>\n      <td>4</td>\n      <td>AS</td>\n      <td>18M</td>\n      <td>INDV</td>\n      <td>0.00</td>\n    </tr>\n    <tr>\n      <th>3</th>\n      <td>M3</td>\n      <td>1982-06-17</td>\n      <td>M</td>\n      <td>N</td>\n      <td>base</td>\n      <td>2007-06-19</td>\n      <td>2047-06-16</td>\n      <td>POLICY_END_DT</td>\n      <td>2047-06-16</td>\n      <td>180</td>\n      <td>150.0</td>\n      <td>100.0</td>\n      <td>M</td>\n      <td>AS</td>\n      <td>TO65</td>\n      <td>INDV</td>\n      <td>0.03</td>\n    </tr>\n    <tr>\n      <th>4</th>\n      <td>M3</td>\n      <td>1982-06-17</td>\n      <td>M</td>\n      <td>N</td>\n      <td>rop</td>\n      <td>2007-06-19</td>\n      <td>2047-06-16</td>\n      <td>POLICY_END_DT</td>\n      <td>2047-06-16</td>\n      <td>180</td>\n      <td>150.0</td>\n      <td>100.0</td>\n      <td>M</td>\n      <td>AS</td>\n      <td>TO65</td>\n      <td>INDV</td>\n      <td>0.03</td>\n    </tr>\n    <tr>\n      <th>5</th>\n      <td>M4</td>\n      <td>1974-03-08</td>\n      <td>F</td>\n      <td>Y</td>\n      <td>base</td>\n      <td>2009-10-06</td>\n      <td>2041-03-07</td>\n      <td>POLICY_END_DT</td>\n      <td>2041-03-07</td>\n      <td>90</td>\n      <td>150.0</td>\n      <td>100.0</td>\n      <td>1</td>\n      <td>AS</td>\n      <td>TO67</td>\n      <td>INDV</td>\n      <td>0.03</td>\n    </tr>\n    <tr>\n      <th>6</th>\n      <td>M4</td>\n      <td>1974-03-08</td>\n      <td>F</td>\n      <td>Y</td>\n      <td>rop</td>\n      <td>2009-10-06</td>\n      <td>2041-03-07</td>\n      <td>POLICY_END_DT</td>\n      <td>2041-03-07</td>\n      <td>90</td>\n      <td>150.0</td>\n      <td>100.0</td>\n      <td>1</td>\n      <td>AS</td>\n      <td>TO67</td>\n      <td>INDV</td>\n      <td>0.03</td>\n    </tr>\n    <tr>\n      <th>7</th>\n      <td>M5</td>\n      <td>1972-12-10</td>\n      <td>F</td>\n      <td>Y</td>\n      <td>base</td>\n      <td>2003-01-29</td>\n      <td>2037-12-09</td>\n      <td>POLICY_END_DT</td>\n      <td>2037-12-09</td>\n      <td>90</td>\n      <td>150.0</td>\n      <td>100.0</td>\n      <td>2</td>\n      <td>AO</td>\n      <td>TO65</td>\n      <td>INDV</td>\n      <td>0.03</td>\n    </tr>\n    <tr>\n      <th>8</th>\n      <td>M5</td>\n      <td>1972-12-10</td>\n      <td>F</td>\n      <td>Y</td>\n      <td>rop</td>\n      <td>2003-01-29</td>\n      <td>2037-12-09</td>\n      <td>POLICY_END_DT</td>\n      <td>2037-12-09</td>\n      <td>90</td>\n      <td>150.0</td>\n      <td>100.0</td>\n      <td>2</td>\n      <td>AO</td>\n      <td>TO65</td>\n      <td>INDV</td>\n      <td>0.03</td>\n    </tr>\n  </tbody>\n</table>\n</div>"
     },
     "metadata": {},
     "execution_count": 7
    }
   ],
   "source": [
    "base_extract"
   ]
  },
  {
   "cell_type": "code",
   "execution_count": 8,
   "metadata": {},
   "outputs": [
    {
     "output_type": "execute_result",
     "data": {
      "text/plain": [
       "   POLICY_ID COVERAGE_ID                   PARAMETER       VALUE\n",
       "0         M1         rop        ROP_RETURN_FREQUENCY          10\n",
       "1         M1         rop       ROP_RETURN_PERCENTAGE         0.8\n",
       "2         M1         rop             ROP_CLAIMS_PAID           0\n",
       "3         M1         rop  ROP_FUTURE_CLAIMS_START_DT  2020-03-31\n",
       "4         M3         rop        ROP_RETURN_FREQUENCY           7\n",
       "5         M3         rop       ROP_RETURN_PERCENTAGE         0.5\n",
       "6         M3         rop             ROP_CLAIMS_PAID           0\n",
       "7         M3         rop  ROP_FUTURE_CLAIMS_START_DT  2020-03-31\n",
       "8         M4         rop        ROP_RETURN_FREQUENCY          10\n",
       "9         M4         rop       ROP_RETURN_PERCENTAGE         0.5\n",
       "10        M4         rop             ROP_CLAIMS_PAID        1000\n",
       "11        M4         rop  ROP_FUTURE_CLAIMS_START_DT  2020-03-31\n",
       "12        M5         rop        ROP_RETURN_FREQUENCY           7\n",
       "13        M5         rop       ROP_RETURN_PERCENTAGE         0.8\n",
       "14        M5         rop             ROP_CLAIMS_PAID           0\n",
       "15        M5         rop  ROP_FUTURE_CLAIMS_START_DT  2020-03-31"
      ],
      "text/html": "<div>\n<style scoped>\n    .dataframe tbody tr th:only-of-type {\n        vertical-align: middle;\n    }\n\n    .dataframe tbody tr th {\n        vertical-align: top;\n    }\n\n    .dataframe thead th {\n        text-align: right;\n    }\n</style>\n<table border=\"1\" class=\"dataframe\">\n  <thead>\n    <tr style=\"text-align: right;\">\n      <th></th>\n      <th>POLICY_ID</th>\n      <th>COVERAGE_ID</th>\n      <th>PARAMETER</th>\n      <th>VALUE</th>\n    </tr>\n  </thead>\n  <tbody>\n    <tr>\n      <th>0</th>\n      <td>M1</td>\n      <td>rop</td>\n      <td>ROP_RETURN_FREQUENCY</td>\n      <td>10</td>\n    </tr>\n    <tr>\n      <th>1</th>\n      <td>M1</td>\n      <td>rop</td>\n      <td>ROP_RETURN_PERCENTAGE</td>\n      <td>0.8</td>\n    </tr>\n    <tr>\n      <th>2</th>\n      <td>M1</td>\n      <td>rop</td>\n      <td>ROP_CLAIMS_PAID</td>\n      <td>0</td>\n    </tr>\n    <tr>\n      <th>3</th>\n      <td>M1</td>\n      <td>rop</td>\n      <td>ROP_FUTURE_CLAIMS_START_DT</td>\n      <td>2020-03-31</td>\n    </tr>\n    <tr>\n      <th>4</th>\n      <td>M3</td>\n      <td>rop</td>\n      <td>ROP_RETURN_FREQUENCY</td>\n      <td>7</td>\n    </tr>\n    <tr>\n      <th>5</th>\n      <td>M3</td>\n      <td>rop</td>\n      <td>ROP_RETURN_PERCENTAGE</td>\n      <td>0.5</td>\n    </tr>\n    <tr>\n      <th>6</th>\n      <td>M3</td>\n      <td>rop</td>\n      <td>ROP_CLAIMS_PAID</td>\n      <td>0</td>\n    </tr>\n    <tr>\n      <th>7</th>\n      <td>M3</td>\n      <td>rop</td>\n      <td>ROP_FUTURE_CLAIMS_START_DT</td>\n      <td>2020-03-31</td>\n    </tr>\n    <tr>\n      <th>8</th>\n      <td>M4</td>\n      <td>rop</td>\n      <td>ROP_RETURN_FREQUENCY</td>\n      <td>10</td>\n    </tr>\n    <tr>\n      <th>9</th>\n      <td>M4</td>\n      <td>rop</td>\n      <td>ROP_RETURN_PERCENTAGE</td>\n      <td>0.5</td>\n    </tr>\n    <tr>\n      <th>10</th>\n      <td>M4</td>\n      <td>rop</td>\n      <td>ROP_CLAIMS_PAID</td>\n      <td>1000</td>\n    </tr>\n    <tr>\n      <th>11</th>\n      <td>M4</td>\n      <td>rop</td>\n      <td>ROP_FUTURE_CLAIMS_START_DT</td>\n      <td>2020-03-31</td>\n    </tr>\n    <tr>\n      <th>12</th>\n      <td>M5</td>\n      <td>rop</td>\n      <td>ROP_RETURN_FREQUENCY</td>\n      <td>7</td>\n    </tr>\n    <tr>\n      <th>13</th>\n      <td>M5</td>\n      <td>rop</td>\n      <td>ROP_RETURN_PERCENTAGE</td>\n      <td>0.8</td>\n    </tr>\n    <tr>\n      <th>14</th>\n      <td>M5</td>\n      <td>rop</td>\n      <td>ROP_CLAIMS_PAID</td>\n      <td>0</td>\n    </tr>\n    <tr>\n      <th>15</th>\n      <td>M5</td>\n      <td>rop</td>\n      <td>ROP_FUTURE_CLAIMS_START_DT</td>\n      <td>2020-03-31</td>\n    </tr>\n  </tbody>\n</table>\n</div>"
     },
     "metadata": {},
     "execution_count": 8
    }
   ],
   "source": [
    "rider_extract"
   ]
  },
  {
   "cell_type": "code",
   "execution_count": 9,
   "metadata": {},
   "outputs": [],
   "source": [
    "\n",
    "model = ActiveLivesDeterministicModel(\n",
    "    base_extract=base_extract,\n",
    "    rider_extract=rider_extract, \n",
    "    valuation_dt=pd.Timestamp(\"2020-03-31\"),\n",
    "    withdraw_table=\"01CSO\",\n",
    "    assumption_set=\"stat\",\n",
    "    net_benefit_method=\"NLP\",\n",
    ")"
   ]
  },
  {
   "source": [
    "model.audit(\"Audit-ActiveLivesDeterministicModel.xlsx\")"
   ],
   "cell_type": "code",
   "metadata": {},
   "execution_count": 10,
   "outputs": []
  },
  {
   "source": [
    "Download audit file [Audit-ActiveLivesDeterministicModel.xlsx](Audit-ActiveLivesDeterministicModel.xlsx)."
   ],
   "cell_type": "markdown",
   "metadata": {}
  },
  {
   "cell_type": "code",
   "execution_count": 11,
   "metadata": {},
   "outputs": [],
   "source": [
    "errors, projected, time0 = model.run()"
   ]
  },
  {
   "cell_type": "code",
   "execution_count": 12,
   "metadata": {},
   "outputs": [
    {
     "output_type": "stream",
     "name": "stdout",
     "text": [
      "<class 'pandas.core.frame.DataFrame'>\nIndex: 0 entries\nData columns (total 23 columns):\n #   Column                Non-Null Count  Dtype \n---  ------                --------------  ----- \n 0   MODEL_VERSION         0 non-null      object\n 1   LAST_COMMIT           0 non-null      object\n 2   RUN_DATE_TIME         0 non-null      object\n 3   POLICY_ID             0 non-null      object\n 4   COVERAGE_ID           0 non-null      object\n 5   DATE_BD               0 non-null      object\n 6   DATE_ED               0 non-null      object\n 7   DURATION_YEAR         0 non-null      object\n 8   LIVES_BD              0 non-null      object\n 9   LIVES_MD              0 non-null      object\n 10  LIVES_ED              0 non-null      object\n 11  DISCOUNT_BD           0 non-null      object\n 12  DISCOUNT_MD           0 non-null      object\n 13  DISCOUNT_ED           0 non-null      object\n 14  BENEFIT_AMOUNT        0 non-null      object\n 15  FINAL_INCIDENCE_RATE  0 non-null      object\n 16  BENEFIT_COST          0 non-null      object\n 17  PVFB                  0 non-null      object\n 18  PVFNB                 0 non-null      object\n 19  ALR_BD                0 non-null      object\n 20  ALR_ED                0 non-null      object\n 21  DATE_ALR              0 non-null      object\n 22  ALR                   0 non-null      object\ndtypes: object(23)\nmemory usage: 0.0+ bytes\n"
     ]
    }
   ],
   "source": [
    "projected.info()"
   ]
  },
  {
   "cell_type": "code",
   "execution_count": 13,
   "metadata": {},
   "outputs": [
    {
     "output_type": "execute_result",
     "data": {
      "text/plain": [
       "Empty DataFrame\n",
       "Columns: [MODEL_VERSION, LAST_COMMIT, RUN_DATE_TIME, POLICY_ID, COVERAGE_ID, DATE_BD, DATE_ED, DURATION_YEAR, LIVES_BD, LIVES_MD, LIVES_ED, DISCOUNT_BD, DISCOUNT_MD, DISCOUNT_ED, BENEFIT_AMOUNT, FINAL_INCIDENCE_RATE, BENEFIT_COST, PVFB, PVFNB, ALR_BD, ALR_ED, DATE_ALR, ALR]\n",
       "Index: []\n",
       "\n",
       "[0 rows x 23 columns]"
      ],
      "text/html": "<div>\n<style scoped>\n    .dataframe tbody tr th:only-of-type {\n        vertical-align: middle;\n    }\n\n    .dataframe tbody tr th {\n        vertical-align: top;\n    }\n\n    .dataframe thead th {\n        text-align: right;\n    }\n</style>\n<table border=\"1\" class=\"dataframe\">\n  <thead>\n    <tr style=\"text-align: right;\">\n      <th></th>\n      <th>MODEL_VERSION</th>\n      <th>LAST_COMMIT</th>\n      <th>RUN_DATE_TIME</th>\n      <th>POLICY_ID</th>\n      <th>COVERAGE_ID</th>\n      <th>DATE_BD</th>\n      <th>DATE_ED</th>\n      <th>DURATION_YEAR</th>\n      <th>LIVES_BD</th>\n      <th>LIVES_MD</th>\n      <th>...</th>\n      <th>DISCOUNT_ED</th>\n      <th>BENEFIT_AMOUNT</th>\n      <th>FINAL_INCIDENCE_RATE</th>\n      <th>BENEFIT_COST</th>\n      <th>PVFB</th>\n      <th>PVFNB</th>\n      <th>ALR_BD</th>\n      <th>ALR_ED</th>\n      <th>DATE_ALR</th>\n      <th>ALR</th>\n    </tr>\n  </thead>\n  <tbody>\n  </tbody>\n</table>\n<p>0 rows × 23 columns</p>\n</div>"
     },
     "metadata": {},
     "execution_count": 13
    }
   ],
   "source": [
    "projected"
   ]
  },
  {
   "cell_type": "code",
   "execution_count": 14,
   "metadata": {},
   "outputs": [
    {
     "output_type": "execute_result",
     "data": {
      "text/plain": [
       "Empty DataFrame\n",
       "Columns: [MODEL_VERSION, LAST_COMMIT, RUN_DATE_TIME, POLICY_ID, COVERAGE_ID, DATE_BD, DATE_ED, DURATION_YEAR, LIVES_BD, LIVES_MD, LIVES_ED, DISCOUNT_BD, DISCOUNT_MD, DISCOUNT_ED, BENEFIT_AMOUNT, FINAL_INCIDENCE_RATE, BENEFIT_COST, PVFB, PVFNB, ALR_BD, ALR_ED, DATE_ALR, ALR]\n",
       "Index: []\n",
       "\n",
       "[0 rows x 23 columns]"
      ],
      "text/html": "<div>\n<style scoped>\n    .dataframe tbody tr th:only-of-type {\n        vertical-align: middle;\n    }\n\n    .dataframe tbody tr th {\n        vertical-align: top;\n    }\n\n    .dataframe thead th {\n        text-align: right;\n    }\n</style>\n<table border=\"1\" class=\"dataframe\">\n  <thead>\n    <tr style=\"text-align: right;\">\n      <th></th>\n      <th>MODEL_VERSION</th>\n      <th>LAST_COMMIT</th>\n      <th>RUN_DATE_TIME</th>\n      <th>POLICY_ID</th>\n      <th>COVERAGE_ID</th>\n      <th>DATE_BD</th>\n      <th>DATE_ED</th>\n      <th>DURATION_YEAR</th>\n      <th>LIVES_BD</th>\n      <th>LIVES_MD</th>\n      <th>...</th>\n      <th>DISCOUNT_ED</th>\n      <th>BENEFIT_AMOUNT</th>\n      <th>FINAL_INCIDENCE_RATE</th>\n      <th>BENEFIT_COST</th>\n      <th>PVFB</th>\n      <th>PVFNB</th>\n      <th>ALR_BD</th>\n      <th>ALR_ED</th>\n      <th>DATE_ALR</th>\n      <th>ALR</th>\n    </tr>\n  </thead>\n  <tbody>\n  </tbody>\n</table>\n<p>0 rows × 23 columns</p>\n</div>"
     },
     "metadata": {},
     "execution_count": 14
    }
   ],
   "source": [
    "time0"
   ]
  },
  {
   "cell_type": "code",
   "execution_count": 15,
   "metadata": {},
   "outputs": [
    {
     "output_type": "execute_result",
     "data": {
      "text/plain": [
       "[{'key': ['M1'],\n",
       "  'error_type': footings.core.model.ModelRunError,\n",
       "  'error_value': footings.core.model.ModelRunError('At step [_create_frame], an error occured.\\n  Error Type = AttributeError\\n  Error Message = \\'str\\' object has no attribute \\'year\\'\\n  Error Trace = [\\'  File \"/home/dustintindall/repos/footings/footings/src/footings/core/model.py\", line 42, in _run_step\\\\n    return getattr(self, step)()\\\\n\\', \\'  File \"/home/dustintindall/repos/footings/footings/src/footings/core/model.py\", line 131, in wrapper\\\\n    return method(*args, **kwargs)\\\\n\\', \\'  File \"/home/dustintindall/anaconda3/lib/python3.7/site-packages/footings_idi_model/policy_models/alr_deterministic.py\", line 161, in _create_frame\\\\n    create_frame(self.policy_start_dt, self.policy_end_dt, **fixed)\\\\n\\', \\'  File \"/home/dustintindall/repos/footings/footings/src/footings/model_tools/frames.py\", line 262, in create_frame\\\\n    start_dt=start_dt, end_dt=end_dt, col_date_nm=col_date_nm, frequency=frequency\\\\n\\', \\'  File \"/home/dustintindall/repos/footings/footings/src/footings/core/utils.py\", line 110, in wrapper\\\\n    return registry_function(**kwargs)\\\\n\\', \\'  File \"/home/dustintindall/repos/footings/footings/src/footings/model_tools/frames.py\", line 29, in _\\\\n    periods = math.ceil(_month_diff(start_dt, end_dt) / 12) + 1\\\\n\\', \\'  File \"/home/dustintindall/repos/footings/footings/src/footings/model_tools/frames.py\", line 9, in _month_diff\\\\n    months = (end.year - start.year) * 12 + (end.month - start.month)\\\\n\\']\\n'),\n",
       "  'error_stacktrace': ['  File \"/home/dustintindall/repos/footings/footings/src/footings/model_tools/foreach.py\", line 20, in _run_model\\n    ret = model(**{k: v for k, v in kwargs.items() if k in parameters}).run()\\n',\n",
       "   '  File \"/home/dustintindall/repos/footings/footings/src/footings/core/model.py\", line 99, in run\\n    return _run(self, to_step=to_step)\\n',\n",
       "   '  File \"/home/dustintindall/repos/footings/footings/src/footings/core/model.py\", line 52, in _run\\n    _run_step(step)\\n',\n",
       "   '  File \"/home/dustintindall/repos/footings/footings/src/footings/core/model.py\", line 49, in _run_step\\n    raise ModelRunError(msg)\\n']},\n",
       " {'key': ['M1'],\n",
       "  'error_type': footings.core.model.ModelRunError,\n",
       "  'error_value': footings.core.model.ModelRunError('At step [_create_frame], an error occured.\\n  Error Type = AttributeError\\n  Error Message = \\'str\\' object has no attribute \\'year\\'\\n  Error Trace = [\\'  File \"/home/dustintindall/repos/footings/footings/src/footings/core/model.py\", line 42, in _run_step\\\\n    return getattr(self, step)()\\\\n\\', \\'  File \"/home/dustintindall/repos/footings/footings/src/footings/core/model.py\", line 131, in wrapper\\\\n    return method(*args, **kwargs)\\\\n\\', \\'  File \"/home/dustintindall/anaconda3/lib/python3.7/site-packages/footings_idi_model/policy_models/alr_deterministic.py\", line 161, in _create_frame\\\\n    create_frame(self.policy_start_dt, self.policy_end_dt, **fixed)\\\\n\\', \\'  File \"/home/dustintindall/repos/footings/footings/src/footings/model_tools/frames.py\", line 262, in create_frame\\\\n    start_dt=start_dt, end_dt=end_dt, col_date_nm=col_date_nm, frequency=frequency\\\\n\\', \\'  File \"/home/dustintindall/repos/footings/footings/src/footings/core/utils.py\", line 110, in wrapper\\\\n    return registry_function(**kwargs)\\\\n\\', \\'  File \"/home/dustintindall/repos/footings/footings/src/footings/model_tools/frames.py\", line 29, in _\\\\n    periods = math.ceil(_month_diff(start_dt, end_dt) / 12) + 1\\\\n\\', \\'  File \"/home/dustintindall/repos/footings/footings/src/footings/model_tools/frames.py\", line 9, in _month_diff\\\\n    months = (end.year - start.year) * 12 + (end.month - start.month)\\\\n\\']\\n'),\n",
       "  'error_stacktrace': ['  File \"/home/dustintindall/repos/footings/footings/src/footings/model_tools/foreach.py\", line 20, in _run_model\\n    ret = model(**{k: v for k, v in kwargs.items() if k in parameters}).run()\\n',\n",
       "   '  File \"/home/dustintindall/repos/footings/footings/src/footings/core/model.py\", line 99, in run\\n    return _run(self, to_step=to_step)\\n',\n",
       "   '  File \"/home/dustintindall/repos/footings/footings/src/footings/core/model.py\", line 52, in _run\\n    _run_step(step)\\n',\n",
       "   '  File \"/home/dustintindall/repos/footings/footings/src/footings/core/model.py\", line 49, in _run_step\\n    raise ModelRunError(msg)\\n']},\n",
       " {'key': ['M2'],\n",
       "  'error_type': footings.core.model.ModelRunError,\n",
       "  'error_value': footings.core.model.ModelRunError('At step [_create_frame], an error occured.\\n  Error Type = AttributeError\\n  Error Message = \\'str\\' object has no attribute \\'year\\'\\n  Error Trace = [\\'  File \"/home/dustintindall/repos/footings/footings/src/footings/core/model.py\", line 42, in _run_step\\\\n    return getattr(self, step)()\\\\n\\', \\'  File \"/home/dustintindall/repos/footings/footings/src/footings/core/model.py\", line 131, in wrapper\\\\n    return method(*args, **kwargs)\\\\n\\', \\'  File \"/home/dustintindall/anaconda3/lib/python3.7/site-packages/footings_idi_model/policy_models/alr_deterministic.py\", line 161, in _create_frame\\\\n    create_frame(self.policy_start_dt, self.policy_end_dt, **fixed)\\\\n\\', \\'  File \"/home/dustintindall/repos/footings/footings/src/footings/model_tools/frames.py\", line 262, in create_frame\\\\n    start_dt=start_dt, end_dt=end_dt, col_date_nm=col_date_nm, frequency=frequency\\\\n\\', \\'  File \"/home/dustintindall/repos/footings/footings/src/footings/core/utils.py\", line 110, in wrapper\\\\n    return registry_function(**kwargs)\\\\n\\', \\'  File \"/home/dustintindall/repos/footings/footings/src/footings/model_tools/frames.py\", line 29, in _\\\\n    periods = math.ceil(_month_diff(start_dt, end_dt) / 12) + 1\\\\n\\', \\'  File \"/home/dustintindall/repos/footings/footings/src/footings/model_tools/frames.py\", line 9, in _month_diff\\\\n    months = (end.year - start.year) * 12 + (end.month - start.month)\\\\n\\']\\n'),\n",
       "  'error_stacktrace': ['  File \"/home/dustintindall/repos/footings/footings/src/footings/model_tools/foreach.py\", line 20, in _run_model\\n    ret = model(**{k: v for k, v in kwargs.items() if k in parameters}).run()\\n',\n",
       "   '  File \"/home/dustintindall/repos/footings/footings/src/footings/core/model.py\", line 99, in run\\n    return _run(self, to_step=to_step)\\n',\n",
       "   '  File \"/home/dustintindall/repos/footings/footings/src/footings/core/model.py\", line 52, in _run\\n    _run_step(step)\\n',\n",
       "   '  File \"/home/dustintindall/repos/footings/footings/src/footings/core/model.py\", line 49, in _run_step\\n    raise ModelRunError(msg)\\n']},\n",
       " {'key': ['M3'],\n",
       "  'error_type': footings.core.model.ModelRunError,\n",
       "  'error_value': footings.core.model.ModelRunError('At step [_create_frame], an error occured.\\n  Error Type = AttributeError\\n  Error Message = \\'str\\' object has no attribute \\'year\\'\\n  Error Trace = [\\'  File \"/home/dustintindall/repos/footings/footings/src/footings/core/model.py\", line 42, in _run_step\\\\n    return getattr(self, step)()\\\\n\\', \\'  File \"/home/dustintindall/repos/footings/footings/src/footings/core/model.py\", line 131, in wrapper\\\\n    return method(*args, **kwargs)\\\\n\\', \\'  File \"/home/dustintindall/anaconda3/lib/python3.7/site-packages/footings_idi_model/policy_models/alr_deterministic.py\", line 161, in _create_frame\\\\n    create_frame(self.policy_start_dt, self.policy_end_dt, **fixed)\\\\n\\', \\'  File \"/home/dustintindall/repos/footings/footings/src/footings/model_tools/frames.py\", line 262, in create_frame\\\\n    start_dt=start_dt, end_dt=end_dt, col_date_nm=col_date_nm, frequency=frequency\\\\n\\', \\'  File \"/home/dustintindall/repos/footings/footings/src/footings/core/utils.py\", line 110, in wrapper\\\\n    return registry_function(**kwargs)\\\\n\\', \\'  File \"/home/dustintindall/repos/footings/footings/src/footings/model_tools/frames.py\", line 29, in _\\\\n    periods = math.ceil(_month_diff(start_dt, end_dt) / 12) + 1\\\\n\\', \\'  File \"/home/dustintindall/repos/footings/footings/src/footings/model_tools/frames.py\", line 9, in _month_diff\\\\n    months = (end.year - start.year) * 12 + (end.month - start.month)\\\\n\\']\\n'),\n",
       "  'error_stacktrace': ['  File \"/home/dustintindall/repos/footings/footings/src/footings/model_tools/foreach.py\", line 20, in _run_model\\n    ret = model(**{k: v for k, v in kwargs.items() if k in parameters}).run()\\n',\n",
       "   '  File \"/home/dustintindall/repos/footings/footings/src/footings/core/model.py\", line 99, in run\\n    return _run(self, to_step=to_step)\\n',\n",
       "   '  File \"/home/dustintindall/repos/footings/footings/src/footings/core/model.py\", line 52, in _run\\n    _run_step(step)\\n',\n",
       "   '  File \"/home/dustintindall/repos/footings/footings/src/footings/core/model.py\", line 49, in _run_step\\n    raise ModelRunError(msg)\\n']},\n",
       " {'key': ['M3'],\n",
       "  'error_type': footings.core.model.ModelRunError,\n",
       "  'error_value': footings.core.model.ModelRunError('At step [_create_frame], an error occured.\\n  Error Type = AttributeError\\n  Error Message = \\'str\\' object has no attribute \\'year\\'\\n  Error Trace = [\\'  File \"/home/dustintindall/repos/footings/footings/src/footings/core/model.py\", line 42, in _run_step\\\\n    return getattr(self, step)()\\\\n\\', \\'  File \"/home/dustintindall/repos/footings/footings/src/footings/core/model.py\", line 131, in wrapper\\\\n    return method(*args, **kwargs)\\\\n\\', \\'  File \"/home/dustintindall/anaconda3/lib/python3.7/site-packages/footings_idi_model/policy_models/alr_deterministic.py\", line 161, in _create_frame\\\\n    create_frame(self.policy_start_dt, self.policy_end_dt, **fixed)\\\\n\\', \\'  File \"/home/dustintindall/repos/footings/footings/src/footings/model_tools/frames.py\", line 262, in create_frame\\\\n    start_dt=start_dt, end_dt=end_dt, col_date_nm=col_date_nm, frequency=frequency\\\\n\\', \\'  File \"/home/dustintindall/repos/footings/footings/src/footings/core/utils.py\", line 110, in wrapper\\\\n    return registry_function(**kwargs)\\\\n\\', \\'  File \"/home/dustintindall/repos/footings/footings/src/footings/model_tools/frames.py\", line 29, in _\\\\n    periods = math.ceil(_month_diff(start_dt, end_dt) / 12) + 1\\\\n\\', \\'  File \"/home/dustintindall/repos/footings/footings/src/footings/model_tools/frames.py\", line 9, in _month_diff\\\\n    months = (end.year - start.year) * 12 + (end.month - start.month)\\\\n\\']\\n'),\n",
       "  'error_stacktrace': ['  File \"/home/dustintindall/repos/footings/footings/src/footings/model_tools/foreach.py\", line 20, in _run_model\\n    ret = model(**{k: v for k, v in kwargs.items() if k in parameters}).run()\\n',\n",
       "   '  File \"/home/dustintindall/repos/footings/footings/src/footings/core/model.py\", line 99, in run\\n    return _run(self, to_step=to_step)\\n',\n",
       "   '  File \"/home/dustintindall/repos/footings/footings/src/footings/core/model.py\", line 52, in _run\\n    _run_step(step)\\n',\n",
       "   '  File \"/home/dustintindall/repos/footings/footings/src/footings/core/model.py\", line 49, in _run_step\\n    raise ModelRunError(msg)\\n']},\n",
       " {'key': ['M4'],\n",
       "  'error_type': footings.core.model.ModelRunError,\n",
       "  'error_value': footings.core.model.ModelRunError('At step [_create_frame], an error occured.\\n  Error Type = AttributeError\\n  Error Message = \\'str\\' object has no attribute \\'year\\'\\n  Error Trace = [\\'  File \"/home/dustintindall/repos/footings/footings/src/footings/core/model.py\", line 42, in _run_step\\\\n    return getattr(self, step)()\\\\n\\', \\'  File \"/home/dustintindall/repos/footings/footings/src/footings/core/model.py\", line 131, in wrapper\\\\n    return method(*args, **kwargs)\\\\n\\', \\'  File \"/home/dustintindall/anaconda3/lib/python3.7/site-packages/footings_idi_model/policy_models/alr_deterministic.py\", line 161, in _create_frame\\\\n    create_frame(self.policy_start_dt, self.policy_end_dt, **fixed)\\\\n\\', \\'  File \"/home/dustintindall/repos/footings/footings/src/footings/model_tools/frames.py\", line 262, in create_frame\\\\n    start_dt=start_dt, end_dt=end_dt, col_date_nm=col_date_nm, frequency=frequency\\\\n\\', \\'  File \"/home/dustintindall/repos/footings/footings/src/footings/core/utils.py\", line 110, in wrapper\\\\n    return registry_function(**kwargs)\\\\n\\', \\'  File \"/home/dustintindall/repos/footings/footings/src/footings/model_tools/frames.py\", line 29, in _\\\\n    periods = math.ceil(_month_diff(start_dt, end_dt) / 12) + 1\\\\n\\', \\'  File \"/home/dustintindall/repos/footings/footings/src/footings/model_tools/frames.py\", line 9, in _month_diff\\\\n    months = (end.year - start.year) * 12 + (end.month - start.month)\\\\n\\']\\n'),\n",
       "  'error_stacktrace': ['  File \"/home/dustintindall/repos/footings/footings/src/footings/model_tools/foreach.py\", line 20, in _run_model\\n    ret = model(**{k: v for k, v in kwargs.items() if k in parameters}).run()\\n',\n",
       "   '  File \"/home/dustintindall/repos/footings/footings/src/footings/core/model.py\", line 99, in run\\n    return _run(self, to_step=to_step)\\n',\n",
       "   '  File \"/home/dustintindall/repos/footings/footings/src/footings/core/model.py\", line 52, in _run\\n    _run_step(step)\\n',\n",
       "   '  File \"/home/dustintindall/repos/footings/footings/src/footings/core/model.py\", line 49, in _run_step\\n    raise ModelRunError(msg)\\n']},\n",
       " {'key': ['M4'],\n",
       "  'error_type': footings.core.model.ModelRunError,\n",
       "  'error_value': footings.core.model.ModelRunError('At step [_create_frame], an error occured.\\n  Error Type = AttributeError\\n  Error Message = \\'str\\' object has no attribute \\'year\\'\\n  Error Trace = [\\'  File \"/home/dustintindall/repos/footings/footings/src/footings/core/model.py\", line 42, in _run_step\\\\n    return getattr(self, step)()\\\\n\\', \\'  File \"/home/dustintindall/repos/footings/footings/src/footings/core/model.py\", line 131, in wrapper\\\\n    return method(*args, **kwargs)\\\\n\\', \\'  File \"/home/dustintindall/anaconda3/lib/python3.7/site-packages/footings_idi_model/policy_models/alr_deterministic.py\", line 161, in _create_frame\\\\n    create_frame(self.policy_start_dt, self.policy_end_dt, **fixed)\\\\n\\', \\'  File \"/home/dustintindall/repos/footings/footings/src/footings/model_tools/frames.py\", line 262, in create_frame\\\\n    start_dt=start_dt, end_dt=end_dt, col_date_nm=col_date_nm, frequency=frequency\\\\n\\', \\'  File \"/home/dustintindall/repos/footings/footings/src/footings/core/utils.py\", line 110, in wrapper\\\\n    return registry_function(**kwargs)\\\\n\\', \\'  File \"/home/dustintindall/repos/footings/footings/src/footings/model_tools/frames.py\", line 29, in _\\\\n    periods = math.ceil(_month_diff(start_dt, end_dt) / 12) + 1\\\\n\\', \\'  File \"/home/dustintindall/repos/footings/footings/src/footings/model_tools/frames.py\", line 9, in _month_diff\\\\n    months = (end.year - start.year) * 12 + (end.month - start.month)\\\\n\\']\\n'),\n",
       "  'error_stacktrace': ['  File \"/home/dustintindall/repos/footings/footings/src/footings/model_tools/foreach.py\", line 20, in _run_model\\n    ret = model(**{k: v for k, v in kwargs.items() if k in parameters}).run()\\n',\n",
       "   '  File \"/home/dustintindall/repos/footings/footings/src/footings/core/model.py\", line 99, in run\\n    return _run(self, to_step=to_step)\\n',\n",
       "   '  File \"/home/dustintindall/repos/footings/footings/src/footings/core/model.py\", line 52, in _run\\n    _run_step(step)\\n',\n",
       "   '  File \"/home/dustintindall/repos/footings/footings/src/footings/core/model.py\", line 49, in _run_step\\n    raise ModelRunError(msg)\\n']},\n",
       " {'key': ['M5'],\n",
       "  'error_type': footings.core.model.ModelRunError,\n",
       "  'error_value': footings.core.model.ModelRunError('At step [_create_frame], an error occured.\\n  Error Type = AttributeError\\n  Error Message = \\'str\\' object has no attribute \\'year\\'\\n  Error Trace = [\\'  File \"/home/dustintindall/repos/footings/footings/src/footings/core/model.py\", line 42, in _run_step\\\\n    return getattr(self, step)()\\\\n\\', \\'  File \"/home/dustintindall/repos/footings/footings/src/footings/core/model.py\", line 131, in wrapper\\\\n    return method(*args, **kwargs)\\\\n\\', \\'  File \"/home/dustintindall/anaconda3/lib/python3.7/site-packages/footings_idi_model/policy_models/alr_deterministic.py\", line 161, in _create_frame\\\\n    create_frame(self.policy_start_dt, self.policy_end_dt, **fixed)\\\\n\\', \\'  File \"/home/dustintindall/repos/footings/footings/src/footings/model_tools/frames.py\", line 262, in create_frame\\\\n    start_dt=start_dt, end_dt=end_dt, col_date_nm=col_date_nm, frequency=frequency\\\\n\\', \\'  File \"/home/dustintindall/repos/footings/footings/src/footings/core/utils.py\", line 110, in wrapper\\\\n    return registry_function(**kwargs)\\\\n\\', \\'  File \"/home/dustintindall/repos/footings/footings/src/footings/model_tools/frames.py\", line 29, in _\\\\n    periods = math.ceil(_month_diff(start_dt, end_dt) / 12) + 1\\\\n\\', \\'  File \"/home/dustintindall/repos/footings/footings/src/footings/model_tools/frames.py\", line 9, in _month_diff\\\\n    months = (end.year - start.year) * 12 + (end.month - start.month)\\\\n\\']\\n'),\n",
       "  'error_stacktrace': ['  File \"/home/dustintindall/repos/footings/footings/src/footings/model_tools/foreach.py\", line 20, in _run_model\\n    ret = model(**{k: v for k, v in kwargs.items() if k in parameters}).run()\\n',\n",
       "   '  File \"/home/dustintindall/repos/footings/footings/src/footings/core/model.py\", line 99, in run\\n    return _run(self, to_step=to_step)\\n',\n",
       "   '  File \"/home/dustintindall/repos/footings/footings/src/footings/core/model.py\", line 52, in _run\\n    _run_step(step)\\n',\n",
       "   '  File \"/home/dustintindall/repos/footings/footings/src/footings/core/model.py\", line 49, in _run_step\\n    raise ModelRunError(msg)\\n']},\n",
       " {'key': ['M5'],\n",
       "  'error_type': footings.core.model.ModelRunError,\n",
       "  'error_value': footings.core.model.ModelRunError('At step [_create_frame], an error occured.\\n  Error Type = AttributeError\\n  Error Message = \\'str\\' object has no attribute \\'year\\'\\n  Error Trace = [\\'  File \"/home/dustintindall/repos/footings/footings/src/footings/core/model.py\", line 42, in _run_step\\\\n    return getattr(self, step)()\\\\n\\', \\'  File \"/home/dustintindall/repos/footings/footings/src/footings/core/model.py\", line 131, in wrapper\\\\n    return method(*args, **kwargs)\\\\n\\', \\'  File \"/home/dustintindall/anaconda3/lib/python3.7/site-packages/footings_idi_model/policy_models/alr_deterministic.py\", line 161, in _create_frame\\\\n    create_frame(self.policy_start_dt, self.policy_end_dt, **fixed)\\\\n\\', \\'  File \"/home/dustintindall/repos/footings/footings/src/footings/model_tools/frames.py\", line 262, in create_frame\\\\n    start_dt=start_dt, end_dt=end_dt, col_date_nm=col_date_nm, frequency=frequency\\\\n\\', \\'  File \"/home/dustintindall/repos/footings/footings/src/footings/core/utils.py\", line 110, in wrapper\\\\n    return registry_function(**kwargs)\\\\n\\', \\'  File \"/home/dustintindall/repos/footings/footings/src/footings/model_tools/frames.py\", line 29, in _\\\\n    periods = math.ceil(_month_diff(start_dt, end_dt) / 12) + 1\\\\n\\', \\'  File \"/home/dustintindall/repos/footings/footings/src/footings/model_tools/frames.py\", line 9, in _month_diff\\\\n    months = (end.year - start.year) * 12 + (end.month - start.month)\\\\n\\']\\n'),\n",
       "  'error_stacktrace': ['  File \"/home/dustintindall/repos/footings/footings/src/footings/model_tools/foreach.py\", line 20, in _run_model\\n    ret = model(**{k: v for k, v in kwargs.items() if k in parameters}).run()\\n',\n",
       "   '  File \"/home/dustintindall/repos/footings/footings/src/footings/core/model.py\", line 99, in run\\n    return _run(self, to_step=to_step)\\n',\n",
       "   '  File \"/home/dustintindall/repos/footings/footings/src/footings/core/model.py\", line 52, in _run\\n    _run_step(step)\\n',\n",
       "   '  File \"/home/dustintindall/repos/footings/footings/src/footings/core/model.py\", line 49, in _run_step\\n    raise ModelRunError(msg)\\n']}]"
      ]
     },
     "metadata": {},
     "execution_count": 15
    }
   ],
   "source": [
    "errors"
   ]
  }
 ]
}