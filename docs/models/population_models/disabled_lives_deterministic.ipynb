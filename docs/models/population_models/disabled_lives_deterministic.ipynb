{
 "metadata": {
  "language_info": {
   "codemirror_mode": {
    "name": "ipython",
    "version": 3
   },
   "file_extension": ".py",
   "mimetype": "text/x-python",
   "name": "python",
   "nbconvert_exporter": "python",
   "pygments_lexer": "ipython3",
   "version": "3.7.7-final"
  },
  "orig_nbformat": 2,
  "kernelspec": {
   "name": "python3",
   "display_name": "Python 3"
  }
 },
 "nbformat": 4,
 "nbformat_minor": 2,
 "cells": [
  {
   "source": [
    "## Disabled Lives Deterministic"
   ],
   "cell_type": "markdown",
   "metadata": {}
  },
  {
   "source": [
    ".. autoclass:: footings_idi_model.population_models.DisabledLivesDeterministicModel\n"
   ],
   "cell_type": "markdown",
   "metadata": {}
  },
  {
   "source": [
    "**Usage**"
   ],
   "cell_type": "markdown",
   "metadata": {}
  },
  {
   "cell_type": "code",
   "execution_count": 1,
   "metadata": {},
   "outputs": [],
   "source": [
    "import pandas as pd\n",
    "from footings_idi_model.population_models import DisabledLivesDeterministicModel\n",
    "\n",
    "extract = pd.read_csv(\"disabled-lives-sample.csv\")"
   ]
  },
  {
   "cell_type": "code",
   "execution_count": 2,
   "metadata": {},
   "outputs": [
    {
     "output_type": "execute_result",
     "data": {
      "text/plain": [
       "    IDI_OCCUPATION_CLASS IDI_CONTRACT IDI_BENEFIT_PERIOD IDI_MARKET GENDER  \\\n",
       "0                      1           AO                12M       INDV      F   \n",
       "1                      1           AO                12M       INDV      F   \n",
       "2                      1           AO                12M       INDV      M   \n",
       "3                      1           AO                12M       INDV      M   \n",
       "4                      1           AO                18M       INDV      F   \n",
       "..                   ...          ...                ...        ...    ...   \n",
       "535                    M           SO               TO67       INDV      M   \n",
       "536                    M           SO               TO70       INDV      F   \n",
       "537                    M           SO               TO70       INDV      F   \n",
       "538                    M           SO               TO70       INDV      M   \n",
       "539                    M           SO               TO70       INDV      M   \n",
       "\n",
       "    TOBACCO_USAGE POLICY_ID    BIRTH_DT CLAIM_ID COVERAGE_ID INCURRED_DT  \\\n",
       "0               N     M1181  1971-08-15  M1181C1        base  2019-08-15   \n",
       "1               Y      M809  1970-08-31   M809C1        base  2019-08-31   \n",
       "2               N      M505  1973-04-05   M505C1        base  2019-04-05   \n",
       "3               Y      M355  1972-05-28   M355C1        base  2019-05-28   \n",
       "4               N      M547  1967-09-13   M547C1        base  2019-09-13   \n",
       "..            ...       ...         ...      ...         ...         ...   \n",
       "535             Y      M595  1959-04-04   M595C1        base  1991-04-04   \n",
       "536             N      M825  1978-05-28   M825C1        base  2018-05-28   \n",
       "537             Y      M294  1971-09-18   M294C1        base  2013-09-18   \n",
       "538             N      M884  1956-10-25   M884C1        base  1993-10-25   \n",
       "539             Y      M269  1961-04-21   M269C1        base  1999-04-21   \n",
       "\n",
       "    TERMINATION_DT  ELIMINATION_PERIOD  BENEFIT_AMOUNT IDI_DIAGNOSIS_GRP  \\\n",
       "0       2020-08-22                   7           100.0               LOW   \n",
       "1       2020-09-30                  30           100.0               MID   \n",
       "2       2020-04-19                  14           100.0               LOW   \n",
       "3       2020-06-11                  14           100.0               LOW   \n",
       "4       2021-03-20                   7           100.0         VERY_HIGH   \n",
       "..             ...                 ...             ...               ...   \n",
       "535     2026-04-03                  60           100.0          VERY_LOW   \n",
       "536     2048-05-27                 720           100.0         VERY_HIGH   \n",
       "537     2041-09-17                 360           100.0              HIGH   \n",
       "538     2026-10-24                 720           100.0               MID   \n",
       "539     2031-04-20                  60           100.0               MID   \n",
       "\n",
       "     COLA_PERCENT  AGE_AT_DISABLEMENT SELECT_COLA  \n",
       "0            0.03                  48           Y  \n",
       "1            0.03                  49           Y  \n",
       "2            0.03                  46           Y  \n",
       "3            0.00                  47           N  \n",
       "4            0.00                  52           N  \n",
       "..            ...                 ...         ...  \n",
       "535          0.02                  32           Y  \n",
       "536          0.03                  40           Y  \n",
       "537          0.03                  42           Y  \n",
       "538          0.02                  37           Y  \n",
       "539          0.00                  38           N  \n",
       "\n",
       "[540 rows x 18 columns]"
      ],
      "text/html": "<div>\n<style scoped>\n    .dataframe tbody tr th:only-of-type {\n        vertical-align: middle;\n    }\n\n    .dataframe tbody tr th {\n        vertical-align: top;\n    }\n\n    .dataframe thead th {\n        text-align: right;\n    }\n</style>\n<table border=\"1\" class=\"dataframe\">\n  <thead>\n    <tr style=\"text-align: right;\">\n      <th></th>\n      <th>IDI_OCCUPATION_CLASS</th>\n      <th>IDI_CONTRACT</th>\n      <th>IDI_BENEFIT_PERIOD</th>\n      <th>IDI_MARKET</th>\n      <th>GENDER</th>\n      <th>TOBACCO_USAGE</th>\n      <th>POLICY_ID</th>\n      <th>BIRTH_DT</th>\n      <th>CLAIM_ID</th>\n      <th>COVERAGE_ID</th>\n      <th>INCURRED_DT</th>\n      <th>TERMINATION_DT</th>\n      <th>ELIMINATION_PERIOD</th>\n      <th>BENEFIT_AMOUNT</th>\n      <th>IDI_DIAGNOSIS_GRP</th>\n      <th>COLA_PERCENT</th>\n      <th>AGE_AT_DISABLEMENT</th>\n      <th>SELECT_COLA</th>\n    </tr>\n  </thead>\n  <tbody>\n    <tr>\n      <th>0</th>\n      <td>1</td>\n      <td>AO</td>\n      <td>12M</td>\n      <td>INDV</td>\n      <td>F</td>\n      <td>N</td>\n      <td>M1181</td>\n      <td>1971-08-15</td>\n      <td>M1181C1</td>\n      <td>base</td>\n      <td>2019-08-15</td>\n      <td>2020-08-22</td>\n      <td>7</td>\n      <td>100.0</td>\n      <td>LOW</td>\n      <td>0.03</td>\n      <td>48</td>\n      <td>Y</td>\n    </tr>\n    <tr>\n      <th>1</th>\n      <td>1</td>\n      <td>AO</td>\n      <td>12M</td>\n      <td>INDV</td>\n      <td>F</td>\n      <td>Y</td>\n      <td>M809</td>\n      <td>1970-08-31</td>\n      <td>M809C1</td>\n      <td>base</td>\n      <td>2019-08-31</td>\n      <td>2020-09-30</td>\n      <td>30</td>\n      <td>100.0</td>\n      <td>MID</td>\n      <td>0.03</td>\n      <td>49</td>\n      <td>Y</td>\n    </tr>\n    <tr>\n      <th>2</th>\n      <td>1</td>\n      <td>AO</td>\n      <td>12M</td>\n      <td>INDV</td>\n      <td>M</td>\n      <td>N</td>\n      <td>M505</td>\n      <td>1973-04-05</td>\n      <td>M505C1</td>\n      <td>base</td>\n      <td>2019-04-05</td>\n      <td>2020-04-19</td>\n      <td>14</td>\n      <td>100.0</td>\n      <td>LOW</td>\n      <td>0.03</td>\n      <td>46</td>\n      <td>Y</td>\n    </tr>\n    <tr>\n      <th>3</th>\n      <td>1</td>\n      <td>AO</td>\n      <td>12M</td>\n      <td>INDV</td>\n      <td>M</td>\n      <td>Y</td>\n      <td>M355</td>\n      <td>1972-05-28</td>\n      <td>M355C1</td>\n      <td>base</td>\n      <td>2019-05-28</td>\n      <td>2020-06-11</td>\n      <td>14</td>\n      <td>100.0</td>\n      <td>LOW</td>\n      <td>0.00</td>\n      <td>47</td>\n      <td>N</td>\n    </tr>\n    <tr>\n      <th>4</th>\n      <td>1</td>\n      <td>AO</td>\n      <td>18M</td>\n      <td>INDV</td>\n      <td>F</td>\n      <td>N</td>\n      <td>M547</td>\n      <td>1967-09-13</td>\n      <td>M547C1</td>\n      <td>base</td>\n      <td>2019-09-13</td>\n      <td>2021-03-20</td>\n      <td>7</td>\n      <td>100.0</td>\n      <td>VERY_HIGH</td>\n      <td>0.00</td>\n      <td>52</td>\n      <td>N</td>\n    </tr>\n    <tr>\n      <th>...</th>\n      <td>...</td>\n      <td>...</td>\n      <td>...</td>\n      <td>...</td>\n      <td>...</td>\n      <td>...</td>\n      <td>...</td>\n      <td>...</td>\n      <td>...</td>\n      <td>...</td>\n      <td>...</td>\n      <td>...</td>\n      <td>...</td>\n      <td>...</td>\n      <td>...</td>\n      <td>...</td>\n      <td>...</td>\n      <td>...</td>\n    </tr>\n    <tr>\n      <th>535</th>\n      <td>M</td>\n      <td>SO</td>\n      <td>TO67</td>\n      <td>INDV</td>\n      <td>M</td>\n      <td>Y</td>\n      <td>M595</td>\n      <td>1959-04-04</td>\n      <td>M595C1</td>\n      <td>base</td>\n      <td>1991-04-04</td>\n      <td>2026-04-03</td>\n      <td>60</td>\n      <td>100.0</td>\n      <td>VERY_LOW</td>\n      <td>0.02</td>\n      <td>32</td>\n      <td>Y</td>\n    </tr>\n    <tr>\n      <th>536</th>\n      <td>M</td>\n      <td>SO</td>\n      <td>TO70</td>\n      <td>INDV</td>\n      <td>F</td>\n      <td>N</td>\n      <td>M825</td>\n      <td>1978-05-28</td>\n      <td>M825C1</td>\n      <td>base</td>\n      <td>2018-05-28</td>\n      <td>2048-05-27</td>\n      <td>720</td>\n      <td>100.0</td>\n      <td>VERY_HIGH</td>\n      <td>0.03</td>\n      <td>40</td>\n      <td>Y</td>\n    </tr>\n    <tr>\n      <th>537</th>\n      <td>M</td>\n      <td>SO</td>\n      <td>TO70</td>\n      <td>INDV</td>\n      <td>F</td>\n      <td>Y</td>\n      <td>M294</td>\n      <td>1971-09-18</td>\n      <td>M294C1</td>\n      <td>base</td>\n      <td>2013-09-18</td>\n      <td>2041-09-17</td>\n      <td>360</td>\n      <td>100.0</td>\n      <td>HIGH</td>\n      <td>0.03</td>\n      <td>42</td>\n      <td>Y</td>\n    </tr>\n    <tr>\n      <th>538</th>\n      <td>M</td>\n      <td>SO</td>\n      <td>TO70</td>\n      <td>INDV</td>\n      <td>M</td>\n      <td>N</td>\n      <td>M884</td>\n      <td>1956-10-25</td>\n      <td>M884C1</td>\n      <td>base</td>\n      <td>1993-10-25</td>\n      <td>2026-10-24</td>\n      <td>720</td>\n      <td>100.0</td>\n      <td>MID</td>\n      <td>0.02</td>\n      <td>37</td>\n      <td>Y</td>\n    </tr>\n    <tr>\n      <th>539</th>\n      <td>M</td>\n      <td>SO</td>\n      <td>TO70</td>\n      <td>INDV</td>\n      <td>M</td>\n      <td>Y</td>\n      <td>M269</td>\n      <td>1961-04-21</td>\n      <td>M269C1</td>\n      <td>base</td>\n      <td>1999-04-21</td>\n      <td>2031-04-20</td>\n      <td>60</td>\n      <td>100.0</td>\n      <td>MID</td>\n      <td>0.00</td>\n      <td>38</td>\n      <td>N</td>\n    </tr>\n  </tbody>\n</table>\n<p>540 rows × 18 columns</p>\n</div>"
     },
     "metadata": {},
     "execution_count": 2
    }
   ],
   "source": [
    "extract"
   ]
  },
  {
   "cell_type": "code",
   "execution_count": 3,
   "metadata": {},
   "outputs": [],
   "source": [
    "\n",
    "model = DisabledLivesDeterministicModel(\n",
    "    extract=extract, \n",
    "    valuation_dt=pd.Timestamp(\"2020-03-31\"),\n",
    "    assumption_set=\"stat\",\n",
    ")"
   ]
  },
  {
   "source": [
    "model.audit(\"Audit-DisabledLivesDeterministicModel.xlsx\")"
   ],
   "cell_type": "code",
   "metadata": {},
   "execution_count": 4,
   "outputs": []
  },
  {
   "source": [
    "Download audit file [Audit-DisabledLivesDeterministicModel.xlsx](Audit-DisabledLivesDeterministicModel.xlsx)."
   ],
   "cell_type": "markdown",
   "metadata": {}
  },
  {
   "cell_type": "code",
   "execution_count": 5,
   "metadata": {},
   "outputs": [],
   "source": [
    "errors, projected, time0 = model.run()"
   ]
  },
  {
   "cell_type": "code",
   "execution_count": 6,
   "metadata": {},
   "outputs": [
    {
     "output_type": "stream",
     "name": "stdout",
     "text": [
      "<class 'pandas.core.frame.DataFrame'>\nIndex: 0 entries\nData columns (total 21 columns):\n #   Column          Non-Null Count  Dtype \n---  ------          --------------  ----- \n 0   MODEL_VERSION   0 non-null      object\n 1   LAST_COMMIT     0 non-null      object\n 2   RUN_DATE_TIME   0 non-null      object\n 3   POLICY_ID       0 non-null      object\n 4   CLAIM_ID        0 non-null      object\n 5   DATE_BD         0 non-null      object\n 6   DATE_ED         0 non-null      object\n 7   DURATION_YEAR   0 non-null      object\n 8   DURATION_MONTH  0 non-null      object\n 9   BENEFIT_AMOUNT  0 non-null      object\n 10  FINAL_CTR       0 non-null      object\n 11  LIVES_BD        0 non-null      object\n 12  LIVES_MD        0 non-null      object\n 13  LIVES_ED        0 non-null      object\n 14  DISCOUNT_BD     0 non-null      object\n 15  DISCOUNT_MD     0 non-null      object\n 16  DISCOUNT_ED     0 non-null      object\n 17  PVFB_BD         0 non-null      object\n 18  PVFB_ED         0 non-null      object\n 19  DATE_DLR        0 non-null      object\n 20  DLR             0 non-null      object\ndtypes: object(21)\nmemory usage: 0.0+ bytes\n"
     ]
    }
   ],
   "source": [
    "projected.info()"
   ]
  },
  {
   "cell_type": "code",
   "execution_count": 7,
   "metadata": {},
   "outputs": [
    {
     "output_type": "execute_result",
     "data": {
      "text/plain": [
       "Empty DataFrame\n",
       "Columns: [MODEL_VERSION, LAST_COMMIT, RUN_DATE_TIME, POLICY_ID, CLAIM_ID, DATE_BD, DATE_ED, DURATION_YEAR, DURATION_MONTH, BENEFIT_AMOUNT, FINAL_CTR, LIVES_BD, LIVES_MD, LIVES_ED, DISCOUNT_BD, DISCOUNT_MD, DISCOUNT_ED, PVFB_BD, PVFB_ED, DATE_DLR, DLR]\n",
       "Index: []\n",
       "\n",
       "[0 rows x 21 columns]"
      ],
      "text/html": "<div>\n<style scoped>\n    .dataframe tbody tr th:only-of-type {\n        vertical-align: middle;\n    }\n\n    .dataframe tbody tr th {\n        vertical-align: top;\n    }\n\n    .dataframe thead th {\n        text-align: right;\n    }\n</style>\n<table border=\"1\" class=\"dataframe\">\n  <thead>\n    <tr style=\"text-align: right;\">\n      <th></th>\n      <th>MODEL_VERSION</th>\n      <th>LAST_COMMIT</th>\n      <th>RUN_DATE_TIME</th>\n      <th>POLICY_ID</th>\n      <th>CLAIM_ID</th>\n      <th>DATE_BD</th>\n      <th>DATE_ED</th>\n      <th>DURATION_YEAR</th>\n      <th>DURATION_MONTH</th>\n      <th>BENEFIT_AMOUNT</th>\n      <th>...</th>\n      <th>LIVES_BD</th>\n      <th>LIVES_MD</th>\n      <th>LIVES_ED</th>\n      <th>DISCOUNT_BD</th>\n      <th>DISCOUNT_MD</th>\n      <th>DISCOUNT_ED</th>\n      <th>PVFB_BD</th>\n      <th>PVFB_ED</th>\n      <th>DATE_DLR</th>\n      <th>DLR</th>\n    </tr>\n  </thead>\n  <tbody>\n  </tbody>\n</table>\n<p>0 rows × 21 columns</p>\n</div>"
     },
     "metadata": {},
     "execution_count": 7
    }
   ],
   "source": [
    "projected"
   ]
  },
  {
   "cell_type": "code",
   "execution_count": 8,
   "metadata": {},
   "outputs": [
    {
     "output_type": "execute_result",
     "data": {
      "text/plain": [
       "Empty DataFrame\n",
       "Columns: [MODEL_VERSION, LAST_COMMIT, RUN_DATE_TIME, POLICY_ID, CLAIM_ID, DATE_BD, DATE_ED, DURATION_YEAR, DURATION_MONTH, BENEFIT_AMOUNT, FINAL_CTR, LIVES_BD, LIVES_MD, LIVES_ED, DISCOUNT_BD, DISCOUNT_MD, DISCOUNT_ED, PVFB_BD, PVFB_ED, DATE_DLR, DLR]\n",
       "Index: []\n",
       "\n",
       "[0 rows x 21 columns]"
      ],
      "text/html": "<div>\n<style scoped>\n    .dataframe tbody tr th:only-of-type {\n        vertical-align: middle;\n    }\n\n    .dataframe tbody tr th {\n        vertical-align: top;\n    }\n\n    .dataframe thead th {\n        text-align: right;\n    }\n</style>\n<table border=\"1\" class=\"dataframe\">\n  <thead>\n    <tr style=\"text-align: right;\">\n      <th></th>\n      <th>MODEL_VERSION</th>\n      <th>LAST_COMMIT</th>\n      <th>RUN_DATE_TIME</th>\n      <th>POLICY_ID</th>\n      <th>CLAIM_ID</th>\n      <th>DATE_BD</th>\n      <th>DATE_ED</th>\n      <th>DURATION_YEAR</th>\n      <th>DURATION_MONTH</th>\n      <th>BENEFIT_AMOUNT</th>\n      <th>...</th>\n      <th>LIVES_BD</th>\n      <th>LIVES_MD</th>\n      <th>LIVES_ED</th>\n      <th>DISCOUNT_BD</th>\n      <th>DISCOUNT_MD</th>\n      <th>DISCOUNT_ED</th>\n      <th>PVFB_BD</th>\n      <th>PVFB_ED</th>\n      <th>DATE_DLR</th>\n      <th>DLR</th>\n    </tr>\n  </thead>\n  <tbody>\n  </tbody>\n</table>\n<p>0 rows × 21 columns</p>\n</div>"
     },
     "metadata": {},
     "execution_count": 8
    }
   ],
   "source": [
    "time0"
   ]
  },
  {
   "cell_type": "code",
   "execution_count": 9,
   "metadata": {},
   "outputs": [
    {
     "output_type": "execute_result",
     "data": {
      "text/plain": [
       "',\n",
       "   '  File \"/home/dustintindall/repos/footings/footings/src/footings/core/model.py\", line 52, in _run\\n    _run_step(step)\\n',\n",
       "   '  File \"/home/dustintindall/repos/footings/footings/src/footings/core/model.py\", line 49, in _run_step\\n    raise ModelRunError(msg)\\n']},\n",
       " {'key': ['M740', 'M740C1'],\n",
       "  'error_type': footings.core.model.ModelRunError,\n",
       "  'error_value': footings.core.model.ModelRunError('At step [_calculate_age_incurred], an error occured.\\n  Error Type = NotImplementedError\\n  Error Message = No registered function based on passed paramters and no default function.\\n  Error Trace = [\\'  File \"/home/dustintindall/repos/footings/footings/src/footings/core/model.py\", line 42, in _run_step\\\\n    return getattr(self, step)()\\\\n\\', \\'  File \"/home/dustintindall/repos/footings/footings/src/footings/core/model.py\", line 131, in wrapper\\\\n    return method(*args, **kwargs)\\\\n\\', \\'  File \"/home/dustintindall/anaconda3/lib/python3.7/site-packages/footings_idi_model/policy_models/dlr_deterministic.py\", line 132, in _calculate_age_incurred\\\\n    self.age_incurred = calculate_age(self.birth_dt, self.incurred_dt, method=\"ACB\")\\\\n\\', \\'  File \"/home/dustintindall/repos/footings/footings/src/footings/model_tools/age.py\", line 71, in calculate_age\\\\n    method=method,\\\\n\\', \\'  File \"/home/dustintindall/repos/footings/footings/src/footings/core/utils.py\", line 109, in wrapper\\\\n    return default_function(**orig_kwargs)\\\\n\\', \\'  File \"/home/dustintindall/repos/footings/footings/src/footings/model_tools/age.py\", line 12, in _calculate_age\\\\n    raise NotImplementedError(msg)\\\\n\\']\\n'),\n",
       "  'error_stacktrace': ['  File \"/home/dustintindall/repos/footings/footings/src/footings/model_tools/foreach.py\", line 20, in _run_model\\n    ret = model(**{k: v for k, v in kwargs.items() if k in parameters}).run()\\n',\n",
       "   '  File \"/home/dustintindall/repos/footings/footings/src/footings/core/model.py\", line 99, in run\\n    return _run(self, to_step=to_step)\\n',\n",
       "   '  File \"/home/dustintindall/repos/footings/footings/src/footings/core/model.py\", line 52, in _run\\n    _run_step(step)\\n',\n",
       "   '  File \"/home/dustintindall/repos/footings/footings/src/footings/core/model.py\", line 49, in _run_step\\n    raise ModelRunError(msg)\\n']},\n",
       " {'key': ['M65', 'M65C1'],\n",
       "  'error_type': footings.core.model.ModelRunError,\n",
       "  'error_value': footings.core.model.ModelRunError('At step [_calculate_age_incurred], an error occured.\\n  Error Type = NotImplementedError\\n  Error Message = No registered function based on passed paramters and no default function.\\n  Error Trace = [\\'  File \"/home/dustintindall/repos/footings/footings/src/footings/core/model.py\", line 42, in _run_step\\\\n    return getattr(self, step)()\\\\n\\', \\'  File \"/home/dustintindall/repos/footings/footings/src/footings/core/model.py\", line 131, in wrapper\\\\n    return method(*args, **kwargs)\\\\n\\', \\'  File \"/home/dustintindall/anaconda3/lib/python3.7/site-packages/footings_idi_model/policy_models/dlr_deterministic.py\", line 132, in _calculate_age_incurred\\\\n    self.age_incurred = calculate_age(self.birth_dt, self.incurred_dt, method=\"ACB\")\\\\n\\', \\'  File \"/home/dustintindall/repos/footings/footings/src/footings/model_tools/age.py\", line 71, in calculate_age\\\\n    method=method,\\\\n\\', \\'  File \"/home/dustintindall/repos/footings/footings/src/footings/core/utils.py\", line 109, in wrapper\\\\n    return default_function(**orig_kwargs)\\\\n\\', \\'  File \"/home/dustintindall/repos/footings/footings/src/footings/model_tools/age.py\", line 12, in _calculate_age\\\\n    raise NotImplementedError(msg)\\\\n\\']\\n'),\n",
       "  'error_stacktrace': ['  File \"/home/dustintindall/repos/footings/footings/src/footings/model_tools/foreach.py\", line 20, in _run_model\\n    ret = model(**{k: v for k, v in kwargs.items() if k in parameters}).run()\\n',\n",
       "   '  File \"/home/dustintindall/repos/footings/footings/src/footings/core/model.py\", line 99, in run\\n    return _run(self, to_step=to_step)\\n',\n",
       "   '  File \"/home/dustintindall/repos/footings/footings/src/footings/core/model.py\", line 52, in _run\\n    _run_step(step)\\n',\n",
       "   '  File \"/home/dustintindall/repos/footings/footings/src/footings/core/model.py\", line 49, in _run_step\\n    raise ModelRunError(msg)\\n']},\n",
       " {'key': ['M313', 'M313C1'],\n",
       "  'error_type': footings.core.model.ModelRunError,\n",
       "  'error_value': footings.core.model.ModelRunError('At step [_calculate_age_incurred], an error occured.\\n  Error Type = NotImplementedError\\n  Error Message = No registered function based on passed paramters and no default function.\\n  Error Trace = [\\'  File \"/home/dustintindall/repos/footings/footings/src/footings/core/model.py\", line 42, in _run_step\\\\n    return getattr(self, step)()\\\\n\\', \\'  File \"/home/dustintindall/repos/footings/footings/src/footings/core/model.py\", line 131, in wrapper\\\\n    return method(*args, **kwargs)\\\\n\\', \\'  File \"/home/dustintindall/anaconda3/lib/python3.7/site-packages/footings_idi_model/policy_models/dlr_deterministic.py\", line 132, in _calculate_age_incurred\\\\n    self.age_incurred = calculate_age(self.birth_dt, self.incurred_dt, method=\"ACB\")\\\\n\\', \\'  File \"/home/dustintindall/repos/footings/footings/src/footings/model_tools/age.py\", line 71, in calculate_age\\\\n    method=method,\\\\n\\', \\'  File \"/home/dustintindall/repos/footings/footings/src/footings/core/utils.py\", line 109, in wrapper\\\\n    return default_function(**orig_kwargs)\\\\n\\', \\'  File \"/home/dustintindall/repos/footings/footings/src/footings/model_tools/age.py\", line 12, in _calculate_age\\\\n    raise NotImplementedError(msg)\\\\n\\']\\n'),\n",
       "  'error_stacktrace': ['  File \"/home/dustintindall/repos/footings/footings/src/footings/model_tools/foreach.py\", line 20, in _run_model\\n    ret = model(**{k: v for k, v in kwargs.items() if k in parameters}).run()\\n',\n",
       "   '  File \"/home/dustintindall/repos/footings/footings/src/footings/core/model.py\", line 99, in run\\n    return _run(self, to_step=to_step)\\n',\n",
       "   '  File \"/home/dustintindall/repos/footings/footings/src/footings/core/model.py\", line 52, in _run\\n    _run_step(step)\\n',\n",
       "   '  File \"/home/dustintindall/repos/footings/footings/src/footings/core/model.py\", line 49, in _run_step\\n    raise ModelRunError(msg)\\n']},\n",
       " {'key': ['M393', 'M393C1'],\n",
       "  'error_type': footings.core.model.ModelRunError,\n",
       "  'error_value': footings.core.model.ModelRunError('At step [_calculate_age_incurred], an error occured.\\n  Error Type = NotImplementedError\\n  Error Message = No registered function based on passed paramters and no default function.\\n  Error Trace = [\\'  File \"/home/dustintindall/repos/footings/footings/src/footings/core/model.py\", line 42, in _run_step\\\\n    return getattr(self, step)()\\\\n\\', \\'  File \"/home/dustintindall/repos/footings/footings/src/footings/core/model.py\", line 131, in wrapper\\\\n    return method(*args, **kwargs)\\\\n\\', \\'  File \"/home/dustintindall/anaconda3/lib/python3.7/site-packages/footings_idi_model/policy_models/dlr_deterministic.py\", line 132, in _calculate_age_incurred\\\\n    self.age_incurred = calculate_age(self.birth_dt, self.incurred_dt, method=\"ACB\")\\\\n\\', \\'  File \"/home/dustintindall/repos/footings/footings/src/footings/model_tools/age.py\", line 71, in calculate_age\\\\n    method=method,\\\\n\\', \\'  File \"/home/dustintindall/repos/footings/footings/src/footings/core/utils.py\", line 109, in wrapper\\\\n    return default_function(**orig_kwargs)\\\\n\\', \\'  File \"/home/dustintindall/repos/footings/footings/src/footings/model_tools/age.py\", line 12, in _calculate_age\\\\n    raise NotImplementedError(msg)\\\\n\\']\\n'),\n",
       "  'error_stacktrace': ['  File \"/home/dustintindall/repos/footings/footings/src/footings/model_tools/foreach.py\", line 20, in _run_model\\n    ret = model(**{k: v for k, v in kwargs.items() if k in parameters}).run()\\n',\n",
       "   '  File \"/home/dustintindall/repos/footings/footings/src/footings/core/model.py\", line 99, in run\\n    return _run(self, to_step=to_step)\\n',\n",
       "   '  File \"/home/dustintindall/repos/footings/footings/src/footings/core/model.py\", line 52, in _run\\n    _run_step(step)\\n',\n",
       "   '  File \"/home/dustintindall/repos/footings/footings/src/footings/core/model.py\", line 49, in _run_step\\n    raise ModelRunError(msg)\\n']},\n",
       " {'key': ['M111', 'M111C1'],\n",
       "  'error_type': footings.core.model.ModelRunError,\n",
       "  'error_value': footings.core.model.ModelRunError('At step [_calculate_age_incurred], an error occured.\\n  Error Type = NotImplementedError\\n  Error Message = No registered function based on passed paramters and no default function.\\n  Error Trace = [\\'  File \"/home/dustintindall/repos/footings/footings/src/footings/core/model.py\", line 42, in _run_step\\\\n    return getattr(self, step)()\\\\n\\', \\'  File \"/home/dustintindall/repos/footings/footings/src/footings/core/model.py\", line 131, in wrapper\\\\n    return method(*args, **kwargs)\\\\n\\', \\'  File \"/home/dustintindall/anaconda3/lib/python3.7/site-packages/footings_idi_model/policy_models/dlr_deterministic.py\", line 132, in _calculate_age_incurred\\\\n    self.age_incurred = calculate_age(self.birth_dt, self.incurred_dt, method=\"ACB\")\\\\n\\', \\'  File \"/home/dustintindall/repos/footings/footings/src/footings/model_tools/age.py\", line 71, in calculate_age\\\\n    method=method,\\\\n\\', \\'  File \"/home/dustintindall/repos/footings/footings/src/footings/core/utils.py\", line 109, in wrapper\\\\n    return default_function(**orig_kwargs)\\\\n\\', \\'  File \"/home/dustintindall/repos/footings/footings/src/footings/model_tools/age.py\", line 12, in _calculate_age\\\\n    raise NotImplementedError(msg)\\\\n\\']\\n'),\n",
       "  'error_stacktrace': ['  File \"/home/dustintindall/repos/footings/footings/src/footings/model_tools/foreach.py\", line 20, in _run_model\\n    ret = model(**{k: v for k, v in kwargs.items() if k in parameters}).run()\\n',\n",
       "   '  File \"/home/dustintindall/repos/footings/footings/src/footings/core/model.py\", line 99, in run\\n    return _run(self, to_step=to_step)\\n',\n",
       "   '  File \"/home/dustintindall/repos/footings/footings/src/footings/core/model.py\", line 52, in _run\\n    _run_step(step)\\n',\n",
       "   '  File \"/home/dustintindall/repos/footings/footings/src/footings/core/model.py\", line 49, in _run_step\\n    raise ModelRunError(msg)\\n']},\n",
       " {'key': ['M595', 'M595C1'],\n",
       "  'error_type': footings.core.model.ModelRunError,\n",
       "  'error_value': footings.core.model.ModelRunError('At step [_calculate_age_incurred], an error occured.\\n  Error Type = NotImplementedError\\n  Error Message = No registered function based on passed paramters and no default function.\\n  Error Trace = [\\'  File \"/home/dustintindall/repos/footings/footings/src/footings/core/model.py\", line 42, in _run_step\\\\n    return getattr(self, step)()\\\\n\\', \\'  File \"/home/dustintindall/repos/footings/footings/src/footings/core/model.py\", line 131, in wrapper\\\\n    return method(*args, **kwargs)\\\\n\\', \\'  File \"/home/dustintindall/anaconda3/lib/python3.7/site-packages/footings_idi_model/policy_models/dlr_deterministic.py\", line 132, in _calculate_age_incurred\\\\n    self.age_incurred = calculate_age(self.birth_dt, self.incurred_dt, method=\"ACB\")\\\\n\\', \\'  File \"/home/dustintindall/repos/footings/footings/src/footings/model_tools/age.py\", line 71, in calculate_age\\\\n    method=method,\\\\n\\', \\'  File \"/home/dustintindall/repos/footings/footings/src/footings/core/utils.py\", line 109, in wrapper\\\\n    return default_function(**orig_kwargs)\\\\n\\', \\'  File \"/home/dustintindall/repos/footings/footings/src/footings/model_tools/age.py\", line 12, in _calculate_age\\\\n    raise NotImplementedError(msg)\\\\n\\']\\n'),\n",
       "  'error_stacktrace': ['  File \"/home/dustintindall/repos/footings/footings/src/footings/model_tools/foreach.py\", line 20, in _run_model\\n    ret = model(**{k: v for k, v in kwargs.items() if k in parameters}).run()\\n',\n",
       "   '  File \"/home/dustintindall/repos/footings/footings/src/footings/core/model.py\", line 99, in run\\n    return _run(self, to_step=to_step)\\n',\n",
       "   '  File \"/home/dustintindall/repos/footings/footings/src/footings/core/model.py\", line 52, in _run\\n    _run_step(step)\\n',\n",
       "   '  File \"/home/dustintindall/repos/footings/footings/src/footings/core/model.py\", line 49, in _run_step\\n    raise ModelRunError(msg)\\n']},\n",
       " {'key': ['M825', 'M825C1'],\n",
       "  'error_type': footings.core.model.ModelRunError,\n",
       "  'error_value': footings.core.model.ModelRunError('At step [_calculate_age_incurred], an error occured.\\n  Error Type = NotImplementedError\\n  Error Message = No registered function based on passed paramters and no default function.\\n  Error Trace = [\\'  File \"/home/dustintindall/repos/footings/footings/src/footings/core/model.py\", line 42, in _run_step\\\\n    return getattr(self, step)()\\\\n\\', \\'  File \"/home/dustintindall/repos/footings/footings/src/footings/core/model.py\", line 131, in wrapper\\\\n    return method(*args, **kwargs)\\\\n\\', \\'  File \"/home/dustintindall/anaconda3/lib/python3.7/site-packages/footings_idi_model/policy_models/dlr_deterministic.py\", line 132, in _calculate_age_incurred\\\\n    self.age_incurred = calculate_age(self.birth_dt, self.incurred_dt, method=\"ACB\")\\\\n\\', \\'  File \"/home/dustintindall/repos/footings/footings/src/footings/model_tools/age.py\", line 71, in calculate_age\\\\n    method=method,\\\\n\\', \\'  File \"/home/dustintindall/repos/footings/footings/src/footings/core/utils.py\", line 109, in wrapper\\\\n    return default_function(**orig_kwargs)\\\\n\\', \\'  File \"/home/dustintindall/repos/footings/footings/src/footings/model_tools/age.py\", line 12, in _calculate_age\\\\n    raise NotImplementedError(msg)\\\\n\\']\\n'),\n",
       "  'error_stacktrace': ['  File \"/home/dustintindall/repos/footings/footings/src/footings/model_tools/foreach.py\", line 20, in _run_model\\n    ret = model(**{k: v for k, v in kwargs.items() if k in parameters}).run()\\n',\n",
       "   '  File \"/home/dustintindall/repos/footings/footings/src/footings/core/model.py\", line 99, in run\\n    return _run(self, to_step=to_step)\\n',\n",
       "   '  File \"/home/dustintindall/repos/footings/footings/src/footings/core/model.py\", line 52, in _run\\n    _run_step(step)\\n',\n",
       "   '  File \"/home/dustintindall/repos/footings/footings/src/footings/core/model.py\", line 49, in _run_step\\n    raise ModelRunError(msg)\\n']},\n",
       " {'key': ['M294', 'M294C1'],\n",
       "  'error_type': footings.core.model.ModelRunError,\n",
       "  'error_value': footings.core.model.ModelRunError('At step [_calculate_age_incurred], an error occured.\\n  Error Type = NotImplementedError\\n  Error Message = No registered function based on passed paramters and no default function.\\n  Error Trace = [\\'  File \"/home/dustintindall/repos/footings/footings/src/footings/core/model.py\", line 42, in _run_step\\\\n    return getattr(self, step)()\\\\n\\', \\'  File \"/home/dustintindall/repos/footings/footings/src/footings/core/model.py\", line 131, in wrapper\\\\n    return method(*args, **kwargs)\\\\n\\', \\'  File \"/home/dustintindall/anaconda3/lib/python3.7/site-packages/footings_idi_model/policy_models/dlr_deterministic.py\", line 132, in _calculate_age_incurred\\\\n    self.age_incurred = calculate_age(self.birth_dt, self.incurred_dt, method=\"ACB\")\\\\n\\', \\'  File \"/home/dustintindall/repos/footings/footings/src/footings/model_tools/age.py\", line 71, in calculate_age\\\\n    method=method,\\\\n\\', \\'  File \"/home/dustintindall/repos/footings/footings/src/footings/core/utils.py\", line 109, in wrapper\\\\n    return default_function(**orig_kwargs)\\\\n\\', \\'  File \"/home/dustintindall/repos/footings/footings/src/footings/model_tools/age.py\", line 12, in _calculate_age\\\\n    raise NotImplementedError(msg)\\\\n\\']\\n'),\n",
       "  'error_stacktrace': ['  File \"/home/dustintindall/repos/footings/footings/src/footings/model_tools/foreach.py\", line 20, in _run_model\\n    ret = model(**{k: v for k, v in kwargs.items() if k in parameters}).run()\\n',\n",
       "   '  File \"/home/dustintindall/repos/footings/footings/src/footings/core/model.py\", line 99, in run\\n    return _run(self, to_step=to_step)\\n',\n",
       "   '  File \"/home/dustintindall/repos/footings/footings/src/footings/core/model.py\", line 52, in _run\\n    _run_step(step)\\n',\n",
       "   '  File \"/home/dustintindall/repos/footings/footings/src/footings/core/model.py\", line 49, in _run_step\\n    raise ModelRunError(msg)\\n']},\n",
       " {'key': ['M884', 'M884C1'],\n",
       "  'error_type': footings.core.model.ModelRunError,\n",
       "  'error_value': footings.core.model.ModelRunError('At step [_calculate_age_incurred], an error occured.\\n  Error Type = NotImplementedError\\n  Error Message = No registered function based on passed paramters and no default function.\\n  Error Trace = [\\'  File \"/home/dustintindall/repos/footings/footings/src/footings/core/model.py\", line 42, in _run_step\\\\n    return getattr(self, step)()\\\\n\\', \\'  File \"/home/dustintindall/repos/footings/footings/src/footings/core/model.py\", line 131, in wrapper\\\\n    return method(*args, **kwargs)\\\\n\\', \\'  File \"/home/dustintindall/anaconda3/lib/python3.7/site-packages/footings_idi_model/policy_models/dlr_deterministic.py\", line 132, in _calculate_age_incurred\\\\n    self.age_incurred = calculate_age(self.birth_dt, self.incurred_dt, method=\"ACB\")\\\\n\\', \\'  File \"/home/dustintindall/repos/footings/footings/src/footings/model_tools/age.py\", line 71, in calculate_age\\\\n    method=method,\\\\n\\', \\'  File \"/home/dustintindall/repos/footings/footings/src/footings/core/utils.py\", line 109, in wrapper\\\\n    return default_function(**orig_kwargs)\\\\n\\', \\'  File \"/home/dustintindall/repos/footings/footings/src/footings/model_tools/age.py\", line 12, in _calculate_age\\\\n    raise NotImplementedError(msg)\\\\n\\']\\n'),\n",
       "  'error_stacktrace': ['  File \"/home/dustintindall/repos/footings/footings/src/footings/model_tools/foreach.py\", line 20, in _run_model\\n    ret = model(**{k: v for k, v in kwargs.items() if k in parameters}).run()\\n',\n",
       "   '  File \"/home/dustintindall/repos/footings/footings/src/footings/core/model.py\", line 99, in run\\n    return _run(self, to_step=to_step)\\n',\n",
       "   '  File \"/home/dustintindall/repos/footings/footings/src/footings/core/model.py\", line 52, in _run\\n    _run_step(step)\\n',\n",
       "   '  File \"/home/dustintindall/repos/footings/footings/src/footings/core/model.py\", line 49, in _run_step\\n    raise ModelRunError(msg)\\n']},\n",
       " {'key': ['M269', 'M269C1'],\n",
       "  'error_type': footings.core.model.ModelRunError,\n",
       "  'error_value': footings.core.model.ModelRunError('At step [_calculate_age_incurred], an error occured.\\n  Error Type = NotImplementedError\\n  Error Message = No registered function based on passed paramters and no default function.\\n  Error Trace = [\\'  File \"/home/dustintindall/repos/footings/footings/src/footings/core/model.py\", line 42, in _run_step\\\\n    return getattr(self, step)()\\\\n\\', \\'  File \"/home/dustintindall/repos/footings/footings/src/footings/core/model.py\", line 131, in wrapper\\\\n    return method(*args, **kwargs)\\\\n\\', \\'  File \"/home/dustintindall/anaconda3/lib/python3.7/site-packages/footings_idi_model/policy_models/dlr_deterministic.py\", line 132, in _calculate_age_incurred\\\\n    self.age_incurred = calculate_age(self.birth_dt, self.incurred_dt, method=\"ACB\")\\\\n\\', \\'  File \"/home/dustintindall/repos/footings/footings/src/footings/model_tools/age.py\", line 71, in calculate_age\\\\n    method=method,\\\\n\\', \\'  File \"/home/dustintindall/repos/footings/footings/src/footings/core/utils.py\", line 109, in wrapper\\\\n    return default_function(**orig_kwargs)\\\\n\\', \\'  File \"/home/dustintindall/repos/footings/footings/src/footings/model_tools/age.py\", line 12, in _calculate_age\\\\n    raise NotImplementedError(msg)\\\\n\\']\\n'),\n",
       "  'error_stacktrace': ['  File \"/home/dustintindall/repos/footings/footings/src/footings/model_tools/foreach.py\", line 20, in _run_model\\n    ret = model(**{k: v for k, v in kwargs.items() if k in parameters}).run()\\n',\n",
       "   '  File \"/home/dustintindall/repos/footings/footings/src/footings/core/model.py\", line 99, in run\\n    return _run(self, to_step=to_step)\\n',\n",
       "   '  File \"/home/dustintindall/repos/footings/footings/src/footings/core/model.py\", line 52, in _run\\n    _run_step(step)\\n',\n",
       "   '  File \"/home/dustintindall/repos/footings/footings/src/footings/core/model.py\", line 49, in _run_step\\n    raise ModelRunError(msg)\\n']}]"
      ]
     },
     "metadata": {},
     "execution_count": 9
    }
   ],
   "source": [
    "errors"
   ]
  }
 ]
}